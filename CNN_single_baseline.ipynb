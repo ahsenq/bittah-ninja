{
 "cells": [
  {
   "cell_type": "code",
   "execution_count": 1,
   "metadata": {},
   "outputs": [],
   "source": [
    "# Only execute if running in container\n",
    "# !apt install libsm6 libxext6 libxrender-dev git -y\n",
    "# !pip3 install pandas scikit-learn opencv-python tqdm"
   ]
  },
  {
   "cell_type": "code",
   "execution_count": 2,
   "metadata": {},
   "outputs": [],
   "source": [
    "import argparse\n",
    "import os\n",
    "import pickle\n",
    "import sys\n",
    "from collections import Counter\n",
    "from datetime import datetime\n",
    "\n",
    "import cv2\n",
    "import numpy as np\n",
    "import pandas as pd\n",
    "import tensorflow as tf\n",
    "from sklearn.model_selection import train_test_split\n",
    "from tqdm import tqdm\n",
    "\n",
    "from tensorflow import keras\n",
    "from tensorflow.keras.layers import (Activation, Conv2D, Dense, Dropout, Flatten,\n",
    "                          MaxPooling2D)\n",
    "from tensorflow.keras.models import Model, Sequential\n",
    "from tensorflow.keras.utils import Sequence"
   ]
  },
  {
   "cell_type": "code",
   "execution_count": 3,
   "metadata": {},
   "outputs": [
    {
     "name": "stdout",
     "output_type": "stream",
     "text": [
      "2.0.0\n",
      "GPUs Available:  1\n"
     ]
    }
   ],
   "source": [
    "print(tf.__version__)\n",
    "print(\"GPUs Available: \", len(tf.config.experimental.list_physical_devices('GPU')))"
   ]
  },
  {
   "cell_type": "code",
   "execution_count": 4,
   "metadata": {},
   "outputs": [
    {
     "name": "stdout",
     "output_type": "stream",
     "text": [
      "/data/vids/scaled 10\n"
     ]
    },
    {
     "name": "stderr",
     "output_type": "stream",
     "text": [
      "usage: ipykernel_launcher.py [-h] [--vidpath VIDPATH] [--epochs EPOCHS]\n",
      "                             [--batch_size BATCH_SIZE]\n",
      "ipykernel_launcher.py: error: unrecognized arguments: -f /root/.local/share/jupyter/runtime/kernel-ccbdcb05-be20-48f5-8fdc-bb73957c9d4f.json\n"
     ]
    }
   ],
   "source": [
    "parser = argparse.ArgumentParser()\n",
    "parser.add_argument('--vidpath', default='vids/scaled')\n",
    "parser.add_argument('--epochs', default=10, type=int)\n",
    "parser.add_argument('--batch_size', default=32, type=int)\n",
    "try:\n",
    "    args = parser.parse_args()\n",
    "except:\n",
    "    # may need to modify vidpath depending on where you are running the script\n",
    "#     args = parser.parse_args(['--vidpath=/tf/data/vids/scaled', '--batch_size=4'])\n",
    "    args = parser.parse_args(['--vidpath=/data/vids/scaled'])\n",
    "print(args.vidpath, args.epochs)"
   ]
  },
  {
   "cell_type": "code",
   "execution_count": 5,
   "metadata": {},
   "outputs": [
    {
     "name": "stdout",
     "output_type": "stream",
     "text": [
      "/root/bittah-ninja\n"
     ]
    }
   ],
   "source": [
    "!pwd"
   ]
  },
  {
   "cell_type": "code",
   "execution_count": 6,
   "metadata": {},
   "outputs": [
    {
     "data": {
      "text/html": [
       "<div>\n",
       "<style scoped>\n",
       "    .dataframe tbody tr th:only-of-type {\n",
       "        vertical-align: middle;\n",
       "    }\n",
       "\n",
       "    .dataframe tbody tr th {\n",
       "        vertical-align: top;\n",
       "    }\n",
       "\n",
       "    .dataframe thead th {\n",
       "        text-align: right;\n",
       "    }\n",
       "</style>\n",
       "<table border=\"1\" class=\"dataframe\">\n",
       "  <thead>\n",
       "    <tr style=\"text-align: right;\">\n",
       "      <th></th>\n",
       "      <th>video-UID</th>\n",
       "      <th>clip_title</th>\n",
       "      <th>labeler</th>\n",
       "      <th>class</th>\n",
       "    </tr>\n",
       "  </thead>\n",
       "  <tbody>\n",
       "    <tr>\n",
       "      <td>0</td>\n",
       "      <td>10000</td>\n",
       "      <td>5yo_vs_Mickey_slice0.mp4_slice0.mp4</td>\n",
       "      <td>NaN</td>\n",
       "      <td>99</td>\n",
       "    </tr>\n",
       "    <tr>\n",
       "      <td>1</td>\n",
       "      <td>10001</td>\n",
       "      <td>5yo_vs_Mickey_slice10.mp4_slice0.mp4</td>\n",
       "      <td>NaN</td>\n",
       "      <td>99</td>\n",
       "    </tr>\n",
       "    <tr>\n",
       "      <td>2</td>\n",
       "      <td>10002</td>\n",
       "      <td>5yo_vs_Mickey_slice15.mp4_slice0.mp4</td>\n",
       "      <td>NaN</td>\n",
       "      <td>99</td>\n",
       "    </tr>\n",
       "    <tr>\n",
       "      <td>3</td>\n",
       "      <td>10003</td>\n",
       "      <td>5yo_vs_Mickey_slice20.mp4</td>\n",
       "      <td>Ahsen</td>\n",
       "      <td>0</td>\n",
       "    </tr>\n",
       "    <tr>\n",
       "      <td>4</td>\n",
       "      <td>10004</td>\n",
       "      <td>5yo_vs_Mickey_slice5.mp4</td>\n",
       "      <td>Jen</td>\n",
       "      <td>0</td>\n",
       "    </tr>\n",
       "  </tbody>\n",
       "</table>\n",
       "</div>"
      ],
      "text/plain": [
       "   video-UID                            clip_title labeler  class\n",
       "0      10000   5yo_vs_Mickey_slice0.mp4_slice0.mp4     NaN     99\n",
       "1      10001  5yo_vs_Mickey_slice10.mp4_slice0.mp4     NaN     99\n",
       "2      10002  5yo_vs_Mickey_slice15.mp4_slice0.mp4     NaN     99\n",
       "3      10003             5yo_vs_Mickey_slice20.mp4   Ahsen      0\n",
       "4      10004              5yo_vs_Mickey_slice5.mp4     Jen      0"
      ]
     },
     "execution_count": 6,
     "metadata": {},
     "output_type": "execute_result"
    }
   ],
   "source": [
    "# labelPath = 'bittah-ninja/first_1k_labeled_long_vids_removed.csv'\n",
    "labelPath = 'week10_labeled.csv'\n",
    "# labelPath = 'full_labels.csv'\n",
    "df = pd.read_csv(labelPath)\n",
    "df.head()"
   ]
  },
  {
   "cell_type": "code",
   "execution_count": 7,
   "metadata": {},
   "outputs": [
    {
     "data": {
      "text/plain": [
       "label\n",
       "-1       21\n",
       " 0     1259\n",
       " 1      319\n",
       " 2       14\n",
       " 3       84\n",
       " 4       52\n",
       " 99    3692\n",
       "dtype: int64"
      ]
     },
     "execution_count": 7,
     "metadata": {},
     "output_type": "execute_result"
    }
   ],
   "source": [
    "new_files = []\n",
    "for file in df.clip_title:\n",
    "    newfile = ''.join(file.split('.mp4')) + '.mp4'\n",
    "    new_files.append(newfile)\n",
    "df['clip_title'] = new_files\n",
    "df['label'] = df['class']\n",
    "df.drop(columns=['class'], inplace=True)\n",
    "df.groupby('label').size()"
   ]
  },
  {
   "cell_type": "code",
   "execution_count": 8,
   "metadata": {},
   "outputs": [
    {
     "data": {
      "text/plain": [
       "label\n",
       "0    1259\n",
       "1     319\n",
       "2      14\n",
       "3      84\n",
       "4      52\n",
       "dtype: int64"
      ]
     },
     "execution_count": 8,
     "metadata": {},
     "output_type": "execute_result"
    }
   ],
   "source": [
    "df = df.loc[df.label != -1]\n",
    "df = df.loc[df.label != 99]\n",
    "df.groupby('label').size()"
   ]
  },
  {
   "cell_type": "code",
   "execution_count": 9,
   "metadata": {},
   "outputs": [
    {
     "data": {
      "text/plain": [
       "(1728, 4)"
      ]
     },
     "execution_count": 9,
     "metadata": {},
     "output_type": "execute_result"
    }
   ],
   "source": [
    "df.shape"
   ]
  },
  {
   "cell_type": "code",
   "execution_count": 10,
   "metadata": {},
   "outputs": [],
   "source": [
    "# df['punch'] = (df.label != 0).astype('int')\n",
    "# df.groupby('punch').size()\n"
   ]
  },
  {
   "cell_type": "code",
   "execution_count": 11,
   "metadata": {},
   "outputs": [],
   "source": [
    "vidPath = args.vidpath\n",
    "filenames = [f.split('.mp4')[0] + '_scaled.mp4' for f in df.clip_title]\n",
    "filenames = [os.path.join(vidPath, f) for f in filenames]\n",
    "# labels = df.punch.tolist()\n",
    "labels = df.label.tolist()\n"
   ]
  },
  {
   "cell_type": "code",
   "execution_count": 12,
   "metadata": {},
   "outputs": [
    {
     "data": {
      "text/plain": [
       "1728"
      ]
     },
     "execution_count": 12,
     "metadata": {},
     "output_type": "execute_result"
    }
   ],
   "source": [
    "len(filenames)"
   ]
  },
  {
   "cell_type": "code",
   "execution_count": 13,
   "metadata": {
    "scrolled": true
   },
   "outputs": [
    {
     "name": "stdout",
     "output_type": "stream",
     "text": [
      "-rw-r--r-- 1 root root  64160 Nov  9 17:05 Australian_flash_mob_dance_slice0_scaled.mp4\n",
      "-rw-r--r-- 1 root root 281614 Nov  9 17:05 Australian_flash_mob_dance_slice100_scaled.mp4\n",
      "-rw-r--r-- 1 root root 315922 Nov  9 17:05 Australian_flash_mob_dance_slice105_scaled.mp4\n",
      "-rw-r--r-- 1 root root 196418 Nov  9 17:05 Australian_flash_mob_dance_slice10_scaled.mp4\n",
      "-rw-r--r-- 1 root root 309405 Nov  9 17:05 Australian_flash_mob_dance_slice110_scaled.mp4\n",
      "-rw-r--r-- 1 root root 280338 Nov  9 17:05 Australian_flash_mob_dance_slice115_scaled.mp4\n",
      "-rw-r--r-- 1 root root 271860 Nov  9 17:05 Australian_flash_mob_dance_slice120_scaled.mp4\n",
      "-rw-r--r-- 1 root root 292520 Nov  9 17:05 Australian_flash_mob_dance_slice125_scaled.mp4\n",
      "-rw-r--r-- 1 root root 291540 Nov  9 17:05 Australian_flash_mob_dance_slice130_scaled.mp4\n",
      "-rw-r--r-- 1 root root 289584 Nov  9 17:05 Australian_flash_mob_dance_slice135_scaled.mp4\n",
      "-rw-r--r-- 1 root root 229423 Nov  9 17:05 Australian_flash_mob_dance_slice140_scaled.mp4\n",
      "-rw-r--r-- 1 root root 283560 Nov  9 17:05 Australian_flash_mob_dance_slice145_scaled.mp4\n",
      "-rw-r--r-- 1 root root 321957 Nov  9 17:05 Australian_flash_mob_dance_slice150_scaled.mp4\n",
      "-rw-r--r-- 1 root root 344336 Nov  9 17:05 Australian_flash_mob_dance_slice155_scaled.mp4\n",
      "-rw-r--r-- 1 root root 228243 Nov  9 17:05 Australian_flash_mob_dance_slice15_scaled.mp4\n",
      "-rw-r--r-- 1 root root 314747 Nov  9 17:05 Australian_flash_mob_dance_slice160_scaled.mp4\n",
      "-rw-r--r-- 1 root root 353948 Nov  9 17:05 Australian_flash_mob_dance_slice165_scaled.mp4\n",
      "-rw-r--r-- 1 root root 331032 Nov  9 17:05 Australian_flash_mob_dance_slice170_scaled.mp4\n",
      "-rw-r--r-- 1 root root 302623 Nov  9 17:05 Australian_flash_mob_dance_slice175_scaled.mp4\n",
      "-rw-r--r-- 1 root root 313768 Nov  9 17:05 Australian_flash_mob_dance_slice180_scaled.mp4\n",
      "-rw-r--r-- 1 root root 309963 Nov  9 17:05 Australian_flash_mob_dance_slice185_scaled.mp4\n",
      "-rw-r--r-- 1 root root 291762 Nov  9 17:05 Australian_flash_mob_dance_slice190_scaled.mp4\n",
      "-rw-r--r-- 1 root root 303127 Nov  9 17:05 Australian_flash_mob_dance_slice195_scaled.mp4\n",
      "-rw-r--r-- 1 root root 294319 Nov  9 17:05 Australian_flash_mob_dance_slice200_scaled.mp4\n",
      "-rw-r--r-- 1 root root 244827 Nov  9 17:05 Australian_flash_mob_dance_slice205_scaled.mp4\n",
      "-rw-r--r-- 1 root root 200921 Nov  9 17:05 Australian_flash_mob_dance_slice20_scaled.mp4\n",
      "-rw-r--r-- 1 root root 291778 Nov  9 17:05 Australian_flash_mob_dance_slice210_scaled.mp4\n",
      "-rw-r--r-- 1 root root 313857 Nov  9 17:05 Australian_flash_mob_dance_slice215_scaled.mp4\n",
      "-rw-r--r-- 1 root root 267980 Nov  9 17:05 Australian_flash_mob_dance_slice220_scaled.mp4\n",
      "-rw-r--r-- 1 root root 219998 Nov  9 17:05 Australian_flash_mob_dance_slice225_scaled.mp4\n",
      "-rw-r--r-- 1 root root 212058 Nov  9 17:05 Australian_flash_mob_dance_slice230_scaled.mp4\n",
      "-rw-r--r-- 1 root root 274073 Nov  9 17:05 Australian_flash_mob_dance_slice235_scaled.mp4\n",
      "-rw-r--r-- 1 root root 359272 Nov  9 17:05 Australian_flash_mob_dance_slice240_scaled.mp4\n",
      "-rw-r--r-- 1 root root 430996 Nov  9 17:05 Australian_flash_mob_dance_slice245_scaled.mp4\n",
      "-rw-r--r-- 1 root root 410010 Nov  9 17:05 Australian_flash_mob_dance_slice250_scaled.mp4\n",
      "-rw-r--r-- 1 root root 381627 Nov  9 17:05 Australian_flash_mob_dance_slice255_scaled.mp4\n",
      "-rw-r--r-- 1 root root 272464 Nov  9 17:05 Australian_flash_mob_dance_slice25_scaled.mp4\n",
      "-rw-r--r-- 1 root root 330292 Nov  9 17:05 Australian_flash_mob_dance_slice260_scaled.mp4\n",
      "-rw-r--r-- 1 root root 365834 Nov  9 17:05 Australian_flash_mob_dance_slice265_scaled.mp4\n",
      "-rw-r--r-- 1 root root 302402 Nov  9 17:05 Australian_flash_mob_dance_slice270_scaled.mp4\n",
      "-rw-r--r-- 1 root root 222583 Nov  9 17:05 Australian_flash_mob_dance_slice275_scaled.mp4\n",
      "-rw-r--r-- 1 root root 278781 Nov  9 17:05 Australian_flash_mob_dance_slice280_scaled.mp4\n",
      "-rw-r--r-- 1 root root 233987 Nov  9 17:05 Australian_flash_mob_dance_slice285_scaled.mp4\n",
      "-rw-r--r-- 1 root root 193654 Nov  9 17:05 Australian_flash_mob_dance_slice290_scaled.mp4\n",
      "-rw-r--r-- 1 root root  45542 Nov  9 17:05 Australian_flash_mob_dance_slice295_scaled.mp4\n",
      "-rw-r--r-- 1 root root 211184 Nov  9 17:05 Australian_flash_mob_dance_slice30_scaled.mp4\n",
      "-rw-r--r-- 1 root root 209483 Nov  9 17:05 Australian_flash_mob_dance_slice35_scaled.mp4\n",
      "-rw-r--r-- 1 root root 190334 Nov  9 17:05 Australian_flash_mob_dance_slice40_scaled.mp4\n",
      "-rw-r--r-- 1 root root 255167 Nov  9 17:05 Australian_flash_mob_dance_slice45_scaled.mp4\n",
      "-rw-r--r-- 1 root root 223701 Nov  9 17:05 Australian_flash_mob_dance_slice50_scaled.mp4\n",
      "-rw-r--r-- 1 root root 227022 Nov  9 17:05 Australian_flash_mob_dance_slice55_scaled.mp4\n",
      "-rw-r--r-- 1 root root 213748 Nov  9 17:05 Australian_flash_mob_dance_slice5_scaled.mp4\n",
      "-rw-r--r-- 1 root root 217593 Nov  9 17:05 Australian_flash_mob_dance_slice60_scaled.mp4\n",
      "-rw-r--r-- 1 root root 218704 Nov  9 17:05 Australian_flash_mob_dance_slice65_scaled.mp4\n",
      "-rw-r--r-- 1 root root 331679 Nov  9 17:05 Australian_flash_mob_dance_slice70_scaled.mp4\n",
      "-rw-r--r-- 1 root root 292531 Nov  9 17:05 Australian_flash_mob_dance_slice75_scaled.mp4\n",
      "-rw-r--r-- 1 root root 288017 Nov  9 17:05 Australian_flash_mob_dance_slice80_scaled.mp4\n",
      "-rw-r--r-- 1 root root 354463 Nov  9 17:05 Australian_flash_mob_dance_slice85_scaled.mp4\n",
      "-rw-r--r-- 1 root root 347012 Nov  9 17:05 Australian_flash_mob_dance_slice90_scaled.mp4\n",
      "-rw-r--r-- 1 root root 305304 Nov  9 17:05 Australian_flash_mob_dance_slice95_scaled.mp4\n"
     ]
    }
   ],
   "source": [
    "# !ls -l /tf/data/vids/scaled | grep Australian\n",
    "!ls -l /data/vids/scaled | grep Australian"
   ]
  },
  {
   "cell_type": "code",
   "execution_count": 14,
   "metadata": {},
   "outputs": [],
   "source": [
    "class DataGenerator(Sequence):\n",
    "\n",
    "    def __init__(self,\n",
    "                 filenames,\n",
    "                 labels,\n",
    "                 batch_size,\n",
    "                 frame_height=224,\n",
    "                 frame_width=224,\n",
    "                 n_channels=1):\n",
    "        self.filenames = filenames\n",
    "        self.labels = labels\n",
    "        self.batch_size = batch_size\n",
    "        self.h = frame_height\n",
    "        self.w = frame_width\n",
    "        self.n_channels = n_channels\n",
    "\n",
    "    def __len__(self):\n",
    "        return np.floor(len(self.filenames) / self.batch_size).astype(int)\n",
    "\n",
    "    def __data_generation(self, idx_list):\n",
    "        def getSingleFrame(filepath):\n",
    "            cap = cv2.VideoCapture(filepath)\n",
    "            vid = []\n",
    "            while cap.isOpened():\n",
    "                ret, frame = cap.read()\n",
    "                if ret:\n",
    "                    gray = cv2.cvtColor(frame, cv2.COLOR_BGR2GRAY)\n",
    "                    gray = cv2.resize(gray, (self.h, self.w))\n",
    "                    vid.append(gray)\n",
    "                    if cv2.waitKey(1) & 0xFF == ord('q'):\n",
    "                        break\n",
    "                else:\n",
    "                    break\n",
    "            cap.release()\n",
    "            j = int(np.random.choice(len(vid), 1))\n",
    "            frame = vid[j]\n",
    "            return frame\n",
    "\n",
    "        x = np.empty((self.batch_size,\n",
    "                      self.w,\n",
    "                      self.h,\n",
    "                      self.n_channels), dtype=np.float16)\n",
    "        y = np.empty(self.batch_size, dtype=np.float16)\n",
    "        for i, idx in enumerate(idx_list):\n",
    "#             print(idx)\n",
    "            file = self.filenames[idx]\n",
    "            frame = getSingleFrame(file)\n",
    "            frame = frame.reshape(self.w,\n",
    "                                  self.h,\n",
    "                                  self.n_channels)\n",
    "            x[i, ] = frame\n",
    "            y[i, ] = self.labels[idx]\n",
    "        y = tf.keras.utils.to_categorical(\n",
    "            y, num_classes=len(set(self.labels)), dtype='float16')\n",
    "        return x, y\n",
    "        # yield x, y\n",
    "\n",
    "    def __getitem__(self, idx):\n",
    "        batch = range(idx * self.batch_size, (idx + 1) * self.batch_size)\n",
    "        x, y = self.__data_generation(batch)\n",
    "#         print(f'\\n{idx} {x.shape} {y.shape}')\n",
    "        return x, y\n",
    "        # yield x, y\n",
    "\n"
   ]
  },
  {
   "cell_type": "code",
   "execution_count": 15,
   "metadata": {},
   "outputs": [],
   "source": [
    "# def __data_generation(idx_list):\n",
    "#     def getSingleFrame(filepath):\n",
    "#         cap = cv2.VideoCapture(filepath)\n",
    "#         vid = []\n",
    "#         while cap.isOpened():\n",
    "#             ret, frame = cap.read()\n",
    "#             if ret:\n",
    "#                 gray = cv2.cvtColor(frame, cv2.COLOR_BGR2GRAY)\n",
    "#                 gray = cv2.resize(gray, (224,224))\n",
    "#                 vid.append(gray)\n",
    "#                 if cv2.waitKey(1) & 0xFF == ord('q'):\n",
    "#                     break\n",
    "#             else:\n",
    "#                 break\n",
    "#         cap.release()\n",
    "#         j = int(np.random.choice(len(vid), 1))\n",
    "#         frame = vid[j]\n",
    "#         return frame\n",
    "\n",
    "#     x = np.empty((args.batch_size,\n",
    "#                   224,\n",
    "#                   224,\n",
    "#                   1), dtype=np.float16)\n",
    "#     y = np.empty(args.batch_size, dtype=np.float16)\n",
    "#     print(x.shape, y.shape)\n",
    "#     for i, idx in enumerate(idx_list):\n",
    "#         file = filenames[idx]\n",
    "#         frame = getSingleFrame(file)\n",
    "#         frame = frame.reshape(224,\n",
    "#                               224,\n",
    "#                               1)\n",
    "#         x[i, ] = frame\n",
    "#         y[i, ] = labels[idx]\n",
    "#         print(x.shape, y.shape)\n",
    "#     y = tf.keras.utils.to_categorical(\n",
    "#         y, num_classes=len(set(labels)), dtype='float16')\n",
    "#     print(x.shape, y.shape)\n",
    "#     return x, y"
   ]
  },
  {
   "cell_type": "code",
   "execution_count": 16,
   "metadata": {},
   "outputs": [],
   "source": [
    "# x, y = __data_generation(range(args.batch_size))"
   ]
  },
  {
   "cell_type": "code",
   "execution_count": 17,
   "metadata": {},
   "outputs": [],
   "source": [
    "batch_size = args.batch_size\n",
    "labels_counts = Counter(labels)\n",
    "# TODO: Not sure if this should be 1 - x or x\n",
    "class_weight = {k:1-(v/len(labels)) for k,v in labels_counts.items()}"
   ]
  },
  {
   "cell_type": "code",
   "execution_count": 18,
   "metadata": {},
   "outputs": [
    {
     "data": {
      "text/plain": [
       "{0: 0.2714120370370371,\n",
       " 1: 0.8153935185185185,\n",
       " 3: 0.9513888888888888,\n",
       " 2: 0.9918981481481481,\n",
       " 4: 0.9699074074074074}"
      ]
     },
     "execution_count": 18,
     "metadata": {},
     "output_type": "execute_result"
    }
   ],
   "source": [
    "class_weight"
   ]
  },
  {
   "cell_type": "code",
   "execution_count": 19,
   "metadata": {},
   "outputs": [
    {
     "name": "stdout",
     "output_type": "stream",
     "text": [
      "1382 1382\n",
      "346 346\n"
     ]
    }
   ],
   "source": [
    "x_train, x_test, y_train, y_test = train_test_split(\n",
    "    filenames, labels, test_size=0.2)\n",
    "print(len(x_train), len(y_train))\n",
    "print(len(x_test), len(y_test))"
   ]
  },
  {
   "cell_type": "code",
   "execution_count": 20,
   "metadata": {},
   "outputs": [
    {
     "data": {
      "text/plain": [
       "(43, 10)"
      ]
     },
     "execution_count": 20,
     "metadata": {},
     "output_type": "execute_result"
    }
   ],
   "source": [
    "# max_frame_count = getMaxFrameCount(filenames)\n",
    "train_generator = DataGenerator(x_train,\n",
    "                                y_train,\n",
    "                                batch_size)\n",
    "test_generator = DataGenerator(x_test,\n",
    "                               y_test,\n",
    "                               batch_size)\n",
    "len(train_generator), len(test_generator)"
   ]
  },
  {
   "cell_type": "code",
   "execution_count": 21,
   "metadata": {},
   "outputs": [
    {
     "data": {
      "text/plain": [
       "32"
      ]
     },
     "execution_count": 21,
     "metadata": {},
     "output_type": "execute_result"
    }
   ],
   "source": [
    "batch_size"
   ]
  },
  {
   "cell_type": "code",
   "execution_count": 22,
   "metadata": {},
   "outputs": [
    {
     "name": "stdout",
     "output_type": "stream",
     "text": [
      "Model: \"model\"\n",
      "_________________________________________________________________\n",
      "Layer (type)                 Output Shape              Param #   \n",
      "=================================================================\n",
      "inputs (InputLayer)          [(None, 224, 224, 1)]     0         \n",
      "_________________________________________________________________\n",
      "conv2d (Conv2D)              (None, 224, 224, 32)      320       \n",
      "_________________________________________________________________\n",
      "max_pooling2d (MaxPooling2D) (None, 112, 112, 32)      0         \n",
      "_________________________________________________________________\n",
      "conv2d_1 (Conv2D)            (None, 112, 112, 32)      9248      \n",
      "_________________________________________________________________\n",
      "max_pooling2d_1 (MaxPooling2 (None, 56, 56, 32)        0         \n",
      "_________________________________________________________________\n",
      "conv2d_2 (Conv2D)            (None, 56, 56, 32)        16416     \n",
      "_________________________________________________________________\n",
      "max_pooling2d_2 (MaxPooling2 (None, 28, 28, 32)        0         \n",
      "_________________________________________________________________\n",
      "conv2d_3 (Conv2D)            (None, 28, 28, 32)        16416     \n",
      "_________________________________________________________________\n",
      "max_pooling2d_3 (MaxPooling2 (None, 14, 14, 32)        0         \n",
      "_________________________________________________________________\n",
      "dropout (Dropout)            (None, 14, 14, 32)        0         \n",
      "_________________________________________________________________\n",
      "flatten (Flatten)            (None, 6272)              0         \n",
      "_________________________________________________________________\n",
      "dense (Dense)                (None, 16)                100368    \n",
      "_________________________________________________________________\n",
      "dropout_1 (Dropout)          (None, 16)                0         \n",
      "_________________________________________________________________\n",
      "outputs (Dense)              (None, 5)                 85        \n",
      "=================================================================\n",
      "Total params: 142,853\n",
      "Trainable params: 142,853\n",
      "Non-trainable params: 0\n",
      "_________________________________________________________________\n"
     ]
    }
   ],
   "source": [
    "input_shape = (224, 224, 1)\n",
    "epochs = args.epochs\n",
    "inputs = keras.layers.Input(shape=input_shape, name='inputs')\n",
    "conv = Conv2D(32, (3, 3), activation='relu', padding='same')(inputs)\n",
    "pool = MaxPooling2D(pool_size=(2, 2))(conv)\n",
    "conv = Conv2D(32, (3, 3), activation='relu', padding='same')(pool)\n",
    "pool = MaxPooling2D(pool_size=(2, 2))(conv)\n",
    "# dropout = Dropout(0.25)(pool)\n",
    "conv = Conv2D(32, (4, 4), activation='relu', padding='same')(pool)\n",
    "pool = MaxPooling2D(pool_size=(2, 2))(conv)\n",
    "conv = Conv2D(32, (4, 4), activation='relu', padding='same')(pool)\n",
    "pool = MaxPooling2D(pool_size=(2, 2))(conv)\n",
    "dropout = Dropout(0.5)(pool)\n",
    "flat = Flatten()(dropout)\n",
    "dense = Dense(16, activation='relu')(flat)\n",
    "dropout = Dropout(0.25)(dense)\n",
    "outputs = Dense(len(set(labels)), activation='softmax', name='outputs')(dropout)\n",
    "model = Model(inputs, outputs)\n",
    "\n",
    "model.compile(loss='categorical_crossentropy', optimizer='adam')\n",
    "model.summary()"
   ]
  },
  {
   "cell_type": "code",
   "execution_count": null,
   "metadata": {},
   "outputs": [
    {
     "name": "stdout",
     "output_type": "stream",
     "text": [
      "Epoch 1/100\n",
      "43/43 [==============================] - 63s 1s/step - loss: 1.6146 - val_loss: 0.9883\n",
      "Epoch 2/100\n",
      "43/43 [==============================] - 51s 1s/step - loss: 1.0817 - val_loss: 0.9536\n",
      "Epoch 3/100\n",
      "43/43 [==============================] - 52s 1s/step - loss: 1.1080 - val_loss: 0.9645\n",
      "Epoch 4/100\n",
      "43/43 [==============================] - 51s 1s/step - loss: 1.0841 - val_loss: 0.9808\n",
      "Epoch 5/100\n",
      "43/43 [==============================] - 51s 1s/step - loss: 1.0782 - val_loss: 0.9380\n",
      "Epoch 6/100\n",
      "16/43 [==========>...................] - ETA: 12s - loss: 1.0542"
     ]
    }
   ],
   "source": [
    "es = keras.callbacks.EarlyStopping(monitor='val_loss', patience=10, restore_best_weights=True)\n",
    "hist = model.fit_generator(generator=train_generator,\n",
    "                           steps_per_epoch=(len(x_train) // batch_size),\n",
    "                           epochs=100,\n",
    "                           verbose=1,\n",
    "                           validation_data=test_generator,\n",
    "                           validation_steps=(len(x_test) // batch_size),\n",
    "                           shuffle=False,\n",
    "#                            class_weight=class_weight,\n",
    "                           use_multiprocessing=False,\n",
    "                           callbacks=[es])\n"
   ]
  },
  {
   "cell_type": "code",
   "execution_count": null,
   "metadata": {},
   "outputs": [],
   "source": [
    "dt = datetime.now().strftime(\"%Y%m%d_%H%M%S\")\n",
    "modelpath = '/tf/data/models'\n",
    "os.makedirs(modelpath, exist_ok=True)\n",
    "model.save(os.path.join(modelpath, f'simpleCNN_{args.epochs}epochs_{dt}.h5'))\n",
    "with open(os.path.join(modelpath, f'simpleCNN_history_{args.epochs}epochs_{dt}.pickle'), 'wb') as f:\n",
    "    pickle.dump(hist.history, f, protocol=-1)"
   ]
  },
  {
   "cell_type": "code",
   "execution_count": null,
   "metadata": {},
   "outputs": [],
   "source": [
    "!ls -l /tf/data/models"
   ]
  }
 ],
 "metadata": {
  "file_extension": ".py",
  "kernelspec": {
   "display_name": "Python 3",
   "language": "python",
   "name": "python3"
  },
  "language_info": {
   "codemirror_mode": {
    "name": "ipython",
    "version": 3
   },
   "file_extension": ".py",
   "mimetype": "text/x-python",
   "name": "python",
   "nbconvert_exporter": "python",
   "pygments_lexer": "ipython3",
   "version": "3.6.8"
  },
  "mimetype": "text/x-python",
  "name": "python",
  "npconvert_exporter": "python",
  "pygments_lexer": "ipython3",
  "version": 3
 },
 "nbformat": 4,
 "nbformat_minor": 4
}
