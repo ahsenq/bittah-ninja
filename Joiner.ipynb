{
 "cells": [
  {
   "cell_type": "code",
   "execution_count": 3,
   "metadata": {},
   "outputs": [],
   "source": [
    "import numpy as np\n",
    "import pandas as pd\n",
    "import random"
   ]
  },
  {
   "cell_type": "code",
   "execution_count": 6,
   "metadata": {},
   "outputs": [
    {
     "name": "stdout",
     "output_type": "stream",
     "text": [
      "total 2.7M\r\n",
      "drwxr-xr-x  6 root root 4.0K Nov 17 23:35  .\r\n",
      "drwx------ 20 root root 4.0K Nov 17 23:36  ..\r\n",
      "drwxr-xr-x  8 root root 4.0K Nov 17 23:35  .git\r\n",
      "-rw-r--r--  1 root root 1.3K Oct 20 20:43  .gitignore\r\n",
      "drwxr-xr-x  2 root root 4.0K Nov 11 01:02  .ipynb_checkpoints\r\n",
      "-rw-r--r--  1 root root 2.5K Oct 21 02:34  AWOL_labeled_videos.csv\r\n",
      "-rw-r--r--  1 root root 5.9K Nov 17 22:22 \"Ahsen's MovieHouseMcLabelMore.ipynb\"\r\n",
      "-rw-r--r--  1 root root 5.9K Nov 17 23:12 \"Alex's MovieHouseMcLabelMore.ipynb\"\r\n",
      "-rw-r--r--  1 root root 7.8K Nov 12 20:34  CNN_singleImage_baseline.py\r\n",
      "-rw-r--r--  1 root root  50K Nov 12 20:34  CNN_single_baseline.ipynb\r\n",
      "-rw-r--r--  1 root root  15K Oct  5 01:32  ClassCharacterization.ipynb\r\n",
      "-rw-r--r--  1 root root  50K Nov  4 03:06  ClipAssigner.ipynb\r\n",
      "-rw-r--r--  1 root root 9.2K Nov 11 05:34  Countdown_to_truthiness.ipynb\r\n",
      "-rw-r--r--  1 root root 6.4K Nov 17 21:49  CustomAnnotationsAndFolderStructure-Alex.ipynb\r\n",
      "-rw-r--r--  1 root root 5.5K Nov 11 05:08 \"JenD's MovieHouseMcLabelMore.ipynb\"\r\n",
      "-rw-r--r--  1 root root  90K Nov 17 23:28  Joiner.ipynb\r\n",
      "-rw-r--r--  1 root root 2.1K Nov 17 20:46 \"Lance's MovieHouseMcLabelMore.ipynb\"\r\n",
      "-rw-r--r--  1 root root 2.1K Sep 26 11:42  README.md\r\n",
      "-rw-r--r--  1 root root  11K Oct  7 05:16  ahsen_clips.csv\r\n",
      "-rw-r--r--  1 root root  37K Nov 17 22:22  ahsen_week11_labeling_assignment.csv\r\n",
      "-rw-r--r--  1 root root 8.5K Nov  2 17:34  ahsen_week9_clips.csv\r\n",
      "-rw-r--r--  1 root root  11K Oct  6 10:57  alex_clips.csv\r\n",
      "-rw-r--r--  1 root root  37K Nov 17 23:12  alex_week11_labeling_assignment.csv\r\n",
      "-rw-r--r--  1 root root 7.9K Oct 27 00:38  alex_week9_clips.csv\r\n",
      "-rw-r--r--  1 root root 135K Oct  2 02:07  all_clips.txt\r\n",
      "-rw-r--r--  1 root root  20K Nov 12 20:34  baseline_model_prediction.ipynb\r\n",
      "-rw-r--r--  1 root root  785 Oct  5 20:13  convertCodec.sh\r\n",
      "-rw-r--r--  1 root root 160K Oct 19 00:47  did_not_label_in_week6.csv\r\n",
      "drwxr-xr-x  3 root root 4.0K Nov 17 23:16  eval\r\n",
      "-rw-r--r--  1 root root  38K Oct  8 01:32  first_1k_labeled.csv\r\n",
      "-rw-r--r--  1 root root  36K Oct 22 01:56  first_1k_labeled_long_vids_removed.csv\r\n",
      "-rw-r--r--  1 root root  11K Oct  8 01:36  full_labels.csv\r\n",
      "-rw-r--r--  1 root root 4.5K Oct 19 01:23  importFromIBM.ipynb\r\n",
      "-rw-r--r--  1 root root 2.2K Oct 27 00:40  importFromIBM.py\r\n",
      "-rw-r--r--  1 root root 9.8K Oct  6 20:55  jen_clips.csv\r\n",
      "-rw-r--r--  1 root root 8.0K Oct 27 19:04  jen_week9_clips.csv\r\n",
      "-rw-r--r--  1 root root  37K Nov 11 05:08  jend_week11_labeling_assignment.csv\r\n",
      "-rw-r--r--  1 root root  11K Oct  6 16:48  lance_clips.csv\r\n",
      "-rw-r--r--  1 root root  39K Nov 17 20:47  lance_week11_labeling_assignment.csv\r\n",
      "-rw-r--r--  1 root root 8.0K Oct 30 22:47  lance_week9_clips.csv\r\n",
      "-rw-r--r--  1 root root  478 Sep 29 01:51  multiSlice.py\r\n",
      "-rw-r--r--  1 root root 3.0K Sep 30 02:16  readVideo.ipynb\r\n",
      "-rw-r--r--  1 root root  818 Sep 26 10:33  readVideo.py\r\n",
      "-rw-r--r--  1 root root  660 Nov  3 21:27  rename_vids.py\r\n",
      "-rw-r--r--  1 root root  960 Sep 26 10:33  requirements.txt\r\n",
      "-rw-r--r--  1 root root  277 Nov  3 21:27  rescale_vids.sh\r\n",
      "-rw-r--r--  1 root root  49K Nov 11 05:16  simple_CNN-LSTM_net.ipynb\r\n",
      "-rw-r--r--  1 root root 8.8K Nov 17 21:49  simple_CNN-LSTM_net.py\r\n",
      "-rw-r--r--  1 root root  651 Sep 27 01:45  sliceVid.sh\r\n",
      "-rw-r--r--  1 root root  685 Oct 20 20:43  sliceVid_onBatch.sh\r\n",
      "drwxr-xr-x  2 root root 4.0K Nov 17 23:35  stash\r\n",
      "-rw-r--r--  1 root root 681K Oct 15 02:53  stock-photo-fight-in-a-football-game-crowd-angry-man-hitting-another-spectator-in-soccer-match-audience-1009607794.jpg\r\n",
      "-rw-r--r--  1 root root 204K Nov  2 22:40  week10_labeled.csv\r\n",
      "-rw-r--r--  1 root root 216K Nov 14 02:35  week11_all_assigned.csv\r\n",
      "-rw-r--r--  1 root root 205K Oct 23 03:54  week9_all_clips.csv\r\n",
      "-rw-r--r--  1 root root 147K Oct 21 00:43  week9_inventory.txt\r\n",
      "-rw-r--r--  1 root root 205K Oct 30 02:13  week9_labeled.csv\r\n"
     ]
    }
   ],
   "source": [
    "!ls -lah"
   ]
  },
  {
   "cell_type": "code",
   "execution_count": 12,
   "metadata": {},
   "outputs": [],
   "source": [
    "df = pd.read_csv('week11_all_assigned.csv',header=0,index_col=0)"
   ]
  },
  {
   "cell_type": "code",
   "execution_count": 13,
   "metadata": {},
   "outputs": [
    {
     "data": {
      "text/html": [
       "<div>\n",
       "<style scoped>\n",
       "    .dataframe tbody tr th:only-of-type {\n",
       "        vertical-align: middle;\n",
       "    }\n",
       "\n",
       "    .dataframe tbody tr th {\n",
       "        vertical-align: top;\n",
       "    }\n",
       "\n",
       "    .dataframe thead th {\n",
       "        text-align: right;\n",
       "    }\n",
       "</style>\n",
       "<table border=\"1\" class=\"dataframe\">\n",
       "  <thead>\n",
       "    <tr style=\"text-align: right;\">\n",
       "      <th></th>\n",
       "      <th>clip_title</th>\n",
       "      <th>labeler</th>\n",
       "      <th>class</th>\n",
       "    </tr>\n",
       "    <tr>\n",
       "      <th>video-UID</th>\n",
       "      <th></th>\n",
       "      <th></th>\n",
       "      <th></th>\n",
       "    </tr>\n",
       "  </thead>\n",
       "  <tbody>\n",
       "    <tr>\n",
       "      <td>10000</td>\n",
       "      <td>5yo_vs_Mickey_slice0_slice0.mp4</td>\n",
       "      <td>Alex</td>\n",
       "      <td>0</td>\n",
       "    </tr>\n",
       "    <tr>\n",
       "      <td>10001</td>\n",
       "      <td>5yo_vs_Mickey_slice10_slice0.mp4</td>\n",
       "      <td>Alex</td>\n",
       "      <td>0</td>\n",
       "    </tr>\n",
       "    <tr>\n",
       "      <td>10002</td>\n",
       "      <td>5yo_vs_Mickey_slice15_slice0.mp4</td>\n",
       "      <td>Alex</td>\n",
       "      <td>0</td>\n",
       "    </tr>\n",
       "    <tr>\n",
       "      <td>10003</td>\n",
       "      <td>5yo_vs_Mickey_slice20.mp4</td>\n",
       "      <td>Ahsen</td>\n",
       "      <td>0</td>\n",
       "    </tr>\n",
       "    <tr>\n",
       "      <td>10004</td>\n",
       "      <td>5yo_vs_Mickey_slice5.mp4</td>\n",
       "      <td>Jen</td>\n",
       "      <td>0</td>\n",
       "    </tr>\n",
       "  </tbody>\n",
       "</table>\n",
       "</div>"
      ],
      "text/plain": [
       "                                 clip_title labeler  class\n",
       "video-UID                                                 \n",
       "10000       5yo_vs_Mickey_slice0_slice0.mp4    Alex      0\n",
       "10001      5yo_vs_Mickey_slice10_slice0.mp4    Alex      0\n",
       "10002      5yo_vs_Mickey_slice15_slice0.mp4    Alex      0\n",
       "10003             5yo_vs_Mickey_slice20.mp4   Ahsen      0\n",
       "10004              5yo_vs_Mickey_slice5.mp4     Jen      0"
      ]
     },
     "execution_count": 13,
     "metadata": {},
     "output_type": "execute_result"
    }
   ],
   "source": [
    "df.head()"
   ]
  },
  {
   "cell_type": "code",
   "execution_count": 10,
   "metadata": {},
   "outputs": [
    {
     "data": {
      "text/plain": [
       "(5441, 4)"
      ]
     },
     "execution_count": 10,
     "metadata": {},
     "output_type": "execute_result"
    }
   ],
   "source": [
    "df.shape"
   ]
  },
  {
   "cell_type": "code",
   "execution_count": 14,
   "metadata": {},
   "outputs": [
    {
     "data": {
      "text/plain": [
       " 99    2506\n",
       " 0     2141\n",
       " 1      505\n",
       " 3      132\n",
       " 4       76\n",
       "-1       59\n",
       " 2       22\n",
       "Name: class, dtype: int64"
      ]
     },
     "execution_count": 14,
     "metadata": {},
     "output_type": "execute_result"
    }
   ],
   "source": [
    "df['class'].value_counts()"
   ]
  },
  {
   "cell_type": "code",
   "execution_count": 15,
   "metadata": {},
   "outputs": [],
   "source": [
    "lm = pd.read_csv('lance_week11_labeling_assignment.csv', header=0,index_col=0,\\\n",
    "                 dtype={'clip_title': str, 'labeler': str, 'class': 'Int64'} )"
   ]
  },
  {
   "cell_type": "code",
   "execution_count": 16,
   "metadata": {},
   "outputs": [
    {
     "data": {
      "text/html": [
       "<div>\n",
       "<style scoped>\n",
       "    .dataframe tbody tr th:only-of-type {\n",
       "        vertical-align: middle;\n",
       "    }\n",
       "\n",
       "    .dataframe tbody tr th {\n",
       "        vertical-align: top;\n",
       "    }\n",
       "\n",
       "    .dataframe thead th {\n",
       "        text-align: right;\n",
       "    }\n",
       "</style>\n",
       "<table border=\"1\" class=\"dataframe\">\n",
       "  <thead>\n",
       "    <tr style=\"text-align: right;\">\n",
       "      <th></th>\n",
       "      <th>clip_title</th>\n",
       "      <th>labeler</th>\n",
       "      <th>class</th>\n",
       "    </tr>\n",
       "    <tr>\n",
       "      <th>video-UID</th>\n",
       "      <th></th>\n",
       "      <th></th>\n",
       "      <th></th>\n",
       "    </tr>\n",
       "  </thead>\n",
       "  <tbody>\n",
       "    <tr>\n",
       "      <td>10005</td>\n",
       "      <td>Australian_flash_mob_dance_slice0.mp4</td>\n",
       "      <td>Lance</td>\n",
       "      <td>-1</td>\n",
       "    </tr>\n",
       "    <tr>\n",
       "      <td>10014</td>\n",
       "      <td>Australian_flash_mob_dance_slice135.mp4</td>\n",
       "      <td>Lance</td>\n",
       "      <td>0</td>\n",
       "    </tr>\n",
       "    <tr>\n",
       "      <td>10019</td>\n",
       "      <td>Australian_flash_mob_dance_slice155.mp4</td>\n",
       "      <td>Lance</td>\n",
       "      <td>0</td>\n",
       "    </tr>\n",
       "    <tr>\n",
       "      <td>10032</td>\n",
       "      <td>Australian_flash_mob_dance_slice215.mp4</td>\n",
       "      <td>Lance</td>\n",
       "      <td>0</td>\n",
       "    </tr>\n",
       "    <tr>\n",
       "      <td>10033</td>\n",
       "      <td>Australian_flash_mob_dance_slice220.mp4</td>\n",
       "      <td>Lance</td>\n",
       "      <td>0</td>\n",
       "    </tr>\n",
       "  </tbody>\n",
       "</table>\n",
       "</div>"
      ],
      "text/plain": [
       "                                        clip_title labeler  class\n",
       "video-UID                                                        \n",
       "10005        Australian_flash_mob_dance_slice0.mp4   Lance     -1\n",
       "10014      Australian_flash_mob_dance_slice135.mp4   Lance      0\n",
       "10019      Australian_flash_mob_dance_slice155.mp4   Lance      0\n",
       "10032      Australian_flash_mob_dance_slice215.mp4   Lance      0\n",
       "10033      Australian_flash_mob_dance_slice220.mp4   Lance      0"
      ]
     },
     "execution_count": 16,
     "metadata": {},
     "output_type": "execute_result"
    }
   ],
   "source": [
    "lm.head()"
   ]
  },
  {
   "cell_type": "code",
   "execution_count": 17,
   "metadata": {},
   "outputs": [
    {
     "data": {
      "text/plain": [
       " 0    593\n",
       " 1    232\n",
       " 3     48\n",
       "-1     24\n",
       " 4     20\n",
       " 2      6\n",
       "Name: class, dtype: int64"
      ]
     },
     "execution_count": 17,
     "metadata": {},
     "output_type": "execute_result"
    }
   ],
   "source": [
    "lm['class'].value_counts()"
   ]
  },
  {
   "cell_type": "code",
   "execution_count": 18,
   "metadata": {},
   "outputs": [],
   "source": [
    "df.update(lm)"
   ]
  },
  {
   "cell_type": "code",
   "execution_count": 19,
   "metadata": {},
   "outputs": [
    {
     "data": {
      "text/plain": [
       " 0     2734\n",
       " 99    1583\n",
       " 1      737\n",
       " 3      180\n",
       " 4       96\n",
       "-1       83\n",
       " 2       28\n",
       "Name: class, dtype: int64"
      ]
     },
     "execution_count": 19,
     "metadata": {},
     "output_type": "execute_result"
    }
   ],
   "source": [
    "df['class'].value_counts()"
   ]
  },
  {
   "cell_type": "code",
   "execution_count": 20,
   "metadata": {},
   "outputs": [],
   "source": [
    "aq = pd.read_csv('ahsen_week11_labeling_assignment.csv', header=0,index_col=0,\\\n",
    "                 dtype={'clip_title': str, 'labeler': str, 'class': 'Int64'} )"
   ]
  },
  {
   "cell_type": "code",
   "execution_count": 21,
   "metadata": {},
   "outputs": [
    {
     "data": {
      "text/html": [
       "<div>\n",
       "<style scoped>\n",
       "    .dataframe tbody tr th:only-of-type {\n",
       "        vertical-align: middle;\n",
       "    }\n",
       "\n",
       "    .dataframe tbody tr th {\n",
       "        vertical-align: top;\n",
       "    }\n",
       "\n",
       "    .dataframe thead th {\n",
       "        text-align: right;\n",
       "    }\n",
       "</style>\n",
       "<table border=\"1\" class=\"dataframe\">\n",
       "  <thead>\n",
       "    <tr style=\"text-align: right;\">\n",
       "      <th></th>\n",
       "      <th>clip_title</th>\n",
       "      <th>labeler</th>\n",
       "      <th>class</th>\n",
       "    </tr>\n",
       "    <tr>\n",
       "      <th>video-UID</th>\n",
       "      <th></th>\n",
       "      <th></th>\n",
       "      <th></th>\n",
       "    </tr>\n",
       "  </thead>\n",
       "  <tbody>\n",
       "    <tr>\n",
       "      <td>10018</td>\n",
       "      <td>Australian_flash_mob_dance_slice150.mp4</td>\n",
       "      <td>Ahsen</td>\n",
       "      <td>0</td>\n",
       "    </tr>\n",
       "    <tr>\n",
       "      <td>10022</td>\n",
       "      <td>Australian_flash_mob_dance_slice170.mp4</td>\n",
       "      <td>Ahsen</td>\n",
       "      <td>0</td>\n",
       "    </tr>\n",
       "    <tr>\n",
       "      <td>10024</td>\n",
       "      <td>Australian_flash_mob_dance_slice180.mp4</td>\n",
       "      <td>Ahsen</td>\n",
       "      <td>0</td>\n",
       "    </tr>\n",
       "    <tr>\n",
       "      <td>10025</td>\n",
       "      <td>Australian_flash_mob_dance_slice185.mp4</td>\n",
       "      <td>Ahsen</td>\n",
       "      <td>0</td>\n",
       "    </tr>\n",
       "    <tr>\n",
       "      <td>10028</td>\n",
       "      <td>Australian_flash_mob_dance_slice20.mp4</td>\n",
       "      <td>Ahsen</td>\n",
       "      <td>0</td>\n",
       "    </tr>\n",
       "  </tbody>\n",
       "</table>\n",
       "</div>"
      ],
      "text/plain": [
       "                                        clip_title labeler  class\n",
       "video-UID                                                        \n",
       "10018      Australian_flash_mob_dance_slice150.mp4   Ahsen      0\n",
       "10022      Australian_flash_mob_dance_slice170.mp4   Ahsen      0\n",
       "10024      Australian_flash_mob_dance_slice180.mp4   Ahsen      0\n",
       "10025      Australian_flash_mob_dance_slice185.mp4   Ahsen      0\n",
       "10028       Australian_flash_mob_dance_slice20.mp4   Ahsen      0"
      ]
     },
     "execution_count": 21,
     "metadata": {},
     "output_type": "execute_result"
    }
   ],
   "source": [
    "aq.head()"
   ]
  },
  {
   "cell_type": "code",
   "execution_count": 22,
   "metadata": {},
   "outputs": [
    {
     "data": {
      "text/plain": [
       " 0    631\n",
       " 1    164\n",
       "-1     57\n",
       " 3     34\n",
       " 4     25\n",
       " 2     12\n",
       "Name: class, dtype: int64"
      ]
     },
     "execution_count": 22,
     "metadata": {},
     "output_type": "execute_result"
    }
   ],
   "source": [
    "aq['class'].value_counts()"
   ]
  },
  {
   "cell_type": "code",
   "execution_count": 23,
   "metadata": {},
   "outputs": [],
   "source": [
    "df.update(aq)"
   ]
  },
  {
   "cell_type": "code",
   "execution_count": 24,
   "metadata": {},
   "outputs": [
    {
     "data": {
      "text/plain": [
       " 0     3365\n",
       " 1      901\n",
       " 99     660\n",
       " 3      214\n",
       "-1      140\n",
       " 4      121\n",
       " 2       40\n",
       "Name: class, dtype: int64"
      ]
     },
     "execution_count": 24,
     "metadata": {},
     "output_type": "execute_result"
    }
   ],
   "source": [
    "df['class'].value_counts()"
   ]
  },
  {
   "cell_type": "code",
   "execution_count": 25,
   "metadata": {},
   "outputs": [],
   "source": [
    "ad = pd.read_csv('alex_week11_labeling_assignment.csv', header=0,index_col=0,\\\n",
    "                 dtype={'clip_title': str, 'labeler': str, 'class': 'Int64'} )"
   ]
  },
  {
   "cell_type": "code",
   "execution_count": 26,
   "metadata": {},
   "outputs": [
    {
     "data": {
      "text/html": [
       "<div>\n",
       "<style scoped>\n",
       "    .dataframe tbody tr th:only-of-type {\n",
       "        vertical-align: middle;\n",
       "    }\n",
       "\n",
       "    .dataframe tbody tr th {\n",
       "        vertical-align: top;\n",
       "    }\n",
       "\n",
       "    .dataframe thead th {\n",
       "        text-align: right;\n",
       "    }\n",
       "</style>\n",
       "<table border=\"1\" class=\"dataframe\">\n",
       "  <thead>\n",
       "    <tr style=\"text-align: right;\">\n",
       "      <th></th>\n",
       "      <th>clip_title</th>\n",
       "      <th>labeler</th>\n",
       "      <th>class</th>\n",
       "    </tr>\n",
       "    <tr>\n",
       "      <th>video-UID</th>\n",
       "      <th></th>\n",
       "      <th></th>\n",
       "      <th></th>\n",
       "    </tr>\n",
       "  </thead>\n",
       "  <tbody>\n",
       "    <tr>\n",
       "      <td>10000</td>\n",
       "      <td>5yo_vs_Mickey_slice0_slice0.mp4</td>\n",
       "      <td>Alex</td>\n",
       "      <td>0</td>\n",
       "    </tr>\n",
       "    <tr>\n",
       "      <td>10001</td>\n",
       "      <td>5yo_vs_Mickey_slice10_slice0.mp4</td>\n",
       "      <td>Alex</td>\n",
       "      <td>0</td>\n",
       "    </tr>\n",
       "    <tr>\n",
       "      <td>10002</td>\n",
       "      <td>5yo_vs_Mickey_slice15_slice0.mp4</td>\n",
       "      <td>Alex</td>\n",
       "      <td>0</td>\n",
       "    </tr>\n",
       "    <tr>\n",
       "      <td>10006</td>\n",
       "      <td>Australian_flash_mob_dance_slice10.mp4</td>\n",
       "      <td>Alex</td>\n",
       "      <td>0</td>\n",
       "    </tr>\n",
       "    <tr>\n",
       "      <td>10007</td>\n",
       "      <td>Australian_flash_mob_dance_slice100.mp4</td>\n",
       "      <td>Alex</td>\n",
       "      <td>0</td>\n",
       "    </tr>\n",
       "  </tbody>\n",
       "</table>\n",
       "</div>"
      ],
      "text/plain": [
       "                                        clip_title labeler  class\n",
       "video-UID                                                        \n",
       "10000              5yo_vs_Mickey_slice0_slice0.mp4    Alex      0\n",
       "10001             5yo_vs_Mickey_slice10_slice0.mp4    Alex      0\n",
       "10002             5yo_vs_Mickey_slice15_slice0.mp4    Alex      0\n",
       "10006       Australian_flash_mob_dance_slice10.mp4    Alex      0\n",
       "10007      Australian_flash_mob_dance_slice100.mp4    Alex      0"
      ]
     },
     "execution_count": 26,
     "metadata": {},
     "output_type": "execute_result"
    }
   ],
   "source": [
    "ad.head()"
   ]
  },
  {
   "cell_type": "code",
   "execution_count": 27,
   "metadata": {},
   "outputs": [
    {
     "data": {
      "text/plain": [
       " 0    667\n",
       " 1    156\n",
       " 3     52\n",
       " 4     26\n",
       " 2     12\n",
       "-1     10\n",
       "Name: class, dtype: int64"
      ]
     },
     "execution_count": 27,
     "metadata": {},
     "output_type": "execute_result"
    }
   ],
   "source": [
    "ad['class'].value_counts()"
   ]
  },
  {
   "cell_type": "code",
   "execution_count": 28,
   "metadata": {},
   "outputs": [],
   "source": [
    "df.update(ad)"
   ]
  },
  {
   "cell_type": "code",
   "execution_count": 37,
   "metadata": {},
   "outputs": [
    {
     "data": {
      "text/plain": [
       "-1     144\n",
       " 0    3783\n",
       " 1    1049\n",
       " 2      52\n",
       " 3     266\n",
       " 4     147\n",
       "Name: class, dtype: int64"
      ]
     },
     "execution_count": 37,
     "metadata": {},
     "output_type": "execute_result"
    }
   ],
   "source": [
    "df['class'].value_counts().sort_index()"
   ]
  },
  {
   "cell_type": "code",
   "execution_count": 30,
   "metadata": {},
   "outputs": [
    {
     "data": {
      "text/plain": [
       "1514"
      ]
     },
     "execution_count": 30,
     "metadata": {},
     "output_type": "execute_result"
    }
   ],
   "source": [
    "sum(df['class'].value_counts().loc[[1,2,3,4]])"
   ]
  },
  {
   "cell_type": "code",
   "execution_count": 31,
   "metadata": {},
   "outputs": [
    {
     "data": {
      "text/plain": [
       "5297"
      ]
     },
     "execution_count": 31,
     "metadata": {},
     "output_type": "execute_result"
    }
   ],
   "source": [
    "sum(df['class'].value_counts().loc[[0,1,2,3,4]])"
   ]
  },
  {
   "cell_type": "code",
   "execution_count": 32,
   "metadata": {},
   "outputs": [
    {
     "data": {
      "text/plain": [
       "0.2858221634887672"
      ]
     },
     "execution_count": 32,
     "metadata": {},
     "output_type": "execute_result"
    }
   ],
   "source": [
    "sum(df['class'].value_counts().loc[[1,2,3,4]])/sum(df['class'].value_counts().loc[[0,1,2,3,4]])"
   ]
  },
  {
   "cell_type": "code",
   "execution_count": 33,
   "metadata": {},
   "outputs": [
    {
     "data": {
      "text/plain": [
       "5441"
      ]
     },
     "execution_count": 33,
     "metadata": {},
     "output_type": "execute_result"
    }
   ],
   "source": [
    "sum(df['class'].value_counts())"
   ]
  },
  {
   "cell_type": "code",
   "execution_count": 34,
   "metadata": {},
   "outputs": [
    {
     "data": {
      "text/plain": [
       "0.9735342767873553"
      ]
     },
     "execution_count": 34,
     "metadata": {},
     "output_type": "execute_result"
    }
   ],
   "source": [
    "sum(df['class'].value_counts().loc[[0,1,2,3,4]])/sum(df['class'].value_counts())"
   ]
  },
  {
   "cell_type": "code",
   "execution_count": null,
   "metadata": {},
   "outputs": [],
   "source": []
  },
  {
   "cell_type": "code",
   "execution_count": 38,
   "metadata": {},
   "outputs": [],
   "source": [
    "df.to_csv(\"ground_truth.csv\",header=True,index=True)"
   ]
  },
  {
   "cell_type": "code",
   "execution_count": null,
   "metadata": {},
   "outputs": [],
   "source": []
  }
 ],
 "metadata": {
  "kernelspec": {
   "display_name": "Python 3",
   "language": "python",
   "name": "python3"
  },
  "language_info": {
   "codemirror_mode": {
    "name": "ipython",
    "version": 3
   },
   "file_extension": ".py",
   "mimetype": "text/x-python",
   "name": "python",
   "nbconvert_exporter": "python",
   "pygments_lexer": "ipython3",
   "version": "3.6.8"
  }
 },
 "nbformat": 4,
 "nbformat_minor": 2
}
