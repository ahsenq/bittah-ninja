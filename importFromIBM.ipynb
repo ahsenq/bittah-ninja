{
 "cells": [
  {
   "cell_type": "code",
   "execution_count": 1,
   "metadata": {},
   "outputs": [],
   "source": [
    "import json\n",
    "import os\n",
    "import pickle\n",
    "import random\n",
    "import sys\n",
    "import time\n",
    "\n",
    "import cv2\n",
    "import ibm_boto3\n",
    "import numpy as np\n",
    "import pandas as pd\n",
    "from ibm_botocore.client import Config\n",
    "from tqdm import tqdm\n"
   ]
  },
  {
   "cell_type": "code",
   "execution_count": 2,
   "metadata": {},
   "outputs": [],
   "source": [
    "# cred_path = \"/home/alex/Documents/MIDS/w210/FinalProject/w210-credentials.json\"\n",
    "cred_path = \"/tmp/w210-credentials.json\"\n",
    "with open(cred_path, \"r\") as f:\n",
    "    creds = json.load(f)\n",
    "\n",
    "auth_endpoint = 'https://iam.bluemix.net/oidc/token'\n",
    "service_endpoint = 'https://s3.us.cloud-object-storage.appdomain.cloud'\n",
    "\n",
    "# Store relevant details for interacting with IBM COS store and uploading data\n",
    "cos = ibm_boto3.resource('s3',\n",
    "                         ibm_api_key_id=creds['apikey'],\n",
    "                         ibm_service_instance_id=creds['resource_instance_id'],\n",
    "                         ibm_auth_endpoint=auth_endpoint,\n",
    "                         config=Config(signature_version='oauth'),\n",
    "                         endpoint_url=service_endpoint)"
   ]
  },
  {
   "cell_type": "code",
   "execution_count": 3,
   "metadata": {},
   "outputs": [],
   "source": [
    "# FIXME: need to figure out how to install aspera for massive download speed\n",
    "# boost. Surprisingly, the docs suck\n",
    "#\n",
    "# from ibm_s3transfer.aspera.manager import AsperaTransferManager\n",
    "# cos = ibm_boto3.client('s3',\n",
    "#                          ibm_api_key_id=creds['apikey'],\n",
    "#                          ibm_service_instance_id=creds['resource_instance_id'],\n",
    "#                          ibm_auth_endpoint=auth_endpoint,\n",
    "#                          config=Config(signature_version='oauth'),\n",
    "#                          endpoint_url=service_endpoint)\n",
    "# transfer_manager = AsperaTransferManager(cos)"
   ]
  },
  {
   "cell_type": "code",
   "execution_count": 4,
   "metadata": {},
   "outputs": [],
   "source": [
    "bucket = cos.Bucket('w210-finalproject')"
   ]
  },
  {
   "cell_type": "code",
   "execution_count": 5,
   "metadata": {},
   "outputs": [
    {
     "name": "stderr",
     "output_type": "stream",
     "text": [
      "/root/bittah-ninja/w210/lib/python3.6/site-packages/ibm_botocore/vendored/requests/api.py:67: DeprecationWarning: You are using the post() function from 'ibm_botocore.vendored.requests'.  This is not a public API in ibm_botocore and will be removed in the future. Additionally, this version of requests is out of date.  We recommend you install the requests package, 'import requests' directly, and use the requests.post() function instead.\n",
      "  DeprecationWarning\n"
     ]
    }
   ],
   "source": [
    "files = list(bucket.objects.all())"
   ]
  },
  {
   "cell_type": "code",
   "execution_count": 6,
   "metadata": {},
   "outputs": [],
   "source": [
    "savepath = '/tmp/vids'\n",
    "os.makedirs(savepath, exist_ok=True)\n",
    "filelist = os.listdir(savepath)"
   ]
  },
  {
   "cell_type": "code",
   "execution_count": 7,
   "metadata": {},
   "outputs": [
    {
     "name": "stderr",
     "output_type": "stream",
     "text": [
      "100%|██████████| 808/808 [00:00<00:00, 159602.41it/s]\n"
     ]
    }
   ],
   "source": [
    "# savepath = \"/home/alex/Documents/MIDS/w210/FinalProject/tmp\"\n",
    "savepath = '/tmp/vids'\n",
    "os.makedirs(savepath, exist_ok=True)\n",
    "filelist = os.listdir(savepath)\n",
    "for file in tqdm(files):\n",
    "    ext = file.key.split('.')[-1]\n",
    "    if 'mp4' not in ext and 'avi' not in ext:\n",
    "        continue\n",
    "    filename = file.key.split('/')[-1]\n",
    "    if filename in filelist:\n",
    "        continue\n",
    "    else:\n",
    "        filename = os.path.join(savepath, filename)\n",
    "        bucket.download_file(file.key, filename)\n"
   ]
  },
  {
   "cell_type": "code",
   "execution_count": 15,
   "metadata": {},
   "outputs": [],
   "source": [
    "vids = os.listdir(savepath)\n",
    "cap = cv2.VideoCapture(os.path.join(savepath, random.sample(vids,1)[0]))"
   ]
  },
  {
   "cell_type": "code",
   "execution_count": null,
   "metadata": {},
   "outputs": [],
   "source": [
    "while(cap.isOpened()):\n",
    "    _, frame = cap.read()\n",
    "\n",
    "    gray = cv2.cvtColor(frame, cv2.COLOR_BGR2GRAY)\n",
    "\n",
    "    cv2.imshow('frame',gray)\n",
    "    if cv2.waitKey(1) & 0xFF == ord('q'):\n",
    "        break\n",
    "\n",
    "cap.release()\n",
    "cv2.destroyAllWindows()"
   ]
  },
  {
   "cell_type": "code",
   "execution_count": null,
   "metadata": {},
   "outputs": [],
   "source": []
  },
  {
   "cell_type": "code",
   "execution_count": null,
   "metadata": {},
   "outputs": [],
   "source": []
  },
  {
   "cell_type": "code",
   "execution_count": 13,
   "metadata": {},
   "outputs": [
    {
     "data": {
      "text/plain": [
       "(720, 1280, 3)"
      ]
     },
     "execution_count": 13,
     "metadata": {},
     "output_type": "execute_result"
    }
   ],
   "source": [
    "frame.shape"
   ]
  },
  {
   "cell_type": "code",
   "execution_count": 14,
   "metadata": {},
   "outputs": [
    {
     "data": {
      "text/plain": [
       "(720, 1280)"
      ]
     },
     "execution_count": 14,
     "metadata": {},
     "output_type": "execute_result"
    }
   ],
   "source": [
    "gray = cv2.cvtColor(frame, cv2.COLOR_BGR2GRAY)\n",
    "gray.shape"
   ]
  },
  {
   "cell_type": "code",
   "execution_count": null,
   "metadata": {},
   "outputs": [],
   "source": []
  },
  {
   "cell_type": "code",
   "execution_count": null,
   "metadata": {},
   "outputs": [],
   "source": [
    "gray = cv2.cvtColor(frame, cv2.COLOR_BGR2GRAY)\n",
    "cv2.imshow('vid', gray)"
   ]
  },
  {
   "cell_type": "code",
   "execution_count": null,
   "metadata": {},
   "outputs": [],
   "source": []
  }
 ],
 "metadata": {
  "file_extension": ".py",
  "kernelspec": {
   "display_name": "Python 3",
   "language": "python",
   "name": "python3"
  },
  "language_info": {
   "codemirror_mode": {
    "name": "ipython",
    "version": 3
   },
   "file_extension": ".py",
   "mimetype": "text/x-python",
   "name": "python",
   "nbconvert_exporter": "python",
   "pygments_lexer": "ipython3",
   "version": "3.6.8"
  },
  "mimetype": "text/x-python",
  "name": "python",
  "npconvert_exporter": "python",
  "pygments_lexer": "ipython3",
  "version": 3
 },
 "nbformat": 4,
 "nbformat_minor": 4
}
