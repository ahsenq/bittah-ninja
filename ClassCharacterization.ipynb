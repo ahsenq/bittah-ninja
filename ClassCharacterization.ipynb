{
 "cells": [
  {
   "cell_type": "markdown",
   "metadata": {},
   "source": [
    "# This ViewTube notebook ONLY works with jupyter notebook\n",
    "(Videos will NOT play in jupyter lab, sorry.)"
   ]
  },
  {
   "cell_type": "code",
   "execution_count": 1,
   "metadata": {},
   "outputs": [
    {
     "name": "stdout",
     "output_type": "stream",
     "text": [
      "Known nbextensions:\r\n",
      "  config dir: /root/w210/etc/jupyter/nbconfig\r\n",
      "    notebook section\r\n",
      "      jupyter-js-widgets/extension \u001b[32m enabled \u001b[0m\r\n",
      "      - Validating: \u001b[32mOK\u001b[0m\r\n",
      "      jupyter-video/extension \u001b[32m enabled \u001b[0m\r\n",
      "      - Validating: \u001b[32mOK\u001b[0m\r\n"
     ]
    }
   ],
   "source": [
    "from ipywidgets import Video, Image\n",
    "!jupyter nbextension list"
   ]
  },
  {
   "cell_type": "code",
   "execution_count": 2,
   "metadata": {},
   "outputs": [
    {
     "data": {
      "application/vnd.jupyter.widget-view+json": {
       "model_id": "158e5846cffc4900b04cbc5440a1c377",
       "version_major": 2,
       "version_minor": 0
      },
      "text/plain": [
       "Video(value=b'\\x00\\x00\\x00 ftypisom\\x00\\x00\\x02\\x00isomiso2avc1mp41\\x00\\x00\\x00\\x08free\\x00\\x15\\x83\\x84mdat\\x0…"
      ]
     },
     "metadata": {},
     "output_type": "display_data"
    }
   ],
   "source": [
    "# PUNCH\n",
    "# This cell is just to play any video you specify\n",
    "# Pick any filename.mp4 and make it the value associated with key 'check'\n",
    "# then run cell to play it\n",
    "explore_vids = {\n",
    "    'check': 'street_confrontation_punch_slice65.mp4'\n",
    "}\n",
    "cat = explore_vids\n",
    "play = 'check'\n",
    "video = Video.from_file('/root/vids/' + cat[play])\n",
    "video"
   ]
  },
  {
   "cell_type": "markdown",
   "metadata": {},
   "source": [
    "# Punch Identification"
   ]
  },
  {
   "cell_type": "code",
   "execution_count": 3,
   "metadata": {},
   "outputs": [
    {
     "data": {
      "application/vnd.jupyter.widget-view+json": {
       "model_id": "139ef53f9b464db08dcece306cd4e476",
       "version_major": 2,
       "version_minor": 0
      },
      "text/plain": [
       "Video(value=b'\\x00\\x00\\x00 ftypisom\\x00\\x00\\x02\\x00isomiso2avc1mp41\\x00\\x00\\x00\\x08free\\x00\\x02\\x94mmdat\\x00\\x…"
      ]
     },
     "metadata": {},
     "output_type": "display_data"
    }
   ],
   "source": [
    "# Punch\n",
    "# intentional punch of an inanimate object (bag, board, etc.)\n",
    "punch_io = {\n",
    "        'adult_vs_star': 'grownManPunchesPinata_slice20.mp4', # one big punch\n",
    "        'bag_drill90': 'heavy_bag_drills_slice90.mp4', # many punches, gloves\n",
    "        'many_fast': 'fast_punch_drill_slice100.mp4', # high-frequency on bag, no gloves\n",
    "        'short_strike': 'short_strikes_slice620.mp4', # REALLY no wind up at all\n",
    "        'down_break_board': 'downward_strike_punches_slice270.mp4', # obvious momentum exchange\n",
    "        'down_strike': 'downward_strike_punches_slice195.mp4', # strike vs punch?\n",
    "        'down_board795': 'downward_strike_punches_slice795.mp4',\n",
    "        'down_board555': 'downward_strike_punches_slice555.mp4',\n",
    "        'mouse5': '5yo_vs_Mickey_slice5.mp4', # 5yo attacks pinata\n",
    "        'mouse10': '5yo_vs_Mickey_slice10.mp4',\n",
    "}\n",
    "cat = punch_io\n",
    "play = 'adult_vs_star'\n",
    "video = Video.from_file('/root/vids/' + cat[play])\n",
    "video"
   ]
  },
  {
   "cell_type": "code",
   "execution_count": 4,
   "metadata": {},
   "outputs": [
    {
     "data": {
      "application/vnd.jupyter.widget-view+json": {
       "model_id": "9aa3086664604d45a19c5f3ed209dff5",
       "version_major": 2,
       "version_minor": 0
      },
      "text/plain": [
       "Video(value=b'\\x00\\x00\\x00 ftypisom\\x00\\x00\\x02\\x00isomiso2avc1mp41\\x00\\x00\\x00\\x08free\\x00\\x1c\\xaf`mdat\\x00\\x…"
      ]
     },
     "metadata": {},
     "output_type": "display_data"
    }
   ],
   "source": [
    "# demonstration punch (air)\n",
    "punch_demo_air = {\n",
    "            'max_power840': 'how_to_strike_max_power_slice840.mp4',\n",
    "            'max_power60': 'how_to_strike_max_power_slice60.mp4',\n",
    "            'fast_fake': 'how_to_punch_hard_fast_slice110.mp4',\n",
    "            'forearm_fake': 'how_to_punch_7_basics_slice155.mp4',\n",
    "            '3_air': 'how_to_punch_7_basics_slice15.mp4',\n",
    "            'hook_air': 'hook_punch_power_slice290.mp4',\n",
    "            'ring_hook': 'perfect_hook_punch_slice195.mp4',\n",
    "}\n",
    "cat = punch_demo_air\n",
    "play = 'fast_fake'\n",
    "video = Video.from_file('/root/vids/' + cat[play])\n",
    "video"
   ]
  },
  {
   "cell_type": "code",
   "execution_count": 5,
   "metadata": {},
   "outputs": [
    {
     "data": {
      "application/vnd.jupyter.widget-view+json": {
       "model_id": "b16329e1e02c472d9cbc19e41d69b2b3",
       "version_major": 2,
       "version_minor": 0
      },
      "text/plain": [
       "Video(value=b'\\x00\\x00\\x00 ftypisom\\x00\\x00\\x02\\x00isomiso2avc1mp41\\x00\\x00\\x00\\x08free\\x00\\x18\\xc6\\xe8mdat\\x0…"
      ]
     },
     "metadata": {},
     "output_type": "display_data"
    }
   ],
   "source": [
    "# hand/fist waving (not a punch, but could look like one)\n",
    "hand_waving = {\n",
    "    'pointing_councilman': 'councilman_protesters_argue_slice30.mp4',\n",
    "    'drum_line': 'SouthAmericanDrumline_slice60.mp4',\n",
    "    'concert_hands': 'PutHandsUp_slice135.mp4',\n",
    "    'cymbals': 'US_NC_asheville_drum_circle_slice100.mp4',\n",
    "    'ball_weaving60': 'US_NC_asheville_drum_circle_slice60.mp4',\n",
    "    'ball_weaving65': 'US_NC_asheville_drum_circle_slice65.mp4',\n",
    "    'ball_weaving70': 'US_NC_asheville_drum_circle_slice70.mp4',\n",
    "    'nc_drums290': 'US_NC_asheville_drum_circle_slice290.mp4',\n",
    "    'bybay_drums': 'ByronBay_slice255.mp4',\n",
    "    'bybay_drums155': 'ByronBay_slice155.mp4',\n",
    "    'FR_flashmob160': 'French_flashmob_circle_slice160.mp4',\n",
    "    'line_dance': 'kicks_line_dance_slice100.mp4', \n",
    "    'hands_overhead': 'kicks_line_dance_slice185.mp4',\n",
    "    'whirling_dance': 'traditional_dance_slice585.mp4',\n",
    "    'wedding_wave': 'groomsmen_dance_slice200.mp4',\n",
    "    'wedding_hands':'groomsmen_dance_slice415.mp4',\n",
    "}\n",
    "cat = hand_waving\n",
    "play = 'pointing_councilman'\n",
    "video = Video.from_file('/root/vids/' + cat[play])\n",
    "video"
   ]
  },
  {
   "cell_type": "code",
   "execution_count": 11,
   "metadata": {},
   "outputs": [
    {
     "data": {
      "application/vnd.jupyter.widget-view+json": {
       "model_id": "d85fc59f38464f7a8ed19169ca7515a1",
       "version_major": 2,
       "version_minor": 0
      },
      "text/plain": [
       "Video(value=b'\\x00\\x00\\x00 ftypisom\\x00\\x00\\x02\\x00isomiso2avc1mp41\\x00\\x00\\x00\\x08free\\x00\\x07q\\xbamdat\\x00\\x…"
      ]
     },
     "metadata": {},
     "output_type": "display_data"
    }
   ],
   "source": [
    "# punch-like non-violent contact\n",
    "# fist bumps and such where punchlike motion is purposefully decelerated prior to intentional contact \n",
    "punchish_nvc = {\n",
    "            'greetings': 'student_teacher_greetings_slice15.mp4', # adult child fistbump\n",
    "            'bumper': 'obama_fist_bumps_slice10.mp4',\n",
    "            'male_makeup_buff': 'male_makeup_artist_client_slice85.mp4', # looks like fist but buffing\n",
    "            'punch_own_hand': 'hook_punch_power_slice300.mp4',\n",
    "            'fluff_hair': 'female_makeup_artist_client_slice160.mp4',\n",
    "}\n",
    "cat = punchish_nvc\n",
    "play = 'punch_own_hand'\n",
    "video = Video.from_file('/root/vids/' + cat[play])\n",
    "video"
   ]
  },
  {
   "cell_type": "markdown",
   "metadata": {},
   "source": [
    "# Violence"
   ]
  },
  {
   "cell_type": "code",
   "execution_count": 7,
   "metadata": {},
   "outputs": [
    {
     "data": {
      "application/vnd.jupyter.widget-view+json": {
       "model_id": "304184b4a23a4c959b32d6a1abe88671",
       "version_major": 2,
       "version_minor": 0
      },
      "text/plain": [
       "Video(value=b'\\x00\\x00\\x00 ftypisom\\x00\\x00\\x02\\x00isomiso2avc1mp41\\x00\\x00\\x00\\x08free\\x00\\x12\\x82\\xf6mdat\\x0…"
      ]
     },
     "metadata": {},
     "output_type": "display_data"
    }
   ],
   "source": [
    "# violent punches that don't connect\n",
    "v_punch_miss = { \n",
    "    'teen_officer': 'teen_punches_officer_slice15.mp4', # intent here is clear, tho swing and miss\n",
    "    'disney20': 'disneyland_fistfight_slice20.mp4'\n",
    "}\n",
    "cat = v_punch_miss\n",
    "play = 'teen_officer'\n",
    "swing_miss = Video.from_file('/root/vids/' + cat[play])\n",
    "swing_miss"
   ]
  },
  {
   "cell_type": "code",
   "execution_count": 8,
   "metadata": {},
   "outputs": [
    {
     "data": {
      "application/vnd.jupyter.widget-view+json": {
       "model_id": "3dc42bf43ae74bf4b80c6dff6fbfdf71",
       "version_major": 2,
       "version_minor": 0
      },
      "text/plain": [
       "Video(value=b'\\x00\\x00\\x00 ftypisom\\x00\\x00\\x02\\x00isomiso2avc1mp41\\x00\\x00\\x00\\x08free\\x00\\x17\\xf8\\x1cmdat\\x0…"
      ]
     },
     "metadata": {},
     "output_type": "display_data"
    }
   ],
   "source": [
    "# violent punches that connect\n",
    "v_punch_c = {\n",
    "        'pool_hall_punch': 'poor_lighting_pool_hall_punch_slice15.mp4', # light level low\n",
    "        'disney5': 'disneyland_fistfight_slice5.mp4', # high definition punches flying\n",
    "        'disney15': 'disneyland_fistfight_slice15.mp4',\n",
    "        'disney25': 'disneyland_fistfight_slice25.mp4',\n",
    "        'disney30': 'disneyland_fistfight_slice30.mp4',\n",
    "        'disney35': 'disneyland_fistfight_slice35.mp4',\n",
    "        'disney45': 'disneyland_fistfight_slice45.mp4',\n",
    "        'disney50': 'disneyland_fistfight_slice50.mp4',\n",
    "        'Austin_first': 'street_confrontation_punch_slice60.mp4',# bad angle\n",
    "        'Austin_street': 'street_confrontation_punch_slice65.mp4', # many punches\n",
    "        'Austin_punch_run': 'street_confrontation_punch_slice80.mp4', # punch and run!\n",
    "        'rugby_real': 'rugby_downward_punch_slice55.mp4', # 1 occluded, 1 downward\n",
    "        'rugby_slomo': 'rugby_downward_punch_slice60.mp4', # note this is slow-motion of above\n",
    "        'smoke_shop25': 'women_fight_smoke_shop_slice25.mp4', # oh so many punches, upward\n",
    "        'shayna_triple': 'stunt_fights_shayna_slice155.mp4', # 3 punches here\n",
    "        'shayna_double': 'stunt_fights_shayna_slice100.mp4', # 2 downward angle\n",
    "        'punch_belly': 'how_to_punch_hard_fast_slice90.mp4', # demo into belly\n",
    "\n",
    "}\n",
    "cat = v_punch_c\n",
    "play = 'rugby_real'\n",
    "violent_punch = Video.from_file('/root/vids/' + cat[play])\n",
    "violent_punch"
   ]
  },
  {
   "cell_type": "markdown",
   "metadata": {},
   "source": [
    "# No Punchlike Motion"
   ]
  },
  {
   "cell_type": "code",
   "execution_count": 12,
   "metadata": {},
   "outputs": [
    {
     "data": {
      "application/vnd.jupyter.widget-view+json": {
       "model_id": "9bf08b2002534d66a347b758f1928c96",
       "version_major": 2,
       "version_minor": 0
      },
      "text/plain": [
       "Video(value=b'\\x00\\x00\\x00 ftypisom\\x00\\x00\\x02\\x00isomiso2avc1mp41\\x00\\x00\\x00\\x08free\\x00\\x19\\x17\\x88mdat\\x0…"
      ]
     },
     "metadata": {},
     "output_type": "display_data"
    }
   ],
   "source": [
    "# no punchlike motion\n",
    "no_punch_mo = {'mouse0': '5yo_vs_Mickey_slice0.mp4',\n",
    "            'proximate_arguing': 'councilman_protesters_argue_slice45.mp4',\n",
    "            'pre_punch': 'poor_lighting_pool_hall_punch_slice10.mp4',\n",
    "            'post_punch': 'poor_lighting_pool_hall_punch_slice20.mp4',\n",
    "            'hair_dragging': 'disneyland_fistfight_slice50.mp4',\n",
    "            'hackey_sack': 'HShackeysack_slice365.mp4',\n",
    "            'dance_cam10': 'wvu_dance_cam_slice10.mp4',\n",
    "            'dance_cam15': 'wvu_dance_cam_slice15.mp4',\n",
    "            'FR_flash260': 'French_flashmob_circle_slice260.mp4',\n",
    "            'FR_flash200': 'French_flashmob_circle_slice200.mp4',\n",
    "            'male_makeup60': 'male_makeup_artist_client_slice60.mp4', # contact but gentle\n",
    "            'male_makeup70': 'male_makeup_artist_client_slice70.mp4',\n",
    "            'mic_hand_gestures': 'groomsmen_dance_slice35.mp4', # hands for emphasis\n",
    "            'smudge_eye': 'female_makeup_artist_client_slice70.mp4', # uncomfortable but not a punch\n",
    "\n",
    "}\n",
    "cat = no_punch_mo\n",
    "play = 'pre_punch'\n",
    "unpunch = Video.from_file('/root/vids/' + cat[play])\n",
    "unpunch"
   ]
  },
  {
   "cell_type": "markdown",
   "metadata": {},
   "source": [
    "# TBD (JenD can't decide)\n"
   ]
  },
  {
   "cell_type": "code",
   "execution_count": 10,
   "metadata": {},
   "outputs": [
    {
     "data": {
      "application/vnd.jupyter.widget-view+json": {
       "model_id": "b53be2b642234dfe88f1cfc3ba0d08b9",
       "version_major": 2,
       "version_minor": 0
      },
      "text/plain": [
       "Video(value=b'\\x00\\x00\\x00 ftypisom\\x00\\x00\\x02\\x00isomiso2avc1mp41\\x00\\x00\\x00\\x08free\\x00$s\\xe7mdat\\x00\\x00\\…"
      ]
     },
     "metadata": {},
     "output_type": "display_data"
    }
   ],
   "source": [
    "# IDK how to characterize\n",
    "idk = {\n",
    "    'FR_flash295': 'French_flashmob_circle_slice295.mp4', # looks like mock kicks? hand-wavy enough?\n",
    "    'dance_cam5': 'wvu_dance_cam_slice5.mp4', # faking a confrontation here\n",
    "    'max_power_hand': 'how_to_strike_max_power_slice530.mp4', # making a point with finger jab?\n",
    "}\n",
    "cat = idk\n",
    "play = 'FR_flash295'\n",
    "video = Video.from_file('/root/vids/' + cat[play])\n",
    "video"
   ]
  },
  {
   "cell_type": "markdown",
   "metadata": {},
   "source": [
    "Questions\n",
    "   * Any handstrike, or must be balled fist?"
   ]
  },
  {
   "cell_type": "code",
   "execution_count": null,
   "metadata": {},
   "outputs": [],
   "source": []
  }
 ],
 "metadata": {
  "kernelspec": {
   "display_name": "Python 3",
   "language": "python",
   "name": "python3"
  },
  "language_info": {
   "codemirror_mode": {
    "name": "ipython",
    "version": 3
   },
   "file_extension": ".py",
   "mimetype": "text/x-python",
   "name": "python",
   "nbconvert_exporter": "python",
   "pygments_lexer": "ipython3",
   "version": "3.6.8"
  }
 },
 "nbformat": 4,
 "nbformat_minor": 4
}
