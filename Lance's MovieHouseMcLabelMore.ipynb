{
 "cells": [
  {
   "cell_type": "markdown",
   "metadata": {},
   "source": [
    "### This ONLY works with jupyter notebook (NOT lab)"
   ]
  },
  {
   "cell_type": "code",
   "execution_count": 143,
   "metadata": {
    "scrolled": true
   },
   "outputs": [
    {
     "data": {
      "application/vnd.jupyter.widget-view+json": {
       "model_id": "27f7c8711cdc4e5b86b778fff8d2fe93",
       "version_major": 2,
       "version_minor": 0
      },
      "text/plain": [
       "Video(value=b'\\x00\\x00\\x00 ftypisom\\x00\\x00\\x02\\x00isomiso2avc1mp41\\x00\\x00\\x00\\x08free\\x00\\x1c|Emdat\\x00\\x00\\…"
      ]
     },
     "metadata": {},
     "output_type": "display_data"
    }
   ],
   "source": [
    "my_clips = \"lance_clips.csv\"\n",
    "from ipywidgets import Video, Image # run ```!jupyter nbextension list``` to verify config\n",
    "import pandas as pd\n",
    "df = pd.read_csv(my_clips, header=0,index_col=0)\n",
    "line, clip = df[df['class']==99].head(1).index[0], df[df['class']==99].head(1)['clip_title'].iloc[0]\n",
    "video = Video.from_file('/root/vids/' + clip)\n",
    "video"
   ]
  },
  {
   "cell_type": "code",
   "execution_count": null,
   "metadata": {},
   "outputs": [
    {
     "name": "stdout",
     "output_type": "stream",
     "text": [
      "0 = no punch && -1 = EXCLUDE \n",
      " 1 = violent punch contact && 2 = violent punch none \n",
      " 3 = non-violent punch contact && 4 = non-violent punch none \n",
      " ????? ------wvu_dance_cam_slice5.mp4----- ?????\n"
     ]
    }
   ],
   "source": [
    "print(\"0 = no punch && -1 = EXCLUDE\",'\\n',\"1 = violent punch contact && 2 = violent punch none\",'\\n',\\\n",
    "     \"3 = non-violent punch contact && 4 = non-violent punch none\",'\\n',f\"????? ------{clip}----- ?????\".format())\n",
    "label = int(input())\n",
    "df.at[line,'class'] = label\n",
    "df.to_csv(my_clips,header=True)"
   ]
  },
  {
   "cell_type": "code",
   "execution_count": null,
   "metadata": {},
   "outputs": [],
   "source": []
  }
 ],
 "metadata": {
  "kernelspec": {
   "display_name": "Python 3",
   "language": "python",
   "name": "python3"
  },
  "language_info": {
   "codemirror_mode": {
    "name": "ipython",
    "version": 3
   },
   "file_extension": ".py",
   "mimetype": "text/x-python",
   "name": "python",
   "nbconvert_exporter": "python",
   "pygments_lexer": "ipython3",
   "version": "3.7.3"
  }
 },
 "nbformat": 4,
 "nbformat_minor": 4
}
