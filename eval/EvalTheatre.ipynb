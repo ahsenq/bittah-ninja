{
 "cells": [
  {
   "cell_type": "markdown",
   "metadata": {},
   "source": [
    "# The Evaluation Theatre notebook only runs in jupyter notebook\n",
    "Let JenD know if you need it with jupyter lab."
   ]
  },
  {
   "cell_type": "code",
   "execution_count": 1,
   "metadata": {},
   "outputs": [],
   "source": [
    "import doctest\n",
    "import matplotlib.pyplot as plt\n",
    "import numpy as np\n",
    "import pandas as pd\n",
    "import pickle\n",
    "import sklearn\n",
    "from sklearn.metrics import accuracy_score,confusion_matrix, precision_recall_fscore_support\n",
    "from ipywidgets import Video, Image "
   ]
  },
  {
   "cell_type": "code",
   "execution_count": 2,
   "metadata": {},
   "outputs": [
    {
     "name": "stdout",
     "output_type": "stream",
     "text": [
      "Known nbextensions:\r\n",
      "  config dir: /root/w210/etc/jupyter/nbconfig\r\n",
      "    notebook section\r\n",
      "      jupyter-js-widgets/extension \u001b[32m enabled \u001b[0m\r\n",
      "      - Validating: \u001b[32mOK\u001b[0m\r\n",
      "      jupyter-video/extension \u001b[32m enabled \u001b[0m\r\n",
      "      - Validating: \u001b[32mOK\u001b[0m\r\n"
     ]
    }
   ],
   "source": [
    "!jupyter nbextension list\n",
    "# (you need to see both jupyter-js-widgets/extension and jupyter-video/extension enabled and validated below)\n",
    "# !jupyter nbextension enable --py --sys-prefix widgetsnbextension\n",
    "# !pip install Jupyter-Video_Widget\n",
    "# !jupyter nbextension enable --py --sys-prefix jpy_video"
   ]
  },
  {
   "cell_type": "code",
   "execution_count": 3,
   "metadata": {},
   "outputs": [
    {
     "name": "stdout",
     "output_type": "stream",
     "text": [
      "predictions.pickle\r\n",
      "simpleCNN_1000epochs_20191110_150328.h5\r\n",
      "simpleCNN_1000epochs_20191110_153647.h5\r\n",
      "simpleCNN_1000epochs_20191110_171702.h5\r\n",
      "simpleCNN_1000epochs_20191112_024957.h5\r\n",
      "simpleCNN_100epochs_20191110_033120.h5\r\n",
      "simpleCNN_10epochs_20191109_192747.h5\r\n",
      "simpleCNN_history_1000epochs_20191110_150328.pickle\r\n",
      "simpleCNN_history_1000epochs_20191110_153647.pickle\r\n",
      "simpleCNN_history_1000epochs_20191110_171702.pickle\r\n",
      "simpleCNN_history_1000epochs_20191112_024957.pickle\r\n",
      "simpleCNN_history_100epochs_20191110_033120.pickle\r\n",
      "simpleCNN_history_10epochs_20191109_192747.pickle\r\n",
      "test.pickle\r\n",
      "train.pickle\r\n"
     ]
    }
   ],
   "source": [
    "!ls ../../models\n",
    "df = pd.read_pickle('/root/models/predictions.pickle')"
   ]
  },
  {
   "cell_type": "code",
   "execution_count": 7,
   "metadata": {},
   "outputs": [
    {
     "data": {
      "text/html": [
       "<div>\n",
       "<style scoped>\n",
       "    .dataframe tbody tr th:only-of-type {\n",
       "        vertical-align: middle;\n",
       "    }\n",
       "\n",
       "    .dataframe tbody tr th {\n",
       "        vertical-align: top;\n",
       "    }\n",
       "\n",
       "    .dataframe thead th {\n",
       "        text-align: right;\n",
       "    }\n",
       "</style>\n",
       "<table border=\"1\" class=\"dataframe\">\n",
       "  <thead>\n",
       "    <tr style=\"text-align: right;\">\n",
       "      <th></th>\n",
       "      <th>clip_title</th>\n",
       "      <th>video-UID</th>\n",
       "      <th>labeler</th>\n",
       "      <th>label</th>\n",
       "      <th>ohe_labels</th>\n",
       "      <th>y_prob</th>\n",
       "      <th>y_pred</th>\n",
       "      <th>predix</th>\n",
       "    </tr>\n",
       "  </thead>\n",
       "  <tbody>\n",
       "    <tr>\n",
       "      <td>0</td>\n",
       "      <td>downward_strike_punches_slice655_scaled.mp4</td>\n",
       "      <td>2857</td>\n",
       "      <td>Alex</td>\n",
       "      <td>0.0</td>\n",
       "      <td>[1.0, 0.0, 0.0, 0.0, 0.0]</td>\n",
       "      <td>[0.91471887, 0.04957079, 3.3734228e-05, 0.0336...</td>\n",
       "      <td>[1, 0, 0, 0, 0]</td>\n",
       "      <td>0</td>\n",
       "    </tr>\n",
       "    <tr>\n",
       "      <td>1</td>\n",
       "      <td>downward_strike_punches_slice275_scaled.mp4</td>\n",
       "      <td>12907</td>\n",
       "      <td>Jen</td>\n",
       "      <td>0.0</td>\n",
       "      <td>[1.0, 0.0, 0.0, 0.0, 0.0]</td>\n",
       "      <td>[0.7162727, 0.13020208, 0.0011639277, 0.133737...</td>\n",
       "      <td>[1, 0, 0, 0, 0]</td>\n",
       "      <td>0</td>\n",
       "    </tr>\n",
       "    <tr>\n",
       "      <td>2</td>\n",
       "      <td>traditional_dance_slice415_scaled.mp4</td>\n",
       "      <td>5205</td>\n",
       "      <td>Jen</td>\n",
       "      <td>0.0</td>\n",
       "      <td>[1.0, 0.0, 0.0, 0.0, 0.0]</td>\n",
       "      <td>[0.76954263, 0.19615111, 0.008012304, 0.012842...</td>\n",
       "      <td>[1, 0, 0, 0, 0]</td>\n",
       "      <td>0</td>\n",
       "    </tr>\n",
       "    <tr>\n",
       "      <td>3</td>\n",
       "      <td>V_789_slice325_scaled.mp4</td>\n",
       "      <td>12430</td>\n",
       "      <td>Ahsen</td>\n",
       "      <td>1.0</td>\n",
       "      <td>[0.0, 1.0, 0.0, 0.0, 0.0]</td>\n",
       "      <td>[0.35030097, 0.64757156, 0.0005246858, 0.00062...</td>\n",
       "      <td>[0, 1, 0, 0, 0]</td>\n",
       "      <td>1</td>\n",
       "    </tr>\n",
       "    <tr>\n",
       "      <td>4</td>\n",
       "      <td>downward_strike_punches_slice850_scaled.mp4</td>\n",
       "      <td>13035</td>\n",
       "      <td>Lance</td>\n",
       "      <td>0.0</td>\n",
       "      <td>[1.0, 0.0, 0.0, 0.0, 0.0]</td>\n",
       "      <td>[0.73543257, 0.07232628, 1.3397551e-05, 0.1898...</td>\n",
       "      <td>[1, 0, 0, 0, 0]</td>\n",
       "      <td>0</td>\n",
       "    </tr>\n",
       "  </tbody>\n",
       "</table>\n",
       "</div>"
      ],
      "text/plain": [
       "                                    clip_title  video-UID labeler  label  \\\n",
       "0  downward_strike_punches_slice655_scaled.mp4       2857    Alex    0.0   \n",
       "1  downward_strike_punches_slice275_scaled.mp4      12907     Jen    0.0   \n",
       "2        traditional_dance_slice415_scaled.mp4       5205     Jen    0.0   \n",
       "3                    V_789_slice325_scaled.mp4      12430   Ahsen    1.0   \n",
       "4  downward_strike_punches_slice850_scaled.mp4      13035   Lance    0.0   \n",
       "\n",
       "                  ohe_labels  \\\n",
       "0  [1.0, 0.0, 0.0, 0.0, 0.0]   \n",
       "1  [1.0, 0.0, 0.0, 0.0, 0.0]   \n",
       "2  [1.0, 0.0, 0.0, 0.0, 0.0]   \n",
       "3  [0.0, 1.0, 0.0, 0.0, 0.0]   \n",
       "4  [1.0, 0.0, 0.0, 0.0, 0.0]   \n",
       "\n",
       "                                              y_prob           y_pred  predix  \n",
       "0  [0.91471887, 0.04957079, 3.3734228e-05, 0.0336...  [1, 0, 0, 0, 0]       0  \n",
       "1  [0.7162727, 0.13020208, 0.0011639277, 0.133737...  [1, 0, 0, 0, 0]       0  \n",
       "2  [0.76954263, 0.19615111, 0.008012304, 0.012842...  [1, 0, 0, 0, 0]       0  \n",
       "3  [0.35030097, 0.64757156, 0.0005246858, 0.00062...  [0, 1, 0, 0, 0]       1  \n",
       "4  [0.73543257, 0.07232628, 1.3397551e-05, 0.1898...  [1, 0, 0, 0, 0]       0  "
      ]
     },
     "execution_count": 7,
     "metadata": {},
     "output_type": "execute_result"
    }
   ],
   "source": [
    "df.head()"
   ]
  },
  {
   "cell_type": "code",
   "execution_count": 24,
   "metadata": {},
   "outputs": [
    {
     "data": {
      "text/plain": [
       "'downward_strike_punches_slice655_scaled.mp4'"
      ]
     },
     "execution_count": 24,
     "metadata": {},
     "output_type": "execute_result"
    }
   ],
   "source": [
    "extrascaled = df['clip_title'][0]\n",
    "extrascaled"
   ]
  },
  {
   "cell_type": "code",
   "execution_count": 25,
   "metadata": {},
   "outputs": [
    {
     "data": {
      "text/plain": [
       "['downward_strike_punches_slice655', '.mp4']"
      ]
     },
     "execution_count": 25,
     "metadata": {},
     "output_type": "execute_result"
    }
   ],
   "source": [
    "extrascaled.split('_scaled')"
   ]
  },
  {
   "cell_type": "code",
   "execution_count": 26,
   "metadata": {},
   "outputs": [
    {
     "data": {
      "text/plain": [
       "'downward_strike_punches_slice655.mp4'"
      ]
     },
     "execution_count": 26,
     "metadata": {},
     "output_type": "execute_result"
    }
   ],
   "source": [
    "''.join(extrascaled.split('_scaled'))"
   ]
  },
  {
   "cell_type": "code",
   "execution_count": 5,
   "metadata": {},
   "outputs": [
    {
     "data": {
      "text/plain": [
       "0.0    380\n",
       "1.0    103\n",
       "3.0     25\n",
       "4.0     14\n",
       "2.0      2\n",
       "Name: label, dtype: int64"
      ]
     },
     "execution_count": 5,
     "metadata": {},
     "output_type": "execute_result"
    }
   ],
   "source": [
    "df['label'].value_counts()"
   ]
  },
  {
   "cell_type": "code",
   "execution_count": 6,
   "metadata": {},
   "outputs": [],
   "source": [
    "# extract predicted class from the ohe column 'y_pred'\n",
    "df['predix']=df.apply(lambda x: x['y_pred'].argmax(),axis=1)"
   ]
  },
  {
   "cell_type": "code",
   "execution_count": 8,
   "metadata": {},
   "outputs": [
    {
     "data": {
      "text/plain": [
       "0    497\n",
       "1     26\n",
       "4      1\n",
       "Name: predix, dtype: int64"
      ]
     },
     "execution_count": 8,
     "metadata": {},
     "output_type": "execute_result"
    }
   ],
   "source": [
    "df['predix'].value_counts()"
   ]
  },
  {
   "cell_type": "code",
   "execution_count": 10,
   "metadata": {},
   "outputs": [],
   "source": [
    "# We are NOT only predicting binary: punch or no punch at this time\n",
    "# df['binary']=df.apply(lambda x: int(x['predix']>0),axis=1)\n",
    "# df['binary'].value_counts()\n",
    "# df.drop(['predix'],axis=1,inplace=True)\n",
    "# df.rename(columns={'binary':'predix'},inplace=True)\n",
    "gt_labels = {0:'NoPunch',\\\n",
    "            1:'ViolentPunchContact',\\\n",
    "            2:'ViolentPunchWithoutContact',\\\n",
    "            3:'NonviolentPunchContact',\\\n",
    "            4:'NonviolentPunchWithoutContact'}"
   ]
  },
  {
   "cell_type": "code",
   "execution_count": 11,
   "metadata": {},
   "outputs": [],
   "source": [
    "# Verify the prediction file has a column named 'predix'\n",
    "def predix_col_must_be_present(x):\n",
    "    \"\"\"Return whether prediction file contains column named 'predix'\n",
    "\n",
    "    >>> predix_col_must_be_present(df)\n",
    "    True\n",
    "    \"\"\"\n",
    "    return 'predix' in x.columns\n",
    "\n",
    "# Verify we're only predicting 1=punch or else 0=no_punch at this time\n",
    "# def should_predict_binary_only(x):\n",
    "#     \"\"\"Return set of unique values of model predictions.\n",
    "\n",
    "#     >>> should_predict_binary_only(df)\n",
    "#     {0, 1}\n",
    "#     \"\"\"\n",
    "#     return set(x['predix'].unique())\n",
    "\n",
    "# Verify we're not making predictions on any excluded videos\n",
    "def no_excluded_videos_should_be_predicted(x):\n",
    "    \"\"\"Return count of videos predicted that should have been excluded\n",
    "    \n",
    "    >>> no_excluded_videos_should_be_predicted(df)\n",
    "    0\n",
    "    \"\"\"\n",
    "    return x.index.intersection(df[df['label'] == -1].index).shape[0]\n",
    "\n",
    "if __name__ == '__main__':\n",
    "    import doctest\n",
    "    doctest.testmod()"
   ]
  },
  {
   "cell_type": "code",
   "execution_count": 12,
   "metadata": {},
   "outputs": [
    {
     "name": "stdout",
     "output_type": "stream",
     "text": [
      "Overall accuracy of this model is: 73.09%\n"
     ]
    }
   ],
   "source": [
    "# Show plain old accuracy\n",
    "acc = accuracy_score(y_true=df['label'],\\\n",
    "              y_pred=df['predix'])\n",
    "print(f\"Overall accuracy of this model is: {acc:.2%}\")"
   ]
  },
  {
   "cell_type": "code",
   "execution_count": 13,
   "metadata": {},
   "outputs": [
    {
     "name": "stderr",
     "output_type": "stream",
     "text": [
      "/root/w210/lib/python3.6/site-packages/sklearn/metrics/classification.py:1437: UndefinedMetricWarning: Precision and F-score are ill-defined and being set to 0.0 in labels with no predicted samples.\n",
      "  'precision', 'predicted', average, warn_for)\n"
     ]
    },
    {
     "data": {
      "text/html": [
       "<div>\n",
       "<style scoped>\n",
       "    .dataframe tbody tr th:only-of-type {\n",
       "        vertical-align: middle;\n",
       "    }\n",
       "\n",
       "    .dataframe tbody tr th {\n",
       "        vertical-align: top;\n",
       "    }\n",
       "\n",
       "    .dataframe thead th {\n",
       "        text-align: right;\n",
       "    }\n",
       "</style>\n",
       "<table border=\"1\" class=\"dataframe\">\n",
       "  <thead>\n",
       "    <tr style=\"text-align: right;\">\n",
       "      <th></th>\n",
       "      <th>NoPunch</th>\n",
       "      <th>ViolentPunchContact</th>\n",
       "      <th>ViolentPunchWithoutContact</th>\n",
       "      <th>NonviolentPunchContact</th>\n",
       "      <th>NonviolentPunchWithoutContact</th>\n",
       "    </tr>\n",
       "  </thead>\n",
       "  <tbody>\n",
       "    <tr>\n",
       "      <td>precision</td>\n",
       "      <td>0.740443</td>\n",
       "      <td>0.576923</td>\n",
       "      <td>0.0</td>\n",
       "      <td>0.0</td>\n",
       "      <td>0.0</td>\n",
       "    </tr>\n",
       "    <tr>\n",
       "      <td>recall</td>\n",
       "      <td>0.968421</td>\n",
       "      <td>0.145631</td>\n",
       "      <td>0.0</td>\n",
       "      <td>0.0</td>\n",
       "      <td>0.0</td>\n",
       "    </tr>\n",
       "    <tr>\n",
       "      <td>fscore</td>\n",
       "      <td>0.839225</td>\n",
       "      <td>0.232558</td>\n",
       "      <td>0.0</td>\n",
       "      <td>0.0</td>\n",
       "      <td>0.0</td>\n",
       "    </tr>\n",
       "    <tr>\n",
       "      <td>support</td>\n",
       "      <td>380.000000</td>\n",
       "      <td>103.000000</td>\n",
       "      <td>2.0</td>\n",
       "      <td>25.0</td>\n",
       "      <td>14.0</td>\n",
       "    </tr>\n",
       "  </tbody>\n",
       "</table>\n",
       "</div>"
      ],
      "text/plain": [
       "              NoPunch  ViolentPunchContact  ViolentPunchWithoutContact  \\\n",
       "precision    0.740443             0.576923                         0.0   \n",
       "recall       0.968421             0.145631                         0.0   \n",
       "fscore       0.839225             0.232558                         0.0   \n",
       "support    380.000000           103.000000                         2.0   \n",
       "\n",
       "           NonviolentPunchContact  NonviolentPunchWithoutContact  \n",
       "precision                     0.0                            0.0  \n",
       "recall                        0.0                            0.0  \n",
       "fscore                        0.0                            0.0  \n",
       "support                      25.0                           14.0  "
      ]
     },
     "execution_count": 13,
     "metadata": {},
     "output_type": "execute_result"
    }
   ],
   "source": [
    "# Show precision_recall_fscore_support per label JUST BINARY FOR NOW\n",
    "raw_report = precision_recall_fscore_support(y_true=df['label'], y_pred=df['predix'],\\\n",
    "                               average=None,labels=[0,1,2,3,4])\n",
    "report = pd.DataFrame(raw_report, index=['precision','recall','fscore','support'],\\\n",
    "                     columns=gt_labels.values())\n",
    "report"
   ]
  },
  {
   "cell_type": "code",
   "execution_count": 15,
   "metadata": {},
   "outputs": [
    {
     "data": {
      "image/png": "[encoded data removed]",
      "text/plain": [
       "<Figure size 432x288 with 2 Axes>"
      ]
     },
     "metadata": {
      "needs_background": "light"
     },
     "output_type": "display_data"
    }
   ],
   "source": [
    "def plot_confusion_matrix(y_true, y_pred, labels,\n",
    "                          normalize=False,\n",
    "                          title=None,\n",
    "                          cmap=plt.cm.Blues):\n",
    "    \"\"\"\n",
    "    This function prints and plots the confusion matrix.\n",
    "    Normalization can be applied by setting `normalize=True`.\n",
    "    \"\"\"\n",
    "    if not title:\n",
    "        if normalize:\n",
    "            title = 'Normalized confusion matrix'\n",
    "        else:\n",
    "            title = 'Confusion matrix, without normalization'\n",
    "\n",
    "    # Compute confusion matrix\n",
    "    cm = confusion_matrix(y_true, y_pred)\n",
    "    if normalize:\n",
    "        cm = cm.astype('float') / cm.sum(axis=1)[:, np.newaxis]\n",
    "\n",
    "    fig, ax = plt.subplots()\n",
    "    im = ax.imshow(cm, interpolation='nearest', cmap=cmap)\n",
    "    ax.figure.colorbar(im, ax=ax)\n",
    "    ax.set(xticks=np.arange(cm.shape[1]),\n",
    "           yticks=np.arange(cm.shape[0]),\n",
    "           xticklabels=labels, yticklabels=labels,\n",
    "           title=title,\n",
    "           ylabel='True label',\n",
    "           xlabel='Predicted label')\n",
    "    ax.set_xlim(left=-0.5, right=4.5)\n",
    "    ax.set_ylim(bottom=-0.5, top=4.5)\n",
    "\n",
    "    plt.setp(ax.get_xticklabels(), rotation=45, ha=\"right\",\n",
    "             rotation_mode=\"anchor\")\n",
    "\n",
    "    # Loop over data dimensions and create text annotations.\n",
    "    fmt = '.2f' if normalize else 'd'\n",
    "    thresh = cm.max() / 2.\n",
    "    for i in range(cm.shape[0]):\n",
    "        for j in range(cm.shape[1]):\n",
    "            ax.text(j, i, format(cm[i, j], fmt),\n",
    "                    ha=\"center\", va=\"center\",\n",
    "                    color=\"white\" if cm[i, j] > thresh else \"black\")\n",
    "    return ax\n",
    "\n",
    "\n",
    "np.set_printoptions(precision=2)\n",
    "\n",
    "# Plot non-normalized confusion matrix\n",
    "plot_confusion_matrix(df['label'], df['predix'], labels=gt_labels.values(),\n",
    "                      title='Confusion matrix, without normalization')\n",
    "\n",
    "# Plot normalized confusion matrix\n",
    "# plot_confusion_matrix(df['class'], df['predix'], labels=gt_labels.values(), normalize=True,\n",
    "#                       title='Normalized confusion matrix')\n",
    "\n",
    "plt.show()"
   ]
  },
  {
   "cell_type": "code",
   "execution_count": 16,
   "metadata": {},
   "outputs": [],
   "source": [
    "samples={}\n",
    "for truth in range(0,5):\n",
    "    samples[truth]={}\n",
    "    for pred in range(0,5):\n",
    "        if bool(df[(df['label']==truth) & (df['predix']==pred)].shape[0]):\n",
    "            samples[truth][pred] = df[(df['label']==truth) & (df['predix']==pred)].sample(1)"
   ]
  },
  {
   "cell_type": "code",
   "execution_count": 17,
   "metadata": {},
   "outputs": [],
   "source": [
    "def fetch_sample(real,predicted):\n",
    "    truth_target = samples.get(real,None)\n",
    "    if truth_target:\n",
    "        pred_target = truth_target.get(predicted,None)\n",
    "        return pred_target"
   ]
  },
  {
   "cell_type": "code",
   "execution_count": 18,
   "metadata": {},
   "outputs": [
    {
     "name": "stdout",
     "output_type": "stream",
     "text": [
      "NO-PUNCH clip predicted as same [streetfight1_slice895_scaled.mp4 brought to you by Ahsen]\n"
     ]
    },
    {
     "ename": "FileNotFoundError",
     "evalue": "[Errno 2] No such file or directory: '/root/vids/streetfight1_slice895_scaled.mp4'",
     "output_type": "error",
     "traceback": [
      "\u001b[0;31m---------------------------------------------------------------------------\u001b[0m",
      "\u001b[0;31mFileNotFoundError\u001b[0m                         Traceback (most recent call last)",
      "\u001b[0;32m<ipython-input-18-f947263b7325>\u001b[0m in \u001b[0;36m<module>\u001b[0;34m\u001b[0m\n\u001b[1;32m      5\u001b[0m     \u001b[0mclip\u001b[0m\u001b[0;34m,\u001b[0m \u001b[0mjudge\u001b[0m \u001b[0;34m=\u001b[0m \u001b[0mc00\u001b[0m\u001b[0;34m.\u001b[0m\u001b[0mhead\u001b[0m\u001b[0;34m(\u001b[0m\u001b[0;36m1\u001b[0m\u001b[0;34m)\u001b[0m\u001b[0;34m[\u001b[0m\u001b[0;34m'clip_title'\u001b[0m\u001b[0;34m]\u001b[0m\u001b[0;34m.\u001b[0m\u001b[0miloc\u001b[0m\u001b[0;34m[\u001b[0m\u001b[0;36m0\u001b[0m\u001b[0;34m]\u001b[0m\u001b[0;34m,\u001b[0m\u001b[0mc00\u001b[0m\u001b[0;34m.\u001b[0m\u001b[0mhead\u001b[0m\u001b[0;34m(\u001b[0m\u001b[0;36m1\u001b[0m\u001b[0;34m)\u001b[0m\u001b[0;34m[\u001b[0m\u001b[0;34m'labeler'\u001b[0m\u001b[0;34m]\u001b[0m\u001b[0;34m.\u001b[0m\u001b[0miloc\u001b[0m\u001b[0;34m[\u001b[0m\u001b[0;36m0\u001b[0m\u001b[0;34m]\u001b[0m\u001b[0;34m\u001b[0m\u001b[0;34m\u001b[0m\u001b[0m\n\u001b[1;32m      6\u001b[0m     \u001b[0mprint\u001b[0m\u001b[0;34m(\u001b[0m\u001b[0;34mf\"{truth} clip predicted as {inference} [{clip} brought to you by {judge}]\"\u001b[0m\u001b[0;34m.\u001b[0m\u001b[0mformat\u001b[0m\u001b[0;34m(\u001b[0m\u001b[0;34m)\u001b[0m\u001b[0;34m)\u001b[0m\u001b[0;34m\u001b[0m\u001b[0;34m\u001b[0m\u001b[0m\n\u001b[0;32m----> 7\u001b[0;31m     \u001b[0mshow\u001b[0m \u001b[0;34m=\u001b[0m \u001b[0mVideo\u001b[0m\u001b[0;34m.\u001b[0m\u001b[0mfrom_file\u001b[0m\u001b[0;34m(\u001b[0m\u001b[0;34m'/root/vids/'\u001b[0m \u001b[0;34m+\u001b[0m \u001b[0mclip\u001b[0m\u001b[0;34m)\u001b[0m\u001b[0;34m\u001b[0m\u001b[0;34m\u001b[0m\u001b[0m\n\u001b[0m\u001b[1;32m      8\u001b[0m \u001b[0mshow\u001b[0m\u001b[0;34m\u001b[0m\u001b[0;34m\u001b[0m\u001b[0m\n",
      "\u001b[0;32m~/w210/lib/python3.6/site-packages/ipywidgets/widgets/widget_media.py\u001b[0m in \u001b[0;36mfrom_file\u001b[0;34m(cls, filename, **kwargs)\u001b[0m\n\u001b[1;32m    192\u001b[0m     \u001b[0;34m@\u001b[0m\u001b[0mclassmethod\u001b[0m\u001b[0;34m\u001b[0m\u001b[0;34m\u001b[0m\u001b[0m\n\u001b[1;32m    193\u001b[0m     \u001b[0;32mdef\u001b[0m \u001b[0mfrom_file\u001b[0m\u001b[0;34m(\u001b[0m\u001b[0mcls\u001b[0m\u001b[0;34m,\u001b[0m \u001b[0mfilename\u001b[0m\u001b[0;34m,\u001b[0m \u001b[0;34m**\u001b[0m\u001b[0mkwargs\u001b[0m\u001b[0;34m)\u001b[0m\u001b[0;34m:\u001b[0m\u001b[0;34m\u001b[0m\u001b[0;34m\u001b[0m\u001b[0m\n\u001b[0;32m--> 194\u001b[0;31m         \u001b[0;32mreturn\u001b[0m \u001b[0mcls\u001b[0m\u001b[0;34m.\u001b[0m\u001b[0m_from_file\u001b[0m\u001b[0;34m(\u001b[0m\u001b[0;34m'video'\u001b[0m\u001b[0;34m,\u001b[0m \u001b[0mfilename\u001b[0m\u001b[0;34m,\u001b[0m \u001b[0;34m**\u001b[0m\u001b[0mkwargs\u001b[0m\u001b[0;34m)\u001b[0m\u001b[0;34m\u001b[0m\u001b[0;34m\u001b[0m\u001b[0m\n\u001b[0m\u001b[1;32m    195\u001b[0m \u001b[0;34m\u001b[0m\u001b[0m\n\u001b[1;32m    196\u001b[0m     \u001b[0;32mdef\u001b[0m \u001b[0m__repr__\u001b[0m\u001b[0;34m(\u001b[0m\u001b[0mself\u001b[0m\u001b[0;34m)\u001b[0m\u001b[0;34m:\u001b[0m\u001b[0;34m\u001b[0m\u001b[0;34m\u001b[0m\u001b[0m\n",
      "\u001b[0;32m~/w210/lib/python3.6/site-packages/ipywidgets/widgets/widget_media.py\u001b[0m in \u001b[0;36m_from_file\u001b[0;34m(cls, tag, filename, **kwargs)\u001b[0m\n\u001b[1;32m     42\u001b[0m         \u001b[0mReturns\u001b[0m \u001b[0man\u001b[0m\u001b[0;31m \u001b[0m\u001b[0;31m`\u001b[0m\u001b[0mMedia\u001b[0m\u001b[0;31m`\u001b[0m \u001b[0;32mwith\u001b[0m \u001b[0mthe\u001b[0m \u001b[0mvalue\u001b[0m \u001b[0mset\u001b[0m \u001b[0;32mfrom\u001b[0m \u001b[0mthe\u001b[0m \u001b[0mfilename\u001b[0m\u001b[0;34m.\u001b[0m\u001b[0;34m\u001b[0m\u001b[0;34m\u001b[0m\u001b[0m\n\u001b[1;32m     43\u001b[0m         \"\"\"\n\u001b[0;32m---> 44\u001b[0;31m         \u001b[0mvalue\u001b[0m \u001b[0;34m=\u001b[0m \u001b[0mcls\u001b[0m\u001b[0;34m.\u001b[0m\u001b[0m_load_file_value\u001b[0m\u001b[0;34m(\u001b[0m\u001b[0mfilename\u001b[0m\u001b[0;34m)\u001b[0m\u001b[0;34m\u001b[0m\u001b[0;34m\u001b[0m\u001b[0m\n\u001b[0m\u001b[1;32m     45\u001b[0m \u001b[0;34m\u001b[0m\u001b[0m\n\u001b[1;32m     46\u001b[0m         \u001b[0;32mif\u001b[0m \u001b[0;34m'format'\u001b[0m \u001b[0;32mnot\u001b[0m \u001b[0;32min\u001b[0m \u001b[0mkwargs\u001b[0m\u001b[0;34m:\u001b[0m\u001b[0;34m\u001b[0m\u001b[0;34m\u001b[0m\u001b[0m\n",
      "\u001b[0;32m~/w210/lib/python3.6/site-packages/ipywidgets/widgets/widget_media.py\u001b[0m in \u001b[0;36m_load_file_value\u001b[0;34m(cls, filename)\u001b[0m\n\u001b[1;32m     93\u001b[0m             \u001b[0;32mreturn\u001b[0m \u001b[0mfilename\u001b[0m\u001b[0;34m.\u001b[0m\u001b[0mread\u001b[0m\u001b[0;34m(\u001b[0m\u001b[0;34m)\u001b[0m\u001b[0;34m\u001b[0m\u001b[0;34m\u001b[0m\u001b[0m\n\u001b[1;32m     94\u001b[0m         \u001b[0;32melse\u001b[0m\u001b[0;34m:\u001b[0m\u001b[0;34m\u001b[0m\u001b[0;34m\u001b[0m\u001b[0m\n\u001b[0;32m---> 95\u001b[0;31m             \u001b[0;32mwith\u001b[0m \u001b[0mopen\u001b[0m\u001b[0;34m(\u001b[0m\u001b[0mfilename\u001b[0m\u001b[0;34m,\u001b[0m \u001b[0;34m'rb'\u001b[0m\u001b[0;34m)\u001b[0m \u001b[0;32mas\u001b[0m \u001b[0mf\u001b[0m\u001b[0;34m:\u001b[0m\u001b[0;34m\u001b[0m\u001b[0;34m\u001b[0m\u001b[0m\n\u001b[0m\u001b[1;32m     96\u001b[0m                 \u001b[0;32mreturn\u001b[0m \u001b[0mf\u001b[0m\u001b[0;34m.\u001b[0m\u001b[0mread\u001b[0m\u001b[0;34m(\u001b[0m\u001b[0;34m)\u001b[0m\u001b[0;34m\u001b[0m\u001b[0;34m\u001b[0m\u001b[0m\n\u001b[1;32m     97\u001b[0m \u001b[0;34m\u001b[0m\u001b[0m\n",
      "\u001b[0;31mFileNotFoundError\u001b[0m: [Errno 2] No such file or directory: '/root/vids/streetfight1_slice895_scaled.mp4'"
     ]
    }
   ],
   "source": [
    "show = None\n",
    "c00 = fetch_sample(0,0)\n",
    "truth,inference = 'NO-PUNCH','same'\n",
    "if 'DataFrame' in str(type(c00)):\n",
    "    clip, judge = c00.head(1)['clip_title'].iloc[0],c00.head(1)['labeler'].iloc[0]\n",
    "    print(f\"{truth} clip predicted as {inference} [{clip} brought to you by {judge}]\".format())\n",
    "    show = Video.from_file('/root/vids/' + clip)\n",
    "show"
   ]
  },
  {
   "cell_type": "code",
   "execution_count": 11,
   "metadata": {},
   "outputs": [
    {
     "name": "stdout",
     "output_type": "stream",
     "text": [
      "NO-PUNCH clip predicted as PUNCH [traditional_dance_slice50.mp4 brought to you by Lance]\n"
     ]
    },
    {
     "data": {
      "application/vnd.jupyter.widget-view+json": {
       "model_id": "de32c0a36b504b6eb6b7eec67e39ed34",
       "version_major": 2,
       "version_minor": 0
      },
      "text/plain": [
       "Video(value=b'\\x00\\x00\\x00 ftypisom\\x00\\x00\\x02\\x00isomiso2avc1mp41\\x00\\x00\\x00\\x08free\\x00\\r\\x900mdat\\x00\\x00…"
      ]
     },
     "metadata": {},
     "output_type": "display_data"
    }
   ],
   "source": [
    "show = None\n",
    "c01 = fetch_sample(0,1)\n",
    "truth,inference = 'NO-PUNCH','PUNCH'\n",
    "if 'DataFrame' in str(type(c01)):\n",
    "    clip, judge = c01.head(1)['clip_title'].iloc[0],c01.head(1)['labeler'].iloc[0]\n",
    "    print(f\"{truth} clip predicted as {inference} [{clip} brought to you by {judge}]\".format())\n",
    "    show = Video.from_file('/root/vids/' + clip)\n",
    "show"
   ]
  },
  {
   "cell_type": "code",
   "execution_count": 12,
   "metadata": {},
   "outputs": [
    {
     "name": "stdout",
     "output_type": "stream",
     "text": [
      "VIOLENT-PUNCH-CONTACT clip predicted as no-PUNCH [streetfight4_slice30.mp4 brought to you by Ahsen]\n"
     ]
    },
    {
     "data": {
      "application/vnd.jupyter.widget-view+json": {
       "model_id": "78759c140e414efcb1a69ca19e187e38",
       "version_major": 2,
       "version_minor": 0
      },
      "text/plain": [
       "Video(value=b'\\x00\\x00\\x00 ftypisom\\x00\\x00\\x02\\x00isomiso2avc1mp41\\x00\\x00\\x00\\x08free\\x00\\x0b\\x95\\x8amdat\\x0…"
      ]
     },
     "metadata": {},
     "output_type": "display_data"
    }
   ],
   "source": [
    "show = None\n",
    "c10 = fetch_sample(1,0)\n",
    "truth,inference = 'VIOLENT-PUNCH-CONTACT','no-PUNCH'\n",
    "if 'DataFrame' in str(type(c10)):\n",
    "    clip, judge = c10.head(1)['clip_title'].iloc[0],c10.head(1)['labeler'].iloc[0]\n",
    "    print(f\"{truth} clip predicted as {inference} [{clip} brought to you by {judge}]\".format())\n",
    "    show = Video.from_file('/root/vids/' + clip)\n",
    "show"
   ]
  },
  {
   "cell_type": "code",
   "execution_count": 13,
   "metadata": {},
   "outputs": [
    {
     "name": "stdout",
     "output_type": "stream",
     "text": [
      "VIOLENT-PUNCH-CONTACT clip predicted as PUNCH [V_353.mp4 brought to you by Lance]\n"
     ]
    },
    {
     "data": {
      "application/vnd.jupyter.widget-view+json": {
       "model_id": "36c6d9348e954acdaeced64eead07fd6",
       "version_major": 2,
       "version_minor": 0
      },
      "text/plain": [
       "Video(value=b'\\x00\\x00\\x00 ftypisom\\x00\\x00\\x02\\x00isomiso2avc1mp41\\x00\\x00\\x00\\x08free\\x00\\x07>\\xe4mdat\\x00\\x…"
      ]
     },
     "metadata": {},
     "output_type": "display_data"
    }
   ],
   "source": [
    "show = None\n",
    "c11 = fetch_sample(1,1)\n",
    "truth,inference = 'VIOLENT-PUNCH-CONTACT','PUNCH'\n",
    "if 'DataFrame' in str(type(c11)):\n",
    "    clip, judge = c11.head(1)['clip_title'].iloc[0],c11.head(1)['labeler'].iloc[0]\n",
    "    print(f\"{truth} clip predicted as {inference} [{clip} brought to you by {judge}]\".format())\n",
    "    show = Video.from_file('/root/vids/' + clip)\n",
    "show"
   ]
  },
  {
   "cell_type": "code",
   "execution_count": 14,
   "metadata": {},
   "outputs": [],
   "source": [
    "show = None\n",
    "c20 = fetch_sample(2,0)\n",
    "truth,inference = 'VIOLENT-PUNCH-without-contact','no-PUNCH'\n",
    "if 'DataFrame' in str(type(c20)):\n",
    "    clip, judge = c20.head(1)['clip_title'].iloc[0],c20.head(1)['labeler'].iloc[0]\n",
    "    print(f\"{truth} clip predicted as {inference} [{clip} brought to you by {judge}]\".format())\n",
    "    show = Video.from_file('/root/vids/' + clip)\n",
    "show"
   ]
  },
  {
   "cell_type": "code",
   "execution_count": 15,
   "metadata": {},
   "outputs": [
    {
     "name": "stdout",
     "output_type": "stream",
     "text": [
      "VIOLENT-PUNCH-without-contact clip predicted as PUNCH [how_to_punch_hard_fast_slice70.mp4 brought to you by Jen]\n"
     ]
    },
    {
     "data": {
      "application/vnd.jupyter.widget-view+json": {
       "model_id": "c3b08e75f4424395aa2249782030ac2e",
       "version_major": 2,
       "version_minor": 0
      },
      "text/plain": [
       "Video(value=b'\\x00\\x00\\x00 ftypisom\\x00\\x00\\x02\\x00isomiso2avc1mp41\\x00\\x00\\x00\\x08free\\x00\\x1dY\\xf7mdat\\x00\\x…"
      ]
     },
     "metadata": {},
     "output_type": "display_data"
    }
   ],
   "source": [
    "show = None\n",
    "c21 = fetch_sample(2,1)\n",
    "truth,inference = 'VIOLENT-PUNCH-without-contact','PUNCH'\n",
    "if 'DataFrame' in str(type(c21)):\n",
    "    clip, judge = c21.head(1)['clip_title'].iloc[0],c21.head(1)['labeler'].iloc[0]\n",
    "    print(f\"{truth} clip predicted as {inference} [{clip} brought to you by {judge}]\".format())\n",
    "    show = Video.from_file('/root/vids/' + clip)\n",
    "show"
   ]
  },
  {
   "cell_type": "code",
   "execution_count": 16,
   "metadata": {},
   "outputs": [],
   "source": [
    "show = None\n",
    "c30 = fetch_sample(3,0)\n",
    "truth,inference = 'nonviolent-PUNCH-CONTACT','no-PUNCH'\n",
    "if 'DataFrame' in str(type(c30)):\n",
    "    clip, judge = c30.head(1)['clip_title'].iloc[0],c30.head(1)['labeler'].iloc[0]\n",
    "    print(f\"{truth} clip predicted as {inference} [{clip} brought to you by {judge}]\".format())\n",
    "    show = Video.from_file('/root/vids/' + clip)\n",
    "show"
   ]
  },
  {
   "cell_type": "code",
   "execution_count": 17,
   "metadata": {},
   "outputs": [
    {
     "name": "stdout",
     "output_type": "stream",
     "text": [
      "nonviolent-PUNCH-CONTACT clip predicted as PUNCH [heavy_bag_drills_slice365.mp4 brought to you by Lance]\n"
     ]
    },
    {
     "data": {
      "application/vnd.jupyter.widget-view+json": {
       "model_id": "3d05541730e54a6597e87ac4547692ba",
       "version_major": 2,
       "version_minor": 0
      },
      "text/plain": [
       "Video(value=b'\\x00\\x00\\x00 ftypisom\\x00\\x00\\x02\\x00isomiso2avc1mp41\\x00\\x00\\x00\\x08free\\x00\\x11\\x19\\x8cmdat\\x0…"
      ]
     },
     "metadata": {},
     "output_type": "display_data"
    }
   ],
   "source": [
    "show = None\n",
    "c31 = fetch_sample(3,1)\n",
    "truth,inference = 'nonviolent-PUNCH-CONTACT','PUNCH'\n",
    "if 'DataFrame' in str(type(c31)):\n",
    "    clip, judge = c31.head(1)['clip_title'].iloc[0],c31.head(1)['labeler'].iloc[0]\n",
    "    print(f\"{truth} clip predicted as {inference} [{clip} brought to you by {judge}]\".format())\n",
    "    show = Video.from_file('/root/vids/' + clip)\n",
    "show"
   ]
  },
  {
   "cell_type": "code",
   "execution_count": 18,
   "metadata": {},
   "outputs": [
    {
     "name": "stdout",
     "output_type": "stream",
     "text": [
      "nonviolent-PUNCH-without-contact clip predicted as no-PUNCH [perfect_hook_punch_slice130.mp4 brought to you by Ahsen]\n"
     ]
    },
    {
     "data": {
      "application/vnd.jupyter.widget-view+json": {
       "model_id": "e3ad0c317e0e48149805058a3f68480d",
       "version_major": 2,
       "version_minor": 0
      },
      "text/plain": [
       "Video(value=b'\\x00\\x00\\x00 ftypisom\\x00\\x00\\x02\\x00isomiso2avc1mp41\\x00\\x00\\x00\\x08free\\x00\\x14m?mdat\\x00\\x00\\…"
      ]
     },
     "metadata": {},
     "output_type": "display_data"
    }
   ],
   "source": [
    "show = None\n",
    "c40 = fetch_sample(4,0)\n",
    "truth,inference = 'nonviolent-PUNCH-without-contact','no-PUNCH'\n",
    "if 'DataFrame' in str(type(c40)):\n",
    "    clip, judge = c40.head(1)['clip_title'].iloc[0],c40.head(1)['labeler'].iloc[0]\n",
    "    print(f\"{truth} clip predicted as {inference} [{clip} brought to you by {judge}]\".format())\n",
    "    show = Video.from_file('/root/vids/' + clip)\n",
    "show"
   ]
  },
  {
   "cell_type": "code",
   "execution_count": 19,
   "metadata": {},
   "outputs": [
    {
     "name": "stdout",
     "output_type": "stream",
     "text": [
      "nonviolent-PUNCH-without-contact clip predicted as PUNCH [how_to_strike_max_power_slice50.mp4 brought to you by Jen]\n"
     ]
    },
    {
     "data": {
      "application/vnd.jupyter.widget-view+json": {
       "model_id": "e258a91eb5d94537b2a3d0947125579e",
       "version_major": 2,
       "version_minor": 0
      },
      "text/plain": [
       "Video(value=b'\\x00\\x00\\x00 ftypisom\\x00\\x00\\x02\\x00isomiso2avc1mp41\\x00\\x00\\x00\\x08free\\x00\\x11\\xf7\\xa3mdat\\x0…"
      ]
     },
     "metadata": {},
     "output_type": "display_data"
    }
   ],
   "source": [
    "show = None\n",
    "c41 = fetch_sample(4,1)\n",
    "truth,inference = 'nonviolent-PUNCH-without-contact','PUNCH'\n",
    "if 'DataFrame' in str(type(c41)):\n",
    "    clip, judge = c41.head(1)['clip_title'].iloc[0],c41.head(1)['labeler'].iloc[0]\n",
    "    print(f\"{truth} clip predicted as {inference} [{clip} brought to you by {judge}]\".format())\n",
    "    show = Video.from_file('/root/vids/' + clip)\n",
    "show"
   ]
  }
 ],
 "metadata": {
  "kernelspec": {
   "display_name": "Python 3",
   "language": "python",
   "name": "python3"
  },
  "language_info": {
   "codemirror_mode": {
    "name": "ipython",
    "version": 3
   },
   "file_extension": ".py",
   "mimetype": "text/x-python",
   "name": "python",
   "nbconvert_exporter": "python",
   "pygments_lexer": "ipython3",
   "version": "3.6.8"
  }
 },
 "nbformat": 4,
 "nbformat_minor": 2
}
