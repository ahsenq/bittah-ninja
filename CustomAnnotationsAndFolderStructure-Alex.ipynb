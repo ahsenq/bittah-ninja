{
 "cells": [
  {
   "cell_type": "code",
   "execution_count": 1,
   "metadata": {},
   "outputs": [],
   "source": [
    "import pandas as pd\n",
    "import numpy as np\n",
    "import os\n",
    "from sklearn.model_selection import train_test_split\n",
    "import shutil\n",
    "from tqdm import tqdm"
   ]
  },
  {
   "cell_type": "code",
   "execution_count": 2,
   "metadata": {},
   "outputs": [],
   "source": [
    "# %cd /root/mmaction/data/ucf101/annotations\n",
    "data_path = '/root/mmaction/data/punch101'\n",
    "annotation_path = data_path + '/annotations'\n",
    "video_path = data_path + '/videos'\n",
    "raw_path = data_path + '/rawframes'\n",
    "os.makedirs(annotation_path, exist_ok=True)\n",
    "os.makedirs(video_path, exist_ok=True)\n",
    "os.makedirs(raw_path, exist_ok=True)"
   ]
  },
  {
   "cell_type": "code",
   "execution_count": 3,
   "metadata": {},
   "outputs": [],
   "source": [
    "classes = {\n",
    "    0:'NoPunch',\n",
    "    1:'ViolentPunchContact',\n",
    "    2:'ViolentPunchNoContact',\n",
    "    3:'NonViolentPunchContact',\n",
    "    4:'NonViolentPunchNoContact'\n",
    "}"
   ]
  },
  {
   "cell_type": "code",
   "execution_count": 4,
   "metadata": {},
   "outputs": [],
   "source": [
    "for cls in classes.values():\n",
    "    os.makedirs(os.path.join(video_path, cls), exist_ok=True)\n",
    "    os.makedirs(os.path.join(raw_path, cls), exist_ok=True)"
   ]
  },
  {
   "cell_type": "code",
   "execution_count": 5,
   "metadata": {},
   "outputs": [
    {
     "data": {
      "text/html": [
       "<div>\n",
       "<style scoped>\n",
       "    .dataframe tbody tr th:only-of-type {\n",
       "        vertical-align: middle;\n",
       "    }\n",
       "\n",
       "    .dataframe tbody tr th {\n",
       "        vertical-align: top;\n",
       "    }\n",
       "\n",
       "    .dataframe thead th {\n",
       "        text-align: right;\n",
       "    }\n",
       "</style>\n",
       "<table border=\"1\" class=\"dataframe\">\n",
       "  <thead>\n",
       "    <tr style=\"text-align: right;\">\n",
       "      <th></th>\n",
       "      <th>video-UID</th>\n",
       "      <th>clip_title</th>\n",
       "      <th>labeler</th>\n",
       "      <th>label</th>\n",
       "    </tr>\n",
       "  </thead>\n",
       "  <tbody>\n",
       "    <tr>\n",
       "      <th>0</th>\n",
       "      <td>12</td>\n",
       "      <td>Australian_flash_mob_dance_slice125.mp4</td>\n",
       "      <td>Lance</td>\n",
       "      <td>0</td>\n",
       "    </tr>\n",
       "    <tr>\n",
       "      <th>1</th>\n",
       "      <td>23</td>\n",
       "      <td>Australian_flash_mob_dance_slice175.mp4</td>\n",
       "      <td>Jen</td>\n",
       "      <td>0</td>\n",
       "    </tr>\n",
       "    <tr>\n",
       "      <th>2</th>\n",
       "      <td>43</td>\n",
       "      <td>Australian_flash_mob_dance_slice265.mp4</td>\n",
       "      <td>Lance</td>\n",
       "      <td>0</td>\n",
       "    </tr>\n",
       "    <tr>\n",
       "      <th>3</th>\n",
       "      <td>50</td>\n",
       "      <td>Australian_flash_mob_dance_slice30.mp4</td>\n",
       "      <td>Jen</td>\n",
       "      <td>0</td>\n",
       "    </tr>\n",
       "    <tr>\n",
       "      <th>4</th>\n",
       "      <td>62</td>\n",
       "      <td>Australian_flash_mob_dance_slice85.mp4</td>\n",
       "      <td>Ahsen</td>\n",
       "      <td>0</td>\n",
       "    </tr>\n",
       "  </tbody>\n",
       "</table>\n",
       "</div>"
      ],
      "text/plain": [
       "   video-UID                               clip_title labeler  label\n",
       "0         12  Australian_flash_mob_dance_slice125.mp4   Lance      0\n",
       "1         23  Australian_flash_mob_dance_slice175.mp4     Jen      0\n",
       "2         43  Australian_flash_mob_dance_slice265.mp4   Lance      0\n",
       "3         50   Australian_flash_mob_dance_slice30.mp4     Jen      0\n",
       "4         62   Australian_flash_mob_dance_slice85.mp4   Ahsen      0"
      ]
     },
     "execution_count": 5,
     "metadata": {},
     "output_type": "execute_result"
    }
   ],
   "source": [
    "labeled_vids = pd.read_csv('/root/bittah-ninja/first_1k_labeled_long_vids_removed.csv')\n",
    "labeled_vids.head()"
   ]
  },
  {
   "cell_type": "code",
   "execution_count": 6,
   "metadata": {},
   "outputs": [],
   "source": [
    "train, test, train_labels, test_labels = train_test_split(labeled_vids.clip_title, labeled_vids.label, test_size=0.2)"
   ]
  },
  {
   "cell_type": "code",
   "execution_count": 7,
   "metadata": {},
   "outputs": [],
   "source": [
    "def createAnnotationsList(filenames, labels, output_name):\n",
    "    with open(os.path.join(annotation_path, output_name), 'w') as f:\n",
    "        annotations = []\n",
    "        for name, cls in zip(filenames, labels):\n",
    "            if cls == -1:\n",
    "                continue\n",
    "            filename = os.path.join(classes[cls], name)\n",
    "            annotations.append(f'{filename} {cls}')\n",
    "        f.write('\\n'.join(annotations))\n",
    "    return annotations"
   ]
  },
  {
   "cell_type": "code",
   "execution_count": 8,
   "metadata": {},
   "outputs": [],
   "source": [
    "train_annotations = createAnnotationsList(train, train_labels, 'train_list.txt')\n",
    "test_annotations = createAnnotationsList(test, test_labels, 'test_list.txt')"
   ]
  },
  {
   "cell_type": "code",
   "execution_count": 9,
   "metadata": {},
   "outputs": [
    {
     "data": {
      "text/plain": [
       "(915, 731, 184)"
      ]
     },
     "execution_count": 9,
     "metadata": {},
     "output_type": "execute_result"
    }
   ],
   "source": [
    "annotations = train_annotations.copy()\n",
    "annotations.extend(test_annotations)\n",
    "len(annotations), len(train_annotations), len(test_annotations)"
   ]
  },
  {
   "cell_type": "code",
   "execution_count": 11,
   "metadata": {},
   "outputs": [],
   "source": [
    "vidPath = '/root/vids'"
   ]
  },
  {
   "cell_type": "code",
   "execution_count": 12,
   "metadata": {},
   "outputs": [
    {
     "name": "stderr",
     "output_type": "stream",
     "text": [
      "100%|██████████| 915/915 [00:01<00:00, 849.97it/s]\n"
     ]
    }
   ],
   "source": [
    "for item in tqdm(annotations):\n",
    "    dst = item.split()[0]\n",
    "    dst = os.path.join(video_path, dst)\n",
    "    filename = dst.split('/')[-1]\n",
    "    src = os.path.join(vidPath, filename)\n",
    "    shutil.copy2(src, dst)"
   ]
  },
  {
   "cell_type": "code",
   "execution_count": 19,
   "metadata": {},
   "outputs": [
    {
     "name": "stderr",
     "output_type": "stream",
     "text": [
      "100%|██████████| 5/5 [00:00<00:00, 24.24it/s]\n"
     ]
    }
   ],
   "source": [
    "# FIXME: does not seem to be working...\n",
    "df_path = '/root/mmaction/third_party/dense_flow'\n",
    "for cls in tqdm(classes.values()):\n",
    "    src = os.path.join(video_path, cls)\n",
    "    dst = os.path.join(raw_path, cls)\n",
    "    command = f'python build_rawframes.py {src} {dst} --df_path {df_path}' + ' --level {1, 2}'\n",
    "    os.system(command)"
   ]
  },
  {
   "cell_type": "code",
   "execution_count": null,
   "metadata": {},
   "outputs": [],
   "source": []
  }
 ],
 "metadata": {
  "kernelspec": {
   "display_name": "Python 3",
   "language": "python",
   "name": "python3"
  },
  "language_info": {
   "codemirror_mode": {
    "name": "ipython",
    "version": 3
   },
   "file_extension": ".py",
   "mimetype": "text/x-python",
   "name": "python",
   "nbconvert_exporter": "python",
   "pygments_lexer": "ipython3",
   "version": "3.6.8"
  }
 },
 "nbformat": 4,
 "nbformat_minor": 2
}
