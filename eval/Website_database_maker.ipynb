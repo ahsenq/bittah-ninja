{
 "cells": [
  {
   "cell_type": "markdown",
   "metadata": {},
   "source": [
    "# This is how we extracted the first few hundred vids for dynamo ingestion\n"
   ]
  },
  {
   "cell_type": "code",
   "execution_count": 2,
   "metadata": {},
   "outputs": [],
   "source": [
    "import numpy as np\n",
    "import pandas as pd\n",
    "import pickle"
   ]
  },
  {
   "cell_type": "code",
   "execution_count": 3,
   "metadata": {},
   "outputs": [
    {
     "name": "stdout",
     "output_type": "stream",
     "text": [
      "predictions.pickle\r\n",
      "simpleCNN_1000epochs_20191110_150328.h5\r\n",
      "simpleCNN_1000epochs_20191110_153647.h5\r\n",
      "simpleCNN_1000epochs_20191110_171702.h5\r\n",
      "simpleCNN_1000epochs_20191112_024957.h5\r\n",
      "simpleCNN_100epochs_20191110_033120.h5\r\n",
      "simpleCNN_10epochs_20191109_192747.h5\r\n",
      "simpleCNN_history_1000epochs_20191110_150328.pickle\r\n",
      "simpleCNN_history_1000epochs_20191110_153647.pickle\r\n",
      "simpleCNN_history_1000epochs_20191110_171702.pickle\r\n",
      "simpleCNN_history_1000epochs_20191112_024957.pickle\r\n",
      "simpleCNN_history_100epochs_20191110_033120.pickle\r\n",
      "simpleCNN_history_10epochs_20191109_192747.pickle\r\n",
      "test.pickle\r\n",
      "train.pickle\r\n"
     ]
    }
   ],
   "source": [
    "!ls ../../models\n",
    "df = pd.read_pickle('/root/models/predictions.pickle')"
   ]
  },
  {
   "cell_type": "code",
   "execution_count": 75,
   "metadata": {},
   "outputs": [],
   "source": [
    "df.set_index('video-UID',inplace=True)"
   ]
  },
  {
   "cell_type": "code",
   "execution_count": 76,
   "metadata": {},
   "outputs": [],
   "source": [
    "df.drop('ohe_labels',inplace=True,axis=1)"
   ]
  },
  {
   "cell_type": "code",
   "execution_count": 77,
   "metadata": {},
   "outputs": [
    {
     "data": {
      "text/plain": [
       "Index(['clip_title', 'labeler', 'label', 'y_prob', 'y_pred', 'predix'], dtype='object')"
      ]
     },
     "execution_count": 77,
     "metadata": {},
     "output_type": "execute_result"
    }
   ],
   "source": [
    "df.columns"
   ]
  },
  {
   "cell_type": "code",
   "execution_count": 78,
   "metadata": {},
   "outputs": [],
   "source": [
    "df['pred_class_proba']=df.apply(lambda x: x['y_prob'][x['predix']],axis=1)"
   ]
  },
  {
   "cell_type": "code",
   "execution_count": 79,
   "metadata": {},
   "outputs": [
    {
     "data": {
      "text/html": [
       "<div>\n",
       "<style scoped>\n",
       "    .dataframe tbody tr th:only-of-type {\n",
       "        vertical-align: middle;\n",
       "    }\n",
       "\n",
       "    .dataframe tbody tr th {\n",
       "        vertical-align: top;\n",
       "    }\n",
       "\n",
       "    .dataframe thead th {\n",
       "        text-align: right;\n",
       "    }\n",
       "</style>\n",
       "<table border=\"1\" class=\"dataframe\">\n",
       "  <thead>\n",
       "    <tr style=\"text-align: right;\">\n",
       "      <th></th>\n",
       "      <th>clip_title</th>\n",
       "      <th>labeler</th>\n",
       "      <th>label</th>\n",
       "      <th>y_prob</th>\n",
       "      <th>y_pred</th>\n",
       "      <th>predix</th>\n",
       "      <th>pred_class_proba</th>\n",
       "    </tr>\n",
       "    <tr>\n",
       "      <th>video-UID</th>\n",
       "      <th></th>\n",
       "      <th></th>\n",
       "      <th></th>\n",
       "      <th></th>\n",
       "      <th></th>\n",
       "      <th></th>\n",
       "      <th></th>\n",
       "    </tr>\n",
       "  </thead>\n",
       "  <tbody>\n",
       "    <tr>\n",
       "      <td>2857</td>\n",
       "      <td>downward_strike_punches_slice655.mp4</td>\n",
       "      <td>Alex</td>\n",
       "      <td>0</td>\n",
       "      <td>[0.91471887, 0.04957079, 3.3734228e-05, 0.0336...</td>\n",
       "      <td>[1, 0, 0, 0, 0]</td>\n",
       "      <td>0</td>\n",
       "      <td>0.914719</td>\n",
       "    </tr>\n",
       "    <tr>\n",
       "      <td>12907</td>\n",
       "      <td>downward_strike_punches_slice275.mp4</td>\n",
       "      <td>Jen</td>\n",
       "      <td>0</td>\n",
       "      <td>[0.7162727, 0.13020208, 0.0011639277, 0.133737...</td>\n",
       "      <td>[1, 0, 0, 0, 0]</td>\n",
       "      <td>0</td>\n",
       "      <td>0.716273</td>\n",
       "    </tr>\n",
       "    <tr>\n",
       "      <td>5205</td>\n",
       "      <td>traditional_dance_slice415.mp4</td>\n",
       "      <td>Jen</td>\n",
       "      <td>0</td>\n",
       "      <td>[0.76954263, 0.19615111, 0.008012304, 0.012842...</td>\n",
       "      <td>[1, 0, 0, 0, 0]</td>\n",
       "      <td>0</td>\n",
       "      <td>0.769543</td>\n",
       "    </tr>\n",
       "    <tr>\n",
       "      <td>12430</td>\n",
       "      <td>V_789_slice325.mp4</td>\n",
       "      <td>Ahsen</td>\n",
       "      <td>1</td>\n",
       "      <td>[0.35030097, 0.64757156, 0.0005246858, 0.00062...</td>\n",
       "      <td>[0, 1, 0, 0, 0]</td>\n",
       "      <td>1</td>\n",
       "      <td>0.647572</td>\n",
       "    </tr>\n",
       "    <tr>\n",
       "      <td>13035</td>\n",
       "      <td>downward_strike_punches_slice850.mp4</td>\n",
       "      <td>Lance</td>\n",
       "      <td>0</td>\n",
       "      <td>[0.73543257, 0.07232628, 1.3397551e-05, 0.1898...</td>\n",
       "      <td>[1, 0, 0, 0, 0]</td>\n",
       "      <td>0</td>\n",
       "      <td>0.735433</td>\n",
       "    </tr>\n",
       "  </tbody>\n",
       "</table>\n",
       "</div>"
      ],
      "text/plain": [
       "                                     clip_title labeler  label  \\\n",
       "video-UID                                                        \n",
       "2857       downward_strike_punches_slice655.mp4    Alex      0   \n",
       "12907      downward_strike_punches_slice275.mp4     Jen      0   \n",
       "5205             traditional_dance_slice415.mp4     Jen      0   \n",
       "12430                        V_789_slice325.mp4   Ahsen      1   \n",
       "13035      downward_strike_punches_slice850.mp4   Lance      0   \n",
       "\n",
       "                                                      y_prob           y_pred  \\\n",
       "video-UID                                                                       \n",
       "2857       [0.91471887, 0.04957079, 3.3734228e-05, 0.0336...  [1, 0, 0, 0, 0]   \n",
       "12907      [0.7162727, 0.13020208, 0.0011639277, 0.133737...  [1, 0, 0, 0, 0]   \n",
       "5205       [0.76954263, 0.19615111, 0.008012304, 0.012842...  [1, 0, 0, 0, 0]   \n",
       "12430      [0.35030097, 0.64757156, 0.0005246858, 0.00062...  [0, 1, 0, 0, 0]   \n",
       "13035      [0.73543257, 0.07232628, 1.3397551e-05, 0.1898...  [1, 0, 0, 0, 0]   \n",
       "\n",
       "           predix  pred_class_proba  \n",
       "video-UID                            \n",
       "2857            0          0.914719  \n",
       "12907           0          0.716273  \n",
       "5205            0          0.769543  \n",
       "12430           1          0.647572  \n",
       "13035           0          0.735433  "
      ]
     },
     "execution_count": 79,
     "metadata": {},
     "output_type": "execute_result"
    }
   ],
   "source": [
    "df.head()"
   ]
  },
  {
   "cell_type": "code",
   "execution_count": 80,
   "metadata": {},
   "outputs": [],
   "source": [
    "df.drop('y_prob',inplace=True,axis=1)"
   ]
  },
  {
   "cell_type": "code",
   "execution_count": 81,
   "metadata": {},
   "outputs": [],
   "source": [
    "df.drop('y_pred',inplace=True,axis=1)"
   ]
  },
  {
   "cell_type": "code",
   "execution_count": 83,
   "metadata": {},
   "outputs": [],
   "source": [
    "df['recent_play']=None"
   ]
  },
  {
   "cell_type": "code",
   "execution_count": 86,
   "metadata": {},
   "outputs": [],
   "source": [
    "df['num_humans_saw_punch']=df['label'].apply(lambda x: 1 if x > 0 else 0)"
   ]
  },
  {
   "cell_type": "code",
   "execution_count": 87,
   "metadata": {},
   "outputs": [],
   "source": [
    "df['num_humans_saw_none']= 1 - df['num_humans_saw_punch']"
   ]
  },
  {
   "cell_type": "code",
   "execution_count": 92,
   "metadata": {},
   "outputs": [],
   "source": [
    "df['portion_humans_saw_punch']=df.apply(lambda x: np.divide(x['num_humans_saw_punch'],\\\n",
    "                            x['num_humans_saw_punch']+x['num_humans_saw_none']),axis=1)"
   ]
  },
  {
   "cell_type": "code",
   "execution_count": 95,
   "metadata": {},
   "outputs": [],
   "source": [
    "df['portion_humans_saw_none']= 1 - df['portion_humans_saw_punch']"
   ]
  },
  {
   "cell_type": "code",
   "execution_count": 101,
   "metadata": {},
   "outputs": [],
   "source": [
    "df['human_consensus']=df.apply(lambda x: 1 if x['num_humans_saw_punch']>x['num_humans_saw_none'] else 0,axis=1)"
   ]
  },
  {
   "cell_type": "code",
   "execution_count": 105,
   "metadata": {},
   "outputs": [],
   "source": [
    "df.rename(columns={'label':'gt_class','predix':'pred_class'},inplace=True)"
   ]
  },
  {
   "cell_type": "code",
   "execution_count": 109,
   "metadata": {},
   "outputs": [
    {
     "data": {
      "text/html": [
       "<div>\n",
       "<style scoped>\n",
       "    .dataframe tbody tr th:only-of-type {\n",
       "        vertical-align: middle;\n",
       "    }\n",
       "\n",
       "    .dataframe tbody tr th {\n",
       "        vertical-align: top;\n",
       "    }\n",
       "\n",
       "    .dataframe thead th {\n",
       "        text-align: right;\n",
       "    }\n",
       "</style>\n",
       "<table border=\"1\" class=\"dataframe\">\n",
       "  <thead>\n",
       "    <tr style=\"text-align: right;\">\n",
       "      <th></th>\n",
       "      <th>clip_title</th>\n",
       "      <th>labeler</th>\n",
       "      <th>gt_class</th>\n",
       "      <th>pred_class</th>\n",
       "      <th>pred_class_proba</th>\n",
       "      <th>recent_play</th>\n",
       "      <th>num_humans_saw_punch</th>\n",
       "      <th>num_humans_saw_none</th>\n",
       "      <th>portion_humans_saw_punch</th>\n",
       "      <th>portion_humans_saw_none</th>\n",
       "      <th>human_consensus</th>\n",
       "    </tr>\n",
       "    <tr>\n",
       "      <th>video-UID</th>\n",
       "      <th></th>\n",
       "      <th></th>\n",
       "      <th></th>\n",
       "      <th></th>\n",
       "      <th></th>\n",
       "      <th></th>\n",
       "      <th></th>\n",
       "      <th></th>\n",
       "      <th></th>\n",
       "      <th></th>\n",
       "      <th></th>\n",
       "    </tr>\n",
       "  </thead>\n",
       "  <tbody>\n",
       "    <tr>\n",
       "      <td>13978</td>\n",
       "      <td>marine_punches_navy_corpsman_slice50.mp4</td>\n",
       "      <td>Ahsen</td>\n",
       "      <td>0</td>\n",
       "      <td>0</td>\n",
       "      <td>0.722466</td>\n",
       "      <td>None</td>\n",
       "      <td>0</td>\n",
       "      <td>1</td>\n",
       "      <td>0.0</td>\n",
       "      <td>1.0</td>\n",
       "      <td>0</td>\n",
       "    </tr>\n",
       "    <tr>\n",
       "      <td>4591</td>\n",
       "      <td>streetfight2_slice395.mp4</td>\n",
       "      <td>Alex</td>\n",
       "      <td>1</td>\n",
       "      <td>0</td>\n",
       "      <td>0.783940</td>\n",
       "      <td>None</td>\n",
       "      <td>1</td>\n",
       "      <td>0</td>\n",
       "      <td>1.0</td>\n",
       "      <td>0.0</td>\n",
       "      <td>1</td>\n",
       "    </tr>\n",
       "    <tr>\n",
       "      <td>14251</td>\n",
       "      <td>short_strikes_slice145.mp4</td>\n",
       "      <td>Alex</td>\n",
       "      <td>0</td>\n",
       "      <td>0</td>\n",
       "      <td>0.876232</td>\n",
       "      <td>None</td>\n",
       "      <td>0</td>\n",
       "      <td>1</td>\n",
       "      <td>0.0</td>\n",
       "      <td>1.0</td>\n",
       "      <td>0</td>\n",
       "    </tr>\n",
       "    <tr>\n",
       "      <td>14756</td>\n",
       "      <td>streetfight2_slice420.mp4</td>\n",
       "      <td>Ahsen</td>\n",
       "      <td>0</td>\n",
       "      <td>0</td>\n",
       "      <td>0.725681</td>\n",
       "      <td>None</td>\n",
       "      <td>0</td>\n",
       "      <td>1</td>\n",
       "      <td>0.0</td>\n",
       "      <td>1.0</td>\n",
       "      <td>0</td>\n",
       "    </tr>\n",
       "    <tr>\n",
       "      <td>11896</td>\n",
       "      <td>V_352.mp4</td>\n",
       "      <td>Alex</td>\n",
       "      <td>1</td>\n",
       "      <td>0</td>\n",
       "      <td>0.776145</td>\n",
       "      <td>None</td>\n",
       "      <td>1</td>\n",
       "      <td>0</td>\n",
       "      <td>1.0</td>\n",
       "      <td>0.0</td>\n",
       "      <td>1</td>\n",
       "    </tr>\n",
       "  </tbody>\n",
       "</table>\n",
       "</div>"
      ],
      "text/plain": [
       "                                         clip_title labeler  gt_class  \\\n",
       "video-UID                                                               \n",
       "13978      marine_punches_navy_corpsman_slice50.mp4   Ahsen         0   \n",
       "4591                      streetfight2_slice395.mp4    Alex         1   \n",
       "14251                    short_strikes_slice145.mp4    Alex         0   \n",
       "14756                     streetfight2_slice420.mp4   Ahsen         0   \n",
       "11896                                     V_352.mp4    Alex         1   \n",
       "\n",
       "           pred_class  pred_class_proba recent_play  num_humans_saw_punch  \\\n",
       "video-UID                                                                   \n",
       "13978               0          0.722466        None                     0   \n",
       "4591                0          0.783940        None                     1   \n",
       "14251               0          0.876232        None                     0   \n",
       "14756               0          0.725681        None                     0   \n",
       "11896               0          0.776145        None                     1   \n",
       "\n",
       "           num_humans_saw_none  portion_humans_saw_punch  \\\n",
       "video-UID                                                  \n",
       "13978                        1                       0.0   \n",
       "4591                         0                       1.0   \n",
       "14251                        1                       0.0   \n",
       "14756                        1                       0.0   \n",
       "11896                        0                       1.0   \n",
       "\n",
       "           portion_humans_saw_none  human_consensus  \n",
       "video-UID                                            \n",
       "13978                          1.0                0  \n",
       "4591                           0.0                1  \n",
       "14251                          1.0                0  \n",
       "14756                          1.0                0  \n",
       "11896                          0.0                1  "
      ]
     },
     "execution_count": 109,
     "metadata": {},
     "output_type": "execute_result"
    }
   ],
   "source": [
    "df.sample(5)"
   ]
  },
  {
   "cell_type": "code",
   "execution_count": 110,
   "metadata": {},
   "outputs": [],
   "source": [
    "df.to_csv(\"first_dynamo_load.csv\")"
   ]
  }
 ],
 "metadata": {
  "kernelspec": {
   "display_name": "Python 3",
   "language": "python",
   "name": "python3"
  },
  "language_info": {
   "codemirror_mode": {
    "name": "ipython",
    "version": 3
   },
   "file_extension": ".py",
   "mimetype": "text/x-python",
   "name": "python",
   "nbconvert_exporter": "python",
   "pygments_lexer": "ipython3",
   "version": "3.6.8"
  }
 },
 "nbformat": 4,
 "nbformat_minor": 2
}
