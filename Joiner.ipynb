{
 "cells": [
  {
   "cell_type": "code",
   "execution_count": 25,
   "metadata": {},
   "outputs": [],
   "source": [
    "import numpy as np\n",
    "import pandas as pd\n",
    "import random"
   ]
  },
  {
   "cell_type": "code",
   "execution_count": null,
   "metadata": {},
   "outputs": [],
   "source": [
    "!ls -lah"
   ]
  },
  {
   "cell_type": "code",
   "execution_count": 2,
   "metadata": {},
   "outputs": [],
   "source": [
    "df = pd.read_csv('week9_inventory.txt',header=None)"
   ]
  },
  {
   "cell_type": "code",
   "execution_count": 3,
   "metadata": {},
   "outputs": [],
   "source": [
    "df.rename(columns={0:'clip_title'},inplace=True)"
   ]
  },
  {
   "cell_type": "code",
   "execution_count": 4,
   "metadata": {},
   "outputs": [
    {
     "data": {
      "text/html": [
       "<div>\n",
       "<style scoped>\n",
       "    .dataframe tbody tr th:only-of-type {\n",
       "        vertical-align: middle;\n",
       "    }\n",
       "\n",
       "    .dataframe tbody tr th {\n",
       "        vertical-align: top;\n",
       "    }\n",
       "\n",
       "    .dataframe thead th {\n",
       "        text-align: right;\n",
       "    }\n",
       "</style>\n",
       "<table border=\"1\" class=\"dataframe\">\n",
       "  <thead>\n",
       "    <tr style=\"text-align: right;\">\n",
       "      <th></th>\n",
       "      <th>clip_title</th>\n",
       "    </tr>\n",
       "  </thead>\n",
       "  <tbody>\n",
       "    <tr>\n",
       "      <td>0</td>\n",
       "      <td>5yo_vs_Mickey_slice0.mp4_slice0.mp4</td>\n",
       "    </tr>\n",
       "    <tr>\n",
       "      <td>1</td>\n",
       "      <td>5yo_vs_Mickey_slice10.mp4_slice0.mp4</td>\n",
       "    </tr>\n",
       "    <tr>\n",
       "      <td>2</td>\n",
       "      <td>5yo_vs_Mickey_slice15.mp4_slice0.mp4</td>\n",
       "    </tr>\n",
       "    <tr>\n",
       "      <td>3</td>\n",
       "      <td>5yo_vs_Mickey_slice20.mp4</td>\n",
       "    </tr>\n",
       "    <tr>\n",
       "      <td>4</td>\n",
       "      <td>5yo_vs_Mickey_slice5.mp4</td>\n",
       "    </tr>\n",
       "  </tbody>\n",
       "</table>\n",
       "</div>"
      ],
      "text/plain": [
       "                             clip_title\n",
       "0   5yo_vs_Mickey_slice0.mp4_slice0.mp4\n",
       "1  5yo_vs_Mickey_slice10.mp4_slice0.mp4\n",
       "2  5yo_vs_Mickey_slice15.mp4_slice0.mp4\n",
       "3             5yo_vs_Mickey_slice20.mp4\n",
       "4              5yo_vs_Mickey_slice5.mp4"
      ]
     },
     "execution_count": 4,
     "metadata": {},
     "output_type": "execute_result"
    }
   ],
   "source": [
    "df.head()"
   ]
  },
  {
   "cell_type": "code",
   "execution_count": 5,
   "metadata": {},
   "outputs": [
    {
     "data": {
      "text/plain": [
       "(5441, 1)"
      ]
     },
     "execution_count": 5,
     "metadata": {},
     "output_type": "execute_result"
    }
   ],
   "source": [
    "df.shape"
   ]
  },
  {
   "cell_type": "code",
   "execution_count": 7,
   "metadata": {},
   "outputs": [],
   "source": [
    "gold = pd.read_csv('first_1k_labeled_long_vids_removed.csv',header=0,index_col=0)"
   ]
  },
  {
   "cell_type": "code",
   "execution_count": 8,
   "metadata": {},
   "outputs": [
    {
     "data": {
      "text/html": [
       "<div>\n",
       "<style scoped>\n",
       "    .dataframe tbody tr th:only-of-type {\n",
       "        vertical-align: middle;\n",
       "    }\n",
       "\n",
       "    .dataframe tbody tr th {\n",
       "        vertical-align: top;\n",
       "    }\n",
       "\n",
       "    .dataframe thead th {\n",
       "        text-align: right;\n",
       "    }\n",
       "</style>\n",
       "<table border=\"1\" class=\"dataframe\">\n",
       "  <thead>\n",
       "    <tr style=\"text-align: right;\">\n",
       "      <th></th>\n",
       "      <th>clip_title</th>\n",
       "      <th>labeler</th>\n",
       "      <th>label</th>\n",
       "    </tr>\n",
       "    <tr>\n",
       "      <th>video-UID</th>\n",
       "      <th></th>\n",
       "      <th></th>\n",
       "      <th></th>\n",
       "    </tr>\n",
       "  </thead>\n",
       "  <tbody>\n",
       "    <tr>\n",
       "      <td>12</td>\n",
       "      <td>Australian_flash_mob_dance_slice125.mp4</td>\n",
       "      <td>Lance</td>\n",
       "      <td>0</td>\n",
       "    </tr>\n",
       "    <tr>\n",
       "      <td>23</td>\n",
       "      <td>Australian_flash_mob_dance_slice175.mp4</td>\n",
       "      <td>Jen</td>\n",
       "      <td>0</td>\n",
       "    </tr>\n",
       "    <tr>\n",
       "      <td>43</td>\n",
       "      <td>Australian_flash_mob_dance_slice265.mp4</td>\n",
       "      <td>Lance</td>\n",
       "      <td>0</td>\n",
       "    </tr>\n",
       "    <tr>\n",
       "      <td>50</td>\n",
       "      <td>Australian_flash_mob_dance_slice30.mp4</td>\n",
       "      <td>Jen</td>\n",
       "      <td>0</td>\n",
       "    </tr>\n",
       "    <tr>\n",
       "      <td>62</td>\n",
       "      <td>Australian_flash_mob_dance_slice85.mp4</td>\n",
       "      <td>Ahsen</td>\n",
       "      <td>0</td>\n",
       "    </tr>\n",
       "  </tbody>\n",
       "</table>\n",
       "</div>"
      ],
      "text/plain": [
       "                                        clip_title labeler  label\n",
       "video-UID                                                        \n",
       "12         Australian_flash_mob_dance_slice125.mp4   Lance      0\n",
       "23         Australian_flash_mob_dance_slice175.mp4     Jen      0\n",
       "43         Australian_flash_mob_dance_slice265.mp4   Lance      0\n",
       "50          Australian_flash_mob_dance_slice30.mp4     Jen      0\n",
       "62          Australian_flash_mob_dance_slice85.mp4   Ahsen      0"
      ]
     },
     "execution_count": 8,
     "metadata": {},
     "output_type": "execute_result"
    }
   ],
   "source": [
    "gold.head()"
   ]
  },
  {
   "cell_type": "code",
   "execution_count": 9,
   "metadata": {},
   "outputs": [
    {
     "data": {
      "text/plain": [
       "(946, 3)"
      ]
     },
     "execution_count": 9,
     "metadata": {},
     "output_type": "execute_result"
    }
   ],
   "source": [
    "gold.shape"
   ]
  },
  {
   "cell_type": "code",
   "execution_count": 10,
   "metadata": {},
   "outputs": [],
   "source": [
    "gold.reset_index(inplace=True)"
   ]
  },
  {
   "cell_type": "code",
   "execution_count": 11,
   "metadata": {},
   "outputs": [
    {
     "data": {
      "text/plain": [
       "Index(['video-UID', 'clip_title', 'labeler', 'label'], dtype='object')"
      ]
     },
     "execution_count": 11,
     "metadata": {},
     "output_type": "execute_result"
    }
   ],
   "source": [
    "gold.columns"
   ]
  },
  {
   "cell_type": "code",
   "execution_count": 12,
   "metadata": {
    "scrolled": true
   },
   "outputs": [
    {
     "data": {
      "text/plain": [
       "946"
      ]
     },
     "execution_count": 12,
     "metadata": {},
     "output_type": "execute_result"
    }
   ],
   "source": [
    "sum(pd.notna(gold['video-UID']))"
   ]
  },
  {
   "cell_type": "code",
   "execution_count": 13,
   "metadata": {},
   "outputs": [],
   "source": [
    "gold.set_index('clip_title',inplace=True)"
   ]
  },
  {
   "cell_type": "code",
   "execution_count": 14,
   "metadata": {},
   "outputs": [
    {
     "data": {
      "text/plain": [
       "Index(['Australian_flash_mob_dance_slice125.mp4',\n",
       "       'Australian_flash_mob_dance_slice175.mp4',\n",
       "       'Australian_flash_mob_dance_slice265.mp4',\n",
       "       'Australian_flash_mob_dance_slice30.mp4',\n",
       "       'Australian_flash_mob_dance_slice85.mp4',\n",
       "       'Australian_flash_mob_dance_slice90.mp4', 'ByronBay_slice0.mp4',\n",
       "       'ByronBay_slice75.mp4', 'French_flashmob_circle_slice10.mp4',\n",
       "       'French_flashmob_circle_slice135.mp4',\n",
       "       ...\n",
       "       'women_fight_smoke_shop_slice0.mp4',\n",
       "       'women_fight_smoke_shop_slice10.mp4',\n",
       "       'women_fight_smoke_shop_slice20.mp4',\n",
       "       'women_fight_smoke_shop_slice30.mp4',\n",
       "       'women_fight_smoke_shop_slice35.mp4',\n",
       "       'women_fight_smoke_shop_slice40.mp4', 'wvu_dance_cam_slice30.mp4',\n",
       "       'wvu_dance_cam_slice35.mp4', 'wvu_dance_cam_slice5.mp4',\n",
       "       'wvu_dance_cam_slice55.mp4'],\n",
       "      dtype='object', name='clip_title', length=946)"
      ]
     },
     "execution_count": 14,
     "metadata": {},
     "output_type": "execute_result"
    }
   ],
   "source": [
    "gold.index"
   ]
  },
  {
   "cell_type": "code",
   "execution_count": 15,
   "metadata": {},
   "outputs": [],
   "source": [
    "df.set_index('clip_title',inplace=True)"
   ]
  },
  {
   "cell_type": "code",
   "execution_count": 16,
   "metadata": {},
   "outputs": [],
   "source": [
    "joined = df.join(gold)"
   ]
  },
  {
   "cell_type": "code",
   "execution_count": 17,
   "metadata": {},
   "outputs": [
    {
     "data": {
      "text/plain": [
       "Index(['video-UID', 'labeler', 'label'], dtype='object')"
      ]
     },
     "execution_count": 17,
     "metadata": {},
     "output_type": "execute_result"
    }
   ],
   "source": [
    "joined.columns"
   ]
  },
  {
   "cell_type": "code",
   "execution_count": 18,
   "metadata": {},
   "outputs": [
    {
     "data": {
      "text/plain": [
       "915"
      ]
     },
     "execution_count": 18,
     "metadata": {},
     "output_type": "execute_result"
    }
   ],
   "source": [
    "sum(pd.notna(joined['video-UID']))"
   ]
  },
  {
   "cell_type": "code",
   "execution_count": 74,
   "metadata": {},
   "outputs": [
    {
     "data": {
      "text/html": [
       "<div>\n",
       "<style scoped>\n",
       "    .dataframe tbody tr th:only-of-type {\n",
       "        vertical-align: middle;\n",
       "    }\n",
       "\n",
       "    .dataframe tbody tr th {\n",
       "        vertical-align: top;\n",
       "    }\n",
       "\n",
       "    .dataframe thead th {\n",
       "        text-align: right;\n",
       "    }\n",
       "</style>\n",
       "<table border=\"1\" class=\"dataframe\">\n",
       "  <thead>\n",
       "    <tr style=\"text-align: right;\">\n",
       "      <th></th>\n",
       "      <th>video-UID</th>\n",
       "      <th>labeler</th>\n",
       "      <th>label</th>\n",
       "    </tr>\n",
       "    <tr>\n",
       "      <th>clip_title</th>\n",
       "      <th></th>\n",
       "      <th></th>\n",
       "      <th></th>\n",
       "    </tr>\n",
       "  </thead>\n",
       "  <tbody>\n",
       "    <tr>\n",
       "      <td>5yo_vs_Mickey_slice0.mp4_slice0.mp4</td>\n",
       "      <td>NaN</td>\n",
       "      <td>NaN</td>\n",
       "      <td>NaN</td>\n",
       "    </tr>\n",
       "    <tr>\n",
       "      <td>5yo_vs_Mickey_slice10.mp4_slice0.mp4</td>\n",
       "      <td>NaN</td>\n",
       "      <td>NaN</td>\n",
       "      <td>NaN</td>\n",
       "    </tr>\n",
       "    <tr>\n",
       "      <td>5yo_vs_Mickey_slice15.mp4_slice0.mp4</td>\n",
       "      <td>NaN</td>\n",
       "      <td>NaN</td>\n",
       "      <td>NaN</td>\n",
       "    </tr>\n",
       "    <tr>\n",
       "      <td>5yo_vs_Mickey_slice20.mp4</td>\n",
       "      <td>NaN</td>\n",
       "      <td>NaN</td>\n",
       "      <td>NaN</td>\n",
       "    </tr>\n",
       "    <tr>\n",
       "      <td>5yo_vs_Mickey_slice5.mp4</td>\n",
       "      <td>NaN</td>\n",
       "      <td>NaN</td>\n",
       "      <td>NaN</td>\n",
       "    </tr>\n",
       "  </tbody>\n",
       "</table>\n",
       "</div>"
      ],
      "text/plain": [
       "                                      video-UID labeler  label\n",
       "clip_title                                                    \n",
       "5yo_vs_Mickey_slice0.mp4_slice0.mp4         NaN     NaN    NaN\n",
       "5yo_vs_Mickey_slice10.mp4_slice0.mp4        NaN     NaN    NaN\n",
       "5yo_vs_Mickey_slice15.mp4_slice0.mp4        NaN     NaN    NaN\n",
       "5yo_vs_Mickey_slice20.mp4                   NaN     NaN    NaN\n",
       "5yo_vs_Mickey_slice5.mp4                    NaN     NaN    NaN"
      ]
     },
     "execution_count": 74,
     "metadata": {},
     "output_type": "execute_result"
    }
   ],
   "source": [
    "joined.head()"
   ]
  },
  {
   "cell_type": "code",
   "execution_count": 75,
   "metadata": {},
   "outputs": [
    {
     "data": {
      "text/plain": [
       "0.0    691\n",
       "1.0    134\n",
       "3.0     51\n",
       "4.0     33\n",
       "2.0      6\n",
       "Name: label, dtype: int64"
      ]
     },
     "execution_count": 75,
     "metadata": {},
     "output_type": "execute_result"
    }
   ],
   "source": [
    "joined['label'].value_counts()"
   ]
  },
  {
   "cell_type": "code",
   "execution_count": 104,
   "metadata": {},
   "outputs": [],
   "source": [
    "# informed_mystery.to_csv('AWOL_labeled_videos.csv')"
   ]
  },
  {
   "cell_type": "code",
   "execution_count": 94,
   "metadata": {},
   "outputs": [
    {
     "data": {
      "text/plain": [
       "915"
      ]
     },
     "execution_count": 94,
     "metadata": {},
     "output_type": "execute_result"
    }
   ],
   "source": [
    "sum(pd.notna(joined['video-UID']))"
   ]
  },
  {
   "cell_type": "code",
   "execution_count": 19,
   "metadata": {},
   "outputs": [
    {
     "data": {
      "text/plain": [
       "4526"
      ]
     },
     "execution_count": 19,
     "metadata": {},
     "output_type": "execute_result"
    }
   ],
   "source": [
    "sum(pd.isna(joined['video-UID']))"
   ]
  },
  {
   "cell_type": "code",
   "execution_count": 78,
   "metadata": {},
   "outputs": [
    {
     "data": {
      "text/plain": [
       "(31, 3)"
      ]
     },
     "execution_count": 78,
     "metadata": {},
     "output_type": "execute_result"
    }
   ],
   "source": [
    "gold[gold['label']==-1].shape"
   ]
  },
  {
   "cell_type": "code",
   "execution_count": 79,
   "metadata": {},
   "outputs": [
    {
     "data": {
      "text/plain": [
       " 0    691\n",
       " 1    134\n",
       " 3     51\n",
       " 4     33\n",
       "-1     31\n",
       " 2      6\n",
       "Name: label, dtype: int64"
      ]
     },
     "execution_count": 79,
     "metadata": {},
     "output_type": "execute_result"
    }
   ],
   "source": [
    "gold['label'].value_counts()"
   ]
  },
  {
   "cell_type": "code",
   "execution_count": 80,
   "metadata": {},
   "outputs": [
    {
     "data": {
      "text/plain": [
       "0.0    691\n",
       "1.0    134\n",
       "3.0     51\n",
       "4.0     33\n",
       "2.0      6\n",
       "Name: label, dtype: int64"
      ]
     },
     "execution_count": 80,
     "metadata": {},
     "output_type": "execute_result"
    }
   ],
   "source": [
    "joined['label'].value_counts()"
   ]
  },
  {
   "cell_type": "code",
   "execution_count": 91,
   "metadata": {},
   "outputs": [
    {
     "data": {
      "text/html": [
       "<div>\n",
       "<style scoped>\n",
       "    .dataframe tbody tr th:only-of-type {\n",
       "        vertical-align: middle;\n",
       "    }\n",
       "\n",
       "    .dataframe tbody tr th {\n",
       "        vertical-align: top;\n",
       "    }\n",
       "\n",
       "    .dataframe thead th {\n",
       "        text-align: right;\n",
       "    }\n",
       "</style>\n",
       "<table border=\"1\" class=\"dataframe\">\n",
       "  <thead>\n",
       "    <tr style=\"text-align: right;\">\n",
       "      <th></th>\n",
       "      <th>video-UID</th>\n",
       "      <th>labeler</th>\n",
       "      <th>label</th>\n",
       "    </tr>\n",
       "    <tr>\n",
       "      <th>clip_title</th>\n",
       "      <th></th>\n",
       "      <th></th>\n",
       "      <th></th>\n",
       "    </tr>\n",
       "  </thead>\n",
       "  <tbody>\n",
       "    <tr>\n",
       "      <td>outdoorHShackeysack_slice175.mp4</td>\n",
       "      <td>NaN</td>\n",
       "      <td>NaN</td>\n",
       "      <td>NaN</td>\n",
       "    </tr>\n",
       "    <tr>\n",
       "      <td>short_strikes_slice385.mp4</td>\n",
       "      <td>NaN</td>\n",
       "      <td>NaN</td>\n",
       "      <td>NaN</td>\n",
       "    </tr>\n",
       "    <tr>\n",
       "      <td>V_175.mp4</td>\n",
       "      <td>NaN</td>\n",
       "      <td>NaN</td>\n",
       "      <td>NaN</td>\n",
       "    </tr>\n",
       "    <tr>\n",
       "      <td>rugby_downward_punch_slice55.mp4</td>\n",
       "      <td>NaN</td>\n",
       "      <td>NaN</td>\n",
       "      <td>NaN</td>\n",
       "    </tr>\n",
       "    <tr>\n",
       "      <td>hook_punch_power_slice105.mp4</td>\n",
       "      <td>NaN</td>\n",
       "      <td>NaN</td>\n",
       "      <td>NaN</td>\n",
       "    </tr>\n",
       "    <tr>\n",
       "      <td>heavy_bag_drills_slice250.mp4</td>\n",
       "      <td>NaN</td>\n",
       "      <td>NaN</td>\n",
       "      <td>NaN</td>\n",
       "    </tr>\n",
       "    <tr>\n",
       "      <td>NV_844.mp4</td>\n",
       "      <td>1131.0</td>\n",
       "      <td>Alex</td>\n",
       "      <td>0.0</td>\n",
       "    </tr>\n",
       "    <tr>\n",
       "      <td>V_308.mp4_slice0.mp4</td>\n",
       "      <td>NaN</td>\n",
       "      <td>NaN</td>\n",
       "      <td>NaN</td>\n",
       "    </tr>\n",
       "    <tr>\n",
       "      <td>V_885.mp4_slice0.mp4</td>\n",
       "      <td>NaN</td>\n",
       "      <td>NaN</td>\n",
       "      <td>NaN</td>\n",
       "    </tr>\n",
       "    <tr>\n",
       "      <td>traditional_dance_slice615.mp4</td>\n",
       "      <td>5250.0</td>\n",
       "      <td>Alex</td>\n",
       "      <td>0.0</td>\n",
       "    </tr>\n",
       "  </tbody>\n",
       "</table>\n",
       "</div>"
      ],
      "text/plain": [
       "                                  video-UID labeler  label\n",
       "clip_title                                                \n",
       "outdoorHShackeysack_slice175.mp4        NaN     NaN    NaN\n",
       "short_strikes_slice385.mp4              NaN     NaN    NaN\n",
       "V_175.mp4                               NaN     NaN    NaN\n",
       "rugby_downward_punch_slice55.mp4        NaN     NaN    NaN\n",
       "hook_punch_power_slice105.mp4           NaN     NaN    NaN\n",
       "heavy_bag_drills_slice250.mp4           NaN     NaN    NaN\n",
       "NV_844.mp4                           1131.0    Alex    0.0\n",
       "V_308.mp4_slice0.mp4                    NaN     NaN    NaN\n",
       "V_885.mp4_slice0.mp4                    NaN     NaN    NaN\n",
       "traditional_dance_slice615.mp4       5250.0    Alex    0.0"
      ]
     },
     "execution_count": 91,
     "metadata": {},
     "output_type": "execute_result"
    }
   ],
   "source": [
    "joined.sample(10)"
   ]
  },
  {
   "cell_type": "code",
   "execution_count": 20,
   "metadata": {},
   "outputs": [],
   "source": [
    "joined.reset_index(inplace=True)"
   ]
  },
  {
   "cell_type": "code",
   "execution_count": 21,
   "metadata": {},
   "outputs": [
    {
     "data": {
      "text/html": [
       "<div>\n",
       "<style scoped>\n",
       "    .dataframe tbody tr th:only-of-type {\n",
       "        vertical-align: middle;\n",
       "    }\n",
       "\n",
       "    .dataframe tbody tr th {\n",
       "        vertical-align: top;\n",
       "    }\n",
       "\n",
       "    .dataframe thead th {\n",
       "        text-align: right;\n",
       "    }\n",
       "</style>\n",
       "<table border=\"1\" class=\"dataframe\">\n",
       "  <thead>\n",
       "    <tr style=\"text-align: right;\">\n",
       "      <th></th>\n",
       "      <th>clip_title</th>\n",
       "      <th>video-UID</th>\n",
       "      <th>labeler</th>\n",
       "      <th>label</th>\n",
       "    </tr>\n",
       "  </thead>\n",
       "  <tbody>\n",
       "    <tr>\n",
       "      <td>0</td>\n",
       "      <td>5yo_vs_Mickey_slice0.mp4_slice0.mp4</td>\n",
       "      <td>NaN</td>\n",
       "      <td>NaN</td>\n",
       "      <td>NaN</td>\n",
       "    </tr>\n",
       "    <tr>\n",
       "      <td>1</td>\n",
       "      <td>5yo_vs_Mickey_slice10.mp4_slice0.mp4</td>\n",
       "      <td>NaN</td>\n",
       "      <td>NaN</td>\n",
       "      <td>NaN</td>\n",
       "    </tr>\n",
       "    <tr>\n",
       "      <td>2</td>\n",
       "      <td>5yo_vs_Mickey_slice15.mp4_slice0.mp4</td>\n",
       "      <td>NaN</td>\n",
       "      <td>NaN</td>\n",
       "      <td>NaN</td>\n",
       "    </tr>\n",
       "    <tr>\n",
       "      <td>3</td>\n",
       "      <td>5yo_vs_Mickey_slice20.mp4</td>\n",
       "      <td>NaN</td>\n",
       "      <td>NaN</td>\n",
       "      <td>NaN</td>\n",
       "    </tr>\n",
       "    <tr>\n",
       "      <td>4</td>\n",
       "      <td>5yo_vs_Mickey_slice5.mp4</td>\n",
       "      <td>NaN</td>\n",
       "      <td>NaN</td>\n",
       "      <td>NaN</td>\n",
       "    </tr>\n",
       "  </tbody>\n",
       "</table>\n",
       "</div>"
      ],
      "text/plain": [
       "                             clip_title  video-UID labeler  label\n",
       "0   5yo_vs_Mickey_slice0.mp4_slice0.mp4        NaN     NaN    NaN\n",
       "1  5yo_vs_Mickey_slice10.mp4_slice0.mp4        NaN     NaN    NaN\n",
       "2  5yo_vs_Mickey_slice15.mp4_slice0.mp4        NaN     NaN    NaN\n",
       "3             5yo_vs_Mickey_slice20.mp4        NaN     NaN    NaN\n",
       "4              5yo_vs_Mickey_slice5.mp4        NaN     NaN    NaN"
      ]
     },
     "execution_count": 21,
     "metadata": {},
     "output_type": "execute_result"
    }
   ],
   "source": [
    "joined.head()"
   ]
  },
  {
   "cell_type": "code",
   "execution_count": 22,
   "metadata": {},
   "outputs": [],
   "source": [
    "joined.index.rename('numerical',inplace=True)"
   ]
  },
  {
   "cell_type": "code",
   "execution_count": 36,
   "metadata": {},
   "outputs": [
    {
     "data": {
      "text/html": [
       "<div>\n",
       "<style scoped>\n",
       "    .dataframe tbody tr th:only-of-type {\n",
       "        vertical-align: middle;\n",
       "    }\n",
       "\n",
       "    .dataframe tbody tr th {\n",
       "        vertical-align: top;\n",
       "    }\n",
       "\n",
       "    .dataframe thead th {\n",
       "        text-align: right;\n",
       "    }\n",
       "</style>\n",
       "<table border=\"1\" class=\"dataframe\">\n",
       "  <thead>\n",
       "    <tr style=\"text-align: right;\">\n",
       "      <th></th>\n",
       "      <th>numerical</th>\n",
       "      <th>clip_title</th>\n",
       "      <th>video-UID</th>\n",
       "      <th>labeler</th>\n",
       "      <th>label</th>\n",
       "      <th>new-UID</th>\n",
       "    </tr>\n",
       "  </thead>\n",
       "  <tbody>\n",
       "    <tr>\n",
       "      <td>4583</td>\n",
       "      <td>4583</td>\n",
       "      <td>streetfight1_slice535.mp4</td>\n",
       "      <td>NaN</td>\n",
       "      <td>NaN</td>\n",
       "      <td>NaN</td>\n",
       "      <td>14583.0</td>\n",
       "    </tr>\n",
       "    <tr>\n",
       "      <td>4131</td>\n",
       "      <td>4131</td>\n",
       "      <td>parents_hip_hop_slice75.mp4</td>\n",
       "      <td>NaN</td>\n",
       "      <td>NaN</td>\n",
       "      <td>NaN</td>\n",
       "      <td>14131.0</td>\n",
       "    </tr>\n",
       "    <tr>\n",
       "      <td>1207</td>\n",
       "      <td>1207</td>\n",
       "      <td>NV_888.mp4</td>\n",
       "      <td>NaN</td>\n",
       "      <td>NaN</td>\n",
       "      <td>NaN</td>\n",
       "      <td>11207.0</td>\n",
       "    </tr>\n",
       "    <tr>\n",
       "      <td>714</td>\n",
       "      <td>714</td>\n",
       "      <td>NV_446.mp4</td>\n",
       "      <td>NaN</td>\n",
       "      <td>NaN</td>\n",
       "      <td>NaN</td>\n",
       "      <td>10714.0</td>\n",
       "    </tr>\n",
       "    <tr>\n",
       "      <td>2988</td>\n",
       "      <td>2988</td>\n",
       "      <td>downward_strike_punches_slice640.mp4</td>\n",
       "      <td>NaN</td>\n",
       "      <td>NaN</td>\n",
       "      <td>NaN</td>\n",
       "      <td>12988.0</td>\n",
       "    </tr>\n",
       "    <tr>\n",
       "      <td>3334</td>\n",
       "      <td>3334</td>\n",
       "      <td>greek_hooligans_vol_1__PAETHRAKI__ymAyfKkdSVU....</td>\n",
       "      <td>NaN</td>\n",
       "      <td>NaN</td>\n",
       "      <td>NaN</td>\n",
       "      <td>13334.0</td>\n",
       "    </tr>\n",
       "    <tr>\n",
       "      <td>4851</td>\n",
       "      <td>4851</td>\n",
       "      <td>streetfight3_slice275.mp4</td>\n",
       "      <td>NaN</td>\n",
       "      <td>NaN</td>\n",
       "      <td>NaN</td>\n",
       "      <td>14851.0</td>\n",
       "    </tr>\n",
       "    <tr>\n",
       "      <td>645</td>\n",
       "      <td>645</td>\n",
       "      <td>NV_383.mp4</td>\n",
       "      <td>NaN</td>\n",
       "      <td>NaN</td>\n",
       "      <td>NaN</td>\n",
       "      <td>10645.0</td>\n",
       "    </tr>\n",
       "    <tr>\n",
       "      <td>241</td>\n",
       "      <td>241</td>\n",
       "      <td>HShackeysack_slice270.mp4</td>\n",
       "      <td>NaN</td>\n",
       "      <td>NaN</td>\n",
       "      <td>NaN</td>\n",
       "      <td>10241.0</td>\n",
       "    </tr>\n",
       "    <tr>\n",
       "      <td>3231</td>\n",
       "      <td>3231</td>\n",
       "      <td>football_crowds_cheering__Hamburg_Fan_Party_Op...</td>\n",
       "      <td>NaN</td>\n",
       "      <td>NaN</td>\n",
       "      <td>NaN</td>\n",
       "      <td>13231.0</td>\n",
       "    </tr>\n",
       "    <tr>\n",
       "      <td>1136</td>\n",
       "      <td>1136</td>\n",
       "      <td>NV_823.mp4</td>\n",
       "      <td>NaN</td>\n",
       "      <td>NaN</td>\n",
       "      <td>NaN</td>\n",
       "      <td>11136.0</td>\n",
       "    </tr>\n",
       "    <tr>\n",
       "      <td>2362</td>\n",
       "      <td>2362</td>\n",
       "      <td>V_771.mp4_slice0.mp4</td>\n",
       "      <td>NaN</td>\n",
       "      <td>NaN</td>\n",
       "      <td>NaN</td>\n",
       "      <td>12362.0</td>\n",
       "    </tr>\n",
       "    <tr>\n",
       "      <td>933</td>\n",
       "      <td>933</td>\n",
       "      <td>NV_644.mp4</td>\n",
       "      <td>NaN</td>\n",
       "      <td>NaN</td>\n",
       "      <td>NaN</td>\n",
       "      <td>10933.0</td>\n",
       "    </tr>\n",
       "    <tr>\n",
       "      <td>1613</td>\n",
       "      <td>1613</td>\n",
       "      <td>US_NC_asheville_drum_circle_slice900.mp4</td>\n",
       "      <td>NaN</td>\n",
       "      <td>NaN</td>\n",
       "      <td>NaN</td>\n",
       "      <td>11613.0</td>\n",
       "    </tr>\n",
       "    <tr>\n",
       "      <td>5014</td>\n",
       "      <td>5014</td>\n",
       "      <td>streetfight4_slice440.mp4</td>\n",
       "      <td>NaN</td>\n",
       "      <td>NaN</td>\n",
       "      <td>NaN</td>\n",
       "      <td>15014.0</td>\n",
       "    </tr>\n",
       "    <tr>\n",
       "      <td>2997</td>\n",
       "      <td>2997</td>\n",
       "      <td>downward_strike_punches_slice680.mp4</td>\n",
       "      <td>2862.0</td>\n",
       "      <td>Ahsen</td>\n",
       "      <td>0.0</td>\n",
       "      <td>2862.0</td>\n",
       "    </tr>\n",
       "    <tr>\n",
       "      <td>5328</td>\n",
       "      <td>5328</td>\n",
       "      <td>traditional_dance_slice280.mp4</td>\n",
       "      <td>5175.0</td>\n",
       "      <td>Lance</td>\n",
       "      <td>0.0</td>\n",
       "      <td>5175.0</td>\n",
       "    </tr>\n",
       "    <tr>\n",
       "      <td>1759</td>\n",
       "      <td>1759</td>\n",
       "      <td>V_226.mp4_slice0.mp4</td>\n",
       "      <td>NaN</td>\n",
       "      <td>NaN</td>\n",
       "      <td>NaN</td>\n",
       "      <td>11759.0</td>\n",
       "    </tr>\n",
       "    <tr>\n",
       "      <td>2442</td>\n",
       "      <td>2442</td>\n",
       "      <td>V_789.mp4_slice45.mp4</td>\n",
       "      <td>NaN</td>\n",
       "      <td>NaN</td>\n",
       "      <td>NaN</td>\n",
       "      <td>12442.0</td>\n",
       "    </tr>\n",
       "    <tr>\n",
       "      <td>2398</td>\n",
       "      <td>2398</td>\n",
       "      <td>V_789.mp4_slice180.mp4</td>\n",
       "      <td>NaN</td>\n",
       "      <td>NaN</td>\n",
       "      <td>NaN</td>\n",
       "      <td>12398.0</td>\n",
       "    </tr>\n",
       "  </tbody>\n",
       "</table>\n",
       "</div>"
      ],
      "text/plain": [
       "      numerical                                         clip_title  video-UID  \\\n",
       "4583       4583                          streetfight1_slice535.mp4        NaN   \n",
       "4131       4131                        parents_hip_hop_slice75.mp4        NaN   \n",
       "1207       1207                                         NV_888.mp4        NaN   \n",
       "714         714                                         NV_446.mp4        NaN   \n",
       "2988       2988               downward_strike_punches_slice640.mp4        NaN   \n",
       "3334       3334  greek_hooligans_vol_1__PAETHRAKI__ymAyfKkdSVU....        NaN   \n",
       "4851       4851                          streetfight3_slice275.mp4        NaN   \n",
       "645         645                                         NV_383.mp4        NaN   \n",
       "241         241                          HShackeysack_slice270.mp4        NaN   \n",
       "3231       3231  football_crowds_cheering__Hamburg_Fan_Party_Op...        NaN   \n",
       "1136       1136                                         NV_823.mp4        NaN   \n",
       "2362       2362                               V_771.mp4_slice0.mp4        NaN   \n",
       "933         933                                         NV_644.mp4        NaN   \n",
       "1613       1613           US_NC_asheville_drum_circle_slice900.mp4        NaN   \n",
       "5014       5014                          streetfight4_slice440.mp4        NaN   \n",
       "2997       2997               downward_strike_punches_slice680.mp4     2862.0   \n",
       "5328       5328                     traditional_dance_slice280.mp4     5175.0   \n",
       "1759       1759                               V_226.mp4_slice0.mp4        NaN   \n",
       "2442       2442                              V_789.mp4_slice45.mp4        NaN   \n",
       "2398       2398                             V_789.mp4_slice180.mp4        NaN   \n",
       "\n",
       "     labeler  label  new-UID  \n",
       "4583     NaN    NaN  14583.0  \n",
       "4131     NaN    NaN  14131.0  \n",
       "1207     NaN    NaN  11207.0  \n",
       "714      NaN    NaN  10714.0  \n",
       "2988     NaN    NaN  12988.0  \n",
       "3334     NaN    NaN  13334.0  \n",
       "4851     NaN    NaN  14851.0  \n",
       "645      NaN    NaN  10645.0  \n",
       "241      NaN    NaN  10241.0  \n",
       "3231     NaN    NaN  13231.0  \n",
       "1136     NaN    NaN  11136.0  \n",
       "2362     NaN    NaN  12362.0  \n",
       "933      NaN    NaN  10933.0  \n",
       "1613     NaN    NaN  11613.0  \n",
       "5014     NaN    NaN  15014.0  \n",
       "2997   Ahsen    0.0   2862.0  \n",
       "5328   Lance    0.0   5175.0  \n",
       "1759     NaN    NaN  11759.0  \n",
       "2442     NaN    NaN  12442.0  \n",
       "2398     NaN    NaN  12398.0  "
      ]
     },
     "execution_count": 36,
     "metadata": {},
     "output_type": "execute_result"
    }
   ],
   "source": [
    "joined.sample(20)"
   ]
  },
  {
   "cell_type": "code",
   "execution_count": 24,
   "metadata": {},
   "outputs": [],
   "source": [
    "joined.reset_index(inplace=True)"
   ]
  },
  {
   "cell_type": "code",
   "execution_count": 27,
   "metadata": {},
   "outputs": [
    {
     "data": {
      "text/html": [
       "<div>\n",
       "<style scoped>\n",
       "    .dataframe tbody tr th:only-of-type {\n",
       "        vertical-align: middle;\n",
       "    }\n",
       "\n",
       "    .dataframe tbody tr th {\n",
       "        vertical-align: top;\n",
       "    }\n",
       "\n",
       "    .dataframe thead th {\n",
       "        text-align: right;\n",
       "    }\n",
       "</style>\n",
       "<table border=\"1\" class=\"dataframe\">\n",
       "  <thead>\n",
       "    <tr style=\"text-align: right;\">\n",
       "      <th></th>\n",
       "      <th>numerical</th>\n",
       "      <th>clip_title</th>\n",
       "      <th>video-UID</th>\n",
       "      <th>labeler</th>\n",
       "      <th>label</th>\n",
       "      <th>new-UID</th>\n",
       "    </tr>\n",
       "  </thead>\n",
       "  <tbody>\n",
       "    <tr>\n",
       "      <td>0</td>\n",
       "      <td>0</td>\n",
       "      <td>5yo_vs_Mickey_slice0.mp4_slice0.mp4</td>\n",
       "      <td>NaN</td>\n",
       "      <td>NaN</td>\n",
       "      <td>NaN</td>\n",
       "      <td>10000</td>\n",
       "    </tr>\n",
       "    <tr>\n",
       "      <td>1</td>\n",
       "      <td>1</td>\n",
       "      <td>5yo_vs_Mickey_slice10.mp4_slice0.mp4</td>\n",
       "      <td>NaN</td>\n",
       "      <td>NaN</td>\n",
       "      <td>NaN</td>\n",
       "      <td>10001</td>\n",
       "    </tr>\n",
       "    <tr>\n",
       "      <td>2</td>\n",
       "      <td>2</td>\n",
       "      <td>5yo_vs_Mickey_slice15.mp4_slice0.mp4</td>\n",
       "      <td>NaN</td>\n",
       "      <td>NaN</td>\n",
       "      <td>NaN</td>\n",
       "      <td>10002</td>\n",
       "    </tr>\n",
       "    <tr>\n",
       "      <td>3</td>\n",
       "      <td>3</td>\n",
       "      <td>5yo_vs_Mickey_slice20.mp4</td>\n",
       "      <td>NaN</td>\n",
       "      <td>NaN</td>\n",
       "      <td>NaN</td>\n",
       "      <td>10003</td>\n",
       "    </tr>\n",
       "    <tr>\n",
       "      <td>4</td>\n",
       "      <td>4</td>\n",
       "      <td>5yo_vs_Mickey_slice5.mp4</td>\n",
       "      <td>NaN</td>\n",
       "      <td>NaN</td>\n",
       "      <td>NaN</td>\n",
       "      <td>10004</td>\n",
       "    </tr>\n",
       "  </tbody>\n",
       "</table>\n",
       "</div>"
      ],
      "text/plain": [
       "   numerical                            clip_title  video-UID labeler  label  \\\n",
       "0          0   5yo_vs_Mickey_slice0.mp4_slice0.mp4        NaN     NaN    NaN   \n",
       "1          1  5yo_vs_Mickey_slice10.mp4_slice0.mp4        NaN     NaN    NaN   \n",
       "2          2  5yo_vs_Mickey_slice15.mp4_slice0.mp4        NaN     NaN    NaN   \n",
       "3          3             5yo_vs_Mickey_slice20.mp4        NaN     NaN    NaN   \n",
       "4          4              5yo_vs_Mickey_slice5.mp4        NaN     NaN    NaN   \n",
       "\n",
       "   new-UID  \n",
       "0    10000  \n",
       "1    10001  \n",
       "2    10002  \n",
       "3    10003  \n",
       "4    10004  "
      ]
     },
     "execution_count": 27,
     "metadata": {},
     "output_type": "execute_result"
    }
   ],
   "source": [
    "joined.head()"
   ]
  },
  {
   "cell_type": "code",
   "execution_count": 105,
   "metadata": {},
   "outputs": [
    {
     "data": {
      "text/plain": [
       "True"
      ]
     },
     "execution_count": 105,
     "metadata": {},
     "output_type": "execute_result"
    }
   ],
   "source": [
    "# np.isnan(joined['video-UID'].iloc[0])"
   ]
  },
  {
   "cell_type": "code",
   "execution_count": 26,
   "metadata": {},
   "outputs": [],
   "source": [
    "joined['new-UID'] = joined.apply(lambda x: x['numerical']+10000, axis=1)"
   ]
  },
  {
   "cell_type": "code",
   "execution_count": 29,
   "metadata": {},
   "outputs": [],
   "source": [
    "import numpy as np"
   ]
  },
  {
   "cell_type": "code",
   "execution_count": 30,
   "metadata": {},
   "outputs": [],
   "source": [
    "joined['new-UID'] = joined.apply(lambda x: x['new-UID'] if np.isnan(x['video-UID']) else x['video-UID'], axis = 1)"
   ]
  },
  {
   "cell_type": "code",
   "execution_count": 41,
   "metadata": {},
   "outputs": [],
   "source": [
    "joined.drop('numerical',axis=1,inplace=True)"
   ]
  },
  {
   "cell_type": "code",
   "execution_count": 43,
   "metadata": {},
   "outputs": [],
   "source": [
    "joined.drop('video-UID',axis=1,inplace=True)"
   ]
  },
  {
   "cell_type": "code",
   "execution_count": 44,
   "metadata": {},
   "outputs": [],
   "source": [
    "joined.rename({'new-UID':'video-UID'},axis=1,inplace=True)"
   ]
  },
  {
   "cell_type": "code",
   "execution_count": 54,
   "metadata": {},
   "outputs": [],
   "source": [
    "joined['label'] = joined.apply(lambda x: 99 if np.isnan(x['label']) else x['label'], axis = 1)"
   ]
  },
  {
   "cell_type": "code",
   "execution_count": 55,
   "metadata": {},
   "outputs": [
    {
     "data": {
      "text/plain": [
       "99.0    4526\n",
       "0.0      691\n",
       "1.0      134\n",
       "3.0       51\n",
       "4.0       33\n",
       "2.0        6\n",
       "Name: label, dtype: int64"
      ]
     },
     "execution_count": 55,
     "metadata": {},
     "output_type": "execute_result"
    }
   ],
   "source": [
    "joined['label'].value_counts()"
   ]
  },
  {
   "cell_type": "code",
   "execution_count": 61,
   "metadata": {},
   "outputs": [
    {
     "data": {
      "text/plain": [
       "True"
      ]
     },
     "execution_count": 61,
     "metadata": {},
     "output_type": "execute_result"
    }
   ],
   "source": [
    "np.isnan(joined['labeler'].head().iloc[0])"
   ]
  },
  {
   "cell_type": "code",
   "execution_count": 62,
   "metadata": {},
   "outputs": [
    {
     "data": {
      "text/html": [
       "<div>\n",
       "<style scoped>\n",
       "    .dataframe tbody tr th:only-of-type {\n",
       "        vertical-align: middle;\n",
       "    }\n",
       "\n",
       "    .dataframe tbody tr th {\n",
       "        vertical-align: top;\n",
       "    }\n",
       "\n",
       "    .dataframe thead th {\n",
       "        text-align: right;\n",
       "    }\n",
       "</style>\n",
       "<table border=\"1\" class=\"dataframe\">\n",
       "  <thead>\n",
       "    <tr style=\"text-align: right;\">\n",
       "      <th></th>\n",
       "      <th>clip_title</th>\n",
       "      <th>labeler</th>\n",
       "      <th>label</th>\n",
       "      <th>video-UID</th>\n",
       "    </tr>\n",
       "  </thead>\n",
       "  <tbody>\n",
       "    <tr>\n",
       "      <td>0</td>\n",
       "      <td>5yo_vs_Mickey_slice0.mp4_slice0.mp4</td>\n",
       "      <td>NaN</td>\n",
       "      <td>99.0</td>\n",
       "      <td>10000.0</td>\n",
       "    </tr>\n",
       "    <tr>\n",
       "      <td>1</td>\n",
       "      <td>5yo_vs_Mickey_slice10.mp4_slice0.mp4</td>\n",
       "      <td>NaN</td>\n",
       "      <td>99.0</td>\n",
       "      <td>10001.0</td>\n",
       "    </tr>\n",
       "    <tr>\n",
       "      <td>2</td>\n",
       "      <td>5yo_vs_Mickey_slice15.mp4_slice0.mp4</td>\n",
       "      <td>NaN</td>\n",
       "      <td>99.0</td>\n",
       "      <td>10002.0</td>\n",
       "    </tr>\n",
       "    <tr>\n",
       "      <td>3</td>\n",
       "      <td>5yo_vs_Mickey_slice20.mp4</td>\n",
       "      <td>NaN</td>\n",
       "      <td>99.0</td>\n",
       "      <td>10003.0</td>\n",
       "    </tr>\n",
       "    <tr>\n",
       "      <td>4</td>\n",
       "      <td>5yo_vs_Mickey_slice5.mp4</td>\n",
       "      <td>NaN</td>\n",
       "      <td>99.0</td>\n",
       "      <td>10004.0</td>\n",
       "    </tr>\n",
       "  </tbody>\n",
       "</table>\n",
       "</div>"
      ],
      "text/plain": [
       "                             clip_title labeler  label  video-UID\n",
       "0   5yo_vs_Mickey_slice0.mp4_slice0.mp4     NaN   99.0    10000.0\n",
       "1  5yo_vs_Mickey_slice10.mp4_slice0.mp4     NaN   99.0    10001.0\n",
       "2  5yo_vs_Mickey_slice15.mp4_slice0.mp4     NaN   99.0    10002.0\n",
       "3             5yo_vs_Mickey_slice20.mp4     NaN   99.0    10003.0\n",
       "4              5yo_vs_Mickey_slice5.mp4     NaN   99.0    10004.0"
      ]
     },
     "execution_count": 62,
     "metadata": {},
     "output_type": "execute_result"
    }
   ],
   "source": [
    "joined.head()"
   ]
  },
  {
   "cell_type": "code",
   "execution_count": 63,
   "metadata": {},
   "outputs": [],
   "source": [
    "joined['label2'] = joined.apply(lambda x: int(x['label']), axis=1)"
   ]
  },
  {
   "cell_type": "code",
   "execution_count": 64,
   "metadata": {},
   "outputs": [],
   "source": [
    "joined['video-UID2'] = joined.apply(lambda x: int(x['video-UID']), axis=1)"
   ]
  },
  {
   "cell_type": "code",
   "execution_count": 65,
   "metadata": {},
   "outputs": [],
   "source": [
    "joined.drop('video-UID',axis=1,inplace=True)"
   ]
  },
  {
   "cell_type": "code",
   "execution_count": 66,
   "metadata": {},
   "outputs": [],
   "source": [
    "joined.drop('label',axis=1,inplace=True)"
   ]
  },
  {
   "cell_type": "code",
   "execution_count": 67,
   "metadata": {},
   "outputs": [
    {
     "data": {
      "text/html": [
       "<div>\n",
       "<style scoped>\n",
       "    .dataframe tbody tr th:only-of-type {\n",
       "        vertical-align: middle;\n",
       "    }\n",
       "\n",
       "    .dataframe tbody tr th {\n",
       "        vertical-align: top;\n",
       "    }\n",
       "\n",
       "    .dataframe thead th {\n",
       "        text-align: right;\n",
       "    }\n",
       "</style>\n",
       "<table border=\"1\" class=\"dataframe\">\n",
       "  <thead>\n",
       "    <tr style=\"text-align: right;\">\n",
       "      <th></th>\n",
       "      <th>clip_title</th>\n",
       "      <th>labeler</th>\n",
       "      <th>label2</th>\n",
       "      <th>video-UID2</th>\n",
       "    </tr>\n",
       "  </thead>\n",
       "  <tbody>\n",
       "    <tr>\n",
       "      <td>0</td>\n",
       "      <td>5yo_vs_Mickey_slice0.mp4_slice0.mp4</td>\n",
       "      <td>NaN</td>\n",
       "      <td>99</td>\n",
       "      <td>10000</td>\n",
       "    </tr>\n",
       "    <tr>\n",
       "      <td>1</td>\n",
       "      <td>5yo_vs_Mickey_slice10.mp4_slice0.mp4</td>\n",
       "      <td>NaN</td>\n",
       "      <td>99</td>\n",
       "      <td>10001</td>\n",
       "    </tr>\n",
       "    <tr>\n",
       "      <td>2</td>\n",
       "      <td>5yo_vs_Mickey_slice15.mp4_slice0.mp4</td>\n",
       "      <td>NaN</td>\n",
       "      <td>99</td>\n",
       "      <td>10002</td>\n",
       "    </tr>\n",
       "    <tr>\n",
       "      <td>3</td>\n",
       "      <td>5yo_vs_Mickey_slice20.mp4</td>\n",
       "      <td>NaN</td>\n",
       "      <td>99</td>\n",
       "      <td>10003</td>\n",
       "    </tr>\n",
       "    <tr>\n",
       "      <td>4</td>\n",
       "      <td>5yo_vs_Mickey_slice5.mp4</td>\n",
       "      <td>NaN</td>\n",
       "      <td>99</td>\n",
       "      <td>10004</td>\n",
       "    </tr>\n",
       "  </tbody>\n",
       "</table>\n",
       "</div>"
      ],
      "text/plain": [
       "                             clip_title labeler  label2  video-UID2\n",
       "0   5yo_vs_Mickey_slice0.mp4_slice0.mp4     NaN      99       10000\n",
       "1  5yo_vs_Mickey_slice10.mp4_slice0.mp4     NaN      99       10001\n",
       "2  5yo_vs_Mickey_slice15.mp4_slice0.mp4     NaN      99       10002\n",
       "3             5yo_vs_Mickey_slice20.mp4     NaN      99       10003\n",
       "4              5yo_vs_Mickey_slice5.mp4     NaN      99       10004"
      ]
     },
     "execution_count": 67,
     "metadata": {},
     "output_type": "execute_result"
    }
   ],
   "source": [
    "joined.head()"
   ]
  },
  {
   "cell_type": "code",
   "execution_count": 71,
   "metadata": {},
   "outputs": [],
   "source": [
    "joined.rename({'label2':'label'},axis=1,inplace=True)"
   ]
  },
  {
   "cell_type": "code",
   "execution_count": 72,
   "metadata": {},
   "outputs": [],
   "source": [
    "joined.rename({'video-UID2':'video-UID'},axis=1,inplace=True)"
   ]
  },
  {
   "cell_type": "code",
   "execution_count": 73,
   "metadata": {},
   "outputs": [
    {
     "data": {
      "text/html": [
       "<div>\n",
       "<style scoped>\n",
       "    .dataframe tbody tr th:only-of-type {\n",
       "        vertical-align: middle;\n",
       "    }\n",
       "\n",
       "    .dataframe tbody tr th {\n",
       "        vertical-align: top;\n",
       "    }\n",
       "\n",
       "    .dataframe thead th {\n",
       "        text-align: right;\n",
       "    }\n",
       "</style>\n",
       "<table border=\"1\" class=\"dataframe\">\n",
       "  <thead>\n",
       "    <tr style=\"text-align: right;\">\n",
       "      <th></th>\n",
       "      <th>clip_title</th>\n",
       "      <th>labeler</th>\n",
       "      <th>label</th>\n",
       "      <th>video-UID</th>\n",
       "    </tr>\n",
       "  </thead>\n",
       "  <tbody>\n",
       "    <tr>\n",
       "      <td>0</td>\n",
       "      <td>5yo_vs_Mickey_slice0.mp4_slice0.mp4</td>\n",
       "      <td>NaN</td>\n",
       "      <td>99</td>\n",
       "      <td>10000</td>\n",
       "    </tr>\n",
       "    <tr>\n",
       "      <td>1</td>\n",
       "      <td>5yo_vs_Mickey_slice10.mp4_slice0.mp4</td>\n",
       "      <td>NaN</td>\n",
       "      <td>99</td>\n",
       "      <td>10001</td>\n",
       "    </tr>\n",
       "    <tr>\n",
       "      <td>2</td>\n",
       "      <td>5yo_vs_Mickey_slice15.mp4_slice0.mp4</td>\n",
       "      <td>NaN</td>\n",
       "      <td>99</td>\n",
       "      <td>10002</td>\n",
       "    </tr>\n",
       "    <tr>\n",
       "      <td>3</td>\n",
       "      <td>5yo_vs_Mickey_slice20.mp4</td>\n",
       "      <td>NaN</td>\n",
       "      <td>99</td>\n",
       "      <td>10003</td>\n",
       "    </tr>\n",
       "    <tr>\n",
       "      <td>4</td>\n",
       "      <td>5yo_vs_Mickey_slice5.mp4</td>\n",
       "      <td>NaN</td>\n",
       "      <td>99</td>\n",
       "      <td>10004</td>\n",
       "    </tr>\n",
       "  </tbody>\n",
       "</table>\n",
       "</div>"
      ],
      "text/plain": [
       "                             clip_title labeler  label  video-UID\n",
       "0   5yo_vs_Mickey_slice0.mp4_slice0.mp4     NaN     99      10000\n",
       "1  5yo_vs_Mickey_slice10.mp4_slice0.mp4     NaN     99      10001\n",
       "2  5yo_vs_Mickey_slice15.mp4_slice0.mp4     NaN     99      10002\n",
       "3             5yo_vs_Mickey_slice20.mp4     NaN     99      10003\n",
       "4              5yo_vs_Mickey_slice5.mp4     NaN     99      10004"
      ]
     },
     "execution_count": 73,
     "metadata": {},
     "output_type": "execute_result"
    }
   ],
   "source": [
    "joined.head()"
   ]
  },
  {
   "cell_type": "code",
   "execution_count": 75,
   "metadata": {},
   "outputs": [
    {
     "data": {
      "text/plain": [
       "Jen      235\n",
       "Alex     231\n",
       "Lance    230\n",
       "Ahsen    219\n",
       "Name: labeler, dtype: int64"
      ]
     },
     "execution_count": 75,
     "metadata": {},
     "output_type": "execute_result"
    }
   ],
   "source": [
    "joined['labeler'].value_counts()"
   ]
  },
  {
   "cell_type": "code",
   "execution_count": 76,
   "metadata": {},
   "outputs": [
    {
     "data": {
      "text/plain": [
       "5436     5285\n",
       "5437    15437\n",
       "5438     5287\n",
       "5439    15439\n",
       "5440    15440\n",
       "Name: video-UID, dtype: int64"
      ]
     },
     "execution_count": 76,
     "metadata": {},
     "output_type": "execute_result"
    }
   ],
   "source": [
    "joined['video-UID'].tail()"
   ]
  },
  {
   "cell_type": "code",
   "execution_count": 77,
   "metadata": {},
   "outputs": [],
   "source": [
    "random.seed(42)"
   ]
  },
  {
   "cell_type": "code",
   "execution_count": 78,
   "metadata": {},
   "outputs": [],
   "source": [
    "clip_range = range(10000,15441)"
   ]
  },
  {
   "cell_type": "code",
   "execution_count": 97,
   "metadata": {},
   "outputs": [
    {
     "data": {
      "text/plain": [
       "5440"
      ]
     },
     "execution_count": 97,
     "metadata": {},
     "output_type": "execute_result"
    }
   ],
   "source": [
    "15440-10000"
   ]
  },
  {
   "cell_type": "code",
   "execution_count": 79,
   "metadata": {},
   "outputs": [],
   "source": [
    "week9 = random.sample(clip_range,k=1000)\n"
   ]
  },
  {
   "cell_type": "code",
   "execution_count": 80,
   "metadata": {},
   "outputs": [],
   "source": [
    "jen9 = sorted(week9[0:250])\n",
    "ahsen9 = sorted(week9[250:500])\n",
    "lance9 = sorted(week9[500:750])\n",
    "alex9 = sorted(week9[750:1000])"
   ]
  },
  {
   "cell_type": "markdown",
   "metadata": {},
   "source": [
    "# Below was used for assigning out the second 1K in week 9"
   ]
  },
  {
   "cell_type": "code",
   "execution_count": 82,
   "metadata": {},
   "outputs": [
    {
     "data": {
      "text/plain": [
       "250"
      ]
     },
     "execution_count": 82,
     "metadata": {},
     "output_type": "execute_result"
    }
   ],
   "source": [
    "len(jen9)"
   ]
  },
  {
   "cell_type": "code",
   "execution_count": 83,
   "metadata": {},
   "outputs": [],
   "source": [
    "joined['labeler'] = joined.apply(lambda x: 'Jen' if x['video-UID'] in jen9 else x['labeler'], axis = 1)"
   ]
  },
  {
   "cell_type": "code",
   "execution_count": 99,
   "metadata": {},
   "outputs": [],
   "source": [
    "joined['labeler'] = joined.apply(lambda x: 'Alex' if x['video-UID'] in alex9 else x['labeler'], axis = 1)"
   ]
  },
  {
   "cell_type": "code",
   "execution_count": 100,
   "metadata": {},
   "outputs": [],
   "source": [
    "joined['labeler'] = joined.apply(lambda x: 'Ahsen' if x['video-UID'] in ahsen9 else x['labeler'], axis = 1)"
   ]
  },
  {
   "cell_type": "code",
   "execution_count": 101,
   "metadata": {},
   "outputs": [],
   "source": [
    "joined['labeler'] = joined.apply(lambda x: 'Lance' if x['video-UID'] in lance9 else x['labeler'], axis = 1)"
   ]
  },
  {
   "cell_type": "code",
   "execution_count": 104,
   "metadata": {},
   "outputs": [
    {
     "data": {
      "text/plain": [
       "(208, 4)"
      ]
     },
     "execution_count": 104,
     "metadata": {},
     "output_type": "execute_result"
    }
   ],
   "source": [
    "joined[(joined['labeler']=='Alex') & (joined['label']==99)].shape"
   ]
  },
  {
   "cell_type": "code",
   "execution_count": 105,
   "metadata": {},
   "outputs": [
    {
     "data": {
      "text/html": [
       "<div>\n",
       "<style scoped>\n",
       "    .dataframe tbody tr th:only-of-type {\n",
       "        vertical-align: middle;\n",
       "    }\n",
       "\n",
       "    .dataframe tbody tr th {\n",
       "        vertical-align: top;\n",
       "    }\n",
       "\n",
       "    .dataframe thead th {\n",
       "        text-align: right;\n",
       "    }\n",
       "</style>\n",
       "<table border=\"1\" class=\"dataframe\">\n",
       "  <thead>\n",
       "    <tr style=\"text-align: right;\">\n",
       "      <th></th>\n",
       "      <th>clip_title</th>\n",
       "      <th>labeler</th>\n",
       "      <th>label</th>\n",
       "      <th>video-UID</th>\n",
       "    </tr>\n",
       "  </thead>\n",
       "  <tbody>\n",
       "    <tr>\n",
       "      <td>9</td>\n",
       "      <td>Australian_flash_mob_dance_slice110.mp4</td>\n",
       "      <td>Alex</td>\n",
       "      <td>99</td>\n",
       "      <td>10009</td>\n",
       "    </tr>\n",
       "    <tr>\n",
       "      <td>21</td>\n",
       "      <td>Australian_flash_mob_dance_slice165.mp4</td>\n",
       "      <td>Alex</td>\n",
       "      <td>99</td>\n",
       "      <td>10021</td>\n",
       "    </tr>\n",
       "    <tr>\n",
       "      <td>100</td>\n",
       "      <td>ByronBay_slice225.mp4</td>\n",
       "      <td>Alex</td>\n",
       "      <td>99</td>\n",
       "      <td>10100</td>\n",
       "    </tr>\n",
       "    <tr>\n",
       "      <td>112</td>\n",
       "      <td>ByronBay_slice45.mp4</td>\n",
       "      <td>Alex</td>\n",
       "      <td>99</td>\n",
       "      <td>10112</td>\n",
       "    </tr>\n",
       "    <tr>\n",
       "      <td>115</td>\n",
       "      <td>ByronBay_slice55.mp4</td>\n",
       "      <td>Alex</td>\n",
       "      <td>99</td>\n",
       "      <td>10115</td>\n",
       "    </tr>\n",
       "    <tr>\n",
       "      <td>169</td>\n",
       "      <td>French_flashmob_circle_slice290.mp4</td>\n",
       "      <td>Alex</td>\n",
       "      <td>99</td>\n",
       "      <td>10169</td>\n",
       "    </tr>\n",
       "    <tr>\n",
       "      <td>267</td>\n",
       "      <td>HShackeysack_slice390.mp4</td>\n",
       "      <td>Alex</td>\n",
       "      <td>99</td>\n",
       "      <td>10267</td>\n",
       "    </tr>\n",
       "    <tr>\n",
       "      <td>300</td>\n",
       "      <td>Hooligans_violence__Football_hooligans_Reading...</td>\n",
       "      <td>Alex</td>\n",
       "      <td>99</td>\n",
       "      <td>10300</td>\n",
       "    </tr>\n",
       "    <tr>\n",
       "      <td>357</td>\n",
       "      <td>NV_127.mp4</td>\n",
       "      <td>Alex</td>\n",
       "      <td>99</td>\n",
       "      <td>10357</td>\n",
       "    </tr>\n",
       "    <tr>\n",
       "      <td>372</td>\n",
       "      <td>NV_14.mp4</td>\n",
       "      <td>Alex</td>\n",
       "      <td>99</td>\n",
       "      <td>10372</td>\n",
       "    </tr>\n",
       "  </tbody>\n",
       "</table>\n",
       "</div>"
      ],
      "text/plain": [
       "                                            clip_title labeler  label  \\\n",
       "9              Australian_flash_mob_dance_slice110.mp4    Alex     99   \n",
       "21             Australian_flash_mob_dance_slice165.mp4    Alex     99   \n",
       "100                              ByronBay_slice225.mp4    Alex     99   \n",
       "112                               ByronBay_slice45.mp4    Alex     99   \n",
       "115                               ByronBay_slice55.mp4    Alex     99   \n",
       "169                French_flashmob_circle_slice290.mp4    Alex     99   \n",
       "267                          HShackeysack_slice390.mp4    Alex     99   \n",
       "300  Hooligans_violence__Football_hooligans_Reading...    Alex     99   \n",
       "357                                         NV_127.mp4    Alex     99   \n",
       "372                                          NV_14.mp4    Alex     99   \n",
       "\n",
       "     video-UID  \n",
       "9        10009  \n",
       "21       10021  \n",
       "100      10100  \n",
       "112      10112  \n",
       "115      10115  \n",
       "169      10169  \n",
       "267      10267  \n",
       "300      10300  \n",
       "357      10357  \n",
       "372      10372  "
      ]
     },
     "execution_count": 105,
     "metadata": {},
     "output_type": "execute_result"
    }
   ],
   "source": [
    "joined[(joined['labeler']=='Alex') & (joined['label']==99)].head(10)"
   ]
  },
  {
   "cell_type": "code",
   "execution_count": 106,
   "metadata": {},
   "outputs": [],
   "source": [
    "joined.set_index('video-UID',inplace=True)"
   ]
  },
  {
   "cell_type": "code",
   "execution_count": 108,
   "metadata": {},
   "outputs": [],
   "source": [
    "joined.rename({'label':'class'},axis=1,inplace=True)"
   ]
  },
  {
   "cell_type": "code",
   "execution_count": 110,
   "metadata": {},
   "outputs": [],
   "source": [
    "joined[(joined['labeler']=='Jen') & (joined['class']==99)].to_csv('jen_week9_clips.csv',header=True,index=True)"
   ]
  },
  {
   "cell_type": "code",
   "execution_count": 111,
   "metadata": {},
   "outputs": [],
   "source": [
    "joined[(joined['labeler']=='Ahsen') & (joined['class']==99)].to_csv('ahsen_week9_clips.csv',header=True,index=True)"
   ]
  },
  {
   "cell_type": "code",
   "execution_count": 112,
   "metadata": {},
   "outputs": [],
   "source": [
    "joined[(joined['labeler']=='Alex') & (joined['class']==99)].to_csv('alex_week9_clips.csv',header=True,index=True)"
   ]
  },
  {
   "cell_type": "code",
   "execution_count": 113,
   "metadata": {},
   "outputs": [],
   "source": [
    "joined[(joined['labeler']=='Lance') & (joined['class']==99)].to_csv('lance_week9_clips.csv',header=True,index=True)"
   ]
  },
  {
   "cell_type": "code",
   "execution_count": 114,
   "metadata": {},
   "outputs": [],
   "source": [
    "joined.to_csv('week9_all_clips.csv',header=True,index=True)"
   ]
  },
  {
   "cell_type": "markdown",
   "metadata": {},
   "source": [
    "Fold in labels from Jen & Alex"
   ]
  },
  {
   "cell_type": "code",
   "execution_count": 51,
   "metadata": {},
   "outputs": [],
   "source": [
    "w9 = pd.read_csv('week9_all_clips.csv',header=0,index_col=0,\\\n",
    "                 dtype={'clip_title': str, 'labeler': str, 'class': 'Int32'} )"
   ]
  },
  {
   "cell_type": "code",
   "execution_count": 8,
   "metadata": {},
   "outputs": [
    {
     "data": {
      "text/plain": [
       "(5441, 3)"
      ]
     },
     "execution_count": 8,
     "metadata": {},
     "output_type": "execute_result"
    }
   ],
   "source": [
    "# w9.shape"
   ]
  },
  {
   "cell_type": "code",
   "execution_count": 9,
   "metadata": {},
   "outputs": [
    {
     "data": {
      "text/plain": [
       "Index(['clip_title', 'labeler', 'class'], dtype='object')"
      ]
     },
     "execution_count": 9,
     "metadata": {},
     "output_type": "execute_result"
    }
   ],
   "source": [
    "# w9.columns"
   ]
  },
  {
   "cell_type": "code",
   "execution_count": 45,
   "metadata": {},
   "outputs": [],
   "source": [
    "jd = pd.read_csv('jen_week9_clips.csv', header=0,index_col=0,\\\n",
    "                 dtype={'clip_title': str, 'labeler': str, 'class': 'Int32'} )"
   ]
  },
  {
   "cell_type": "code",
   "execution_count": 47,
   "metadata": {},
   "outputs": [
    {
     "data": {
      "text/plain": [
       "clip_title    object\n",
       "labeler       object\n",
       "class          Int32\n",
       "dtype: object"
      ]
     },
     "execution_count": 47,
     "metadata": {},
     "output_type": "execute_result"
    }
   ],
   "source": [
    "jd.dtypes"
   ]
  },
  {
   "cell_type": "code",
   "execution_count": 52,
   "metadata": {},
   "outputs": [
    {
     "data": {
      "text/plain": [
       "99    4526\n",
       "0      691\n",
       "1      134\n",
       "3       51\n",
       "4       33\n",
       "2        6\n",
       "Name: class, dtype: int64"
      ]
     },
     "execution_count": 52,
     "metadata": {},
     "output_type": "execute_result"
    }
   ],
   "source": [
    "w9['class'].value_counts()"
   ]
  },
  {
   "cell_type": "code",
   "execution_count": 48,
   "metadata": {},
   "outputs": [
    {
     "data": {
      "text/plain": [
       " 0    141\n",
       " 1     48\n",
       " 3     14\n",
       " 4      5\n",
       " 2      4\n",
       "-1      1\n",
       "Name: class, dtype: int64"
      ]
     },
     "execution_count": 48,
     "metadata": {},
     "output_type": "execute_result"
    }
   ],
   "source": [
    "jd['class'].value_counts()"
   ]
  },
  {
   "cell_type": "code",
   "execution_count": 53,
   "metadata": {},
   "outputs": [],
   "source": [
    "w9.update(jd)"
   ]
  },
  {
   "cell_type": "code",
   "execution_count": 54,
   "metadata": {},
   "outputs": [
    {
     "data": {
      "text/plain": [
       " 99    4313\n",
       " 0      832\n",
       " 1      182\n",
       " 3       65\n",
       " 4       38\n",
       " 2       10\n",
       "-1        1\n",
       "Name: class, dtype: int64"
      ]
     },
     "execution_count": 54,
     "metadata": {},
     "output_type": "execute_result"
    }
   ],
   "source": [
    "w9['class'].value_counts()"
   ]
  },
  {
   "cell_type": "code",
   "execution_count": 55,
   "metadata": {},
   "outputs": [],
   "source": [
    "ad = pd.read_csv('alex_week9_clips.csv', header=0,index_col=0,\\\n",
    "                 dtype={'clip_title': str, 'labeler': str, 'class': 'Int32'} )"
   ]
  },
  {
   "cell_type": "code",
   "execution_count": 56,
   "metadata": {},
   "outputs": [
    {
     "data": {
      "text/plain": [
       " 0    157\n",
       " 1     42\n",
       " 4      4\n",
       " 3      3\n",
       " 2      1\n",
       "-1      1\n",
       "Name: class, dtype: int64"
      ]
     },
     "execution_count": 56,
     "metadata": {},
     "output_type": "execute_result"
    }
   ],
   "source": [
    "ad['class'].value_counts()"
   ]
  },
  {
   "cell_type": "code",
   "execution_count": 57,
   "metadata": {},
   "outputs": [],
   "source": [
    "w9.update(ad)"
   ]
  },
  {
   "cell_type": "code",
   "execution_count": 63,
   "metadata": {},
   "outputs": [
    {
     "data": {
      "text/plain": [
       " 99    4105\n",
       " 0      989\n",
       " 1      224\n",
       " 3       68\n",
       " 4       42\n",
       " 2       11\n",
       "-1        2\n",
       "Name: class, dtype: int64"
      ]
     },
     "execution_count": 63,
     "metadata": {},
     "output_type": "execute_result"
    }
   ],
   "source": [
    "w9['class'].value_counts()"
   ]
  },
  {
   "cell_type": "code",
   "execution_count": 64,
   "metadata": {},
   "outputs": [],
   "source": [
    "w9.to_csv('week9_labeled.csv')"
   ]
  },
  {
   "cell_type": "code",
   "execution_count": 65,
   "metadata": {},
   "outputs": [],
   "source": [
    "stats = w9['class'].value_counts()"
   ]
  },
  {
   "cell_type": "code",
   "execution_count": 70,
   "metadata": {},
   "outputs": [
    {
     "data": {
      "text/plain": [
       "pandas.core.series.Series"
      ]
     },
     "execution_count": 70,
     "metadata": {},
     "output_type": "execute_result"
    }
   ],
   "source": [
    "type(stats)"
   ]
  },
  {
   "cell_type": "code",
   "execution_count": 74,
   "metadata": {},
   "outputs": [
    {
     "data": {
      "text/plain": [
       "0.25862068965517243"
      ]
     },
     "execution_count": 74,
     "metadata": {},
     "output_type": "execute_result"
    }
   ],
   "source": [
    "stats[2:-1].sum()/stats[1:-1].sum()"
   ]
  },
  {
   "cell_type": "code",
   "execution_count": null,
   "metadata": {},
   "outputs": [],
   "source": [
    "stats['pct'] = "
   ]
  }
 ],
 "metadata": {
  "kernelspec": {
   "display_name": "Python 3",
   "language": "python",
   "name": "python3"
  },
  "language_info": {
   "codemirror_mode": {
    "name": "ipython",
    "version": 3
   },
   "file_extension": ".py",
   "mimetype": "text/x-python",
   "name": "python",
   "nbconvert_exporter": "python",
   "pygments_lexer": "ipython3",
   "version": "3.6.8"
  }
 },
 "nbformat": 4,
 "nbformat_minor": 2
}
