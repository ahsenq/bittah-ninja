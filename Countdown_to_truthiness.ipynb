{
 "cells": [
  {
   "cell_type": "markdown",
   "metadata": {},
   "source": [
    "### This ONLY works with jupyter notebook (NOT lab)"
   ]
  },
  {
   "cell_type": "code",
   "execution_count": 8,
   "metadata": {},
   "outputs": [],
   "source": [
    "import pandas as pd\n",
    "handed_in = \"jend_week11_labeling_assignment.csv\"\n",
    "datafile = \"week11_all_assigned.csv\"\n",
    "df = pd.read_csv(datafile, header=0,index_col=0)\n",
    "hi = pd.read_csv(handed_in, header=0,index_col=0)"
   ]
  },
  {
   "cell_type": "code",
   "execution_count": 9,
   "metadata": {},
   "outputs": [
    {
     "data": {
      "text/plain": [
       " 99    3692\n",
       " 0     1259\n",
       " 1      319\n",
       " 3       84\n",
       " 4       52\n",
       "-1       21\n",
       " 2       14\n",
       "Name: class, dtype: int64"
      ]
     },
     "execution_count": 9,
     "metadata": {},
     "output_type": "execute_result"
    }
   ],
   "source": [
    "df['class'].value_counts()"
   ]
  },
  {
   "cell_type": "code",
   "execution_count": 11,
   "metadata": {},
   "outputs": [
    {
     "data": {
      "text/plain": [
       " 99    484\n",
       " 0     289\n",
       " 1     128\n",
       "-1      16\n",
       " 2       5\n",
       " 4       1\n",
       "Name: class, dtype: int64"
      ]
     },
     "execution_count": 11,
     "metadata": {},
     "output_type": "execute_result"
    }
   ],
   "source": [
    "hi['class'].value_counts()"
   ]
  },
  {
   "cell_type": "code",
   "execution_count": 12,
   "metadata": {},
   "outputs": [],
   "source": [
    "df.update(hi)"
   ]
  },
  {
   "cell_type": "code",
   "execution_count": 20,
   "metadata": {},
   "outputs": [],
   "source": [
    "df.to_csv(datafile)"
   ]
  },
  {
   "cell_type": "code",
   "execution_count": 22,
   "metadata": {},
   "outputs": [
    {
     "name": "stdout",
     "output_type": "stream",
     "text": [
      "total 2.6M\r\n",
      "drwxr-xr-x  5 root root 4.0K Nov 11 02:36  .\r\n",
      "-rw-r--r--  1 root root  11K Nov 11 02:36  Countdown_to_truthiness.ipynb\r\n",
      "-rw-r--r--  1 root root 227K Nov 11 02:36  week11_all_assigned.csv\r\n",
      "-rw-r--r--  1 root root 2.4K Nov 11 02:24 \"JenD's MovieHouseMcLabelMore.ipynb\"\r\n",
      "-rw-r--r--  1 root root  37K Nov 11 02:23  jend_week11_labeling_assignment.csv\r\n",
      "drwxr-xr-x  2 root root 4.0K Nov 11 01:02  .ipynb_checkpoints\r\n",
      "drwxr-xr-x  3 root root 4.0K Nov 11 00:45  eval\r\n",
      "drwxr-xr-x  8 root root 4.0K Nov 11 00:22  .git\r\n",
      "drwx------ 19 root root 4.0K Nov 10 17:57  ..\r\n",
      "-rw-r--r--  1 root root  50K Nov  4 03:06  ClipAssigner.ipynb\r\n",
      "-rw-r--r--  1 root root  38K Nov  4 03:01  ahsen_week11_labeling_assignment.csv\r\n",
      "-rw-r--r--  1 root root  40K Nov  4 03:00  lance_week11_labeling_assignment.csv\r\n",
      "-rw-r--r--  1 root root  37K Nov  4 02:59  alex_week11_labeling_assignment.csv\r\n",
      "-rw-r--r--  1 root root  660 Nov  3 21:27  rename_vids.py\r\n",
      "-rw-r--r--  1 root root  277 Nov  3 21:27  rescale_vids.sh\r\n",
      "-rw-r--r--  1 root root 8.6K Nov  3 21:27  simple_CNN-LSTM_net.py\r\n",
      "-rw-r--r--  1 root root  80K Nov  2 22:50  Joiner.ipynb\r\n",
      "-rw-r--r--  1 root root 204K Nov  2 22:40  week10_labeled.csv\r\n",
      "-rw-r--r--  1 root root 5.6K Nov  2 17:35 \"Ahsen's MovieHouseMcLabelMore.ipynb\"\r\n",
      "-rw-r--r--  1 root root 8.5K Nov  2 17:34  ahsen_week9_clips.csv\r\n",
      "-rw-r--r--  1 root root 5.6K Oct 30 22:48 \"Lance's MovieHouseMcLabelMore.ipynb\"\r\n",
      "-rw-r--r--  1 root root 8.0K Oct 30 22:47  lance_week9_clips.csv\r\n",
      "-rw-r--r--  1 root root 205K Oct 30 02:13  week9_labeled.csv\r\n",
      "-rw-r--r--  1 root root 8.0K Oct 27 19:04  jen_week9_clips.csv\r\n",
      "-rw-r--r--  1 root root 2.2K Oct 27 00:40  importFromIBM.py\r\n",
      "-rw-r--r--  1 root root  32K Oct 27 00:40  simple_CNN-LSTM_net.ipynb\r\n",
      "-rw-r--r--  1 root root 5.7K Oct 27 00:38 \"Alex's MovieHouseMcLabelMore.ipynb\"\r\n",
      "-rw-r--r--  1 root root 7.9K Oct 27 00:38  alex_week9_clips.csv\r\n",
      "-rw-r--r--  1 root root 205K Oct 23 03:54  week9_all_clips.csv\r\n",
      "-rw-r--r--  1 root root  36K Oct 22 01:56  first_1k_labeled_long_vids_removed.csv\r\n",
      "-rw-r--r--  1 root root 2.5K Oct 21 02:34  AWOL_labeled_videos.csv\r\n",
      "-rw-r--r--  1 root root 147K Oct 21 00:43  week9_inventory.txt\r\n",
      "-rw-r--r--  1 root root 1.3K Oct 20 20:43  .gitignore\r\n",
      "-rw-r--r--  1 root root  685 Oct 20 20:43  sliceVid_onBatch.sh\r\n",
      "-rw-r--r--  1 root root 4.5K Oct 19 01:23  importFromIBM.ipynb\r\n",
      "-rw-r--r--  1 root root 160K Oct 19 00:47  did_not_label_in_week6.csv\r\n",
      "-rw-r--r--  1 root root 681K Oct 15 02:53  stock-photo-fight-in-a-football-game-crowd-angry-man-hitting-another-spectator-in-soccer-match-audience-1009607794.jpg\r\n",
      "-rw-r--r--  1 root root  11K Oct  8 01:36  full_labels.csv\r\n",
      "-rw-r--r--  1 root root  38K Oct  8 01:32  first_1k_labeled.csv\r\n",
      "-rw-r--r--  1 root root  11K Oct  7 05:16  ahsen_clips.csv\r\n",
      "-rw-r--r--  1 root root 9.8K Oct  6 20:55  jen_clips.csv\r\n",
      "-rw-r--r--  1 root root  11K Oct  6 16:48  lance_clips.csv\r\n",
      "-rw-r--r--  1 root root  11K Oct  6 10:57  alex_clips.csv\r\n",
      "-rw-r--r--  1 root root  785 Oct  5 20:13  convertCodec.sh\r\n",
      "-rw-r--r--  1 root root  15K Oct  5 01:32  ClassCharacterization.ipynb\r\n",
      "-rw-r--r--  1 root root 135K Oct  2 02:07  all_clips.txt\r\n",
      "-rw-r--r--  1 root root 3.0K Sep 30 02:16  readVideo.ipynb\r\n",
      "-rw-r--r--  1 root root  478 Sep 29 01:51  multiSlice.py\r\n",
      "-rw-r--r--  1 root root  651 Sep 27 01:45  sliceVid.sh\r\n",
      "-rw-r--r--  1 root root 2.1K Sep 26 11:42  README.md\r\n",
      "-rw-r--r--  1 root root  818 Sep 26 10:33  readVideo.py\r\n",
      "-rw-r--r--  1 root root  960 Sep 26 10:33  requirements.txt\r\n"
     ]
    }
   ],
   "source": [
    "!ls -laht"
   ]
  },
  {
   "cell_type": "code",
   "execution_count": 23,
   "metadata": {},
   "outputs": [
    {
     "name": "stdout",
     "output_type": "stream",
     "text": [
      "On branch master\r\n",
      "Your branch is up to date with 'origin/master'.\r\n",
      "\r\n",
      "Changes not staged for commit:\r\n",
      "  (use \"git add <file>...\" to update what will be committed)\r\n",
      "  (use \"git checkout -- <file>...\" to discard changes in working directory)\r\n",
      "\r\n",
      "\t\u001b[31mmodified:   Ahsen's MovieHouseMcLabelMore.ipynb\u001b[m\r\n",
      "\t\u001b[31mmodified:   JenD's MovieHouseMcLabelMore.ipynb\u001b[m\r\n",
      "\t\u001b[31mmodified:   Lance's MovieHouseMcLabelMore.ipynb\u001b[m\r\n",
      "\t\u001b[31mmodified:   eval/EvalTheatre.ipynb\u001b[m\r\n",
      "\t\u001b[31mmodified:   jend_week11_labeling_assignment.csv\u001b[m\r\n",
      "\t\u001b[31mmodified:   week11_all_assigned.csv\u001b[m\r\n",
      "\r\n",
      "Untracked files:\r\n",
      "  (use \"git add <file>...\" to include in what will be committed)\r\n",
      "\r\n",
      "\t\u001b[31mAWOL_labeled_videos.csv\u001b[m\r\n",
      "\t\u001b[31mCountdown_to_truthiness.ipynb\u001b[m\r\n",
      "\r\n",
      "no changes added to commit (use \"git add\" and/or \"git commit -a\")\r\n"
     ]
    }
   ],
   "source": [
    "!git status\n"
   ]
  },
  {
   "cell_type": "code",
   "execution_count": 24,
   "metadata": {},
   "outputs": [
    {
     "data": {
      "text/plain": [
       " 99.0    3253\n",
       " 0.0     1548\n",
       " 1.0      447\n",
       " 3.0       84\n",
       " 4.0       53\n",
       "-1.0       37\n",
       " 2.0       19\n",
       "Name: class, dtype: int64"
      ]
     },
     "execution_count": 24,
     "metadata": {},
     "output_type": "execute_result"
    }
   ],
   "source": [
    "df['class'].value_counts()"
   ]
  },
  {
   "cell_type": "code",
   "execution_count": 27,
   "metadata": {},
   "outputs": [],
   "source": [
    "tot_labeled = df['class'].value_counts().loc[[0.0,1.0,2.0,3.0,4.0]]"
   ]
  },
  {
   "cell_type": "code",
   "execution_count": 28,
   "metadata": {},
   "outputs": [
    {
     "data": {
      "text/plain": [
       "2151"
      ]
     },
     "execution_count": 28,
     "metadata": {},
     "output_type": "execute_result"
    }
   ],
   "source": [
    "# Full number we've labeled\n",
    "\n",
    "sum(tot_labeled)"
   ]
  },
  {
   "cell_type": "code",
   "execution_count": null,
   "metadata": {},
   "outputs": [],
   "source": []
  }
 ],
 "metadata": {
  "kernelspec": {
   "display_name": "Python 3",
   "language": "python",
   "name": "python3"
  },
  "language_info": {
   "codemirror_mode": {
    "name": "ipython",
    "version": 3
   },
   "file_extension": ".py",
   "mimetype": "text/x-python",
   "name": "python",
   "nbconvert_exporter": "python",
   "pygments_lexer": "ipython3",
   "version": "3.7.3"
  }
 },
 "nbformat": 4,
 "nbformat_minor": 4
}
