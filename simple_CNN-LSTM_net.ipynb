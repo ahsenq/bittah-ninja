{
 "cells": [
  {
   "cell_type": "code",
   "execution_count": 0,
   "metadata": {},
   "outputs": [],
   "source": [
    "import argparse\n",
    "import os\n",
    "import pickle\n",
    "import sys\n",
    "from collections import Counter\n",
    "\n",
    "import cv2\n",
    "import numpy as np\n",
    "import pandas as pd\n",
    "import tensorflow as tf\n",
    "from sklearn.model_selection import train_test_split\n",
    "from tensorflow.keras.layers import (Bidirectional, Conv2D, ConvLSTM2D, Dense,\n",
    "                                     Dropout, Input, TimeDistributed)\n",
    "from tensorflow.keras.models import Sequential, Model\n",
    "from tensorflow.keras.utils import Sequence\n",
    "from tqdm import tqdm\n",
    "from sklearn.model_selection import train_test_split\n",
    "\n",
    "try:\n",
    "    os.chdir(os.path.join(os.getcwd(), 'FinalProject/bittah-ninja'))\n",
    "    print(os.getcwd())\n",
    "except:\n",
    "    pass\n"
   ]
  },
  {
   "cell_type": "code",
   "execution_count": 0,
   "metadata": {},
   "outputs": [],
   "source": [
    "parser = argparse.ArgumentParser()\n",
    "parser.add_argument('-p', '--path', help='path to video set')\n"
   ]
  },
  {
   "cell_type": "code",
   "execution_count": 0,
   "metadata": {},
   "outputs": [],
   "source": [
    "try:\n",
    "    args = parser.parse_args()\n",
    "except:\n",
    "    pass\n"
   ]
  },
  {
   "cell_type": "code",
   "execution_count": 0,
   "metadata": {},
   "outputs": [],
   "source": [
    "labelPath = 'full_labels.csv'\n",
    "df = pd.read_csv(labelPath)\n",
    "df['label'] = df['class']\n",
    "df.drop(columns=['class'], inplace=True)\n",
    "df.groupby('label').size()\n"
   ]
  },
  {
   "cell_type": "code",
   "execution_count": 0,
   "metadata": {},
   "outputs": [],
   "source": [
    "df = df.loc[df.label != -1]\n",
    "df.groupby('label').size()"
   ]
  },
  {
   "cell_type": "code",
   "execution_count": 0,
   "metadata": {},
   "outputs": [],
   "source": [
    "df['punch'] = (df.label != 0).astype('int')\n",
    "df.groupby('punch').size()\n"
   ]
  },
  {
   "cell_type": "code",
   "execution_count": 0,
   "metadata": {},
   "outputs": [],
   "source": [
    "try:\n",
    "    vidPath = args.path\n",
    "except:\n",
    "    vidPath = '../fullVidSet'\n",
    "filenames = [os.path.join(vidPath, f) for f in df.clip_title]\n",
    "labels = df.punch.tolist()\n"
   ]
  },
  {
   "cell_type": "code",
   "execution_count": 0,
   "metadata": {},
   "outputs": [],
   "source": [
    "\n",
    "\n",
    "def getMaxFrameCount(filenames):\n",
    "    frameCount = []\n",
    "    for file in tqdm(filenames):\n",
    "        cap = cv2.VideoCapture(file)\n",
    "        frameCount.append(int(cap.get(cv2.CAP_PROP_FRAME_COUNT)))\n",
    "\n",
    "    return max(frameCount)\n",
    "\n",
    "\n",
    "class DataGenerator(Sequence):\n",
    "\n",
    "    def __init__(self, filenames, labels, batch_size, max_frame_count):\n",
    "        self.filenames = filenames\n",
    "        self.labels = labels\n",
    "        self.batch_size = batch_size\n",
    "        self.max_frame_count = max_frame_count\n",
    "\n",
    "    def __len__(self):\n",
    "        return np.ceil(len(self.filenames) / self.batch_size).astype(int)\n",
    "\n",
    "    def __getitem__(self, idx):\n",
    "\n",
    "        def padEmptyFrames(vid):\n",
    "            num_frames = self.max_frame_count - vid.shape[0]\n",
    "            empty_frames = np.empty(\n",
    "                (num_frames, vid.shape[1], vid.shape[2]), dtype='uint8')\n",
    "            padded_vid = np.vstack((vid, empty_frames))\n",
    "\n",
    "            return padded_vid\n",
    "\n",
    "        def getFrames(filepath, pad_frames=True):\n",
    "            cap = cv2.VideoCapture(filepath)\n",
    "            vid = []\n",
    "            while cap.isOpened():\n",
    "                ret, frame = cap.read()\n",
    "                if ret:\n",
    "                    gray = cv2.cvtColor(frame, cv2.COLOR_BGR2GRAY)\n",
    "                    # can try going bigger up to 720*1080 later\n",
    "                    gray = cv2.resize(gray, (224, 224))\n",
    "                    vid.append(gray)\n",
    "                    if cv2.waitKey(1) & 0xFF == ord('q'):\n",
    "                        break\n",
    "                else:\n",
    "                    break\n",
    "\n",
    "            cap.release()\n",
    "            vid = np.array(vid)\n",
    "            if pad_frames:\n",
    "                if vid.shape[0] < self.max_frame_count:\n",
    "                    vid = padEmptyFrames(vid)\n",
    "\n",
    "            return vid\n",
    "\n",
    "        x = self.filenames[idx * self.batch_size:(idx + 1) * self.batch_size]\n",
    "        y = self.labels[idx * self.batch_size:(idx + 1) * self.batch_size]\n",
    "\n",
    "        x = np.array([getFrames(file) for file in x]) / 255\n",
    "        x = x.reshape(self.batch_size, self.max_frame_count, 224, 224, 1)\n",
    "\n",
    "        return x, np.array(y)\n",
    "\n"
   ]
  },
  {
   "cell_type": "code",
   "execution_count": 0,
   "metadata": {},
   "outputs": [],
   "source": [
    "x_train, x_test, y_train, y_test = train_test_split(\n",
    "    filenames, labels, test_size=0.2)\n",
    "print(len(x_train), len(y_train))\n",
    "print(len(x_test), len(y_test))\n"
   ]
  },
  {
   "cell_type": "code",
   "execution_count": 0,
   "metadata": {},
   "outputs": [],
   "source": [
    "m = getMaxFrameCount(filenames)\n",
    "train_generator = DataGenerator(x_train, y_train, 10, m)\n",
    "test_generator = DataGenerator(x_test, y_test, 10, m)\n",
    "len(train_generator), len(test_generator)"
   ]
  },
  {
   "cell_type": "code",
   "execution_count": 0,
   "metadata": {},
   "outputs": [],
   "source": [
    "batch_size = 10\n",
    "class_weight = {\n",
    "    0: 0.33,\n",
    "    1: 0.67\n",
    "}\n",
    "model = Sequential()\n",
    "model.add(Bidirectional(ConvLSTM2D(filters=64,\n",
    "                                   kernel_size=(3, 3),\n",
    "                                   input_shape=(None, 224, 224, 1),\n",
    "                                   padding='same',\n",
    "                                   dropout=0.1,\n",
    "                                   recurrent_dropout=0.1,\n",
    "                                   activation='relu')))\n",
    "\n",
    "model.add(Dense(1, activation='sigmoid'))\n",
    "model.compile(optimizer='adam',\n",
    "              loss='binary_crossentropy',\n",
    "              mertics=['acc'])\n",
    "# model.summary()\n"
   ]
  },
  {
   "cell_type": "code",
   "execution_count": 0,
   "metadata": {},
   "outputs": [],
   "source": [
    "hist = model.fit_generator(generator=train_generator,\n",
    "                           steps_per_epoch=(len(x_train) // batch_size),\n",
    "                           epochs=1,\n",
    "                           verbose=1,\n",
    "                           validation_data=test_generator,\n",
    "                           validation_steps=(len(x_test) // batch_size),\n",
    "                           class_weight=class_weight,\n",
    "                           use_multiprocessing=True)\n"
   ]
  }
 ],
 "metadata": {
  "file_extension": ".py",
  "kernelspec": {
   "display_name": "Python 3",
   "language": "python",
   "name": "python3"
  },
  "language_info": {
   "codemirror_mode": {
    "name": "ipython",
    "version": 3
   },
   "file_extension": ".py",
   "mimetype": "text/x-python",
   "name": "python",
   "nbconvert_exporter": "python",
   "pygments_lexer": "ipython3",
   "version": "3.7.4"
  },
  "mimetype": "text/x-python",
  "name": "python",
  "npconvert_exporter": "python",
  "pygments_lexer": "ipython3",
  "version": 3
 },
 "nbformat": 4,
 "nbformat_minor": 2
}
