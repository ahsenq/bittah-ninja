{
 "cells": [
  {
   "cell_type": "code",
   "execution_count": 4,
   "metadata": {},
   "outputs": [],
   "source": [
    "import random\n",
    "import pandas as pd"
   ]
  },
  {
   "cell_type": "code",
   "execution_count": 95,
   "metadata": {},
   "outputs": [],
   "source": [
    "df = pd.read_csv('all_clips.txt',header=None)"
   ]
  },
  {
   "cell_type": "code",
   "execution_count": 3,
   "metadata": {},
   "outputs": [
    {
     "data": {
      "text/html": [
       "<div>\n",
       "<style scoped>\n",
       "    .dataframe tbody tr th:only-of-type {\n",
       "        vertical-align: middle;\n",
       "    }\n",
       "\n",
       "    .dataframe tbody tr th {\n",
       "        vertical-align: top;\n",
       "    }\n",
       "\n",
       "    .dataframe thead th {\n",
       "        text-align: right;\n",
       "    }\n",
       "</style>\n",
       "<table border=\"1\" class=\"dataframe\">\n",
       "  <thead>\n",
       "    <tr style=\"text-align: right;\">\n",
       "      <th></th>\n",
       "      <th>0</th>\n",
       "    </tr>\n",
       "  </thead>\n",
       "  <tbody>\n",
       "    <tr>\n",
       "      <td>0</td>\n",
       "      <td>5yo_vs_Mickey_slice0.mp4</td>\n",
       "    </tr>\n",
       "    <tr>\n",
       "      <td>1</td>\n",
       "      <td>5yo_vs_Mickey_slice10.mp4</td>\n",
       "    </tr>\n",
       "    <tr>\n",
       "      <td>2</td>\n",
       "      <td>5yo_vs_Mickey_slice15.mp4</td>\n",
       "    </tr>\n",
       "    <tr>\n",
       "      <td>3</td>\n",
       "      <td>5yo_vs_Mickey_slice20.mp4</td>\n",
       "    </tr>\n",
       "    <tr>\n",
       "      <td>4</td>\n",
       "      <td>5yo_vs_Mickey_slice5.mp4</td>\n",
       "    </tr>\n",
       "  </tbody>\n",
       "</table>\n",
       "</div>"
      ],
      "text/plain": [
       "                           0\n",
       "0   5yo_vs_Mickey_slice0.mp4\n",
       "1  5yo_vs_Mickey_slice10.mp4\n",
       "2  5yo_vs_Mickey_slice15.mp4\n",
       "3  5yo_vs_Mickey_slice20.mp4\n",
       "4   5yo_vs_Mickey_slice5.mp4"
      ]
     },
     "execution_count": 3,
     "metadata": {},
     "output_type": "execute_result"
    }
   ],
   "source": [
    "df.head()"
   ]
  },
  {
   "cell_type": "code",
   "execution_count": 4,
   "metadata": {},
   "outputs": [
    {
     "data": {
      "text/plain": [
       "(5290, 1)"
      ]
     },
     "execution_count": 4,
     "metadata": {},
     "output_type": "execute_result"
    }
   ],
   "source": [
    "df.shape"
   ]
  },
  {
   "cell_type": "code",
   "execution_count": 5,
   "metadata": {},
   "outputs": [],
   "source": [
    "df.rename(columns={0:'clip_title'},inplace=True)"
   ]
  },
  {
   "cell_type": "code",
   "execution_count": 6,
   "metadata": {},
   "outputs": [],
   "source": [
    "df['labeler'] = \"TBD\"\n",
    "df['class'] = 99"
   ]
  },
  {
   "cell_type": "code",
   "execution_count": 7,
   "metadata": {},
   "outputs": [
    {
     "data": {
      "text/html": [
       "<div>\n",
       "<style scoped>\n",
       "    .dataframe tbody tr th:only-of-type {\n",
       "        vertical-align: middle;\n",
       "    }\n",
       "\n",
       "    .dataframe tbody tr th {\n",
       "        vertical-align: top;\n",
       "    }\n",
       "\n",
       "    .dataframe thead th {\n",
       "        text-align: right;\n",
       "    }\n",
       "</style>\n",
       "<table border=\"1\" class=\"dataframe\">\n",
       "  <thead>\n",
       "    <tr style=\"text-align: right;\">\n",
       "      <th></th>\n",
       "      <th>clip_title</th>\n",
       "      <th>labeler</th>\n",
       "      <th>class</th>\n",
       "    </tr>\n",
       "  </thead>\n",
       "  <tbody>\n",
       "    <tr>\n",
       "      <td>0</td>\n",
       "      <td>5yo_vs_Mickey_slice0.mp4</td>\n",
       "      <td>TBD</td>\n",
       "      <td>99</td>\n",
       "    </tr>\n",
       "    <tr>\n",
       "      <td>1</td>\n",
       "      <td>5yo_vs_Mickey_slice10.mp4</td>\n",
       "      <td>TBD</td>\n",
       "      <td>99</td>\n",
       "    </tr>\n",
       "    <tr>\n",
       "      <td>2</td>\n",
       "      <td>5yo_vs_Mickey_slice15.mp4</td>\n",
       "      <td>TBD</td>\n",
       "      <td>99</td>\n",
       "    </tr>\n",
       "    <tr>\n",
       "      <td>3</td>\n",
       "      <td>5yo_vs_Mickey_slice20.mp4</td>\n",
       "      <td>TBD</td>\n",
       "      <td>99</td>\n",
       "    </tr>\n",
       "    <tr>\n",
       "      <td>4</td>\n",
       "      <td>5yo_vs_Mickey_slice5.mp4</td>\n",
       "      <td>TBD</td>\n",
       "      <td>99</td>\n",
       "    </tr>\n",
       "  </tbody>\n",
       "</table>\n",
       "</div>"
      ],
      "text/plain": [
       "                  clip_title labeler  class\n",
       "0   5yo_vs_Mickey_slice0.mp4     TBD     99\n",
       "1  5yo_vs_Mickey_slice10.mp4     TBD     99\n",
       "2  5yo_vs_Mickey_slice15.mp4     TBD     99\n",
       "3  5yo_vs_Mickey_slice20.mp4     TBD     99\n",
       "4   5yo_vs_Mickey_slice5.mp4     TBD     99"
      ]
     },
     "execution_count": 7,
     "metadata": {},
     "output_type": "execute_result"
    }
   ],
   "source": [
    "df.head()"
   ]
  },
  {
   "cell_type": "code",
   "execution_count": 46,
   "metadata": {},
   "outputs": [
    {
     "name": "stdout",
     "output_type": "stream",
     "text": [
      "6\n"
     ]
    }
   ],
   "source": [
    "n = int(input())"
   ]
  },
  {
   "cell_type": "code",
   "execution_count": 8,
   "metadata": {},
   "outputs": [],
   "source": [
    "random.seed(42)"
   ]
  },
  {
   "cell_type": "code",
   "execution_count": 9,
   "metadata": {},
   "outputs": [],
   "source": [
    "clip_range = range(0,df.shape[0])"
   ]
  },
  {
   "cell_type": "code",
   "execution_count": 10,
   "metadata": {},
   "outputs": [],
   "source": [
    "week6 = random.sample(clip_range,k=1000)\n",
    "# jen = sorted(week6[0:250])\n",
    "# ahsen = sorted(week6[250:500])\n",
    "# lance = sorted(week6[500:750])\n",
    "# alex = sorted(week6[750:1000])"
   ]
  },
  {
   "cell_type": "markdown",
   "metadata": {},
   "source": [
    "# This section was added week 11 to assign out the rest of the videos"
   ]
  },
  {
   "cell_type": "code",
   "execution_count": 2,
   "metadata": {},
   "outputs": [
    {
     "name": "stdout",
     "output_type": "stream",
     "text": [
      "total 2.5M\r\n",
      "drwxr-xr-x  5 root root 4.0K Nov  3 21:38  .\r\n",
      "-rw-r--r--  1 root root  46K Nov  3 21:38  ClipAssigner.ipynb\r\n",
      "drwxr-xr-x  8 root root 4.0K Nov  3 21:27  .git\r\n",
      "-rw-r--r--  1 root root 217K Nov  3 21:27  week11_all_assigned.csv\r\n",
      "-rw-r--r--  1 root root  660 Nov  3 21:27  rename_vids.py\r\n",
      "-rw-r--r--  1 root root  277 Nov  3 21:27  rescale_vids.sh\r\n",
      "-rw-r--r--  1 root root 8.6K Nov  3 21:27  simple_CNN-LSTM_net.py\r\n",
      "drwx------ 18 root root 4.0K Nov  3 21:27  ..\r\n",
      "-rw-r--r--  1 root root  38K Nov  3 21:05  jend_week11_labeling_assignment.csv\r\n",
      "-rw-r--r--  1 root root  80K Nov  2 22:50  Joiner.ipynb\r\n",
      "-rw-r--r--  1 root root 204K Nov  2 22:40  week10_labeled.csv\r\n",
      "-rw-r--r--  1 root root 5.6K Nov  2 17:35 \"Ahsen's MovieHouseMcLabelMore.ipynb\"\r\n",
      "-rw-r--r--  1 root root 8.5K Nov  2 17:34  ahsen_week9_clips.csv\r\n",
      "-rw-r--r--  1 root root 5.6K Oct 30 22:48 \"Lance's MovieHouseMcLabelMore.ipynb\"\r\n",
      "-rw-r--r--  1 root root 8.0K Oct 30 22:47  lance_week9_clips.csv\r\n",
      "-rw-r--r--  1 root root 205K Oct 30 02:13  week9_labeled.csv\r\n",
      "drwxr-xr-x  3 root root 4.0K Oct 29 02:44  eval\r\n",
      "-rw-r--r--  1 root root 5.7K Oct 27 19:04 \"JenD's MovieHouseMcLabelMore.ipynb\"\r\n",
      "-rw-r--r--  1 root root 8.0K Oct 27 19:04  jen_week9_clips.csv\r\n",
      "-rw-r--r--  1 root root 2.2K Oct 27 00:40  importFromIBM.py\r\n",
      "-rw-r--r--  1 root root  32K Oct 27 00:40  simple_CNN-LSTM_net.ipynb\r\n",
      "-rw-r--r--  1 root root 5.7K Oct 27 00:38 \"Alex's MovieHouseMcLabelMore.ipynb\"\r\n",
      "-rw-r--r--  1 root root 7.9K Oct 27 00:38  alex_week9_clips.csv\r\n",
      "-rw-r--r--  1 root root 205K Oct 23 03:54  week9_all_clips.csv\r\n",
      "-rw-r--r--  1 root root  36K Oct 22 01:56  first_1k_labeled_long_vids_removed.csv\r\n",
      "-rw-r--r--  1 root root 2.5K Oct 21 02:34  AWOL_labeled_videos.csv\r\n",
      "drwxr-xr-x  2 root root 4.0K Oct 21 01:03  .ipynb_checkpoints\r\n",
      "-rw-r--r--  1 root root 147K Oct 21 00:43  week9_inventory.txt\r\n",
      "-rw-r--r--  1 root root 1.3K Oct 20 20:43  .gitignore\r\n",
      "-rw-r--r--  1 root root  685 Oct 20 20:43  sliceVid_onBatch.sh\r\n",
      "-rw-r--r--  1 root root 4.5K Oct 19 01:23  importFromIBM.ipynb\r\n",
      "-rw-r--r--  1 root root 160K Oct 19 00:47  did_not_label_in_week6.csv\r\n",
      "-rw-r--r--  1 root root 681K Oct 15 02:53  stock-photo-fight-in-a-football-game-crowd-angry-man-hitting-another-spectator-in-soccer-match-audience-1009607794.jpg\r\n",
      "-rw-r--r--  1 root root  11K Oct  8 01:36  full_labels.csv\r\n",
      "-rw-r--r--  1 root root  38K Oct  8 01:32  first_1k_labeled.csv\r\n",
      "-rw-r--r--  1 root root  11K Oct  7 05:16  ahsen_clips.csv\r\n",
      "-rw-r--r--  1 root root 9.8K Oct  6 20:55  jen_clips.csv\r\n",
      "-rw-r--r--  1 root root  11K Oct  6 16:48  lance_clips.csv\r\n",
      "-rw-r--r--  1 root root  11K Oct  6 10:57  alex_clips.csv\r\n",
      "-rw-r--r--  1 root root  785 Oct  5 20:13  convertCodec.sh\r\n",
      "-rw-r--r--  1 root root  15K Oct  5 01:32  ClassCharacterization.ipynb\r\n",
      "-rw-r--r--  1 root root 135K Oct  2 02:07  all_clips.txt\r\n",
      "-rw-r--r--  1 root root 3.0K Sep 30 02:16  readVideo.ipynb\r\n",
      "-rw-r--r--  1 root root  478 Sep 29 01:51  multiSlice.py\r\n",
      "-rw-r--r--  1 root root  651 Sep 27 01:45  sliceVid.sh\r\n",
      "-rw-r--r--  1 root root 2.1K Sep 26 11:42  README.md\r\n",
      "-rw-r--r--  1 root root  818 Sep 26 10:33  readVideo.py\r\n",
      "-rw-r--r--  1 root root  960 Sep 26 10:33  requirements.txt\r\n"
     ]
    }
   ],
   "source": [
    "!ls -laht"
   ]
  },
  {
   "cell_type": "code",
   "execution_count": 5,
   "metadata": {},
   "outputs": [],
   "source": [
    "df = pd.read_csv(\"week11_all_assigned.csv\",header=0,index_col=0,\\\n",
    "                 dtype={'clip_title': str, 'labeler': str, 'class': 'Int32'} )"
   ]
  },
  {
   "cell_type": "code",
   "execution_count": 6,
   "metadata": {},
   "outputs": [
    {
     "data": {
      "text/html": [
       "<div>\n",
       "<style scoped>\n",
       "    .dataframe tbody tr th:only-of-type {\n",
       "        vertical-align: middle;\n",
       "    }\n",
       "\n",
       "    .dataframe tbody tr th {\n",
       "        vertical-align: top;\n",
       "    }\n",
       "\n",
       "    .dataframe thead th {\n",
       "        text-align: right;\n",
       "    }\n",
       "</style>\n",
       "<table border=\"1\" class=\"dataframe\">\n",
       "  <thead>\n",
       "    <tr style=\"text-align: right;\">\n",
       "      <th></th>\n",
       "      <th>clip_title</th>\n",
       "      <th>labeler</th>\n",
       "      <th>class</th>\n",
       "    </tr>\n",
       "    <tr>\n",
       "      <th>video-UID</th>\n",
       "      <th></th>\n",
       "      <th></th>\n",
       "      <th></th>\n",
       "    </tr>\n",
       "  </thead>\n",
       "  <tbody>\n",
       "    <tr>\n",
       "      <td>10000</td>\n",
       "      <td>5yo_vs_Mickey_slice0_slice0.mp4</td>\n",
       "      <td>Alex</td>\n",
       "      <td>99</td>\n",
       "    </tr>\n",
       "    <tr>\n",
       "      <td>10001</td>\n",
       "      <td>5yo_vs_Mickey_slice10_slice0.mp4</td>\n",
       "      <td>Alex</td>\n",
       "      <td>99</td>\n",
       "    </tr>\n",
       "    <tr>\n",
       "      <td>10002</td>\n",
       "      <td>5yo_vs_Mickey_slice15_slice0.mp4</td>\n",
       "      <td>Alex</td>\n",
       "      <td>99</td>\n",
       "    </tr>\n",
       "    <tr>\n",
       "      <td>10003</td>\n",
       "      <td>5yo_vs_Mickey_slice20.mp4</td>\n",
       "      <td>Ahsen</td>\n",
       "      <td>0</td>\n",
       "    </tr>\n",
       "    <tr>\n",
       "      <td>10004</td>\n",
       "      <td>5yo_vs_Mickey_slice5.mp4</td>\n",
       "      <td>Jen</td>\n",
       "      <td>0</td>\n",
       "    </tr>\n",
       "  </tbody>\n",
       "</table>\n",
       "</div>"
      ],
      "text/plain": [
       "                                 clip_title labeler  class\n",
       "video-UID                                                 \n",
       "10000       5yo_vs_Mickey_slice0_slice0.mp4    Alex     99\n",
       "10001      5yo_vs_Mickey_slice10_slice0.mp4    Alex     99\n",
       "10002      5yo_vs_Mickey_slice15_slice0.mp4    Alex     99\n",
       "10003             5yo_vs_Mickey_slice20.mp4   Ahsen      0\n",
       "10004              5yo_vs_Mickey_slice5.mp4     Jen      0"
      ]
     },
     "execution_count": 6,
     "metadata": {},
     "output_type": "execute_result"
    }
   ],
   "source": [
    "df.head()"
   ]
  },
  {
   "cell_type": "code",
   "execution_count": 7,
   "metadata": {},
   "outputs": [
    {
     "data": {
      "text/plain": [
       "(5441, 3)"
      ]
     },
     "execution_count": 7,
     "metadata": {},
     "output_type": "execute_result"
    }
   ],
   "source": [
    "df.shape"
   ]
  },
  {
   "cell_type": "code",
   "execution_count": 8,
   "metadata": {},
   "outputs": [
    {
     "data": {
      "text/plain": [
       "Jen      1371\n",
       "Alex     1362\n",
       "Lance    1355\n",
       "Ahsen    1353\n",
       "Name: labeler, dtype: int64"
      ]
     },
     "execution_count": 8,
     "metadata": {},
     "output_type": "execute_result"
    }
   ],
   "source": [
    "df['labeler'].value_counts()"
   ]
  },
  {
   "cell_type": "code",
   "execution_count": 101,
   "metadata": {},
   "outputs": [],
   "source": [
    "unassigned = df[df['labeler'].isna()]['labeler']"
   ]
  },
  {
   "cell_type": "code",
   "execution_count": 102,
   "metadata": {},
   "outputs": [],
   "source": [
    "mine = unassigned[jen]\n",
    "mine[:]='Jen'\n",
    "\n",
    "alexs = unassigned[alex] \n",
    "alexs[:]='Alex'\n",
    "\n",
    "lances = unassigned[lance]\n",
    "lances[:]='Lance'\n",
    "\n",
    "ahsens = unassigned[ahsen]\n",
    "ahsens[:]='Ahsen'"
   ]
  },
  {
   "cell_type": "code",
   "execution_count": 103,
   "metadata": {},
   "outputs": [
    {
     "data": {
      "text/plain": [
       "Series([], Name: labeler, dtype: int64)"
      ]
     },
     "execution_count": 103,
     "metadata": {},
     "output_type": "execute_result"
    }
   ],
   "source": [
    "unassigned.value_counts()"
   ]
  },
  {
   "cell_type": "code",
   "execution_count": 107,
   "metadata": {},
   "outputs": [
    {
     "data": {
      "text/plain": [
       "video-UID\n",
       "10494    Ahsen\n",
       "11909    Ahsen\n",
       "14642    Ahsen\n",
       "15098    Ahsen\n",
       "14064    Ahsen\n",
       "Name: labeler, dtype: object"
      ]
     },
     "execution_count": 107,
     "metadata": {},
     "output_type": "execute_result"
    }
   ],
   "source": [
    "ahsens.head()"
   ]
  },
  {
   "cell_type": "code",
   "execution_count": 109,
   "metadata": {},
   "outputs": [
    {
     "data": {
      "text/plain": [
       "Jen      1371\n",
       "Alex      439\n",
       "Lance     432\n",
       "Ahsen     430\n",
       "Name: labeler, dtype: int64"
      ]
     },
     "execution_count": 109,
     "metadata": {},
     "output_type": "execute_result"
    }
   ],
   "source": [
    "df.update(mine)\n",
    "df['labeler'].value_counts()"
   ]
  },
  {
   "cell_type": "code",
   "execution_count": 114,
   "metadata": {},
   "outputs": [],
   "source": [
    "df.update(ahsens)"
   ]
  },
  {
   "cell_type": "code",
   "execution_count": 115,
   "metadata": {},
   "outputs": [
    {
     "data": {
      "text/plain": [
       "Jen      1371\n",
       "Alex     1362\n",
       "Lance    1355\n",
       "Ahsen    1353\n",
       "Name: labeler, dtype: int64"
      ]
     },
     "execution_count": 115,
     "metadata": {},
     "output_type": "execute_result"
    }
   ],
   "source": [
    "df['labeler'].value_counts()"
   ]
  },
  {
   "cell_type": "code",
   "execution_count": 18,
   "metadata": {},
   "outputs": [],
   "source": [
    "una_vuids = list(unassigned.index)"
   ]
  },
  {
   "cell_type": "code",
   "execution_count": 19,
   "metadata": {},
   "outputs": [
    {
     "data": {
      "text/plain": [
       "3692"
      ]
     },
     "execution_count": 19,
     "metadata": {},
     "output_type": "execute_result"
    }
   ],
   "source": [
    "len(una_vuids)"
   ]
  },
  {
   "cell_type": "code",
   "execution_count": 28,
   "metadata": {},
   "outputs": [
    {
     "data": {
      "text/plain": [
       "923.0"
      ]
     },
     "execution_count": 28,
     "metadata": {},
     "output_type": "execute_result"
    }
   ],
   "source": [
    "len(una_vuids)/4"
   ]
  },
  {
   "cell_type": "code",
   "execution_count": 20,
   "metadata": {},
   "outputs": [
    {
     "data": {
      "text/plain": [
       "[10000, 10001, 10002, 10005, 10006, 10007, 10008, 10010, 10011, 10014]"
      ]
     },
     "execution_count": 20,
     "metadata": {},
     "output_type": "execute_result"
    }
   ],
   "source": [
    "una_vuids[0:10]"
   ]
  },
  {
   "cell_type": "code",
   "execution_count": 24,
   "metadata": {},
   "outputs": [],
   "source": [
    "random.seed(42)"
   ]
  },
  {
   "cell_type": "code",
   "execution_count": 26,
   "metadata": {},
   "outputs": [],
   "source": [
    "shuna_vuids = random.sample(una_vuids, k=len(una_vuids))"
   ]
  },
  {
   "cell_type": "code",
   "execution_count": 27,
   "metadata": {},
   "outputs": [
    {
     "data": {
      "text/plain": [
       "[15083, 10164, 13463, 10487, 12351, 12434, 10091, 14592, 12443, 11478]"
      ]
     },
     "execution_count": 27,
     "metadata": {},
     "output_type": "execute_result"
    }
   ],
   "source": [
    "shuna_vuids[0:10]"
   ]
  },
  {
   "cell_type": "code",
   "execution_count": 35,
   "metadata": {},
   "outputs": [],
   "source": [
    "jen = shuna_vuids[0:923]\n",
    "ahsen = shuna_vuids[923:1846]\n",
    "lance = shuna_vuids[1846:2769]\n",
    "alex = shuna_vuids[2769:]"
   ]
  },
  {
   "cell_type": "code",
   "execution_count": 117,
   "metadata": {},
   "outputs": [
    {
     "data": {
      "text/html": [
       "<div>\n",
       "<style scoped>\n",
       "    .dataframe tbody tr th:only-of-type {\n",
       "        vertical-align: middle;\n",
       "    }\n",
       "\n",
       "    .dataframe tbody tr th {\n",
       "        vertical-align: top;\n",
       "    }\n",
       "\n",
       "    .dataframe thead th {\n",
       "        text-align: right;\n",
       "    }\n",
       "</style>\n",
       "<table border=\"1\" class=\"dataframe\">\n",
       "  <thead>\n",
       "    <tr style=\"text-align: right;\">\n",
       "      <th></th>\n",
       "      <th>clip_title</th>\n",
       "      <th>labeler</th>\n",
       "      <th>class</th>\n",
       "    </tr>\n",
       "    <tr>\n",
       "      <th>video-UID</th>\n",
       "      <th></th>\n",
       "      <th></th>\n",
       "      <th></th>\n",
       "    </tr>\n",
       "  </thead>\n",
       "  <tbody>\n",
       "    <tr>\n",
       "      <td>11343</td>\n",
       "      <td>NV_992.mp4_slice40.mp4</td>\n",
       "      <td>Ahsen</td>\n",
       "      <td>99</td>\n",
       "    </tr>\n",
       "    <tr>\n",
       "      <td>10497</td>\n",
       "      <td>NV_252.mp4</td>\n",
       "      <td>Ahsen</td>\n",
       "      <td>99</td>\n",
       "    </tr>\n",
       "    <tr>\n",
       "      <td>10660</td>\n",
       "      <td>NV_398.mp4</td>\n",
       "      <td>Lance</td>\n",
       "      <td>0</td>\n",
       "    </tr>\n",
       "    <tr>\n",
       "      <td>880</td>\n",
       "      <td>NV_618.mp4</td>\n",
       "      <td>Alex</td>\n",
       "      <td>0</td>\n",
       "    </tr>\n",
       "    <tr>\n",
       "      <td>10856</td>\n",
       "      <td>NV_575.mp4</td>\n",
       "      <td>Alex</td>\n",
       "      <td>0</td>\n",
       "    </tr>\n",
       "    <tr>\n",
       "      <td>15283</td>\n",
       "      <td>teen_punches_officer_slice75.mp4</td>\n",
       "      <td>Ahsen</td>\n",
       "      <td>99</td>\n",
       "    </tr>\n",
       "    <tr>\n",
       "      <td>10718</td>\n",
       "      <td>NV_45.mp4</td>\n",
       "      <td>Jen</td>\n",
       "      <td>99</td>\n",
       "    </tr>\n",
       "    <tr>\n",
       "      <td>13604</td>\n",
       "      <td>how_to_punch_7_basics_slice140.mp4</td>\n",
       "      <td>Alex</td>\n",
       "      <td>99</td>\n",
       "    </tr>\n",
       "    <tr>\n",
       "      <td>11997</td>\n",
       "      <td>V_44.mp4</td>\n",
       "      <td>Lance</td>\n",
       "      <td>1</td>\n",
       "    </tr>\n",
       "    <tr>\n",
       "      <td>4306</td>\n",
       "      <td>street_confrontation_punch_slice85.mp4</td>\n",
       "      <td>Alex</td>\n",
       "      <td>0</td>\n",
       "    </tr>\n",
       "    <tr>\n",
       "      <td>218</td>\n",
       "      <td>HShackeysack_slice195.mp4</td>\n",
       "      <td>Lance</td>\n",
       "      <td>0</td>\n",
       "    </tr>\n",
       "    <tr>\n",
       "      <td>1220</td>\n",
       "      <td>NV_924.mp4</td>\n",
       "      <td>Alex</td>\n",
       "      <td>0</td>\n",
       "    </tr>\n",
       "    <tr>\n",
       "      <td>3689</td>\n",
       "      <td>how_to_strike_max_power_slice750.mp4</td>\n",
       "      <td>Alex</td>\n",
       "      <td>4</td>\n",
       "    </tr>\n",
       "    <tr>\n",
       "      <td>14138</td>\n",
       "      <td>perfect_hook_punch_slice10.mp4</td>\n",
       "      <td>Alex</td>\n",
       "      <td>99</td>\n",
       "    </tr>\n",
       "    <tr>\n",
       "      <td>12633</td>\n",
       "      <td>V_952.mp4</td>\n",
       "      <td>Ahsen</td>\n",
       "      <td>99</td>\n",
       "    </tr>\n",
       "    <tr>\n",
       "      <td>3019</td>\n",
       "      <td>female_makeup_artist_client_slice20.mp4</td>\n",
       "      <td>Jen</td>\n",
       "      <td>0</td>\n",
       "    </tr>\n",
       "    <tr>\n",
       "      <td>13006</td>\n",
       "      <td>downward_strike_punches_slice720.mp4</td>\n",
       "      <td>Ahsen</td>\n",
       "      <td>99</td>\n",
       "    </tr>\n",
       "    <tr>\n",
       "      <td>11840</td>\n",
       "      <td>V_302.mp4</td>\n",
       "      <td>Jen</td>\n",
       "      <td>1</td>\n",
       "    </tr>\n",
       "    <tr>\n",
       "      <td>14597</td>\n",
       "      <td>streetfight1_slice60.mp4</td>\n",
       "      <td>Jen</td>\n",
       "      <td>1</td>\n",
       "    </tr>\n",
       "    <tr>\n",
       "      <td>14979</td>\n",
       "      <td>streetfight4_slice280.mp4</td>\n",
       "      <td>Jen</td>\n",
       "      <td>99</td>\n",
       "    </tr>\n",
       "  </tbody>\n",
       "</table>\n",
       "</div>"
      ],
      "text/plain": [
       "                                        clip_title labeler  class\n",
       "video-UID                                                        \n",
       "11343                       NV_992.mp4_slice40.mp4   Ahsen     99\n",
       "10497                                   NV_252.mp4   Ahsen     99\n",
       "10660                                   NV_398.mp4   Lance      0\n",
       "880                                     NV_618.mp4    Alex      0\n",
       "10856                                   NV_575.mp4    Alex      0\n",
       "15283             teen_punches_officer_slice75.mp4   Ahsen     99\n",
       "10718                                    NV_45.mp4     Jen     99\n",
       "13604           how_to_punch_7_basics_slice140.mp4    Alex     99\n",
       "11997                                     V_44.mp4   Lance      1\n",
       "4306        street_confrontation_punch_slice85.mp4    Alex      0\n",
       "218                      HShackeysack_slice195.mp4   Lance      0\n",
       "1220                                    NV_924.mp4    Alex      0\n",
       "3689          how_to_strike_max_power_slice750.mp4    Alex      4\n",
       "14138               perfect_hook_punch_slice10.mp4    Alex     99\n",
       "12633                                    V_952.mp4   Ahsen     99\n",
       "3019       female_makeup_artist_client_slice20.mp4     Jen      0\n",
       "13006         downward_strike_punches_slice720.mp4   Ahsen     99\n",
       "11840                                    V_302.mp4     Jen      1\n",
       "14597                     streetfight1_slice60.mp4     Jen      1\n",
       "14979                    streetfight4_slice280.mp4     Jen     99"
      ]
     },
     "execution_count": 117,
     "metadata": {},
     "output_type": "execute_result"
    }
   ],
   "source": [
    "df.sample(20)"
   ]
  },
  {
   "cell_type": "code",
   "execution_count": 118,
   "metadata": {},
   "outputs": [
    {
     "data": {
      "text/plain": [
       "0"
      ]
     },
     "execution_count": 118,
     "metadata": {},
     "output_type": "execute_result"
    }
   ],
   "source": [
    "sum(df['labeler'].isna())"
   ]
  },
  {
   "cell_type": "code",
   "execution_count": 119,
   "metadata": {},
   "outputs": [],
   "source": [
    "df.to_csv('week11_all_assigned.csv')"
   ]
  },
  {
   "cell_type": "code",
   "execution_count": 9,
   "metadata": {},
   "outputs": [],
   "source": [
    "df[(df['labeler']=='Jen') & (df['class']==99) ].to_csv('jend_week11_labeling_assignment.csv')"
   ]
  },
  {
   "cell_type": "code",
   "execution_count": 13,
   "metadata": {},
   "outputs": [],
   "source": [
    "df[(df['labeler']=='Alex') & (df['class']==99) ].to_csv('alex_week11_labeling_assignment.csv')"
   ]
  },
  {
   "cell_type": "code",
   "execution_count": 16,
   "metadata": {},
   "outputs": [],
   "source": [
    "df[(df['labeler']=='Lance') & (df['class']==99) ].to_csv('lance_week11_labeling_assignment.csv')"
   ]
  },
  {
   "cell_type": "code",
   "execution_count": 19,
   "metadata": {},
   "outputs": [],
   "source": [
    "df[(df['labeler']=='Ahsen') & (df['class']==99) ].to_csv('ahsen_week11_labeling_assignment.csv')"
   ]
  },
  {
   "cell_type": "code",
   "execution_count": 22,
   "metadata": {},
   "outputs": [
    {
     "name": "stdout",
     "output_type": "stream",
     "text": [
      "ahsen_week11_labeling_assignment.csv\r\n",
      "alex_week11_labeling_assignment.csv\r\n",
      "jend_week11_labeling_assignment.csv\r\n",
      "lance_week11_labeling_assignment.csv\r\n"
     ]
    }
   ],
   "source": [
    "!ls . | grep _week11"
   ]
  },
  {
   "cell_type": "code",
   "execution_count": 24,
   "metadata": {},
   "outputs": [
    {
     "name": "stdout",
     "output_type": "stream",
     "text": [
      "On branch master\r\n",
      "Your branch is up to date with 'origin/master'.\r\n",
      "\r\n",
      "Changes not staged for commit:\r\n",
      "  (use \"git add <file>...\" to update what will be committed)\r\n",
      "  (use \"git checkout -- <file>...\" to discard changes in working directory)\r\n",
      "\r\n",
      "\t\u001b[31mmodified:   Ahsen's MovieHouseMcLabelMore.ipynb\u001b[m\r\n",
      "\t\u001b[31mmodified:   ClipAssigner.ipynb\u001b[m\r\n",
      "\t\u001b[31mmodified:   JenD's MovieHouseMcLabelMore.ipynb\u001b[m\r\n",
      "\t\u001b[31mmodified:   Lance's MovieHouseMcLabelMore.ipynb\u001b[m\r\n",
      "\t\u001b[31mmodified:   eval/EvalTheatre.ipynb\u001b[m\r\n",
      "\r\n",
      "Untracked files:\r\n",
      "  (use \"git add <file>...\" to include in what will be committed)\r\n",
      "\r\n",
      "\t\u001b[31mAWOL_labeled_videos.csv\u001b[m\r\n",
      "\t\u001b[31mahsen_week11_labeling_assignment.csv\u001b[m\r\n",
      "\t\u001b[31malex_week11_labeling_assignment.csv\u001b[m\r\n",
      "\t\u001b[31mjend_week11_labeling_assignment.csv\u001b[m\r\n",
      "\t\u001b[31mlance_week11_labeling_assignment.csv\u001b[m\r\n",
      "\r\n",
      "no changes added to commit (use \"git add\" and/or \"git commit -a\")\r\n"
     ]
    }
   ],
   "source": [
    "!git status\n"
   ]
  },
  {
   "cell_type": "code",
   "execution_count": 126,
   "metadata": {},
   "outputs": [],
   "source": [
    "!git add week11_all_assigned.csv"
   ]
  },
  {
   "cell_type": "code",
   "execution_count": 127,
   "metadata": {},
   "outputs": [
    {
     "name": "stdout",
     "output_type": "stream",
     "text": [
      "[master bee6ef8] assign out rest of videos\r\n",
      " Committer: root <root@bittah-ninja.capstone.cloud>\r\n",
      "Your name and email address were configured automatically based\r\n",
      "on your username and hostname. Please check that they are accurate.\r\n",
      "You can suppress this message by setting them explicitly:\r\n",
      "\r\n",
      "    git config --global user.name \"Your Name\"\r\n",
      "    git config --global user.email you@example.com\r\n",
      "\r\n",
      "After doing this, you may fix the identity used for this commit with:\r\n",
      "\r\n",
      "    git commit --amend --reset-author\r\n",
      "\r\n",
      " 1 file changed, 5442 insertions(+)\r\n",
      " create mode 100644 week11_all_assigned.csv\r\n"
     ]
    }
   ],
   "source": [
    "!git commit -m \"assign out rest of videos\""
   ]
  },
  {
   "cell_type": "code",
   "execution_count": 129,
   "metadata": {},
   "outputs": [
    {
     "name": "stdout",
     "output_type": "stream",
     "text": [
      "Counting objects: 9, done.\n",
      "Delta compression using up to 8 threads.\n",
      "Compressing objects: 100% (9/9), done.\n",
      "Writing objects: 100% (9/9), 50.60 KiB | 2.98 MiB/s, done.\n",
      "Total 9 (delta 5), reused 0 (delta 0)\n",
      "remote: Resolving deltas: 100% (5/5), completed with 4 local objects.\u001b[K\n",
      "To https://github.com/ahsenq/bittah-ninja.git\n",
      "   803a37d..bee6ef8  master -> master\n"
     ]
    }
   ],
   "source": [
    "!git push origin master"
   ]
  },
  {
   "cell_type": "markdown",
   "metadata": {},
   "source": [
    "# This section was added week 8 to parse out the unlabled set of videos"
   ]
  },
  {
   "cell_type": "code",
   "execution_count": 22,
   "metadata": {},
   "outputs": [
    {
     "data": {
      "text/plain": [
       "[3, 4, 9, 13, 17, 21, 26, 29, 45, 48]"
      ]
     },
     "execution_count": 22,
     "metadata": {},
     "output_type": "execute_result"
    }
   ],
   "source": [
    "sorted(week6)[0:10]"
   ]
  },
  {
   "cell_type": "code",
   "execution_count": 11,
   "metadata": {},
   "outputs": [],
   "source": [
    "ul = df.drop(week6)"
   ]
  },
  {
   "cell_type": "code",
   "execution_count": 12,
   "metadata": {},
   "outputs": [
    {
     "data": {
      "text/plain": [
       "(4290, 3)"
      ]
     },
     "execution_count": 12,
     "metadata": {},
     "output_type": "execute_result"
    }
   ],
   "source": [
    "ul.shape"
   ]
  },
  {
   "cell_type": "code",
   "execution_count": 13,
   "metadata": {},
   "outputs": [
    {
     "data": {
      "text/html": [
       "<div>\n",
       "<style scoped>\n",
       "    .dataframe tbody tr th:only-of-type {\n",
       "        vertical-align: middle;\n",
       "    }\n",
       "\n",
       "    .dataframe tbody tr th {\n",
       "        vertical-align: top;\n",
       "    }\n",
       "\n",
       "    .dataframe thead th {\n",
       "        text-align: right;\n",
       "    }\n",
       "</style>\n",
       "<table border=\"1\" class=\"dataframe\">\n",
       "  <thead>\n",
       "    <tr style=\"text-align: right;\">\n",
       "      <th></th>\n",
       "      <th>clip_title</th>\n",
       "      <th>labeler</th>\n",
       "      <th>class</th>\n",
       "    </tr>\n",
       "  </thead>\n",
       "  <tbody>\n",
       "    <tr>\n",
       "      <td>0</td>\n",
       "      <td>5yo_vs_Mickey_slice0.mp4</td>\n",
       "      <td>TBD</td>\n",
       "      <td>99</td>\n",
       "    </tr>\n",
       "    <tr>\n",
       "      <td>1</td>\n",
       "      <td>5yo_vs_Mickey_slice10.mp4</td>\n",
       "      <td>TBD</td>\n",
       "      <td>99</td>\n",
       "    </tr>\n",
       "    <tr>\n",
       "      <td>2</td>\n",
       "      <td>5yo_vs_Mickey_slice15.mp4</td>\n",
       "      <td>TBD</td>\n",
       "      <td>99</td>\n",
       "    </tr>\n",
       "    <tr>\n",
       "      <td>5</td>\n",
       "      <td>Australian_flash_mob_dance_slice0.mp4</td>\n",
       "      <td>TBD</td>\n",
       "      <td>99</td>\n",
       "    </tr>\n",
       "    <tr>\n",
       "      <td>6</td>\n",
       "      <td>Australian_flash_mob_dance_slice10.mp4</td>\n",
       "      <td>TBD</td>\n",
       "      <td>99</td>\n",
       "    </tr>\n",
       "  </tbody>\n",
       "</table>\n",
       "</div>"
      ],
      "text/plain": [
       "                               clip_title labeler  class\n",
       "0                5yo_vs_Mickey_slice0.mp4     TBD     99\n",
       "1               5yo_vs_Mickey_slice10.mp4     TBD     99\n",
       "2               5yo_vs_Mickey_slice15.mp4     TBD     99\n",
       "5   Australian_flash_mob_dance_slice0.mp4     TBD     99\n",
       "6  Australian_flash_mob_dance_slice10.mp4     TBD     99"
      ]
     },
     "execution_count": 13,
     "metadata": {},
     "output_type": "execute_result"
    }
   ],
   "source": [
    "ul.head()"
   ]
  },
  {
   "cell_type": "code",
   "execution_count": 16,
   "metadata": {},
   "outputs": [],
   "source": [
    "ul.index.name = 'video-UID'"
   ]
  },
  {
   "cell_type": "code",
   "execution_count": 17,
   "metadata": {},
   "outputs": [],
   "source": [
    "ul.to_csv('did_not_label_in_week6.csv',header=True,index=True)"
   ]
  },
  {
   "cell_type": "code",
   "execution_count": 19,
   "metadata": {},
   "outputs": [
    {
     "data": {
      "text/plain": [
       "(0, 3)"
      ]
     },
     "execution_count": 19,
     "metadata": {},
     "output_type": "execute_result"
    }
   ],
   "source": [
    "ul[ul['labeler']!='TBD'].shape"
   ]
  },
  {
   "cell_type": "code",
   "execution_count": 25,
   "metadata": {},
   "outputs": [
    {
     "data": {
      "text/plain": [
       "0"
      ]
     },
     "execution_count": 25,
     "metadata": {},
     "output_type": "execute_result"
    }
   ],
   "source": [
    "len(set(ul.index).intersection(set(week6)))"
   ]
  },
  {
   "cell_type": "markdown",
   "metadata": {},
   "source": [
    "# Below was used for assigning out the first 1K in week 6"
   ]
  },
  {
   "cell_type": "code",
   "execution_count": 133,
   "metadata": {},
   "outputs": [
    {
     "name": "stderr",
     "output_type": "stream",
     "text": [
      "/root/w210/lib/python3.6/site-packages/ipykernel_launcher.py:2: SettingWithCopyWarning: \n",
      "A value is trying to be set on a copy of a slice from a DataFrame.\n",
      "Try using .loc[row_indexer,col_indexer] = value instead\n",
      "\n",
      "See the caveats in the documentation: http://pandas.pydata.org/pandas-docs/stable/user_guide/indexing.html#returning-a-view-versus-a-copy\n",
      "  \n"
     ]
    },
    {
     "data": {
      "text/plain": [
       "(250, 3)"
      ]
     },
     "execution_count": 133,
     "metadata": {},
     "output_type": "execute_result"
    }
   ],
   "source": [
    "jen_clips = df.iloc[jen,:]\n",
    "jen_clips['labeler'] = 'Jen'\n",
    "jen_clips.shape"
   ]
  },
  {
   "cell_type": "code",
   "execution_count": 134,
   "metadata": {},
   "outputs": [],
   "source": [
    "jen_clips.to_csv('jen_clips.csv',header=True,index=True)"
   ]
  },
  {
   "cell_type": "code",
   "execution_count": 135,
   "metadata": {},
   "outputs": [
    {
     "name": "stderr",
     "output_type": "stream",
     "text": [
      "/root/w210/lib/python3.6/site-packages/ipykernel_launcher.py:2: SettingWithCopyWarning: \n",
      "A value is trying to be set on a copy of a slice from a DataFrame.\n",
      "Try using .loc[row_indexer,col_indexer] = value instead\n",
      "\n",
      "See the caveats in the documentation: http://pandas.pydata.org/pandas-docs/stable/user_guide/indexing.html#returning-a-view-versus-a-copy\n",
      "  \n"
     ]
    }
   ],
   "source": [
    "ahsen_clips = df.iloc[ahsen,:]\n",
    "ahsen_clips['labeler'] = 'Ahsen'\n",
    "ahsen_clips.to_csv('ahsen_clips.csv',header=True,index=True)"
   ]
  },
  {
   "cell_type": "code",
   "execution_count": 137,
   "metadata": {},
   "outputs": [
    {
     "name": "stderr",
     "output_type": "stream",
     "text": [
      "/root/w210/lib/python3.6/site-packages/ipykernel_launcher.py:2: SettingWithCopyWarning: \n",
      "A value is trying to be set on a copy of a slice from a DataFrame.\n",
      "Try using .loc[row_indexer,col_indexer] = value instead\n",
      "\n",
      "See the caveats in the documentation: http://pandas.pydata.org/pandas-docs/stable/user_guide/indexing.html#returning-a-view-versus-a-copy\n",
      "  \n"
     ]
    }
   ],
   "source": [
    "lance_clips = df.iloc[lance,:]\n",
    "lance_clips['labeler'] = 'Lance'\n",
    "lance_clips.to_csv('lance_clips.csv',header=True,index=True)"
   ]
  },
  {
   "cell_type": "code",
   "execution_count": 143,
   "metadata": {},
   "outputs": [
    {
     "data": {
      "text/html": [
       "<div>\n",
       "<style scoped>\n",
       "    .dataframe tbody tr th:only-of-type {\n",
       "        vertical-align: middle;\n",
       "    }\n",
       "\n",
       "    .dataframe tbody tr th {\n",
       "        vertical-align: top;\n",
       "    }\n",
       "\n",
       "    .dataframe thead th {\n",
       "        text-align: right;\n",
       "    }\n",
       "</style>\n",
       "<table border=\"1\" class=\"dataframe\">\n",
       "  <thead>\n",
       "    <tr style=\"text-align: right;\">\n",
       "      <th></th>\n",
       "      <th>clip_title</th>\n",
       "      <th>labeler</th>\n",
       "      <th>class</th>\n",
       "    </tr>\n",
       "  </thead>\n",
       "  <tbody>\n",
       "    <tr>\n",
       "      <td>12</td>\n",
       "      <td>Australian_flash_mob_dance_slice125.mp4</td>\n",
       "      <td>Lance</td>\n",
       "      <td>99</td>\n",
       "    </tr>\n",
       "    <tr>\n",
       "      <td>43</td>\n",
       "      <td>Australian_flash_mob_dance_slice265.mp4</td>\n",
       "      <td>Lance</td>\n",
       "      <td>99</td>\n",
       "    </tr>\n",
       "    <tr>\n",
       "      <td>133</td>\n",
       "      <td>French_flashmob_circle_slice150.mp4</td>\n",
       "      <td>Lance</td>\n",
       "      <td>99</td>\n",
       "    </tr>\n",
       "    <tr>\n",
       "      <td>134</td>\n",
       "      <td>French_flashmob_circle_slice155.mp4</td>\n",
       "      <td>Lance</td>\n",
       "      <td>99</td>\n",
       "    </tr>\n",
       "    <tr>\n",
       "      <td>155</td>\n",
       "      <td>French_flashmob_circle_slice250.mp4</td>\n",
       "      <td>Lance</td>\n",
       "      <td>99</td>\n",
       "    </tr>\n",
       "  </tbody>\n",
       "</table>\n",
       "</div>"
      ],
      "text/plain": [
       "                                  clip_title labeler  class\n",
       "12   Australian_flash_mob_dance_slice125.mp4   Lance     99\n",
       "43   Australian_flash_mob_dance_slice265.mp4   Lance     99\n",
       "133      French_flashmob_circle_slice150.mp4   Lance     99\n",
       "134      French_flashmob_circle_slice155.mp4   Lance     99\n",
       "155      French_flashmob_circle_slice250.mp4   Lance     99"
      ]
     },
     "execution_count": 143,
     "metadata": {},
     "output_type": "execute_result"
    }
   ],
   "source": [
    "lance_clips.head()"
   ]
  },
  {
   "cell_type": "code",
   "execution_count": 144,
   "metadata": {},
   "outputs": [
    {
     "data": {
      "text/html": [
       "<div>\n",
       "<style scoped>\n",
       "    .dataframe tbody tr th:only-of-type {\n",
       "        vertical-align: middle;\n",
       "    }\n",
       "\n",
       "    .dataframe tbody tr th {\n",
       "        vertical-align: top;\n",
       "    }\n",
       "\n",
       "    .dataframe thead th {\n",
       "        text-align: right;\n",
       "    }\n",
       "</style>\n",
       "<table border=\"1\" class=\"dataframe\">\n",
       "  <thead>\n",
       "    <tr style=\"text-align: right;\">\n",
       "      <th></th>\n",
       "      <th>clip_title</th>\n",
       "      <th>labeler</th>\n",
       "      <th>class</th>\n",
       "    </tr>\n",
       "  </thead>\n",
       "  <tbody>\n",
       "    <tr>\n",
       "      <td>62</td>\n",
       "      <td>Australian_flash_mob_dance_slice85.mp4</td>\n",
       "      <td>Ahsen</td>\n",
       "      <td>99</td>\n",
       "    </tr>\n",
       "    <tr>\n",
       "      <td>63</td>\n",
       "      <td>Australian_flash_mob_dance_slice90.mp4</td>\n",
       "      <td>Ahsen</td>\n",
       "      <td>99</td>\n",
       "    </tr>\n",
       "    <tr>\n",
       "      <td>149</td>\n",
       "      <td>French_flashmob_circle_slice225.mp4</td>\n",
       "      <td>Ahsen</td>\n",
       "      <td>99</td>\n",
       "    </tr>\n",
       "    <tr>\n",
       "      <td>153</td>\n",
       "      <td>French_flashmob_circle_slice245.mp4</td>\n",
       "      <td>Ahsen</td>\n",
       "      <td>99</td>\n",
       "    </tr>\n",
       "    <tr>\n",
       "      <td>170</td>\n",
       "      <td>French_flashmob_circle_slice320.mp4</td>\n",
       "      <td>Ahsen</td>\n",
       "      <td>99</td>\n",
       "    </tr>\n",
       "  </tbody>\n",
       "</table>\n",
       "</div>"
      ],
      "text/plain": [
       "                                 clip_title labeler  class\n",
       "62   Australian_flash_mob_dance_slice85.mp4   Ahsen     99\n",
       "63   Australian_flash_mob_dance_slice90.mp4   Ahsen     99\n",
       "149     French_flashmob_circle_slice225.mp4   Ahsen     99\n",
       "153     French_flashmob_circle_slice245.mp4   Ahsen     99\n",
       "170     French_flashmob_circle_slice320.mp4   Ahsen     99"
      ]
     },
     "execution_count": 144,
     "metadata": {},
     "output_type": "execute_result"
    }
   ],
   "source": [
    "ahsen_clips.head()"
   ]
  },
  {
   "cell_type": "code",
   "execution_count": 139,
   "metadata": {},
   "outputs": [
    {
     "name": "stderr",
     "output_type": "stream",
     "text": [
      "/root/w210/lib/python3.6/site-packages/ipykernel_launcher.py:2: SettingWithCopyWarning: \n",
      "A value is trying to be set on a copy of a slice from a DataFrame.\n",
      "Try using .loc[row_indexer,col_indexer] = value instead\n",
      "\n",
      "See the caveats in the documentation: http://pandas.pydata.org/pandas-docs/stable/user_guide/indexing.html#returning-a-view-versus-a-copy\n",
      "  \n"
     ]
    }
   ],
   "source": [
    "alex_clips = df.iloc[alex,:]\n",
    "alex_clips['labeler'] = 'Alex'\n",
    "alex_clips.to_csv('alex_clips.csv',header=True,index=True)"
   ]
  },
  {
   "cell_type": "code",
   "execution_count": 142,
   "metadata": {},
   "outputs": [
    {
     "data": {
      "text/html": [
       "<div>\n",
       "<style scoped>\n",
       "    .dataframe tbody tr th:only-of-type {\n",
       "        vertical-align: middle;\n",
       "    }\n",
       "\n",
       "    .dataframe tbody tr th {\n",
       "        vertical-align: top;\n",
       "    }\n",
       "\n",
       "    .dataframe thead th {\n",
       "        text-align: right;\n",
       "    }\n",
       "</style>\n",
       "<table border=\"1\" class=\"dataframe\">\n",
       "  <thead>\n",
       "    <tr style=\"text-align: right;\">\n",
       "      <th></th>\n",
       "      <th>clip_title</th>\n",
       "      <th>labeler</th>\n",
       "      <th>class</th>\n",
       "    </tr>\n",
       "  </thead>\n",
       "  <tbody>\n",
       "    <tr>\n",
       "      <td>66</td>\n",
       "      <td>ByronBay_slice0.mp4</td>\n",
       "      <td>Alex</td>\n",
       "      <td>99</td>\n",
       "    </tr>\n",
       "    <tr>\n",
       "      <td>136</td>\n",
       "      <td>French_flashmob_circle_slice165.mp4</td>\n",
       "      <td>Alex</td>\n",
       "      <td>99</td>\n",
       "    </tr>\n",
       "    <tr>\n",
       "      <td>189</td>\n",
       "      <td>French_flashmob_circle_slice65.mp4</td>\n",
       "      <td>Alex</td>\n",
       "      <td>99</td>\n",
       "    </tr>\n",
       "    <tr>\n",
       "      <td>232</td>\n",
       "      <td>HShackeysack_slice255.mp4</td>\n",
       "      <td>Alex</td>\n",
       "      <td>99</td>\n",
       "    </tr>\n",
       "    <tr>\n",
       "      <td>248</td>\n",
       "      <td>HShackeysack_slice330.mp4</td>\n",
       "      <td>Alex</td>\n",
       "      <td>99</td>\n",
       "    </tr>\n",
       "  </tbody>\n",
       "</table>\n",
       "</div>"
      ],
      "text/plain": [
       "                              clip_title labeler  class\n",
       "66                   ByronBay_slice0.mp4    Alex     99\n",
       "136  French_flashmob_circle_slice165.mp4    Alex     99\n",
       "189   French_flashmob_circle_slice65.mp4    Alex     99\n",
       "232            HShackeysack_slice255.mp4    Alex     99\n",
       "248            HShackeysack_slice330.mp4    Alex     99"
      ]
     },
     "execution_count": 142,
     "metadata": {},
     "output_type": "execute_result"
    }
   ],
   "source": [
    "alex_clips.head()"
   ]
  },
  {
   "cell_type": "code",
   "execution_count": 126,
   "metadata": {},
   "outputs": [
    {
     "name": "stdout",
     "output_type": "stream",
     "text": [
      "Known nbextensions:\r\n",
      "  config dir: /root/w210/etc/jupyter/nbconfig\r\n",
      "    notebook section\r\n",
      "      jupyter-js-widgets/extension \u001b[32m enabled \u001b[0m\r\n",
      "      - Validating: \u001b[32mOK\u001b[0m\r\n",
      "      jupyter-video/extension \u001b[32m enabled \u001b[0m\r\n",
      "      - Validating: \u001b[32mOK\u001b[0m\r\n"
     ]
    }
   ],
   "source": [
    "from ipywidgets import Video, Image\n",
    "!jupyter nbextension list"
   ]
  },
  {
   "cell_type": "code",
   "execution_count": 127,
   "metadata": {},
   "outputs": [],
   "source": [
    "def show_vid(n):\n",
    "    print(df.iloc[n].clip_title)\n",
    "    video = Video.from_file('/root/vids/' + df.iloc[n].clip_title)\n",
    "    return video"
   ]
  },
  {
   "cell_type": "code",
   "execution_count": 128,
   "metadata": {},
   "outputs": [],
   "source": [
    "def label_vid(n):\n",
    "#     print(f\"**{df.iloc[n]['class']}**\".format())\n",
    "    print(f\"{df.iloc[n]['class']} is the current class of {df.iloc[n]['clip_title']}\".format())\n",
    "    print(\"\"\"Record a new class by entering one of the below responses\n",
    "        [-1] exclude\n",
    "        [0] no punch\n",
    "        [1] violent punch contact\n",
    "        [2] violent punch no-contact\n",
    "        [3] non-violent punch contact\n",
    "        [4] non-violent punch no-contact\n",
    "        [99] STOP\n",
    "    \"\"\")\n",
    "    user_label = int(input())\n",
    "    return user_label"
   ]
  },
  {
   "cell_type": "code",
   "execution_count": 130,
   "metadata": {},
   "outputs": [
    {
     "name": "stdout",
     "output_type": "stream",
     "text": [
      "5yo_vs_Mickey_slice0.mp4\n",
      "99 is the current class of 5yo_vs_Mickey_slice0.mp4\n",
      "Record a new class by entering one of the below responses\n",
      "        [-1] exclude\n",
      "        [0] no punch\n",
      "        [1] violent punch contact\n",
      "        [2] violent punch no-contact\n",
      "        [3] non-violent punch contact\n",
      "        [4] non-violent punch no-contact\n",
      "        [99] STOP\n",
      "    \n",
      "98\n"
     ]
    },
    {
     "name": "stderr",
     "output_type": "stream",
     "text": [
      "/root/w210/lib/python3.6/site-packages/ipykernel_launcher.py:7: SettingWithCopyWarning: \n",
      "A value is trying to be set on a copy of a slice from a DataFrame\n",
      "\n",
      "See the caveats in the documentation: http://pandas.pydata.org/pandas-docs/stable/user_guide/indexing.html#returning-a-view-versus-a-copy\n",
      "  import sys\n"
     ]
    },
    {
     "name": "stdout",
     "output_type": "stream",
     "text": [
      "5yo_vs_Mickey_slice10.mp4\n",
      "99 is the current class of 5yo_vs_Mickey_slice10.mp4\n",
      "Record a new class by entering one of the below responses\n",
      "        [-1] exclude\n",
      "        [0] no punch\n",
      "        [1] violent punch contact\n",
      "        [2] violent punch no-contact\n",
      "        [3] non-violent punch contact\n",
      "        [4] non-violent punch no-contact\n",
      "        [99] STOP\n",
      "    \n",
      "99\n"
     ]
    }
   ],
   "source": [
    "# This is not showing the video; may need to be separate cell for the nbextension.\n",
    "# for i in range(len(jen_clips)):\n",
    "#     show_vid(i)\n",
    "#     new_value = label_vid(i)\n",
    "#     if new_value == 99:\n",
    "#         break\n",
    "#     else:\n",
    "#         jen_clips.iloc[i]['class'] = new_value\n",
    "    \n",
    "# jen_clips.to_csv('jen_clips.csv',header=True,index=True)"
   ]
  },
  {
   "cell_type": "code",
   "execution_count": 78,
   "metadata": {},
   "outputs": [
    {
     "name": "stdout",
     "output_type": "stream",
     "text": [
      "streetfight5_slice230.mp4\n"
     ]
    },
    {
     "data": {
      "application/vnd.jupyter.widget-view+json": {
       "model_id": "9bca370f39fd442bbb195e64f9aeb6c1",
       "version_major": 2,
       "version_minor": 0
      },
      "text/plain": [
       "Video(value=b'\\x00\\x00\\x00 ftypisom\\x00\\x00\\x02\\x00isomiso2avc1mp41\\x00\\x00\\x00\\x08free\\x00\\x0c\\x16%mdat\\x00\\x…"
      ]
     },
     "metadata": {},
     "output_type": "display_data"
    }
   ],
   "source": [
    "show_vid(4931)"
   ]
  },
  {
   "cell_type": "code",
   "execution_count": null,
   "metadata": {},
   "outputs": [],
   "source": []
  }
 ],
 "metadata": {
  "kernelspec": {
   "display_name": "Python 3",
   "language": "python",
   "name": "python3"
  },
  "language_info": {
   "codemirror_mode": {
    "name": "ipython",
    "version": 3
   },
   "file_extension": ".py",
   "mimetype": "text/x-python",
   "name": "python",
   "nbconvert_exporter": "python",
   "pygments_lexer": "ipython3",
   "version": "3.6.8"
  }
 },
 "nbformat": 4,
 "nbformat_minor": 2
}
