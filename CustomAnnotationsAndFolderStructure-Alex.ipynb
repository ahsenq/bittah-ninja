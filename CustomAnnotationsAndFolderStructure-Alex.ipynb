{
 "cells": [
  {
   "cell_type": "code",
   "execution_count": 1,
   "metadata": {},
   "outputs": [],
   "source": [
    "import pandas as pd\n",
    "import numpy as np\n",
    "import os\n",
    "from sklearn.model_selection import train_test_split\n",
    "import shutil\n",
    "from tqdm import tqdm"
   ]
  },
  {
   "cell_type": "code",
   "execution_count": 2,
   "metadata": {},
   "outputs": [],
   "source": [
    "data_path = '/root/mmaction/data/punch101'\n",
    "annotation_path = data_path + '/annotations'\n",
    "video_path = data_path + '/videos'\n",
    "raw_path = data_path + '/rawframes'\n",
    "os.makedirs(annotation_path, exist_ok=True)\n",
    "os.makedirs(video_path, exist_ok=True)\n",
    "os.makedirs(raw_path, exist_ok=True)"
   ]
  },
  {
   "cell_type": "code",
   "execution_count": 3,
   "metadata": {},
   "outputs": [],
   "source": [
    "classes = {\n",
    "    0:'NoPunch',\n",
    "    1:'ViolentPunchContact',\n",
    "    2:'ViolentPunchNoContact',\n",
    "    3:'NonViolentPunchContact',\n",
    "    4:'NonViolentPunchNoContact'\n",
    "}"
   ]
  },
  {
   "cell_type": "code",
   "execution_count": 4,
   "metadata": {},
   "outputs": [],
   "source": [
    "for cls in classes.values():\n",
    "    os.makedirs(os.path.join(video_path, cls), exist_ok=True)\n",
    "    os.makedirs(os.path.join(raw_path, cls), exist_ok=True)"
   ]
  },
  {
   "cell_type": "code",
   "execution_count": 5,
   "metadata": {},
   "outputs": [
    {
     "data": {
      "text/plain": [
       "class\n",
       "-1     144\n",
       " 0    3783\n",
       " 1    1049\n",
       " 2      52\n",
       " 3     266\n",
       " 4     147\n",
       "dtype: int64"
      ]
     },
     "execution_count": 5,
     "metadata": {},
     "output_type": "execute_result"
    }
   ],
   "source": [
    "labeled_vids = pd.read_csv('/root/bittah-ninja/ground_truth.csv')\n",
    "labeled_vids.groupby('class').size()"
   ]
  },
  {
   "cell_type": "code",
   "execution_count": 6,
   "metadata": {},
   "outputs": [
    {
     "data": {
      "text/plain": [
       "label\n",
       "0    3783\n",
       "1    1049\n",
       "2      52\n",
       "3     266\n",
       "4     147\n",
       "dtype: int64"
      ]
     },
     "execution_count": 6,
     "metadata": {},
     "output_type": "execute_result"
    }
   ],
   "source": [
    "new_files = []\n",
    "for file in labeled_vids.clip_title:\n",
    "    newfile = ''.join(file.split('.mp4')) + '_scaled.mp4'\n",
    "    new_files.append(newfile)\n",
    "labeled_vids['clip_title'] = new_files\n",
    "labeled_vids.rename(columns={'class':'label'}, inplace=True)\n",
    "labeled_vids = labeled_vids.loc[labeled_vids.label != -1]\n",
    "labeled_vids = labeled_vids.loc[labeled_vids.label != 99]\n",
    "labeled_vids.groupby('label').size()"
   ]
  },
  {
   "cell_type": "code",
   "execution_count": 7,
   "metadata": {},
   "outputs": [],
   "source": [
    "train, test, train_labels, test_labels = train_test_split(labeled_vids.clip_title, labeled_vids.label, test_size=0.2)"
   ]
  },
  {
   "cell_type": "code",
   "execution_count": 8,
   "metadata": {},
   "outputs": [],
   "source": [
    "def createAnnotationsList(filenames, labels, output_name):\n",
    "    with open(os.path.join(annotation_path, output_name), 'w') as f:\n",
    "        annotations = []\n",
    "        for name, cls in zip(filenames, labels):\n",
    "            if cls == -1:\n",
    "                continue\n",
    "            filename = os.path.join(classes[cls], name)\n",
    "            annotations.append(f'{filename} {cls}')\n",
    "        f.write('\\n'.join(annotations))\n",
    "    return annotations"
   ]
  },
  {
   "cell_type": "code",
   "execution_count": 9,
   "metadata": {},
   "outputs": [],
   "source": [
    "train_annotations = createAnnotationsList(train, train_labels, 'train_list.txt')\n",
    "test_annotations = createAnnotationsList(test, test_labels, 'test_list.txt')"
   ]
  },
  {
   "cell_type": "code",
   "execution_count": 10,
   "metadata": {},
   "outputs": [
    {
     "data": {
      "text/plain": [
       "(5297, 4237, 1060)"
      ]
     },
     "execution_count": 10,
     "metadata": {},
     "output_type": "execute_result"
    }
   ],
   "source": [
    "annotations = train_annotations.copy()\n",
    "annotations.extend(test_annotations)\n",
    "len(annotations), len(train_annotations), len(test_annotations)"
   ]
  },
  {
   "cell_type": "code",
   "execution_count": 11,
   "metadata": {},
   "outputs": [],
   "source": [
    "vidPath = '/root/vids/scaled'"
   ]
  },
  {
   "cell_type": "code",
   "execution_count": 12,
   "metadata": {},
   "outputs": [
    {
     "name": "stderr",
     "output_type": "stream",
     "text": [
      "100%|██████████| 5297/5297 [00:01<00:00, 3167.63it/s]\n"
     ]
    }
   ],
   "source": [
    "for item in tqdm(annotations):\n",
    "    dst = item.split()[0]\n",
    "    dst = os.path.join(video_path, dst)\n",
    "    filename = dst.split('/')[-1]\n",
    "    src = os.path.join(vidPath, filename)\n",
    "    shutil.copy2(src, dst)"
   ]
  },
  {
   "cell_type": "code",
   "execution_count": 19,
   "metadata": {},
   "outputs": [
    {
     "name": "stderr",
     "output_type": "stream",
     "text": [
      "100%|██████████| 5/5 [00:00<00:00, 24.24it/s]\n"
     ]
    }
   ],
   "source": [
    "# FIXME: does not seem to be working...\n",
    "df_path = '/root/mmaction/third_party/dense_flow'\n",
    "for cls in tqdm(classes.values()):\n",
    "    src = os.path.join(video_path, cls)\n",
    "    dst = os.path.join(raw_path, cls)\n",
    "    command = f'python build_rawframes.py {src} {dst} --df_path {df_path}' + ' --level {1, 2}'\n",
    "    os.system(command)"
   ]
  },
  {
   "cell_type": "code",
   "execution_count": null,
   "metadata": {},
   "outputs": [],
   "source": []
  }
 ],
 "metadata": {
  "kernelspec": {
   "display_name": "Python 3",
   "language": "python",
   "name": "python3"
  },
  "language_info": {
   "codemirror_mode": {
    "name": "ipython",
    "version": 3
   },
   "file_extension": ".py",
   "mimetype": "text/x-python",
   "name": "python",
   "nbconvert_exporter": "python",
   "pygments_lexer": "ipython3",
   "version": "3.6.8"
  }
 },
 "nbformat": 4,
 "nbformat_minor": 2
}
