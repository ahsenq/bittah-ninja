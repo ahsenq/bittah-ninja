{
 "cells": [
  {
   "cell_type": "markdown",
   "metadata": {},
   "source": [
    "# The Evaluation Theatre notebook only runs in jupyter notebook\n",
    "Let JenD know if you need it with jupyter lab."
   ]
  },
  {
   "cell_type": "code",
   "execution_count": 1,
   "metadata": {},
   "outputs": [],
   "source": [
    "import doctest\n",
    "import matplotlib.pyplot as plt\n",
    "import numpy as np\n",
    "import pandas as pd\n",
    "import sklearn\n",
    "from sklearn.metrics import accuracy_score,confusion_matrix, precision_recall_fscore_support\n",
    "from ipywidgets import Video, Image "
   ]
  },
  {
   "cell_type": "code",
   "execution_count": 2,
   "metadata": {},
   "outputs": [
    {
     "name": "stdout",
     "output_type": "stream",
     "text": [
      "Known nbextensions:\r\n",
      "  config dir: /root/anaconda3/etc/jupyter/nbconfig\r\n",
      "    notebook section\r\n",
      "      jupyter-js-widgets/extension \u001b[32m enabled \u001b[0m\r\n",
      "      - Validating: \u001b[32mOK\u001b[0m\r\n",
      "      jupyter-video/extension \u001b[32m enabled \u001b[0m\r\n",
      "      - Validating: \u001b[32mOK\u001b[0m\r\n"
     ]
    }
   ],
   "source": [
    "!jupyter nbextension list\n",
    "# (you need to see both jupyter-js-widgets/extension and jupyter-video/extension enabled and validated below)\n",
    "# !jupyter nbextension enable --py --sys-prefix widgetsnbextension\n",
    "# !pip install Jupyter-Video_Widget\n",
    "# !jupyter nbextension enable --py --sys-prefix jpy_video"
   ]
  },
  {
   "cell_type": "code",
   "execution_count": 3,
   "metadata": {},
   "outputs": [],
   "source": [
    "df = pd.read_csv('../TSN_predix_multiclass.csv',index_col=0,header=0)"
   ]
  },
  {
   "cell_type": "code",
   "execution_count": 4,
   "metadata": {},
   "outputs": [],
   "source": [
    "df.rename(columns={'class':'label'},inplace=True)"
   ]
  },
  {
   "cell_type": "code",
   "execution_count": 5,
   "metadata": {},
   "outputs": [
    {
     "data": {
      "text/html": [
       "<div>\n",
       "<style scoped>\n",
       "    .dataframe tbody tr th:only-of-type {\n",
       "        vertical-align: middle;\n",
       "    }\n",
       "\n",
       "    .dataframe tbody tr th {\n",
       "        vertical-align: top;\n",
       "    }\n",
       "\n",
       "    .dataframe thead th {\n",
       "        text-align: right;\n",
       "    }\n",
       "</style>\n",
       "<table border=\"1\" class=\"dataframe\">\n",
       "  <thead>\n",
       "    <tr style=\"text-align: right;\">\n",
       "      <th></th>\n",
       "      <th>clip_title</th>\n",
       "      <th>labeler</th>\n",
       "      <th>label</th>\n",
       "      <th>RGB_Preds</th>\n",
       "      <th>Flow_Preds</th>\n",
       "      <th>predix</th>\n",
       "    </tr>\n",
       "    <tr>\n",
       "      <th>video-UID</th>\n",
       "      <th></th>\n",
       "      <th></th>\n",
       "      <th></th>\n",
       "      <th></th>\n",
       "      <th></th>\n",
       "      <th></th>\n",
       "    </tr>\n",
       "  </thead>\n",
       "  <tbody>\n",
       "    <tr>\n",
       "      <th>13432</th>\n",
       "      <td>heavy_bag_drills_slice105.mp4</td>\n",
       "      <td>Lance</td>\n",
       "      <td>3</td>\n",
       "      <td>3</td>\n",
       "      <td>3</td>\n",
       "      <td>3</td>\n",
       "    </tr>\n",
       "    <tr>\n",
       "      <th>10918</th>\n",
       "      <td>NV_630.mp4</td>\n",
       "      <td>Jen</td>\n",
       "      <td>0</td>\n",
       "      <td>0</td>\n",
       "      <td>0</td>\n",
       "      <td>0</td>\n",
       "    </tr>\n",
       "    <tr>\n",
       "      <th>12665</th>\n",
       "      <td>V_980.mp4</td>\n",
       "      <td>Alex</td>\n",
       "      <td>0</td>\n",
       "      <td>1</td>\n",
       "      <td>0</td>\n",
       "      <td>0</td>\n",
       "    </tr>\n",
       "    <tr>\n",
       "      <th>15187</th>\n",
       "      <td>streetfight5_slice680.mp4</td>\n",
       "      <td>Ahsen</td>\n",
       "      <td>0</td>\n",
       "      <td>0</td>\n",
       "      <td>0</td>\n",
       "      <td>0</td>\n",
       "    </tr>\n",
       "    <tr>\n",
       "      <th>11420</th>\n",
       "      <td>SouthAmericanDrumline_slice35.mp4</td>\n",
       "      <td>Ahsen</td>\n",
       "      <td>0</td>\n",
       "      <td>0</td>\n",
       "      <td>0</td>\n",
       "      <td>0</td>\n",
       "    </tr>\n",
       "  </tbody>\n",
       "</table>\n",
       "</div>"
      ],
      "text/plain": [
       "                                  clip_title labeler  label  RGB_Preds  \\\n",
       "video-UID                                                                \n",
       "13432          heavy_bag_drills_slice105.mp4   Lance      3          3   \n",
       "10918                             NV_630.mp4     Jen      0          0   \n",
       "12665                              V_980.mp4    Alex      0          1   \n",
       "15187              streetfight5_slice680.mp4   Ahsen      0          0   \n",
       "11420      SouthAmericanDrumline_slice35.mp4   Ahsen      0          0   \n",
       "\n",
       "           Flow_Preds  predix  \n",
       "video-UID                      \n",
       "13432               3       3  \n",
       "10918               0       0  \n",
       "12665               0       0  \n",
       "15187               0       0  \n",
       "11420               0       0  "
      ]
     },
     "execution_count": 5,
     "metadata": {},
     "output_type": "execute_result"
    }
   ],
   "source": [
    "df.head()"
   ]
  },
  {
   "cell_type": "code",
   "execution_count": 45,
   "metadata": {},
   "outputs": [
    {
     "name": "stdout",
     "output_type": "stream",
     "text": [
      "Predictions\n",
      "0    812\n",
      "1    191\n",
      "3     37\n",
      "4     19\n",
      "2      1\n",
      "Name: predix, dtype: int64\n",
      "Ground Truth\n",
      "0    763\n",
      "1    213\n",
      "3     49\n",
      "4     27\n",
      "2      8\n",
      "Name: label, dtype: int64\n"
     ]
    }
   ],
   "source": [
    "# Multiclass case\n",
    "gt_labels = {0:'NoPunch',\\\n",
    "            1:'ViolentPunchContact',\\\n",
    "            2:'ViolentPunchWithoutContact',\\\n",
    "            3:'NonviolentPunchContact',\\\n",
    "            4:'NonviolentPunchWithoutContact'}\n",
    "print('Predictions')\n",
    "print(df['predix'].value_counts())\n",
    "print('Ground Truth')\n",
    "print(df['label'].value_counts())"
   ]
  },
  {
   "cell_type": "code",
   "execution_count": 46,
   "metadata": {},
   "outputs": [],
   "source": [
    "# Verify the prediction file has a column named 'predix'\n",
    "def predix_col_must_be_present(x):\n",
    "    \"\"\"Return whether prediction file contains column named 'predix'\n",
    "\n",
    "    >>> predix_col_must_be_present(df)\n",
    "    True\n",
    "    \"\"\"\n",
    "    return 'predix' in x.columns\n",
    "\n",
    "# Verify we're only predicting 1=punch or else 0=no_punch at this time\n",
    "# def should_predict_binary_only(x):\n",
    "#     \"\"\"Return set of unique values of model predictions.\n",
    "\n",
    "#     >>> should_predict_binary_only(df)\n",
    "#     {0, 1}\n",
    "#     \"\"\"\n",
    "#     return set(x['predix'].unique())\n",
    "\n",
    "# Verify we're not making predictions on any excluded videos\n",
    "def no_excluded_videos_should_be_predicted(x):\n",
    "    \"\"\"Return count of videos predicted that should have been excluded\n",
    "    \n",
    "    >>> no_excluded_videos_should_be_predicted(df)\n",
    "    0\n",
    "    \"\"\"\n",
    "    return x.index.intersection(df[df['label'] == -1].index).shape[0]\n",
    "\n",
    "if __name__ == '__main__':\n",
    "    import doctest\n",
    "    doctest.testmod()"
   ]
  },
  {
   "cell_type": "code",
   "execution_count": 47,
   "metadata": {},
   "outputs": [
    {
     "data": {
      "text/plain": [
       "Index(['clip_title', 'labeler', 'label', 'RGB_Preds', 'Flow_Preds', 'predix'], dtype='object')"
      ]
     },
     "execution_count": 47,
     "metadata": {},
     "output_type": "execute_result"
    }
   ],
   "source": [
    "df.columns"
   ]
  },
  {
   "cell_type": "code",
   "execution_count": 48,
   "metadata": {},
   "outputs": [
    {
     "name": "stdout",
     "output_type": "stream",
     "text": [
      "Overall accuracy of this model is: 84.72%\n"
     ]
    }
   ],
   "source": [
    "# Show plain old accuracy\n",
    "acc = accuracy_score(y_true=df['label'],\\\n",
    "              y_pred=df['predix'])\n",
    "print(f\"Overall accuracy of this model is: {acc:.2%}\")"
   ]
  },
  {
   "cell_type": "code",
   "execution_count": 49,
   "metadata": {},
   "outputs": [
    {
     "name": "stdout",
     "output_type": "stream",
     "text": [
      "71.98% of our test set was labeled NO-PUNCH\n"
     ]
    }
   ],
   "source": [
    "print(f\"{df['label'].value_counts()[0]/df.shape[0]:.2%} of our test set was labeled NO-PUNCH\")"
   ]
  },
  {
   "cell_type": "code",
   "execution_count": 50,
   "metadata": {},
   "outputs": [
    {
     "data": {
      "text/html": [
       "<div>\n",
       "<style scoped>\n",
       "    .dataframe tbody tr th:only-of-type {\n",
       "        vertical-align: middle;\n",
       "    }\n",
       "\n",
       "    .dataframe tbody tr th {\n",
       "        vertical-align: top;\n",
       "    }\n",
       "\n",
       "    .dataframe thead th {\n",
       "        text-align: right;\n",
       "    }\n",
       "</style>\n",
       "<table border=\"1\" class=\"dataframe\">\n",
       "  <thead>\n",
       "    <tr style=\"text-align: right;\">\n",
       "      <th></th>\n",
       "      <th>NoPunch</th>\n",
       "      <th>ViolentPunchContact</th>\n",
       "      <th>ViolentPunchWithoutContact</th>\n",
       "      <th>NonviolentPunchContact</th>\n",
       "      <th>NonviolentPunchWithoutContact</th>\n",
       "    </tr>\n",
       "  </thead>\n",
       "  <tbody>\n",
       "    <tr>\n",
       "      <td>precision</td>\n",
       "      <td>0.880542</td>\n",
       "      <td>0.738220</td>\n",
       "      <td>0.0</td>\n",
       "      <td>0.810811</td>\n",
       "      <td>0.631579</td>\n",
       "    </tr>\n",
       "    <tr>\n",
       "      <td>recall</td>\n",
       "      <td>0.937090</td>\n",
       "      <td>0.661972</td>\n",
       "      <td>0.0</td>\n",
       "      <td>0.612245</td>\n",
       "      <td>0.444444</td>\n",
       "    </tr>\n",
       "    <tr>\n",
       "      <td>fscore</td>\n",
       "      <td>0.907937</td>\n",
       "      <td>0.698020</td>\n",
       "      <td>0.0</td>\n",
       "      <td>0.697674</td>\n",
       "      <td>0.521739</td>\n",
       "    </tr>\n",
       "    <tr>\n",
       "      <td>support</td>\n",
       "      <td>763.000000</td>\n",
       "      <td>213.000000</td>\n",
       "      <td>8.0</td>\n",
       "      <td>49.000000</td>\n",
       "      <td>27.000000</td>\n",
       "    </tr>\n",
       "  </tbody>\n",
       "</table>\n",
       "</div>"
      ],
      "text/plain": [
       "              NoPunch  ViolentPunchContact  ViolentPunchWithoutContact  \\\n",
       "precision    0.880542             0.738220                         0.0   \n",
       "recall       0.937090             0.661972                         0.0   \n",
       "fscore       0.907937             0.698020                         0.0   \n",
       "support    763.000000           213.000000                         8.0   \n",
       "\n",
       "           NonviolentPunchContact  NonviolentPunchWithoutContact  \n",
       "precision                0.810811                       0.631579  \n",
       "recall                   0.612245                       0.444444  \n",
       "fscore                   0.697674                       0.521739  \n",
       "support                 49.000000                      27.000000  "
      ]
     },
     "execution_count": 50,
     "metadata": {},
     "output_type": "execute_result"
    }
   ],
   "source": [
    "# Show precision_recall_fscore_support per label JUST BINARY FOR NOW\n",
    "raw_report = precision_recall_fscore_support(y_true=df['label'], y_pred=df['predix'],labels=[0,1,2,3,4])\n",
    "report = pd.DataFrame(raw_report, index=['precision','recall','fscore','support'],\\\n",
    "                     columns=gt_labels.values())\n",
    "report"
   ]
  },
  {
   "cell_type": "code",
   "execution_count": 51,
   "metadata": {},
   "outputs": [
    {
     "data": {
      "image/png": "[encoded data removed]",
      "text/plain": [
       "<Figure size 864x720 with 2 Axes>"
      ]
     },
     "metadata": {
      "needs_background": "light"
     },
     "output_type": "display_data"
    }
   ],
   "source": [
    "def plot_confusion_matrix(y_true, y_pred, labels,\n",
    "                          normalize=False,\n",
    "                          title=None,\n",
    "                          cmap=plt.cm.Greens):\n",
    "    \"\"\"\n",
    "    This function prints and plots the confusion matrix.\n",
    "    Normalization can be applied by setting `normalize=True`.\n",
    "    \"\"\"\n",
    "    if not title:\n",
    "        if normalize:\n",
    "            title = 'Normalized confusion matrix'\n",
    "        else:\n",
    "            title = 'Confusion matrix, without normalization'\n",
    "\n",
    "    # Compute confusion matrix\n",
    "    cm = confusion_matrix(y_true, y_pred)\n",
    "    if normalize:\n",
    "        cm = cm.astype('float') / cm.sum(axis=1)[:, np.newaxis]\n",
    "\n",
    "    fig, ax = plt.subplots(figsize=(12, 10))\n",
    "    im = ax.imshow(cm, interpolation='nearest', cmap=cmap)\n",
    "    ax.figure.colorbar(im, ax=ax)\n",
    "    ax.set(xticks=np.arange(cm.shape[1]),\n",
    "           yticks=np.arange(cm.shape[0]),\n",
    "           xticklabels=labels, yticklabels=labels,\n",
    "           title=title,\n",
    "           ylabel='True label',\n",
    "           xlabel='Predicted label')\n",
    "    ax.set_xlim(left=-0.5, right=4.5)\n",
    "    ax.set_ylim(bottom=-0.5, top=4.5)\n",
    "\n",
    "    plt.setp(ax.get_xticklabels(), rotation=45, ha=\"right\",\n",
    "             rotation_mode=\"anchor\")\n",
    "\n",
    "    # Loop over data dimensions and create text annotations.\n",
    "    fmt = '.2f' if normalize else 'd'\n",
    "    thresh = cm.max() / 2.\n",
    "    for i in range(cm.shape[0]):\n",
    "        for j in range(cm.shape[1]):\n",
    "            ax.text(j, i, format(cm[i, j], fmt),\n",
    "                    ha=\"center\", va=\"center\",\n",
    "                    color=\"white\" if cm[i, j] > thresh else \"black\")\n",
    "    return ax\n",
    "\n",
    "\n",
    "np.set_printoptions(precision=2)\n",
    "\n",
    "# Plot non-normalized confusion matrix\n",
    "plot_confusion_matrix(df['label'], df['predix'], labels=gt_labels.values(),\n",
    "                      title='MULTICLASS confusion matrix, no normalization')\n",
    "\n",
    "# Plot normalized confusion matrix\n",
    "# plot_confusion_matrix(df['label'], df['predix'], labels=gt_labels.values(), normalize=True,\n",
    "#                       title='Normalized MULTICLASS confusion matrix')\n",
    "\n",
    "plt.savefig(\"confusion_matrix_raw.png\",bbox_inches='tight')\n",
    "plt.show()"
   ]
  },
  {
   "cell_type": "code",
   "execution_count": 52,
   "metadata": {},
   "outputs": [
    {
     "data": {
      "image/png": "[encoded data removed]",
      "text/plain": [
       "<Figure size 864x720 with 2 Axes>"
      ]
     },
     "metadata": {
      "needs_background": "light"
     },
     "output_type": "display_data"
    }
   ],
   "source": [
    "plt.rcParams.update({'font.size': 22})\n",
    "# Plot normalized confusion matrix\n",
    "plot_confusion_matrix(df['label'], df['predix'], labels=gt_labels.values(), normalize=True,\n",
    "                      title='Normalized MULTICLASS confusion matrix')\n",
    "\n",
    "plt.savefig(\"confusion_matrix_normalized.png\",bbox_inches='tight')\n",
    "plt.show()"
   ]
  },
  {
   "cell_type": "code",
   "execution_count": 53,
   "metadata": {},
   "outputs": [],
   "source": [
    "# Multiclass samples\n",
    "def resample():\n",
    "    samples={}\n",
    "    for truth in range(0,5):\n",
    "        samples[truth]={}\n",
    "        for pred in range(0,5):\n",
    "            if bool(df[(df['label']==truth) & (df['predix']==pred)].shape[0]):\n",
    "                samples[truth][pred] = df[(df['label']==truth) & (df['predix']==pred)].sample(1)\n",
    "    return samples"
   ]
  },
  {
   "cell_type": "code",
   "execution_count": 54,
   "metadata": {},
   "outputs": [],
   "source": [
    "def fetch_sample(real,predicted,sampledict):\n",
    "    truth_target = sampledict.get(real,None)\n",
    "    if truth_target:\n",
    "        pred_target = truth_target.get(predicted,None)\n",
    "        return pred_target"
   ]
  },
  {
   "cell_type": "markdown",
   "metadata": {},
   "source": [
    "The clips that have ground truth of no punch and are also predicted as no punch make up ~72% of our test set. Load the below cell several times for some examples:"
   ]
  },
  {
   "cell_type": "code",
   "execution_count": 29,
   "metadata": {},
   "outputs": [
    {
     "name": "stdout",
     "output_type": "stream",
     "text": [
      "NO-PUNCH clip predicted as same [kicks_line_dance_slice125.mp4 brought to you by Jen]\n"
     ]
    },
    {
     "data": {
      "application/vnd.jupyter.widget-view+json": {
       "model_id": "2f80e86ac1274622bee9bd99261e94ae",
       "version_major": 2,
       "version_minor": 0
      },
      "text/plain": [
       "Video(value=b'\\x00\\x00\\x00 ftypisom\\x00\\x00\\x02\\x00isomiso2avc1mp41\\x00\\x00\\x00\\x08free\\x00\\rS6mdat\\x00\\x00\\x0…"
      ]
     },
     "metadata": {},
     "output_type": "display_data"
    }
   ],
   "source": [
    "show = None\n",
    "c00 = fetch_sample(0,0,resample())\n",
    "truth,inference = 'NO-PUNCH','same'\n",
    "if 'DataFrame' in str(type(c00)):\n",
    "    clip, judge = c00.head(1)['clip_title'].iloc[0],c00.head(1)['labeler'].iloc[0]\n",
    "    print(f\"{truth} clip predicted as {inference} [{clip} brought to you by {judge}]\".format())\n",
    "    show = Video.from_file('/root/vids/' + clip)\n",
    "show"
   ]
  },
  {
   "cell_type": "markdown",
   "metadata": {},
   "source": [
    "In 40 cases, our TSN predicts a violent punch where there is no punch labeled. In looking at samples of these, many are kicks that may still warrant attention from security staff. For instance, see V_132_slice0.mp4 and V_801.mp4. In our edge-screening scenario, these would be sent to the cloud for further analysis."
   ]
  },
  {
   "cell_type": "code",
   "execution_count": 55,
   "metadata": {},
   "outputs": [
    {
     "name": "stdout",
     "output_type": "stream",
     "text": [
      "NO-PUNCH clip predicted as Violent Punch [balcony_football_violence__Football_Hooligans_Leeds_v_Wolves_2005__MorningGlory1997__f66MTrNLPL0.mp4 brought to you by Alex]\n"
     ]
    },
    {
     "data": {
      "application/vnd.jupyter.widget-view+json": {
       "model_id": "c392c11938e84d39bbea2b27e744d52c",
       "version_major": 2,
       "version_minor": 0
      },
      "text/plain": [
       "Video(value=b'\\x00\\x00\\x00 ftypisom\\x00\\x00\\x02\\x00isomiso2avc1mp41\\x00\\x00\\x00\\x08free\\x00\\x04\\xa6Emdat\\x00\\x…"
      ]
     },
     "metadata": {},
     "output_type": "display_data"
    }
   ],
   "source": [
    "show = None\n",
    "c01 = fetch_sample(0,1,resample())\n",
    "truth,inference = 'NO-PUNCH','Violent Punch'\n",
    "if 'DataFrame' in str(type(c01)):\n",
    "    clip, judge = c01.head(1)['clip_title'].iloc[0],c01.head(1)['labeler'].iloc[0]\n",
    "    print(f\"{truth} clip predicted as {inference} [{clip} brought to you by {judge}]\".format())\n",
    "    show = Video.from_file('/root/vids/' + clip)\n",
    "show"
   ]
  },
  {
   "cell_type": "markdown",
   "metadata": {},
   "source": [
    "What about the clips that were labeled as containing a violent punch, yet are not predicted to contain a violent punch? This sample constitutes nearly a third of clips labeled as violent punches. Play some examples below. In the case of streetfight4_slice535.mp4, perhaps it's a slap."
   ]
  },
  {
   "cell_type": "code",
   "execution_count": 56,
   "metadata": {},
   "outputs": [
    {
     "name": "stdout",
     "output_type": "stream",
     "text": [
      "VIOLENT PUNCH clip predicted as NO-PUNCH [soccer_violence__Chinese_kungfu_soccer__crazyzibe__Gsrc7AXC_kI_slice10.mp4 brought to you by Lance]\n"
     ]
    },
    {
     "data": {
      "application/vnd.jupyter.widget-view+json": {
       "model_id": "28466463a6754256b62957878d704077",
       "version_major": 2,
       "version_minor": 0
      },
      "text/plain": [
       "Video(value=b'\\x00\\x00\\x00 ftypisom\\x00\\x00\\x02\\x00isomiso2avc1mp41\\x00\\x00\\x00\\x08free\\x00\\x03\\xcb\\xb4mdat\\x0…"
      ]
     },
     "metadata": {},
     "output_type": "display_data"
    }
   ],
   "source": [
    "show = None\n",
    "c10 = fetch_sample(1,0,resample())\n",
    "truth,inference = 'VIOLENT PUNCH','NO-PUNCH'\n",
    "if 'DataFrame' in str(type(c10)):\n",
    "    clip, judge = c10.head(1)['clip_title'].iloc[0],c10.head(1)['labeler'].iloc[0]\n",
    "    print(f\"{truth} clip predicted as {inference} [{clip} brought to you by {judge}]\".format())\n",
    "    show = Video.from_file('/root/vids/' + clip)\n",
    "show"
   ]
  },
  {
   "cell_type": "markdown",
   "metadata": {},
   "source": [
    "Below, watch clips that were properly predicted to contain a violent punch with contact"
   ]
  },
  {
   "cell_type": "code",
   "execution_count": 86,
   "metadata": {},
   "outputs": [
    {
     "name": "stdout",
     "output_type": "stream",
     "text": [
      "Violent Punch with Contact clip predicted as same [V_864.mp4 brought to you by Lance]\n"
     ]
    },
    {
     "data": {
      "application/vnd.jupyter.widget-view+json": {
       "model_id": "f86ff918e49c4222880a1b39b5925296",
       "version_major": 2,
       "version_minor": 0
      },
      "text/plain": [
       "Video(value=b'\\x00\\x00\\x00 ftypisom\\x00\\x00\\x02\\x00isomiso2avc1mp41\\x00\\x00\\x00\\x08free\\x00\\x08d\\xd0mdat\\x00\\x…"
      ]
     },
     "metadata": {},
     "output_type": "display_data"
    }
   ],
   "source": [
    "show = None\n",
    "c11 = fetch_sample(1,1,resample())\n",
    "truth,inference = 'Violent Punch with Contact','same'\n",
    "if 'DataFrame' in str(type(c11)):\n",
    "    clip, judge = c11.head(1)['clip_title'].iloc[0],c11.head(1)['labeler'].iloc[0]\n",
    "    print(f\"{truth} clip predicted as {inference} [{clip} brought to you by {judge}]\".format())\n",
    "    show = Video.from_file('/root/vids/' + clip)\n",
    "show"
   ]
  },
  {
   "cell_type": "code",
   "execution_count": 58,
   "metadata": {},
   "outputs": [
    {
     "name": "stdout",
     "output_type": "stream",
     "text": [
      "no-punch clip predicted as violent swing and miss [streetfight3_slice610.mp4 brought to you by Ahsen]\n"
     ]
    },
    {
     "data": {
      "application/vnd.jupyter.widget-view+json": {
       "model_id": "c57310c7545544148fab9d5e18912dee",
       "version_major": 2,
       "version_minor": 0
      },
      "text/plain": [
       "Video(value=b'\\x00\\x00\\x00 ftypisom\\x00\\x00\\x02\\x00isomiso2avc1mp41\\x00\\x00\\x00\\x08free\\x00\\n\\xd1\\xefmdat\\x00\\…"
      ]
     },
     "metadata": {},
     "output_type": "display_data"
    }
   ],
   "source": [
    "show = None\n",
    "c02 = fetch_sample(0,2,resample())\n",
    "truth,inference = 'no-punch','violent swing and miss'\n",
    "if 'DataFrame' in str(type(c02)):\n",
    "    clip, judge = c02.head(1)['clip_title'].iloc[0],c02.head(1)['labeler'].iloc[0]\n",
    "    print(f\"{truth} clip predicted as {inference} [{clip} brought to you by {judge}]\".format())\n",
    "    show = Video.from_file('/root/vids/' + clip)\n",
    "show"
   ]
  },
  {
   "cell_type": "code",
   "execution_count": 65,
   "metadata": {},
   "outputs": [
    {
     "name": "stdout",
     "output_type": "stream",
     "text": [
      "violent swing and miss clip predicted as no-punch [V_722.mp4 brought to you by Lance]\n"
     ]
    },
    {
     "data": {
      "application/vnd.jupyter.widget-view+json": {
       "model_id": "7ceda1961fc04a2e9de1ede7501cca58",
       "version_major": 2,
       "version_minor": 0
      },
      "text/plain": [
       "Video(value=b'\\x00\\x00\\x00 ftypisom\\x00\\x00\\x02\\x00isomiso2avc1mp41\\x00\\x00\\x00\\x08free\\x00\\x02Lfmdat\\x00\\x00\\…"
      ]
     },
     "metadata": {},
     "output_type": "display_data"
    }
   ],
   "source": [
    "show = None\n",
    "c20 = fetch_sample(2,0,resample())\n",
    "truth,inference = 'violent swing and miss','no-punch'\n",
    "if 'DataFrame' in str(type(c02)):\n",
    "    clip, judge = c20.head(1)['clip_title'].iloc[0],c20.head(1)['labeler'].iloc[0]\n",
    "    print(f\"{truth} clip predicted as {inference} [{clip} brought to you by {judge}]\".format())\n",
    "    show = Video.from_file('/root/vids/' + clip)\n",
    "show"
   ]
  },
  {
   "cell_type": "code",
   "execution_count": 6,
   "metadata": {},
   "outputs": [
    {
     "data": {
      "text/html": [
       "<div>\n",
       "<style scoped>\n",
       "    .dataframe tbody tr th:only-of-type {\n",
       "        vertical-align: middle;\n",
       "    }\n",
       "\n",
       "    .dataframe tbody tr th {\n",
       "        vertical-align: top;\n",
       "    }\n",
       "\n",
       "    .dataframe thead th {\n",
       "        text-align: right;\n",
       "    }\n",
       "</style>\n",
       "<table border=\"1\" class=\"dataframe\">\n",
       "  <thead>\n",
       "    <tr style=\"text-align: right;\">\n",
       "      <th></th>\n",
       "      <th>clip_title</th>\n",
       "      <th>labeler</th>\n",
       "      <th>label</th>\n",
       "      <th>RGB_Preds</th>\n",
       "      <th>Flow_Preds</th>\n",
       "      <th>predix</th>\n",
       "    </tr>\n",
       "    <tr>\n",
       "      <th>video-UID</th>\n",
       "      <th></th>\n",
       "      <th></th>\n",
       "      <th></th>\n",
       "      <th></th>\n",
       "      <th></th>\n",
       "      <th></th>\n",
       "    </tr>\n",
       "  </thead>\n",
       "  <tbody>\n",
       "    <tr>\n",
       "      <th>12216</th>\n",
       "      <td>V_638.mp4</td>\n",
       "      <td>Lance</td>\n",
       "      <td>1</td>\n",
       "      <td>1</td>\n",
       "      <td>1</td>\n",
       "      <td>1</td>\n",
       "    </tr>\n",
       "    <tr>\n",
       "      <th>14957</th>\n",
       "      <td>streetfight4_slice180.mp4</td>\n",
       "      <td>Jen</td>\n",
       "      <td>1</td>\n",
       "      <td>0</td>\n",
       "      <td>0</td>\n",
       "      <td>0</td>\n",
       "    </tr>\n",
       "    <tr>\n",
       "      <th>13728</th>\n",
       "      <td>how_to_strike_max_power_slice20.mp4</td>\n",
       "      <td>Lance</td>\n",
       "      <td>4</td>\n",
       "      <td>4</td>\n",
       "      <td>4</td>\n",
       "      <td>4</td>\n",
       "    </tr>\n",
       "    <tr>\n",
       "      <th>11732</th>\n",
       "      <td>V_20.mp4</td>\n",
       "      <td>Alex</td>\n",
       "      <td>1</td>\n",
       "      <td>1</td>\n",
       "      <td>1</td>\n",
       "      <td>1</td>\n",
       "    </tr>\n",
       "    <tr>\n",
       "      <th>10102</th>\n",
       "      <td>ByronBay_slice235.mp4</td>\n",
       "      <td>Ahsen</td>\n",
       "      <td>0</td>\n",
       "      <td>0</td>\n",
       "      <td>0</td>\n",
       "      <td>0</td>\n",
       "    </tr>\n",
       "    <tr>\n",
       "      <th>11810</th>\n",
       "      <td>V_276_slice0.mp4</td>\n",
       "      <td>Alex</td>\n",
       "      <td>1</td>\n",
       "      <td>1</td>\n",
       "      <td>1</td>\n",
       "      <td>1</td>\n",
       "    </tr>\n",
       "    <tr>\n",
       "      <th>14418</th>\n",
       "      <td>stadium_violence__soccer_riot_compilation__qqc...</td>\n",
       "      <td>Jen</td>\n",
       "      <td>1</td>\n",
       "      <td>1</td>\n",
       "      <td>1</td>\n",
       "      <td>1</td>\n",
       "    </tr>\n",
       "    <tr>\n",
       "      <th>10065</th>\n",
       "      <td>British_Football_Hooligans_Mix_3__MorningGlory...</td>\n",
       "      <td>Jen</td>\n",
       "      <td>0</td>\n",
       "      <td>0</td>\n",
       "      <td>0</td>\n",
       "      <td>0</td>\n",
       "    </tr>\n",
       "    <tr>\n",
       "      <th>14799</th>\n",
       "      <td>streetfight2_slice610.mp4</td>\n",
       "      <td>Ahsen</td>\n",
       "      <td>0</td>\n",
       "      <td>0</td>\n",
       "      <td>0</td>\n",
       "      <td>0</td>\n",
       "    </tr>\n",
       "    <tr>\n",
       "      <th>3404</th>\n",
       "      <td>hook_punch_power_slice270.mp4</td>\n",
       "      <td>Alex</td>\n",
       "      <td>0</td>\n",
       "      <td>0</td>\n",
       "      <td>0</td>\n",
       "      <td>0</td>\n",
       "    </tr>\n",
       "  </tbody>\n",
       "</table>\n",
       "</div>"
      ],
      "text/plain": [
       "                                                  clip_title labeler  label  \\\n",
       "video-UID                                                                     \n",
       "12216                                              V_638.mp4   Lance      1   \n",
       "14957                              streetfight4_slice180.mp4     Jen      1   \n",
       "13728                    how_to_strike_max_power_slice20.mp4   Lance      4   \n",
       "11732                                               V_20.mp4    Alex      1   \n",
       "10102                                  ByronBay_slice235.mp4   Ahsen      0   \n",
       "11810                                       V_276_slice0.mp4    Alex      1   \n",
       "14418      stadium_violence__soccer_riot_compilation__qqc...     Jen      1   \n",
       "10065      British_Football_Hooligans_Mix_3__MorningGlory...     Jen      0   \n",
       "14799                              streetfight2_slice610.mp4   Ahsen      0   \n",
       "3404                           hook_punch_power_slice270.mp4    Alex      0   \n",
       "\n",
       "           RGB_Preds  Flow_Preds  predix  \n",
       "video-UID                                 \n",
       "12216              1           1       1  \n",
       "14957              0           0       0  \n",
       "13728              4           4       4  \n",
       "11732              1           1       1  \n",
       "10102              0           0       0  \n",
       "11810              1           1       1  \n",
       "14418              1           1       1  \n",
       "10065              0           0       0  \n",
       "14799              0           0       0  \n",
       "3404               0           0       0  "
      ]
     },
     "execution_count": 6,
     "metadata": {},
     "output_type": "execute_result"
    }
   ],
   "source": [
    "df.sample(10)"
   ]
  },
  {
   "cell_type": "code",
   "execution_count": 8,
   "metadata": {},
   "outputs": [
    {
     "data": {
      "text/html": [
       "<div>\n",
       "<style scoped>\n",
       "    .dataframe tbody tr th:only-of-type {\n",
       "        vertical-align: middle;\n",
       "    }\n",
       "\n",
       "    .dataframe tbody tr th {\n",
       "        vertical-align: top;\n",
       "    }\n",
       "\n",
       "    .dataframe thead th {\n",
       "        text-align: right;\n",
       "    }\n",
       "</style>\n",
       "<table border=\"1\" class=\"dataframe\">\n",
       "  <thead>\n",
       "    <tr style=\"text-align: right;\">\n",
       "      <th></th>\n",
       "      <th>clip_title</th>\n",
       "      <th>labeler</th>\n",
       "      <th>label</th>\n",
       "      <th>RGB_Preds</th>\n",
       "      <th>Flow_Preds</th>\n",
       "      <th>predix</th>\n",
       "    </tr>\n",
       "    <tr>\n",
       "      <th>video-UID</th>\n",
       "      <th></th>\n",
       "      <th></th>\n",
       "      <th></th>\n",
       "      <th></th>\n",
       "      <th></th>\n",
       "      <th></th>\n",
       "    </tr>\n",
       "  </thead>\n",
       "  <tbody>\n",
       "    <tr>\n",
       "      <th>14049</th>\n",
       "      <td>obama_fist_bumps_slice0.mp4</td>\n",
       "      <td>Lance</td>\n",
       "      <td>0</td>\n",
       "      <td>0</td>\n",
       "      <td>0</td>\n",
       "      <td>0</td>\n",
       "    </tr>\n",
       "  </tbody>\n",
       "</table>\n",
       "</div>"
      ],
      "text/plain": [
       "                            clip_title labeler  label  RGB_Preds  Flow_Preds  \\\n",
       "video-UID                                                                      \n",
       "14049      obama_fist_bumps_slice0.mp4   Lance      0          0           0   \n",
       "\n",
       "           predix  \n",
       "video-UID          \n",
       "14049           0  "
      ]
     },
     "execution_count": 8,
     "metadata": {},
     "output_type": "execute_result"
    }
   ],
   "source": [
    "df[df['clip_title'].str.contains('fist')]"
   ]
  },
  {
   "cell_type": "code",
   "execution_count": 8,
   "metadata": {},
   "outputs": [
    {
     "data": {
      "application/vnd.jupyter.widget-view+json": {
       "model_id": "759fa4e90bae47f192ac0c2b71662e67",
       "version_major": 2,
       "version_minor": 0
      },
      "text/plain": [
       "Video(value=b'\\x00\\x00\\x00 ftypisom\\x00\\x00\\x02\\x00isomiso2avc1mp41\\x00\\x00\\x00\\x08free\\x00\\n\\xd1\\xefmdat\\x00\\…"
      ]
     },
     "metadata": {},
     "output_type": "display_data"
    }
   ],
   "source": [
    "clip = \"streetfight3_slice610.mp4\"\n",
    "show = Video.from_file('/root/vids/' + clip)\n",
    "show\n",
    "# label=0; predix=2\n",
    "# i can certainly see where that would look like a swing/miss to algo"
   ]
  },
  {
   "cell_type": "code",
   "execution_count": 5,
   "metadata": {},
   "outputs": [
    {
     "data": {
      "text/html": [
       "<div>\n",
       "<style scoped>\n",
       "    .dataframe tbody tr th:only-of-type {\n",
       "        vertical-align: middle;\n",
       "    }\n",
       "\n",
       "    .dataframe tbody tr th {\n",
       "        vertical-align: top;\n",
       "    }\n",
       "\n",
       "    .dataframe thead th {\n",
       "        text-align: right;\n",
       "    }\n",
       "</style>\n",
       "<table border=\"1\" class=\"dataframe\">\n",
       "  <thead>\n",
       "    <tr style=\"text-align: right;\">\n",
       "      <th></th>\n",
       "      <th>clip_title</th>\n",
       "      <th>labeler</th>\n",
       "      <th>label</th>\n",
       "      <th>RGB_Preds</th>\n",
       "      <th>Flow_Preds</th>\n",
       "      <th>predix</th>\n",
       "    </tr>\n",
       "    <tr>\n",
       "      <th>video-UID</th>\n",
       "      <th></th>\n",
       "      <th></th>\n",
       "      <th></th>\n",
       "      <th></th>\n",
       "      <th></th>\n",
       "      <th></th>\n",
       "    </tr>\n",
       "  </thead>\n",
       "  <tbody>\n",
       "    <tr>\n",
       "      <th>14049</th>\n",
       "      <td>obama_fist_bumps_slice0.mp4</td>\n",
       "      <td>Lance</td>\n",
       "      <td>0</td>\n",
       "      <td>0</td>\n",
       "      <td>0</td>\n",
       "      <td>0</td>\n",
       "    </tr>\n",
       "  </tbody>\n",
       "</table>\n",
       "</div>"
      ],
      "text/plain": [
       "                            clip_title labeler  label  RGB_Preds  Flow_Preds  \\\n",
       "video-UID                                                                      \n",
       "14049      obama_fist_bumps_slice0.mp4   Lance      0          0           0   \n",
       "\n",
       "           predix  \n",
       "video-UID          \n",
       "14049           0  "
      ]
     },
     "execution_count": 5,
     "metadata": {},
     "output_type": "execute_result"
    }
   ],
   "source": [
    "df[df['clip_title'].str.contains('fist')]"
   ]
  },
  {
   "cell_type": "code",
   "execution_count": 7,
   "metadata": {},
   "outputs": [
    {
     "data": {
      "text/html": [
       "<div>\n",
       "<style scoped>\n",
       "    .dataframe tbody tr th:only-of-type {\n",
       "        vertical-align: middle;\n",
       "    }\n",
       "\n",
       "    .dataframe tbody tr th {\n",
       "        vertical-align: top;\n",
       "    }\n",
       "\n",
       "    .dataframe thead th {\n",
       "        text-align: right;\n",
       "    }\n",
       "</style>\n",
       "<table border=\"1\" class=\"dataframe\">\n",
       "  <thead>\n",
       "    <tr style=\"text-align: right;\">\n",
       "      <th></th>\n",
       "      <th>clip_title</th>\n",
       "      <th>labeler</th>\n",
       "      <th>label</th>\n",
       "      <th>RGB_Preds</th>\n",
       "      <th>Flow_Preds</th>\n",
       "      <th>predix</th>\n",
       "    </tr>\n",
       "    <tr>\n",
       "      <th>video-UID</th>\n",
       "      <th></th>\n",
       "      <th></th>\n",
       "      <th></th>\n",
       "      <th></th>\n",
       "      <th></th>\n",
       "      <th></th>\n",
       "    </tr>\n",
       "  </thead>\n",
       "  <tbody>\n",
       "    <tr>\n",
       "      <th>14926</th>\n",
       "      <td>streetfight3_slice610.mp4</td>\n",
       "      <td>Ahsen</td>\n",
       "      <td>0</td>\n",
       "      <td>2</td>\n",
       "      <td>2</td>\n",
       "      <td>2</td>\n",
       "    </tr>\n",
       "  </tbody>\n",
       "</table>\n",
       "</div>"
      ],
      "text/plain": [
       "                          clip_title labeler  label  RGB_Preds  Flow_Preds  \\\n",
       "video-UID                                                                    \n",
       "14926      streetfight3_slice610.mp4   Ahsen      0          2           2   \n",
       "\n",
       "           predix  \n",
       "video-UID          \n",
       "14926           2  "
      ]
     },
     "execution_count": 7,
     "metadata": {},
     "output_type": "execute_result"
    }
   ],
   "source": [
    "df[(df['label']==0) & (df['predix']==2)]"
   ]
  },
  {
   "cell_type": "code",
   "execution_count": 9,
   "metadata": {},
   "outputs": [
    {
     "data": {
      "text/html": [
       "<div>\n",
       "<style scoped>\n",
       "    .dataframe tbody tr th:only-of-type {\n",
       "        vertical-align: middle;\n",
       "    }\n",
       "\n",
       "    .dataframe tbody tr th {\n",
       "        vertical-align: top;\n",
       "    }\n",
       "\n",
       "    .dataframe thead th {\n",
       "        text-align: right;\n",
       "    }\n",
       "</style>\n",
       "<table border=\"1\" class=\"dataframe\">\n",
       "  <thead>\n",
       "    <tr style=\"text-align: right;\">\n",
       "      <th></th>\n",
       "      <th>clip_title</th>\n",
       "      <th>labeler</th>\n",
       "      <th>label</th>\n",
       "      <th>RGB_Preds</th>\n",
       "      <th>Flow_Preds</th>\n",
       "      <th>predix</th>\n",
       "    </tr>\n",
       "    <tr>\n",
       "      <th>video-UID</th>\n",
       "      <th></th>\n",
       "      <th></th>\n",
       "      <th></th>\n",
       "      <th></th>\n",
       "      <th></th>\n",
       "      <th></th>\n",
       "    </tr>\n",
       "  </thead>\n",
       "  <tbody>\n",
       "    <tr>\n",
       "      <th>13040</th>\n",
       "      <td>downward_strike_punches_slice875.mp4</td>\n",
       "      <td>Lance</td>\n",
       "      <td>0</td>\n",
       "      <td>3</td>\n",
       "      <td>0</td>\n",
       "      <td>3</td>\n",
       "    </tr>\n",
       "    <tr>\n",
       "      <th>12978</th>\n",
       "      <td>downward_strike_punches_slice595.mp4</td>\n",
       "      <td>Ahsen</td>\n",
       "      <td>0</td>\n",
       "      <td>3</td>\n",
       "      <td>3</td>\n",
       "      <td>3</td>\n",
       "    </tr>\n",
       "    <tr>\n",
       "      <th>14358</th>\n",
       "      <td>short_strikes_slice625.mp4</td>\n",
       "      <td>Alex</td>\n",
       "      <td>0</td>\n",
       "      <td>3</td>\n",
       "      <td>3</td>\n",
       "      <td>3</td>\n",
       "    </tr>\n",
       "  </tbody>\n",
       "</table>\n",
       "</div>"
      ],
      "text/plain": [
       "                                     clip_title labeler  label  RGB_Preds  \\\n",
       "video-UID                                                                   \n",
       "13040      downward_strike_punches_slice875.mp4   Lance      0          3   \n",
       "12978      downward_strike_punches_slice595.mp4   Ahsen      0          3   \n",
       "14358                short_strikes_slice625.mp4    Alex      0          3   \n",
       "\n",
       "           Flow_Preds  predix  \n",
       "video-UID                      \n",
       "13040               0       3  \n",
       "12978               3       3  \n",
       "14358               3       3  "
      ]
     },
     "execution_count": 9,
     "metadata": {},
     "output_type": "execute_result"
    }
   ],
   "source": [
    "df[(df['label']==0) & (df['predix']==3)]"
   ]
  },
  {
   "cell_type": "code",
   "execution_count": 11,
   "metadata": {},
   "outputs": [
    {
     "data": {
      "application/vnd.jupyter.widget-view+json": {
       "model_id": "a125797fdd1a41f581c8c3c0e736fec2",
       "version_major": 2,
       "version_minor": 0
      },
      "text/plain": [
       "Video(value=b'\\x00\\x00\\x00 ftypisom\\x00\\x00\\x02\\x00isomiso2avc1mp41\\x00\\x00\\x00\\x08free\\x00\\x18\\xb8\\xc4mdat\\x0…"
      ]
     },
     "metadata": {},
     "output_type": "display_data"
    }
   ],
   "source": [
    "clip = \"downward_strike_punches_slice595.mp4\"\n",
    "show = Video.from_file('/root/vids/' + clip)\n",
    "show\n",
    "# label=0; predix=3\n",
    "# i can certainly see why the algo would consider this as a strike with contact, even though we labeled not punch"
   ]
  },
  {
   "cell_type": "code",
   "execution_count": 12,
   "metadata": {},
   "outputs": [
    {
     "data": {
      "application/vnd.jupyter.widget-view+json": {
       "model_id": "2e9dc2a75de14f6a81227c025c74fc49",
       "version_major": 2,
       "version_minor": 0
      },
      "text/plain": [
       "Video(value=b'\\x00\\x00\\x00 ftypisom\\x00\\x00\\x02\\x00isomiso2avc1mp41\\x00\\x00\\x00\\x08free\\x00\\x13\\xb8\\xfbmdat\\x0…"
      ]
     },
     "metadata": {},
     "output_type": "display_data"
    }
   ],
   "source": [
    "clip = \"short_strikes_slice625.mp4\"\n",
    "show = Video.from_file('/root/vids/' + clip)\n",
    "show\n",
    "# label=0; predix=3"
   ]
  },
  {
   "cell_type": "code",
   "execution_count": 13,
   "metadata": {},
   "outputs": [
    {
     "data": {
      "text/html": [
       "<div>\n",
       "<style scoped>\n",
       "    .dataframe tbody tr th:only-of-type {\n",
       "        vertical-align: middle;\n",
       "    }\n",
       "\n",
       "    .dataframe tbody tr th {\n",
       "        vertical-align: top;\n",
       "    }\n",
       "\n",
       "    .dataframe thead th {\n",
       "        text-align: right;\n",
       "    }\n",
       "</style>\n",
       "<table border=\"1\" class=\"dataframe\">\n",
       "  <thead>\n",
       "    <tr style=\"text-align: right;\">\n",
       "      <th></th>\n",
       "      <th>clip_title</th>\n",
       "      <th>labeler</th>\n",
       "      <th>label</th>\n",
       "      <th>RGB_Preds</th>\n",
       "      <th>Flow_Preds</th>\n",
       "      <th>predix</th>\n",
       "    </tr>\n",
       "    <tr>\n",
       "      <th>video-UID</th>\n",
       "      <th></th>\n",
       "      <th></th>\n",
       "      <th></th>\n",
       "      <th></th>\n",
       "      <th></th>\n",
       "      <th></th>\n",
       "    </tr>\n",
       "  </thead>\n",
       "  <tbody>\n",
       "    <tr>\n",
       "      <th>13632</th>\n",
       "      <td>how_to_punch_7_basics_slice265.mp4</td>\n",
       "      <td>Lance</td>\n",
       "      <td>0</td>\n",
       "      <td>4</td>\n",
       "      <td>4</td>\n",
       "      <td>4</td>\n",
       "    </tr>\n",
       "    <tr>\n",
       "      <th>13439</th>\n",
       "      <td>heavy_bag_drills_slice140.mp4</td>\n",
       "      <td>Ahsen</td>\n",
       "      <td>0</td>\n",
       "      <td>4</td>\n",
       "      <td>0</td>\n",
       "      <td>4</td>\n",
       "    </tr>\n",
       "    <tr>\n",
       "      <th>13605</th>\n",
       "      <td>how_to_punch_7_basics_slice145.mp4</td>\n",
       "      <td>Jen</td>\n",
       "      <td>0</td>\n",
       "      <td>4</td>\n",
       "      <td>4</td>\n",
       "      <td>4</td>\n",
       "    </tr>\n",
       "    <tr>\n",
       "      <th>15241</th>\n",
       "      <td>stunt_fights_shayna_slice140.mp4</td>\n",
       "      <td>Ahsen</td>\n",
       "      <td>0</td>\n",
       "      <td>4</td>\n",
       "      <td>0</td>\n",
       "      <td>4</td>\n",
       "    </tr>\n",
       "  </tbody>\n",
       "</table>\n",
       "</div>"
      ],
      "text/plain": [
       "                                   clip_title labeler  label  RGB_Preds  \\\n",
       "video-UID                                                                 \n",
       "13632      how_to_punch_7_basics_slice265.mp4   Lance      0          4   \n",
       "13439           heavy_bag_drills_slice140.mp4   Ahsen      0          4   \n",
       "13605      how_to_punch_7_basics_slice145.mp4     Jen      0          4   \n",
       "15241        stunt_fights_shayna_slice140.mp4   Ahsen      0          4   \n",
       "\n",
       "           Flow_Preds  predix  \n",
       "video-UID                      \n",
       "13632               4       4  \n",
       "13439               0       4  \n",
       "13605               4       4  \n",
       "15241               0       4  "
      ]
     },
     "execution_count": 13,
     "metadata": {},
     "output_type": "execute_result"
    }
   ],
   "source": [
    "df[(df['label']==0) & (df['predix']==4)]"
   ]
  },
  {
   "cell_type": "code",
   "execution_count": 17,
   "metadata": {},
   "outputs": [
    {
     "data": {
      "application/vnd.jupyter.widget-view+json": {
       "model_id": "d15dc37dd09a47d888ff9100115ca316",
       "version_major": 2,
       "version_minor": 0
      },
      "text/plain": [
       "Video(value=b'\\x00\\x00\\x00 ftypisom\\x00\\x00\\x02\\x00isomiso2avc1mp41\\x00\\x00\\x00\\x08free\\x00\\x0bFSmdat\\x00\\x00\\…"
      ]
     },
     "metadata": {},
     "output_type": "display_data"
    }
   ],
   "source": [
    "clip = \"how_to_punch_7_basics_slice265.mp4\"\n",
    "show = Video.from_file('/root/vids/' + clip)\n",
    "show\n",
    "# label=0; predix=4"
   ]
  },
  {
   "cell_type": "code",
   "execution_count": 18,
   "metadata": {},
   "outputs": [
    {
     "data": {
      "text/html": [
       "<div>\n",
       "<style scoped>\n",
       "    .dataframe tbody tr th:only-of-type {\n",
       "        vertical-align: middle;\n",
       "    }\n",
       "\n",
       "    .dataframe tbody tr th {\n",
       "        vertical-align: top;\n",
       "    }\n",
       "\n",
       "    .dataframe thead th {\n",
       "        text-align: right;\n",
       "    }\n",
       "</style>\n",
       "<table border=\"1\" class=\"dataframe\">\n",
       "  <thead>\n",
       "    <tr style=\"text-align: right;\">\n",
       "      <th></th>\n",
       "      <th>clip_title</th>\n",
       "      <th>labeler</th>\n",
       "      <th>label</th>\n",
       "      <th>RGB_Preds</th>\n",
       "      <th>Flow_Preds</th>\n",
       "      <th>predix</th>\n",
       "    </tr>\n",
       "    <tr>\n",
       "      <th>video-UID</th>\n",
       "      <th></th>\n",
       "      <th></th>\n",
       "      <th></th>\n",
       "      <th></th>\n",
       "      <th></th>\n",
       "      <th></th>\n",
       "    </tr>\n",
       "  </thead>\n",
       "  <tbody>\n",
       "    <tr>\n",
       "      <th>14043</th>\n",
       "      <td>mitt_drill_slice70.mp4</td>\n",
       "      <td>Lance</td>\n",
       "      <td>1</td>\n",
       "      <td>3</td>\n",
       "      <td>3</td>\n",
       "      <td>3</td>\n",
       "    </tr>\n",
       "  </tbody>\n",
       "</table>\n",
       "</div>"
      ],
      "text/plain": [
       "                       clip_title labeler  label  RGB_Preds  Flow_Preds  \\\n",
       "video-UID                                                                 \n",
       "14043      mitt_drill_slice70.mp4   Lance      1          3           3   \n",
       "\n",
       "           predix  \n",
       "video-UID          \n",
       "14043           3  "
      ]
     },
     "execution_count": 18,
     "metadata": {},
     "output_type": "execute_result"
    }
   ],
   "source": [
    "df[(df['label']==1) & (df['predix']==3)]"
   ]
  },
  {
   "cell_type": "code",
   "execution_count": 19,
   "metadata": {},
   "outputs": [
    {
     "data": {
      "application/vnd.jupyter.widget-view+json": {
       "model_id": "ea2a39197e2743f7b1ad307da6404525",
       "version_major": 2,
       "version_minor": 0
      },
      "text/plain": [
       "Video(value=b'\\x00\\x00\\x00 ftypisom\\x00\\x00\\x02\\x00isomiso2avc1mp41\\x00\\x00\\x00\\x08free\\x00\\x0c\\x1d\\x0emdat\\x0…"
      ]
     },
     "metadata": {},
     "output_type": "display_data"
    }
   ],
   "source": [
    "clip = \"mitt_drill_slice70.mp4\"\n",
    "show = Video.from_file('/root/vids/' + clip)\n",
    "show\n",
    "# label=1; predix=3"
   ]
  },
  {
   "cell_type": "code",
   "execution_count": 20,
   "metadata": {},
   "outputs": [
    {
     "data": {
      "text/html": [
       "<div>\n",
       "<style scoped>\n",
       "    .dataframe tbody tr th:only-of-type {\n",
       "        vertical-align: middle;\n",
       "    }\n",
       "\n",
       "    .dataframe tbody tr th {\n",
       "        vertical-align: top;\n",
       "    }\n",
       "\n",
       "    .dataframe thead th {\n",
       "        text-align: right;\n",
       "    }\n",
       "</style>\n",
       "<table border=\"1\" class=\"dataframe\">\n",
       "  <thead>\n",
       "    <tr style=\"text-align: right;\">\n",
       "      <th></th>\n",
       "      <th>clip_title</th>\n",
       "      <th>labeler</th>\n",
       "      <th>label</th>\n",
       "      <th>RGB_Preds</th>\n",
       "      <th>Flow_Preds</th>\n",
       "      <th>predix</th>\n",
       "    </tr>\n",
       "    <tr>\n",
       "      <th>video-UID</th>\n",
       "      <th></th>\n",
       "      <th></th>\n",
       "      <th></th>\n",
       "      <th></th>\n",
       "      <th></th>\n",
       "      <th></th>\n",
       "    </tr>\n",
       "  </thead>\n",
       "  <tbody>\n",
       "    <tr>\n",
       "      <th>13671</th>\n",
       "      <td>how_to_punch_hard_fast_slice160.mp4</td>\n",
       "      <td>Lance</td>\n",
       "      <td>1</td>\n",
       "      <td>1</td>\n",
       "      <td>4</td>\n",
       "      <td>4</td>\n",
       "    </tr>\n",
       "    <tr>\n",
       "      <th>13665</th>\n",
       "      <td>how_to_punch_hard_fast_slice135.mp4</td>\n",
       "      <td>Lance</td>\n",
       "      <td>1</td>\n",
       "      <td>4</td>\n",
       "      <td>2</td>\n",
       "      <td>4</td>\n",
       "    </tr>\n",
       "    <tr>\n",
       "      <th>15234</th>\n",
       "      <td>stunt_fights_shayna_slice105.mp4</td>\n",
       "      <td>Jen</td>\n",
       "      <td>1</td>\n",
       "      <td>0</td>\n",
       "      <td>4</td>\n",
       "      <td>4</td>\n",
       "    </tr>\n",
       "  </tbody>\n",
       "</table>\n",
       "</div>"
      ],
      "text/plain": [
       "                                    clip_title labeler  label  RGB_Preds  \\\n",
       "video-UID                                                                  \n",
       "13671      how_to_punch_hard_fast_slice160.mp4   Lance      1          1   \n",
       "13665      how_to_punch_hard_fast_slice135.mp4   Lance      1          4   \n",
       "15234         stunt_fights_shayna_slice105.mp4     Jen      1          0   \n",
       "\n",
       "           Flow_Preds  predix  \n",
       "video-UID                      \n",
       "13671               4       4  \n",
       "13665               2       4  \n",
       "15234               4       4  "
      ]
     },
     "execution_count": 20,
     "metadata": {},
     "output_type": "execute_result"
    }
   ],
   "source": [
    "df[(df['label']==1) & (df['predix']==4)]"
   ]
  },
  {
   "cell_type": "code",
   "execution_count": 23,
   "metadata": {},
   "outputs": [
    {
     "data": {
      "application/vnd.jupyter.widget-view+json": {
       "model_id": "d16417fa57b04a108dba72e40f2eed0b",
       "version_major": 2,
       "version_minor": 0
      },
      "text/plain": [
       "Video(value=b'\\x00\\x00\\x00 ftypisom\\x00\\x00\\x02\\x00isomiso2avc1mp41\\x00\\x00\\x00\\x08free\\x00\\x0b\\x99Xmdat\\x00\\x…"
      ]
     },
     "metadata": {},
     "output_type": "display_data"
    }
   ],
   "source": [
    "clip = \"stunt_fights_shayna_slice105.mp4\"\n",
    "show = Video.from_file('/root/vids/' + clip)\n",
    "show\n",
    "# label=1; predix=4"
   ]
  },
  {
   "cell_type": "code",
   "execution_count": 24,
   "metadata": {},
   "outputs": [
    {
     "data": {
      "text/html": [
       "<div>\n",
       "<style scoped>\n",
       "    .dataframe tbody tr th:only-of-type {\n",
       "        vertical-align: middle;\n",
       "    }\n",
       "\n",
       "    .dataframe tbody tr th {\n",
       "        vertical-align: top;\n",
       "    }\n",
       "\n",
       "    .dataframe thead th {\n",
       "        text-align: right;\n",
       "    }\n",
       "</style>\n",
       "<table border=\"1\" class=\"dataframe\">\n",
       "  <thead>\n",
       "    <tr style=\"text-align: right;\">\n",
       "      <th></th>\n",
       "      <th>clip_title</th>\n",
       "      <th>labeler</th>\n",
       "      <th>label</th>\n",
       "      <th>RGB_Preds</th>\n",
       "      <th>Flow_Preds</th>\n",
       "      <th>predix</th>\n",
       "    </tr>\n",
       "    <tr>\n",
       "      <th>video-UID</th>\n",
       "      <th></th>\n",
       "      <th></th>\n",
       "      <th></th>\n",
       "      <th></th>\n",
       "      <th></th>\n",
       "      <th></th>\n",
       "    </tr>\n",
       "  </thead>\n",
       "  <tbody>\n",
       "    <tr>\n",
       "      <th>15083</th>\n",
       "      <td>streetfight5_slice205.mp4</td>\n",
       "      <td>Jen</td>\n",
       "      <td>2</td>\n",
       "      <td>0</td>\n",
       "      <td>0</td>\n",
       "      <td>0</td>\n",
       "    </tr>\n",
       "    <tr>\n",
       "      <th>12309</th>\n",
       "      <td>V_722.mp4</td>\n",
       "      <td>Lance</td>\n",
       "      <td>2</td>\n",
       "      <td>0</td>\n",
       "      <td>1</td>\n",
       "      <td>0</td>\n",
       "    </tr>\n",
       "    <tr>\n",
       "      <th>14755</th>\n",
       "      <td>streetfight2_slice415.mp4</td>\n",
       "      <td>Ahsen</td>\n",
       "      <td>2</td>\n",
       "      <td>0</td>\n",
       "      <td>0</td>\n",
       "      <td>0</td>\n",
       "    </tr>\n",
       "    <tr>\n",
       "      <th>11643</th>\n",
       "      <td>V_123_slice0.mp4</td>\n",
       "      <td>Jen</td>\n",
       "      <td>2</td>\n",
       "      <td>1</td>\n",
       "      <td>0</td>\n",
       "      <td>0</td>\n",
       "    </tr>\n",
       "  </tbody>\n",
       "</table>\n",
       "</div>"
      ],
      "text/plain": [
       "                          clip_title labeler  label  RGB_Preds  Flow_Preds  \\\n",
       "video-UID                                                                    \n",
       "15083      streetfight5_slice205.mp4     Jen      2          0           0   \n",
       "12309                      V_722.mp4   Lance      2          0           1   \n",
       "14755      streetfight2_slice415.mp4   Ahsen      2          0           0   \n",
       "11643               V_123_slice0.mp4     Jen      2          1           0   \n",
       "\n",
       "           predix  \n",
       "video-UID          \n",
       "15083           0  \n",
       "12309           0  \n",
       "14755           0  \n",
       "11643           0  "
      ]
     },
     "execution_count": 24,
     "metadata": {},
     "output_type": "execute_result"
    }
   ],
   "source": [
    "df[(df['label']==2) & (df['predix']==0)]"
   ]
  },
  {
   "cell_type": "code",
   "execution_count": 29,
   "metadata": {},
   "outputs": [
    {
     "data": {
      "application/vnd.jupyter.widget-view+json": {
       "model_id": "e6cd778dd09e43f2b03676ebe3cfc7fb",
       "version_major": 2,
       "version_minor": 0
      },
      "text/plain": [
       "Video(value=b'\\x00\\x00\\x00 ftypisom\\x00\\x00\\x02\\x00isomiso2avc1mp41\\x00\\x00\\x00\\x08free\\x00\\x16B\\x00mdat\\x00\\x…"
      ]
     },
     "metadata": {},
     "output_type": "display_data"
    }
   ],
   "source": [
    "clip = \"streetfight2_slice415.mp4\"\n",
    "show = Video.from_file('/root/vids/' + clip)\n",
    "show\n",
    "# label=2; predix=0\n",
    "# definitely looks like a camera angle problem"
   ]
  },
  {
   "cell_type": "code",
   "execution_count": 30,
   "metadata": {},
   "outputs": [
    {
     "data": {
      "text/html": [
       "<div>\n",
       "<style scoped>\n",
       "    .dataframe tbody tr th:only-of-type {\n",
       "        vertical-align: middle;\n",
       "    }\n",
       "\n",
       "    .dataframe tbody tr th {\n",
       "        vertical-align: top;\n",
       "    }\n",
       "\n",
       "    .dataframe thead th {\n",
       "        text-align: right;\n",
       "    }\n",
       "</style>\n",
       "<table border=\"1\" class=\"dataframe\">\n",
       "  <thead>\n",
       "    <tr style=\"text-align: right;\">\n",
       "      <th></th>\n",
       "      <th>clip_title</th>\n",
       "      <th>labeler</th>\n",
       "      <th>label</th>\n",
       "      <th>RGB_Preds</th>\n",
       "      <th>Flow_Preds</th>\n",
       "      <th>predix</th>\n",
       "    </tr>\n",
       "    <tr>\n",
       "      <th>video-UID</th>\n",
       "      <th></th>\n",
       "      <th></th>\n",
       "      <th></th>\n",
       "      <th></th>\n",
       "      <th></th>\n",
       "      <th></th>\n",
       "    </tr>\n",
       "  </thead>\n",
       "  <tbody>\n",
       "    <tr>\n",
       "      <th>12593</th>\n",
       "      <td>V_916.mp4</td>\n",
       "      <td>Ahsen</td>\n",
       "      <td>2</td>\n",
       "      <td>1</td>\n",
       "      <td>1</td>\n",
       "      <td>1</td>\n",
       "    </tr>\n",
       "    <tr>\n",
       "      <th>12070</th>\n",
       "      <td>V_505_slice0.mp4</td>\n",
       "      <td>Alex</td>\n",
       "      <td>2</td>\n",
       "      <td>1</td>\n",
       "      <td>1</td>\n",
       "      <td>1</td>\n",
       "    </tr>\n",
       "    <tr>\n",
       "      <th>12130</th>\n",
       "      <td>V_560_slice0.mp4</td>\n",
       "      <td>Alex</td>\n",
       "      <td>2</td>\n",
       "      <td>1</td>\n",
       "      <td>0</td>\n",
       "      <td>1</td>\n",
       "    </tr>\n",
       "    <tr>\n",
       "      <th>14907</th>\n",
       "      <td>streetfight3_slice525.mp4</td>\n",
       "      <td>Jen</td>\n",
       "      <td>2</td>\n",
       "      <td>1</td>\n",
       "      <td>1</td>\n",
       "      <td>1</td>\n",
       "    </tr>\n",
       "  </tbody>\n",
       "</table>\n",
       "</div>"
      ],
      "text/plain": [
       "                          clip_title labeler  label  RGB_Preds  Flow_Preds  \\\n",
       "video-UID                                                                    \n",
       "12593                      V_916.mp4   Ahsen      2          1           1   \n",
       "12070               V_505_slice0.mp4    Alex      2          1           1   \n",
       "12130               V_560_slice0.mp4    Alex      2          1           0   \n",
       "14907      streetfight3_slice525.mp4     Jen      2          1           1   \n",
       "\n",
       "           predix  \n",
       "video-UID          \n",
       "12593           1  \n",
       "12070           1  \n",
       "12130           1  \n",
       "14907           1  "
      ]
     },
     "execution_count": 30,
     "metadata": {},
     "output_type": "execute_result"
    }
   ],
   "source": [
    "df[(df['label']==2) & (df['predix']==1)]"
   ]
  },
  {
   "cell_type": "code",
   "execution_count": 31,
   "metadata": {},
   "outputs": [
    {
     "data": {
      "application/vnd.jupyter.widget-view+json": {
       "model_id": "11ad942107a64f248338f89743786064",
       "version_major": 2,
       "version_minor": 0
      },
      "text/plain": [
       "Video(value=b'\\x00\\x00\\x00 ftypisom\\x00\\x00\\x02\\x00isomiso2avc1mp41\\x00\\x00\\x00\\x08free\\x00\\x04\\x91\\xf4mdat\\x0…"
      ]
     },
     "metadata": {},
     "output_type": "display_data"
    }
   ],
   "source": [
    "clip = \"V_916.mp4\"\n",
    "show = Video.from_file('/root/vids/' + clip)\n",
    "show\n",
    "# label=2; predix=1\n",
    "# definitely swings and misses; good that security will be called"
   ]
  },
  {
   "cell_type": "code",
   "execution_count": 32,
   "metadata": {},
   "outputs": [
    {
     "data": {
      "application/vnd.jupyter.widget-view+json": {
       "model_id": "9820a4e4b81943acae920d5d33006622",
       "version_major": 2,
       "version_minor": 0
      },
      "text/plain": [
       "Video(value=b'\\x00\\x00\\x00 ftypisom\\x00\\x00\\x02\\x00isomiso2avc1mp41\\x00\\x00\\x00\\x08free\\x00\\t\\xad\\x06mdat\\x00\\…"
      ]
     },
     "metadata": {},
     "output_type": "display_data"
    }
   ],
   "source": [
    "clip = \"V_505_slice0.mp4\"\n",
    "show = Video.from_file('/root/vids/' + clip)\n",
    "show\n",
    "# label=2; predix=1\n",
    "# I can't tell if there's contact; certainly seems violent"
   ]
  },
  {
   "cell_type": "code",
   "execution_count": 34,
   "metadata": {},
   "outputs": [
    {
     "data": {
      "application/vnd.jupyter.widget-view+json": {
       "model_id": "9df951c9a5d54cc69c2d5a4d4de1c91b",
       "version_major": 2,
       "version_minor": 0
      },
      "text/plain": [
       "Video(value=b'\\x00\\x00\\x00 ftypisom\\x00\\x00\\x02\\x00isomiso2avc1mp41\\x00\\x00\\x00\\x08free\\x00\\x10%\\xf8mdat\\x00\\x…"
      ]
     },
     "metadata": {},
     "output_type": "display_data"
    }
   ],
   "source": [
    "clip = \"streetfight3_slice525.mp4\"\n",
    "show = Video.from_file('/root/vids/' + clip)\n",
    "show\n",
    "# label=2; predix=1"
   ]
  },
  {
   "cell_type": "code",
   "execution_count": 37,
   "metadata": {},
   "outputs": [
    {
     "data": {
      "text/html": [
       "<div>\n",
       "<style scoped>\n",
       "    .dataframe tbody tr th:only-of-type {\n",
       "        vertical-align: middle;\n",
       "    }\n",
       "\n",
       "    .dataframe tbody tr th {\n",
       "        vertical-align: top;\n",
       "    }\n",
       "\n",
       "    .dataframe thead th {\n",
       "        text-align: right;\n",
       "    }\n",
       "</style>\n",
       "<table border=\"1\" class=\"dataframe\">\n",
       "  <thead>\n",
       "    <tr style=\"text-align: right;\">\n",
       "      <th></th>\n",
       "      <th>clip_title</th>\n",
       "      <th>labeler</th>\n",
       "      <th>label</th>\n",
       "      <th>RGB_Preds</th>\n",
       "      <th>Flow_Preds</th>\n",
       "      <th>predix</th>\n",
       "    </tr>\n",
       "    <tr>\n",
       "      <th>video-UID</th>\n",
       "      <th></th>\n",
       "      <th></th>\n",
       "      <th></th>\n",
       "      <th></th>\n",
       "      <th></th>\n",
       "      <th></th>\n",
       "    </tr>\n",
       "  </thead>\n",
       "  <tbody>\n",
       "    <tr>\n",
       "      <th>13772</th>\n",
       "      <td>how_to_strike_max_power_slice40.mp4</td>\n",
       "      <td>Lance</td>\n",
       "      <td>3</td>\n",
       "      <td>0</td>\n",
       "      <td>0</td>\n",
       "      <td>0</td>\n",
       "    </tr>\n",
       "    <tr>\n",
       "      <th>12953</th>\n",
       "      <td>downward_strike_punches_slice485.mp4</td>\n",
       "      <td>Lance</td>\n",
       "      <td>3</td>\n",
       "      <td>0</td>\n",
       "      <td>0</td>\n",
       "      <td>0</td>\n",
       "    </tr>\n",
       "    <tr>\n",
       "      <th>14190</th>\n",
       "      <td>perfect_hook_punch_slice60.mp4</td>\n",
       "      <td>Lance</td>\n",
       "      <td>3</td>\n",
       "      <td>3</td>\n",
       "      <td>1</td>\n",
       "      <td>0</td>\n",
       "    </tr>\n",
       "    <tr>\n",
       "      <th>4167</th>\n",
       "      <td>short_strikes_slice485.mp4</td>\n",
       "      <td>Lance</td>\n",
       "      <td>3</td>\n",
       "      <td>0</td>\n",
       "      <td>0</td>\n",
       "      <td>0</td>\n",
       "    </tr>\n",
       "    <tr>\n",
       "      <th>14046</th>\n",
       "      <td>mitt_drill_slice85.mp4</td>\n",
       "      <td>Ahsen</td>\n",
       "      <td>3</td>\n",
       "      <td>0</td>\n",
       "      <td>0</td>\n",
       "      <td>0</td>\n",
       "    </tr>\n",
       "    <tr>\n",
       "      <th>13983</th>\n",
       "      <td>mitt_drill_slice110.mp4</td>\n",
       "      <td>Lance</td>\n",
       "      <td>3</td>\n",
       "      <td>0</td>\n",
       "      <td>0</td>\n",
       "      <td>0</td>\n",
       "    </tr>\n",
       "    <tr>\n",
       "      <th>12875</th>\n",
       "      <td>downward_strike_punches_slice1610.mp4</td>\n",
       "      <td>Alex</td>\n",
       "      <td>3</td>\n",
       "      <td>0</td>\n",
       "      <td>0</td>\n",
       "      <td>0</td>\n",
       "    </tr>\n",
       "    <tr>\n",
       "      <th>13028</th>\n",
       "      <td>downward_strike_punches_slice820.mp4</td>\n",
       "      <td>Alex</td>\n",
       "      <td>3</td>\n",
       "      <td>0</td>\n",
       "      <td>0</td>\n",
       "      <td>0</td>\n",
       "    </tr>\n",
       "    <tr>\n",
       "      <th>3851</th>\n",
       "      <td>mitt_drill_slice245.mp4</td>\n",
       "      <td>Lance</td>\n",
       "      <td>3</td>\n",
       "      <td>3</td>\n",
       "      <td>0</td>\n",
       "      <td>0</td>\n",
       "    </tr>\n",
       "    <tr>\n",
       "      <th>14262</th>\n",
       "      <td>short_strikes_slice195.mp4</td>\n",
       "      <td>Lance</td>\n",
       "      <td>3</td>\n",
       "      <td>3</td>\n",
       "      <td>0</td>\n",
       "      <td>0</td>\n",
       "    </tr>\n",
       "    <tr>\n",
       "      <th>13486</th>\n",
       "      <td>heavy_bag_drills_slice350.mp4</td>\n",
       "      <td>Alex</td>\n",
       "      <td>3</td>\n",
       "      <td>3</td>\n",
       "      <td>0</td>\n",
       "      <td>0</td>\n",
       "    </tr>\n",
       "    <tr>\n",
       "      <th>676</th>\n",
       "      <td>NV_434.mp4</td>\n",
       "      <td>Lance</td>\n",
       "      <td>3</td>\n",
       "      <td>0</td>\n",
       "      <td>0</td>\n",
       "      <td>0</td>\n",
       "    </tr>\n",
       "    <tr>\n",
       "      <th>2643</th>\n",
       "      <td>downward_strike_punches_slice1175.mp4</td>\n",
       "      <td>Alex</td>\n",
       "      <td>3</td>\n",
       "      <td>0</td>\n",
       "      <td>0</td>\n",
       "      <td>0</td>\n",
       "    </tr>\n",
       "    <tr>\n",
       "      <th>13034</th>\n",
       "      <td>downward_strike_punches_slice85.mp4</td>\n",
       "      <td>Jen</td>\n",
       "      <td>3</td>\n",
       "      <td>3</td>\n",
       "      <td>0</td>\n",
       "      <td>0</td>\n",
       "    </tr>\n",
       "    <tr>\n",
       "      <th>14267</th>\n",
       "      <td>short_strikes_slice215.mp4</td>\n",
       "      <td>Jen</td>\n",
       "      <td>3</td>\n",
       "      <td>0</td>\n",
       "      <td>0</td>\n",
       "      <td>0</td>\n",
       "    </tr>\n",
       "    <tr>\n",
       "      <th>5063</th>\n",
       "      <td>student_teacher_greetings_slice15.mp4</td>\n",
       "      <td>Ahsen</td>\n",
       "      <td>3</td>\n",
       "      <td>0</td>\n",
       "      <td>0</td>\n",
       "      <td>0</td>\n",
       "    </tr>\n",
       "  </tbody>\n",
       "</table>\n",
       "</div>"
      ],
      "text/plain": [
       "                                      clip_title labeler  label  RGB_Preds  \\\n",
       "video-UID                                                                    \n",
       "13772        how_to_strike_max_power_slice40.mp4   Lance      3          0   \n",
       "12953       downward_strike_punches_slice485.mp4   Lance      3          0   \n",
       "14190             perfect_hook_punch_slice60.mp4   Lance      3          3   \n",
       "4167                  short_strikes_slice485.mp4   Lance      3          0   \n",
       "14046                     mitt_drill_slice85.mp4   Ahsen      3          0   \n",
       "13983                    mitt_drill_slice110.mp4   Lance      3          0   \n",
       "12875      downward_strike_punches_slice1610.mp4    Alex      3          0   \n",
       "13028       downward_strike_punches_slice820.mp4    Alex      3          0   \n",
       "3851                     mitt_drill_slice245.mp4   Lance      3          3   \n",
       "14262                 short_strikes_slice195.mp4   Lance      3          3   \n",
       "13486              heavy_bag_drills_slice350.mp4    Alex      3          3   \n",
       "676                                   NV_434.mp4   Lance      3          0   \n",
       "2643       downward_strike_punches_slice1175.mp4    Alex      3          0   \n",
       "13034        downward_strike_punches_slice85.mp4     Jen      3          3   \n",
       "14267                 short_strikes_slice215.mp4     Jen      3          0   \n",
       "5063       student_teacher_greetings_slice15.mp4   Ahsen      3          0   \n",
       "\n",
       "           Flow_Preds  predix  \n",
       "video-UID                      \n",
       "13772               0       0  \n",
       "12953               0       0  \n",
       "14190               1       0  \n",
       "4167                0       0  \n",
       "14046               0       0  \n",
       "13983               0       0  \n",
       "12875               0       0  \n",
       "13028               0       0  \n",
       "3851                0       0  \n",
       "14262               0       0  \n",
       "13486               0       0  \n",
       "676                 0       0  \n",
       "2643                0       0  \n",
       "13034               0       0  \n",
       "14267               0       0  \n",
       "5063                0       0  "
      ]
     },
     "execution_count": 37,
     "metadata": {},
     "output_type": "execute_result"
    }
   ],
   "source": [
    "df[(df['label']==3) & (df['predix']==0)]\n"
   ]
  },
  {
   "cell_type": "code",
   "execution_count": 45,
   "metadata": {},
   "outputs": [
    {
     "data": {
      "application/vnd.jupyter.widget-view+json": {
       "model_id": "bf853d35d26247f48b399932b60f61b1",
       "version_major": 2,
       "version_minor": 0
      },
      "text/plain": [
       "Video(value=b'\\x00\\x00\\x00 ftypisom\\x00\\x00\\x02\\x00isomiso2avc1mp41\\x00\\x00\\x00\\x08free\\x00\\x01t\\xc6mdat\\x00\\x…"
      ]
     },
     "metadata": {},
     "output_type": "display_data"
    }
   ],
   "source": [
    "clip = \"NV_434.mp4\" \n",
    "show = Video.from_file('/root/vids/' + clip)\n",
    "show\n",
    "# label=3; predix = 0\n",
    "# I think I agree with the model more than with Lance"
   ]
  },
  {
   "cell_type": "code",
   "execution_count": 46,
   "metadata": {},
   "outputs": [
    {
     "data": {
      "application/vnd.jupyter.widget-view+json": {
       "model_id": "118848d2426542e68698ce6ca1957a46",
       "version_major": 2,
       "version_minor": 0
      },
      "text/plain": [
       "Video(value=b'\\x00\\x00\\x00 ftypisom\\x00\\x00\\x02\\x00isomiso2avc1mp41\\x00\\x00\\x00\\x08free\\x00\\x12\\xb0\\xccmdat\\x0…"
      ]
     },
     "metadata": {},
     "output_type": "display_data"
    }
   ],
   "source": [
    "clip = \"perfect_hook_punch_slice60.mp4\"\n",
    "show = Video.from_file('/root/vids/' + clip)\n",
    "show\n",
    "# label=3; predix = 0\n",
    "# it's a mystery to me why the model didn't get this one. checking its probability\n",
    "# at least it's not that confident: 41%"
   ]
  },
  {
   "cell_type": "code",
   "execution_count": 47,
   "metadata": {},
   "outputs": [
    {
     "data": {
      "text/html": [
       "<div>\n",
       "<style scoped>\n",
       "    .dataframe tbody tr th:only-of-type {\n",
       "        vertical-align: middle;\n",
       "    }\n",
       "\n",
       "    .dataframe tbody tr th {\n",
       "        vertical-align: top;\n",
       "    }\n",
       "\n",
       "    .dataframe thead th {\n",
       "        text-align: right;\n",
       "    }\n",
       "</style>\n",
       "<table border=\"1\" class=\"dataframe\">\n",
       "  <thead>\n",
       "    <tr style=\"text-align: right;\">\n",
       "      <th></th>\n",
       "      <th>clip_title</th>\n",
       "      <th>labeler</th>\n",
       "      <th>label</th>\n",
       "      <th>RGB_Preds</th>\n",
       "      <th>Flow_Preds</th>\n",
       "      <th>predix</th>\n",
       "    </tr>\n",
       "    <tr>\n",
       "      <th>video-UID</th>\n",
       "      <th></th>\n",
       "      <th></th>\n",
       "      <th></th>\n",
       "      <th></th>\n",
       "      <th></th>\n",
       "      <th></th>\n",
       "    </tr>\n",
       "  </thead>\n",
       "  <tbody>\n",
       "    <tr>\n",
       "      <th>14165</th>\n",
       "      <td>perfect_hook_punch_slice220.mp4</td>\n",
       "      <td>Alex</td>\n",
       "      <td>3</td>\n",
       "      <td>3</td>\n",
       "      <td>1</td>\n",
       "      <td>1</td>\n",
       "    </tr>\n",
       "    <tr>\n",
       "      <th>15243</th>\n",
       "      <td>stunt_fights_shayna_slice15.mp4</td>\n",
       "      <td>Alex</td>\n",
       "      <td>3</td>\n",
       "      <td>3</td>\n",
       "      <td>1</td>\n",
       "      <td>1</td>\n",
       "    </tr>\n",
       "    <tr>\n",
       "      <th>11960</th>\n",
       "      <td>V_406.mp4</td>\n",
       "      <td>Alex</td>\n",
       "      <td>3</td>\n",
       "      <td>0</td>\n",
       "      <td>1</td>\n",
       "      <td>1</td>\n",
       "    </tr>\n",
       "  </tbody>\n",
       "</table>\n",
       "</div>"
      ],
      "text/plain": [
       "                                clip_title labeler  label  RGB_Preds  \\\n",
       "video-UID                                                              \n",
       "14165      perfect_hook_punch_slice220.mp4    Alex      3          3   \n",
       "15243      stunt_fights_shayna_slice15.mp4    Alex      3          3   \n",
       "11960                            V_406.mp4    Alex      3          0   \n",
       "\n",
       "           Flow_Preds  predix  \n",
       "video-UID                      \n",
       "14165               1       1  \n",
       "15243               1       1  \n",
       "11960               1       1  "
      ]
     },
     "execution_count": 47,
     "metadata": {},
     "output_type": "execute_result"
    }
   ],
   "source": [
    "df[(df['label']==3) & (df['predix']==1)]"
   ]
  },
  {
   "cell_type": "code",
   "execution_count": 48,
   "metadata": {},
   "outputs": [
    {
     "data": {
      "application/vnd.jupyter.widget-view+json": {
       "model_id": "57918435b79b4f91a72fccb3fbe59dcf",
       "version_major": 2,
       "version_minor": 0
      },
      "text/plain": [
       "Video(value=b'\\x00\\x00\\x00 ftypisom\\x00\\x00\\x02\\x00isomiso2avc1mp41\\x00\\x00\\x00\\x08free\\x00\\x10\\x87\\x02mdat\\x0…"
      ]
     },
     "metadata": {},
     "output_type": "display_data"
    }
   ],
   "source": [
    "clip = \"perfect_hook_punch_slice220.mp4\"\n",
    "show = Video.from_file('/root/vids/' + clip)\n",
    "show\n",
    "# label=3; predix = 1\n",
    "# maybe absence of glob on puncher?"
   ]
  },
  {
   "cell_type": "code",
   "execution_count": 50,
   "metadata": {},
   "outputs": [
    {
     "data": {
      "application/vnd.jupyter.widget-view+json": {
       "model_id": "7806fc9cfeaf4f549d797bbac4bb87bb",
       "version_major": 2,
       "version_minor": 0
      },
      "text/plain": [
       "Video(value=b'\\x00\\x00\\x00 ftypisom\\x00\\x00\\x02\\x00isomiso2avc1mp41\\x00\\x00\\x00\\x08free\\x00\\x04g\\x88mdat\\x00\\x…"
      ]
     },
     "metadata": {},
     "output_type": "display_data"
    }
   ],
   "source": [
    "clip = \"V_406.mp4\"\n",
    "show = Video.from_file('/root/vids/' + clip)\n",
    "show\n",
    "# label=3; predix = 1"
   ]
  },
  {
   "cell_type": "code",
   "execution_count": 51,
   "metadata": {},
   "outputs": [
    {
     "data": {
      "text/html": [
       "<div>\n",
       "<style scoped>\n",
       "    .dataframe tbody tr th:only-of-type {\n",
       "        vertical-align: middle;\n",
       "    }\n",
       "\n",
       "    .dataframe tbody tr th {\n",
       "        vertical-align: top;\n",
       "    }\n",
       "\n",
       "    .dataframe thead th {\n",
       "        text-align: right;\n",
       "    }\n",
       "</style>\n",
       "<table border=\"1\" class=\"dataframe\">\n",
       "  <thead>\n",
       "    <tr style=\"text-align: right;\">\n",
       "      <th></th>\n",
       "      <th>clip_title</th>\n",
       "      <th>labeler</th>\n",
       "      <th>label</th>\n",
       "      <th>RGB_Preds</th>\n",
       "      <th>Flow_Preds</th>\n",
       "      <th>predix</th>\n",
       "    </tr>\n",
       "    <tr>\n",
       "      <th>video-UID</th>\n",
       "      <th></th>\n",
       "      <th></th>\n",
       "      <th></th>\n",
       "      <th></th>\n",
       "      <th></th>\n",
       "      <th></th>\n",
       "    </tr>\n",
       "  </thead>\n",
       "  <tbody>\n",
       "    <tr>\n",
       "      <th>14174</th>\n",
       "      <td>perfect_hook_punch_slice260.mp4</td>\n",
       "      <td>Jen</td>\n",
       "      <td>4</td>\n",
       "      <td>0</td>\n",
       "      <td>0</td>\n",
       "      <td>0</td>\n",
       "    </tr>\n",
       "    <tr>\n",
       "      <th>4012</th>\n",
       "      <td>perfect_hook_punch_slice25.mp4</td>\n",
       "      <td>Alex</td>\n",
       "      <td>4</td>\n",
       "      <td>0</td>\n",
       "      <td>0</td>\n",
       "      <td>0</td>\n",
       "    </tr>\n",
       "    <tr>\n",
       "      <th>2755</th>\n",
       "      <td>downward_strike_punches_slice20.mp4</td>\n",
       "      <td>Alex</td>\n",
       "      <td>4</td>\n",
       "      <td>0</td>\n",
       "      <td>0</td>\n",
       "      <td>0</td>\n",
       "    </tr>\n",
       "    <tr>\n",
       "      <th>13598</th>\n",
       "      <td>how_to_punch_7_basics_slice110.mp4</td>\n",
       "      <td>Jen</td>\n",
       "      <td>4</td>\n",
       "      <td>4</td>\n",
       "      <td>0</td>\n",
       "      <td>0</td>\n",
       "    </tr>\n",
       "    <tr>\n",
       "      <th>12922</th>\n",
       "      <td>downward_strike_punches_slice345.mp4</td>\n",
       "      <td>Lance</td>\n",
       "      <td>4</td>\n",
       "      <td>3</td>\n",
       "      <td>0</td>\n",
       "      <td>0</td>\n",
       "    </tr>\n",
       "    <tr>\n",
       "      <th>13872</th>\n",
       "      <td>how_to_strike_max_power_slice850.mp4</td>\n",
       "      <td>Jen</td>\n",
       "      <td>4</td>\n",
       "      <td>0</td>\n",
       "      <td>0</td>\n",
       "      <td>0</td>\n",
       "    </tr>\n",
       "    <tr>\n",
       "      <th>15232</th>\n",
       "      <td>stunt_fights_shayna_slice10.mp4</td>\n",
       "      <td>Alex</td>\n",
       "      <td>4</td>\n",
       "      <td>4</td>\n",
       "      <td>0</td>\n",
       "      <td>0</td>\n",
       "    </tr>\n",
       "    <tr>\n",
       "      <th>11392</th>\n",
       "      <td>PutHandsUp_slice70.mp4</td>\n",
       "      <td>Lance</td>\n",
       "      <td>4</td>\n",
       "      <td>0</td>\n",
       "      <td>0</td>\n",
       "      <td>0</td>\n",
       "    </tr>\n",
       "    <tr>\n",
       "      <th>10181</th>\n",
       "      <td>French_flashmob_circle_slice345.mp4</td>\n",
       "      <td>Lance</td>\n",
       "      <td>4</td>\n",
       "      <td>0</td>\n",
       "      <td>0</td>\n",
       "      <td>0</td>\n",
       "    </tr>\n",
       "  </tbody>\n",
       "</table>\n",
       "</div>"
      ],
      "text/plain": [
       "                                     clip_title labeler  label  RGB_Preds  \\\n",
       "video-UID                                                                   \n",
       "14174           perfect_hook_punch_slice260.mp4     Jen      4          0   \n",
       "4012             perfect_hook_punch_slice25.mp4    Alex      4          0   \n",
       "2755        downward_strike_punches_slice20.mp4    Alex      4          0   \n",
       "13598        how_to_punch_7_basics_slice110.mp4     Jen      4          4   \n",
       "12922      downward_strike_punches_slice345.mp4   Lance      4          3   \n",
       "13872      how_to_strike_max_power_slice850.mp4     Jen      4          0   \n",
       "15232           stunt_fights_shayna_slice10.mp4    Alex      4          4   \n",
       "11392                    PutHandsUp_slice70.mp4   Lance      4          0   \n",
       "10181       French_flashmob_circle_slice345.mp4   Lance      4          0   \n",
       "\n",
       "           Flow_Preds  predix  \n",
       "video-UID                      \n",
       "14174               0       0  \n",
       "4012                0       0  \n",
       "2755                0       0  \n",
       "13598               0       0  \n",
       "12922               0       0  \n",
       "13872               0       0  \n",
       "15232               0       0  \n",
       "11392               0       0  \n",
       "10181               0       0  "
      ]
     },
     "execution_count": 51,
     "metadata": {},
     "output_type": "execute_result"
    }
   ],
   "source": [
    "df[(df['label']==4) & (df['predix']==0)]"
   ]
  },
  {
   "cell_type": "code",
   "execution_count": 52,
   "metadata": {},
   "outputs": [
    {
     "data": {
      "application/vnd.jupyter.widget-view+json": {
       "model_id": "bf22bcd48b1e43f98b09344bbacbcb68",
       "version_major": 2,
       "version_minor": 0
      },
      "text/plain": [
       "Video(value=b'\\x00\\x00\\x00 ftypisom\\x00\\x00\\x02\\x00isomiso2avc1mp41\\x00\\x00\\x00\\x08free\\x00\\x1b\\xe2\\xd1mdat\\x0…"
      ]
     },
     "metadata": {},
     "output_type": "display_data"
    }
   ],
   "source": [
    "clip = \"French_flashmob_circle_slice345.mp4\"\n",
    "show = Video.from_file('/root/vids/' + clip)\n",
    "show\n",
    "# label=4; predix = 0"
   ]
  },
  {
   "cell_type": "code",
   "execution_count": 54,
   "metadata": {},
   "outputs": [
    {
     "data": {
      "application/vnd.jupyter.widget-view+json": {
       "model_id": "fc66c334f1ff4fcc950dee52cb777b0f",
       "version_major": 2,
       "version_minor": 0
      },
      "text/plain": [
       "Video(value=b'\\x00\\x00\\x00 ftypisom\\x00\\x00\\x02\\x00isomiso2avc1mp41\\x00\\x00\\x00\\x08free\\x00\\x16\\xdf}mdat\\x00\\x…"
      ]
     },
     "metadata": {},
     "output_type": "display_data"
    }
   ],
   "source": [
    "\n",
    "clip = \"downward_strike_punches_slice345.mp4\" \n",
    "show = Video.from_file('/root/vids/' + clip)\n",
    "show\n",
    "# label=4; predix = 0"
   ]
  },
  {
   "cell_type": "code",
   "execution_count": 55,
   "metadata": {},
   "outputs": [
    {
     "data": {
      "application/vnd.jupyter.widget-view+json": {
       "model_id": "06de195074f84af681b50a40f41d5c7c",
       "version_major": 2,
       "version_minor": 0
      },
      "text/plain": [
       "Video(value=b'\\x00\\x00\\x00 ftypisom\\x00\\x00\\x02\\x00isomiso2avc1mp41\\x00\\x00\\x00\\x08free\\x00\\x08\\x95\\xbdmdat\\x0…"
      ]
     },
     "metadata": {},
     "output_type": "display_data"
    }
   ],
   "source": [
    "clip = \"PutHandsUp_slice70.mp4\"\n",
    "show = Video.from_file('/root/vids/' + clip)\n",
    "show\n",
    "# label=4; predix = 0"
   ]
  },
  {
   "cell_type": "code",
   "execution_count": 56,
   "metadata": {},
   "outputs": [
    {
     "data": {
      "text/html": [
       "<div>\n",
       "<style scoped>\n",
       "    .dataframe tbody tr th:only-of-type {\n",
       "        vertical-align: middle;\n",
       "    }\n",
       "\n",
       "    .dataframe tbody tr th {\n",
       "        vertical-align: top;\n",
       "    }\n",
       "\n",
       "    .dataframe thead th {\n",
       "        text-align: right;\n",
       "    }\n",
       "</style>\n",
       "<table border=\"1\" class=\"dataframe\">\n",
       "  <thead>\n",
       "    <tr style=\"text-align: right;\">\n",
       "      <th></th>\n",
       "      <th>clip_title</th>\n",
       "      <th>labeler</th>\n",
       "      <th>label</th>\n",
       "      <th>RGB_Preds</th>\n",
       "      <th>Flow_Preds</th>\n",
       "      <th>predix</th>\n",
       "    </tr>\n",
       "    <tr>\n",
       "      <th>video-UID</th>\n",
       "      <th></th>\n",
       "      <th></th>\n",
       "      <th></th>\n",
       "      <th></th>\n",
       "      <th></th>\n",
       "      <th></th>\n",
       "    </tr>\n",
       "  </thead>\n",
       "  <tbody>\n",
       "    <tr>\n",
       "      <th>14018</th>\n",
       "      <td>mitt_drill_slice270.mp4</td>\n",
       "      <td>Jen</td>\n",
       "      <td>4</td>\n",
       "      <td>0</td>\n",
       "      <td>1</td>\n",
       "      <td>1</td>\n",
       "    </tr>\n",
       "    <tr>\n",
       "      <th>13675</th>\n",
       "      <td>how_to_punch_hard_fast_slice180.mp4</td>\n",
       "      <td>Ahsen</td>\n",
       "      <td>4</td>\n",
       "      <td>1</td>\n",
       "      <td>1</td>\n",
       "      <td>1</td>\n",
       "    </tr>\n",
       "    <tr>\n",
       "      <th>12322</th>\n",
       "      <td>V_734.mp4</td>\n",
       "      <td>Jen</td>\n",
       "      <td>4</td>\n",
       "      <td>1</td>\n",
       "      <td>0</td>\n",
       "      <td>1</td>\n",
       "    </tr>\n",
       "  </tbody>\n",
       "</table>\n",
       "</div>"
      ],
      "text/plain": [
       "                                    clip_title labeler  label  RGB_Preds  \\\n",
       "video-UID                                                                  \n",
       "14018                  mitt_drill_slice270.mp4     Jen      4          0   \n",
       "13675      how_to_punch_hard_fast_slice180.mp4   Ahsen      4          1   \n",
       "12322                                V_734.mp4     Jen      4          1   \n",
       "\n",
       "           Flow_Preds  predix  \n",
       "video-UID                      \n",
       "14018               1       1  \n",
       "13675               1       1  \n",
       "12322               0       1  "
      ]
     },
     "execution_count": 56,
     "metadata": {},
     "output_type": "execute_result"
    }
   ],
   "source": [
    "df[(df['label']==4) & (df['predix']==1)]"
   ]
  },
  {
   "cell_type": "code",
   "execution_count": 59,
   "metadata": {},
   "outputs": [
    {
     "data": {
      "application/vnd.jupyter.widget-view+json": {
       "model_id": "65b08edb32e24fe2a578b27eddb20a56",
       "version_major": 2,
       "version_minor": 0
      },
      "text/plain": [
       "Video(value=b'\\x00\\x00\\x00 ftypisom\\x00\\x00\\x02\\x00isomiso2avc1mp41\\x00\\x00\\x00\\x08free\\x00\\x02d\\x99mdat\\x00\\x…"
      ]
     },
     "metadata": {},
     "output_type": "display_data"
    }
   ],
   "source": [
    "clip = \"V_734.mp4\"\n",
    "show = Video.from_file('/root/vids/' + clip)\n",
    "show\n",
    "# label=4; predix = 1"
   ]
  },
  {
   "cell_type": "code",
   "execution_count": 60,
   "metadata": {},
   "outputs": [
    {
     "data": {
      "text/html": [
       "<div>\n",
       "<style scoped>\n",
       "    .dataframe tbody tr th:only-of-type {\n",
       "        vertical-align: middle;\n",
       "    }\n",
       "\n",
       "    .dataframe tbody tr th {\n",
       "        vertical-align: top;\n",
       "    }\n",
       "\n",
       "    .dataframe thead th {\n",
       "        text-align: right;\n",
       "    }\n",
       "</style>\n",
       "<table border=\"1\" class=\"dataframe\">\n",
       "  <thead>\n",
       "    <tr style=\"text-align: right;\">\n",
       "      <th></th>\n",
       "      <th>clip_title</th>\n",
       "      <th>labeler</th>\n",
       "      <th>label</th>\n",
       "      <th>RGB_Preds</th>\n",
       "      <th>Flow_Preds</th>\n",
       "      <th>predix</th>\n",
       "    </tr>\n",
       "    <tr>\n",
       "      <th>video-UID</th>\n",
       "      <th></th>\n",
       "      <th></th>\n",
       "      <th></th>\n",
       "      <th></th>\n",
       "      <th></th>\n",
       "      <th></th>\n",
       "    </tr>\n",
       "  </thead>\n",
       "  <tbody>\n",
       "    <tr>\n",
       "      <th>2964</th>\n",
       "      <td>fast_punch_drill_slice145.mp4</td>\n",
       "      <td>Ahsen</td>\n",
       "      <td>4</td>\n",
       "      <td>3</td>\n",
       "      <td>3</td>\n",
       "      <td>3</td>\n",
       "    </tr>\n",
       "    <tr>\n",
       "      <th>14254</th>\n",
       "      <td>short_strikes_slice155.mp4</td>\n",
       "      <td>Ahsen</td>\n",
       "      <td>4</td>\n",
       "      <td>3</td>\n",
       "      <td>3</td>\n",
       "      <td>3</td>\n",
       "    </tr>\n",
       "    <tr>\n",
       "      <th>3313</th>\n",
       "      <td>heavy_bag_drills_slice300.mp4</td>\n",
       "      <td>Ahsen</td>\n",
       "      <td>4</td>\n",
       "      <td>3</td>\n",
       "      <td>3</td>\n",
       "      <td>3</td>\n",
       "    </tr>\n",
       "  </tbody>\n",
       "</table>\n",
       "</div>"
      ],
      "text/plain": [
       "                              clip_title labeler  label  RGB_Preds  \\\n",
       "video-UID                                                            \n",
       "2964       fast_punch_drill_slice145.mp4   Ahsen      4          3   \n",
       "14254         short_strikes_slice155.mp4   Ahsen      4          3   \n",
       "3313       heavy_bag_drills_slice300.mp4   Ahsen      4          3   \n",
       "\n",
       "           Flow_Preds  predix  \n",
       "video-UID                      \n",
       "2964                3       3  \n",
       "14254               3       3  \n",
       "3313                3       3  "
      ]
     },
     "execution_count": 60,
     "metadata": {},
     "output_type": "execute_result"
    }
   ],
   "source": [
    "df[(df['label']==4) & (df['predix']==3)]"
   ]
  },
  {
   "cell_type": "code",
   "execution_count": 61,
   "metadata": {},
   "outputs": [
    {
     "data": {
      "application/vnd.jupyter.widget-view+json": {
       "model_id": "ea9382a5e5bf4c2eb4483dee3ac045e7",
       "version_major": 2,
       "version_minor": 0
      },
      "text/plain": [
       "Video(value=b'\\x00\\x00\\x00 ftypisom\\x00\\x00\\x02\\x00isomiso2avc1mp41\\x00\\x00\\x00\\x08free\\x00\\x11\\xbammdat\\x00\\x…"
      ]
     },
     "metadata": {},
     "output_type": "display_data"
    }
   ],
   "source": [
    "clip = \"fast_punch_drill_slice145.mp4\"\n",
    "show = Video.from_file('/root/vids/' + clip)\n",
    "show\n",
    "# label=4; predix = 3\n",
    "# I disagree with Ahsen here; I think he is making contact with the bag"
   ]
  },
  {
   "cell_type": "code",
   "execution_count": 62,
   "metadata": {},
   "outputs": [
    {
     "data": {
      "application/vnd.jupyter.widget-view+json": {
       "model_id": "449e97b40793480899df189c0586bf45",
       "version_major": 2,
       "version_minor": 0
      },
      "text/plain": [
       "Video(value=b'\\x00\\x00\\x00 ftypisom\\x00\\x00\\x02\\x00isomiso2avc1mp41\\x00\\x00\\x00\\x08free\\x00\\x17\\x13\\x8fmdat\\x0…"
      ]
     },
     "metadata": {},
     "output_type": "display_data"
    }
   ],
   "source": [
    "clip = \"short_strikes_slice155.mp4\"\n",
    "show = Video.from_file('/root/vids/' + clip)\n",
    "show\n",
    "# label=4; predix = 3\n",
    "# camera angle again, as arms overlap at end"
   ]
  },
  {
   "cell_type": "code",
   "execution_count": null,
   "metadata": {},
   "outputs": [],
   "source": []
  }
 ],
 "metadata": {
  "kernelspec": {
   "display_name": "Python 3",
   "language": "python",
   "name": "python3"
  },
  "language_info": {
   "codemirror_mode": {
    "name": "ipython",
    "version": 3
   },
   "file_extension": ".py",
   "mimetype": "text/x-python",
   "name": "python",
   "nbconvert_exporter": "python",
   "pygments_lexer": "ipython3",
   "version": "3.7.3"
  }
 },
 "nbformat": 4,
 "nbformat_minor": 2
}
