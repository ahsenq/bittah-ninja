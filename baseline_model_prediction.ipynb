{
 "cells": [
  {
   "cell_type": "code",
   "execution_count": 1,
   "metadata": {},
   "outputs": [],
   "source": [
    "import argparse\n",
    "import os\n",
    "import pickle\n",
    "import sys\n",
    "from collections import Counter\n",
    "from datetime import datetime\n",
    "\n",
    "import cv2\n",
    "import numpy as np\n",
    "import pandas as pd\n",
    "import tensorflow as tf\n",
    "from sklearn.model_selection import train_test_split\n",
    "from tqdm import tqdm\n",
    "\n",
    "from tensorflow import keras\n",
    "# from tensorflow.keras.layers import (Activation, Conv2D, Dense, Dropout, Flatten,\n",
    "#                           MaxPooling2D)\n",
    "# from tensorflow.keras.models import Model, Sequential\n",
    "# from tensorflow.keras.utils import Sequence\n",
    "from CNN_singleImage_baseline import DataGenerator"
   ]
  },
  {
   "cell_type": "code",
   "execution_count": 2,
   "metadata": {},
   "outputs": [
    {
     "name": "stdout",
     "output_type": "stream",
     "text": [
      "2.0.0\n",
      "GPUs Available:  1\n"
     ]
    }
   ],
   "source": [
    "print(tf.__version__)\n",
    "print(\"GPUs Available: \", len(tf.config.experimental.list_physical_devices('GPU')))"
   ]
  },
  {
   "cell_type": "code",
   "execution_count": 3,
   "metadata": {},
   "outputs": [
    {
     "data": {
      "text/plain": [
       "['train.pickle',\n",
       " 'simpleCNN_1000epochs_20191110_153647.h5',\n",
       " 'test.pickle',\n",
       " 'simpleCNN_history_10epochs_20191109_192747.pickle',\n",
       " 'simpleCNN_10epochs_20191109_192747.h5',\n",
       " 'simpleCNN_history_1000epochs_20191110_150328.pickle',\n",
       " 'simpleCNN_100epochs_20191110_033120.h5',\n",
       " 'simpleCNN_history_1000epochs_20191110_153647.pickle',\n",
       " 'simpleCNN_history_100epochs_20191110_033120.pickle',\n",
       " 'simpleCNN_1000epochs_20191110_150328.h5']"
      ]
     },
     "execution_count": 3,
     "metadata": {},
     "output_type": "execute_result"
    }
   ],
   "source": [
    "# load the model\n",
    "modelpath = '/data/models/'\n",
    "os.listdir(modelpath)"
   ]
  },
  {
   "cell_type": "code",
   "execution_count": 4,
   "metadata": {},
   "outputs": [],
   "source": [
    "modelfile = 'simpleCNN_1000epochs_20191110_153647.h5'\n",
    "model = keras.models.load_model(os.path.join(modelpath, modelfile))"
   ]
  },
  {
   "cell_type": "code",
   "execution_count": 5,
   "metadata": {},
   "outputs": [
    {
     "name": "stdout",
     "output_type": "stream",
     "text": [
      "346 346\n"
     ]
    }
   ],
   "source": [
    "with open(os.path.join(modelpath, 'test.pickle'), 'rb') as f:\n",
    "    x_test, y_test = pickle.load(f)\n",
    "print(len(x_test), len(y_test))"
   ]
  },
  {
   "cell_type": "code",
   "execution_count": 6,
   "metadata": {},
   "outputs": [],
   "source": [
    "batch_size = 32\n",
    "test_generator = DataGenerator(x_test, y_test, batch_size)"
   ]
  },
  {
   "cell_type": "code",
   "execution_count": 7,
   "metadata": {},
   "outputs": [],
   "source": [
    "y_pred = model.predict_generator(test_generator)"
   ]
  },
  {
   "cell_type": "code",
   "execution_count": 8,
   "metadata": {},
   "outputs": [
    {
     "data": {
      "text/plain": [
       "array([[7.80228257e-01, 1.63655967e-01, 5.67677384e-03, 2.76252516e-02,\n",
       "        2.28137318e-02],\n",
       "       [7.59226024e-01, 1.56432196e-01, 8.18209536e-03, 2.65733097e-02,\n",
       "        4.95863594e-02],\n",
       "       [7.42931247e-01, 1.84266329e-01, 6.49498915e-03, 6.09488785e-02,\n",
       "        5.35856793e-03],\n",
       "       ...,\n",
       "       [6.54244184e-01, 1.50364980e-01, 2.49901209e-02, 1.11114256e-01,\n",
       "        5.92864752e-02],\n",
       "       [6.44594967e-01, 7.83093199e-02, 2.00585872e-02, 1.16655067e-01,\n",
       "        1.40382111e-01],\n",
       "       [9.09378350e-01, 7.21315145e-02, 5.93291712e-04, 1.40813692e-02,\n",
       "        3.81548004e-03]], dtype=float32)"
      ]
     },
     "execution_count": 8,
     "metadata": {},
     "output_type": "execute_result"
    }
   ],
   "source": [
    "y_pred"
   ]
  },
  {
   "cell_type": "code",
   "execution_count": 10,
   "metadata": {},
   "outputs": [
    {
     "data": {
      "text/plain": [
       "array([289,  17,   0,   0,   0])"
      ]
     },
     "execution_count": 10,
     "metadata": {},
     "output_type": "execute_result"
    }
   ],
   "source": [
    "np.sum(y_pred > 0.5, axis=0)"
   ]
  },
  {
   "cell_type": "code",
   "execution_count": null,
   "metadata": {},
   "outputs": [],
   "source": []
  }
 ],
 "metadata": {
  "kernelspec": {
   "display_name": "Python 3",
   "language": "python",
   "name": "python3"
  },
  "language_info": {
   "codemirror_mode": {
    "name": "ipython",
    "version": 3
   },
   "file_extension": ".py",
   "mimetype": "text/x-python",
   "name": "python",
   "nbconvert_exporter": "python",
   "pygments_lexer": "ipython3",
   "version": "3.6.8"
  }
 },
 "nbformat": 4,
 "nbformat_minor": 4
}
