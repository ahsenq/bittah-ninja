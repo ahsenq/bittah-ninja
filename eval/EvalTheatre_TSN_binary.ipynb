{
 "cells": [
  {
   "cell_type": "markdown",
   "metadata": {},
   "source": [
    "# The Evaluation Theatre notebook only runs in jupyter notebook\n",
    "Let JenD know if you need it with jupyter lab."
   ]
  },
  {
   "cell_type": "code",
   "execution_count": 4,
   "metadata": {},
   "outputs": [],
   "source": [
    "import doctest\n",
    "import matplotlib.pyplot as plt\n",
    "import numpy as np\n",
    "import pandas as pd\n",
    "import sklearn\n",
    "from sklearn.metrics import accuracy_score,confusion_matrix, precision_recall_fscore_support\n",
    "from ipywidgets import Video, Image "
   ]
  },
  {
   "cell_type": "code",
   "execution_count": 5,
   "metadata": {},
   "outputs": [
    {
     "name": "stdout",
     "output_type": "stream",
     "text": [
      "Known nbextensions:\r\n",
      "  config dir: /root/anaconda3/etc/jupyter/nbconfig\r\n",
      "    notebook section\r\n",
      "      jupyter-js-widgets/extension \u001b[32m enabled \u001b[0m\r\n",
      "      - Validating: \u001b[32mOK\u001b[0m\r\n",
      "      jupyter-video/extension \u001b[32m enabled \u001b[0m\r\n",
      "      - Validating: \u001b[32mOK\u001b[0m\r\n"
     ]
    }
   ],
   "source": [
    "!jupyter nbextension list\n",
    "# (you need to see both jupyter-js-widgets/extension and jupyter-video/extension enabled and validated below)\n",
    "# !jupyter nbextension enable --py --sys-prefix widgetsnbextension\n",
    "# !pip install Jupyter-Video_Widget\n",
    "# !jupyter nbextension enable --py --sys-prefix jpy_video"
   ]
  },
  {
   "cell_type": "code",
   "execution_count": 7,
   "metadata": {},
   "outputs": [],
   "source": [
    "df = pd.read_csv('../TSN_predix_binary.csv',index_col=0,header=0)"
   ]
  },
  {
   "cell_type": "code",
   "execution_count": 5,
   "metadata": {},
   "outputs": [],
   "source": [
    "# we don't have the scaled vids on this vm\n",
    "df['clip_title'] = df['clip_title'].apply(lambda x: ''.join(x.split('_scaled')))"
   ]
  },
  {
   "cell_type": "code",
   "execution_count": 9,
   "metadata": {},
   "outputs": [
    {
     "data": {
      "text/html": [
       "<div>\n",
       "<style scoped>\n",
       "    .dataframe tbody tr th:only-of-type {\n",
       "        vertical-align: middle;\n",
       "    }\n",
       "\n",
       "    .dataframe tbody tr th {\n",
       "        vertical-align: top;\n",
       "    }\n",
       "\n",
       "    .dataframe thead th {\n",
       "        text-align: right;\n",
       "    }\n",
       "</style>\n",
       "<table border=\"1\" class=\"dataframe\">\n",
       "  <thead>\n",
       "    <tr style=\"text-align: right;\">\n",
       "      <th></th>\n",
       "      <th>clip_title</th>\n",
       "      <th>labeler</th>\n",
       "      <th>RGB_Preds</th>\n",
       "      <th>Flow_Preds</th>\n",
       "      <th>predix</th>\n",
       "      <th>label</th>\n",
       "    </tr>\n",
       "    <tr>\n",
       "      <th>video-UID</th>\n",
       "      <th></th>\n",
       "      <th></th>\n",
       "      <th></th>\n",
       "      <th></th>\n",
       "      <th></th>\n",
       "      <th></th>\n",
       "    </tr>\n",
       "  </thead>\n",
       "  <tbody>\n",
       "    <tr>\n",
       "      <th>13432</th>\n",
       "      <td>heavy_bag_drills_slice105.mp4</td>\n",
       "      <td>Lance</td>\n",
       "      <td>3</td>\n",
       "      <td>3</td>\n",
       "      <td>1</td>\n",
       "      <td>1</td>\n",
       "    </tr>\n",
       "    <tr>\n",
       "      <th>10918</th>\n",
       "      <td>NV_630.mp4</td>\n",
       "      <td>Jen</td>\n",
       "      <td>0</td>\n",
       "      <td>0</td>\n",
       "      <td>0</td>\n",
       "      <td>0</td>\n",
       "    </tr>\n",
       "    <tr>\n",
       "      <th>12665</th>\n",
       "      <td>V_980.mp4</td>\n",
       "      <td>Alex</td>\n",
       "      <td>1</td>\n",
       "      <td>0</td>\n",
       "      <td>0</td>\n",
       "      <td>0</td>\n",
       "    </tr>\n",
       "    <tr>\n",
       "      <th>15187</th>\n",
       "      <td>streetfight5_slice680.mp4</td>\n",
       "      <td>Ahsen</td>\n",
       "      <td>0</td>\n",
       "      <td>0</td>\n",
       "      <td>0</td>\n",
       "      <td>0</td>\n",
       "    </tr>\n",
       "    <tr>\n",
       "      <th>11420</th>\n",
       "      <td>SouthAmericanDrumline_slice35.mp4</td>\n",
       "      <td>Ahsen</td>\n",
       "      <td>0</td>\n",
       "      <td>0</td>\n",
       "      <td>0</td>\n",
       "      <td>0</td>\n",
       "    </tr>\n",
       "  </tbody>\n",
       "</table>\n",
       "</div>"
      ],
      "text/plain": [
       "                                  clip_title labeler  RGB_Preds  Flow_Preds  \\\n",
       "video-UID                                                                     \n",
       "13432          heavy_bag_drills_slice105.mp4   Lance          3           3   \n",
       "10918                             NV_630.mp4     Jen          0           0   \n",
       "12665                              V_980.mp4    Alex          1           0   \n",
       "15187              streetfight5_slice680.mp4   Ahsen          0           0   \n",
       "11420      SouthAmericanDrumline_slice35.mp4   Ahsen          0           0   \n",
       "\n",
       "           predix  label  \n",
       "video-UID                 \n",
       "13432           1      1  \n",
       "10918           0      0  \n",
       "12665           0      0  \n",
       "15187           0      0  \n",
       "11420           0      0  "
      ]
     },
     "execution_count": 9,
     "metadata": {},
     "output_type": "execute_result"
    }
   ],
   "source": [
    "df.head()"
   ]
  },
  {
   "cell_type": "code",
   "execution_count": 15,
   "metadata": {},
   "outputs": [
    {
     "name": "stdout",
     "output_type": "stream",
     "text": [
      "Predictions\n",
      "0    812\n",
      "1    248\n",
      "Name: predix, dtype: int64\n",
      "Ground Truth\n",
      "0    763\n",
      "1    297\n",
      "Name: label, dtype: int64\n"
     ]
    }
   ],
   "source": [
    "# Binary case\n",
    "print('Predictions')\n",
    "print(df['predix'].value_counts())\n",
    "print('Ground Truth')\n",
    "print(df['label'].value_counts())"
   ]
  },
  {
   "cell_type": "code",
   "execution_count": 11,
   "metadata": {},
   "outputs": [],
   "source": [
    "# We are only predicting binary: punch or no punch at this time\n",
    "# gt_labels = {0:'NoPunch',\\\n",
    "#             1:'ViolentPunchContact',\\\n",
    "#             2:'ViolentPunchWithoutContact',\\\n",
    "#             3:'NonviolentPunchContact',\\\n",
    "#             4:'NonviolentPunchWithoutContact'}"
   ]
  },
  {
   "cell_type": "code",
   "execution_count": 16,
   "metadata": {},
   "outputs": [],
   "source": [
    "# Verify the prediction file has a column named 'predix'\n",
    "def predix_col_must_be_present(x):\n",
    "    \"\"\"Return whether prediction file contains column named 'predix'\n",
    "\n",
    "    >>> predix_col_must_be_present(df)\n",
    "    True\n",
    "    \"\"\"\n",
    "    return 'predix' in x.columns\n",
    "\n",
    "# Verify we're only predicting 1=punch or else 0=no_punch at this time\n",
    "# def should_predict_binary_only(x):\n",
    "#     \"\"\"Return set of unique values of model predictions.\n",
    "\n",
    "#     >>> should_predict_binary_only(df)\n",
    "#     {0, 1}\n",
    "#     \"\"\"\n",
    "#     return set(x['predix'].unique())\n",
    "\n",
    "# Verify we're not making predictions on any excluded videos\n",
    "def no_excluded_videos_should_be_predicted(x):\n",
    "    \"\"\"Return count of videos predicted that should have been excluded\n",
    "    \n",
    "    >>> no_excluded_videos_should_be_predicted(df)\n",
    "    0\n",
    "    \"\"\"\n",
    "    return x.index.intersection(df[df['label'] == -1].index).shape[0]\n",
    "\n",
    "if __name__ == '__main__':\n",
    "    import doctest\n",
    "    doctest.testmod()"
   ]
  },
  {
   "cell_type": "code",
   "execution_count": 17,
   "metadata": {},
   "outputs": [
    {
     "data": {
      "text/plain": [
       "Index(['clip_title', 'labeler', 'RGB_Preds', 'Flow_Preds', 'predix', 'label'], dtype='object')"
      ]
     },
     "execution_count": 17,
     "metadata": {},
     "output_type": "execute_result"
    }
   ],
   "source": [
    "df.columns"
   ]
  },
  {
   "cell_type": "code",
   "execution_count": 18,
   "metadata": {},
   "outputs": [
    {
     "name": "stdout",
     "output_type": "stream",
     "text": [
      "Overall accuracy of this model is: 86.32%\n"
     ]
    }
   ],
   "source": [
    "# Show plain old accuracy\n",
    "acc = accuracy_score(y_true=df['label'],\\\n",
    "              y_pred=df['predix'])\n",
    "print(f\"Overall accuracy of this model is: {acc:.2%}\")"
   ]
  },
  {
   "cell_type": "code",
   "execution_count": 20,
   "metadata": {},
   "outputs": [
    {
     "data": {
      "text/html": [
       "<div>\n",
       "<style scoped>\n",
       "    .dataframe tbody tr th:only-of-type {\n",
       "        vertical-align: middle;\n",
       "    }\n",
       "\n",
       "    .dataframe tbody tr th {\n",
       "        vertical-align: top;\n",
       "    }\n",
       "\n",
       "    .dataframe thead th {\n",
       "        text-align: right;\n",
       "    }\n",
       "</style>\n",
       "<table border=\"1\" class=\"dataframe\">\n",
       "  <thead>\n",
       "    <tr style=\"text-align: right;\">\n",
       "      <th></th>\n",
       "      <th>NoPunch</th>\n",
       "      <th>Punch</th>\n",
       "    </tr>\n",
       "  </thead>\n",
       "  <tbody>\n",
       "    <tr>\n",
       "      <th>precision</th>\n",
       "      <td>0.880542</td>\n",
       "      <td>0.806452</td>\n",
       "    </tr>\n",
       "    <tr>\n",
       "      <th>recall</th>\n",
       "      <td>0.937090</td>\n",
       "      <td>0.673401</td>\n",
       "    </tr>\n",
       "    <tr>\n",
       "      <th>fscore</th>\n",
       "      <td>0.907937</td>\n",
       "      <td>0.733945</td>\n",
       "    </tr>\n",
       "    <tr>\n",
       "      <th>support</th>\n",
       "      <td>763.000000</td>\n",
       "      <td>297.000000</td>\n",
       "    </tr>\n",
       "  </tbody>\n",
       "</table>\n",
       "</div>"
      ],
      "text/plain": [
       "              NoPunch       Punch\n",
       "precision    0.880542    0.806452\n",
       "recall       0.937090    0.673401\n",
       "fscore       0.907937    0.733945\n",
       "support    763.000000  297.000000"
      ]
     },
     "execution_count": 20,
     "metadata": {},
     "output_type": "execute_result"
    }
   ],
   "source": [
    "# Show precision_recall_fscore_support per label JUST BINARY FOR NOW\n",
    "raw_report = precision_recall_fscore_support(y_true=df['label'], y_pred=df['predix'])\n",
    "report = pd.DataFrame(raw_report, index=['precision','recall','fscore','support'],\\\n",
    "                     columns = ['NoPunch','Punch'])\n",
    "report"
   ]
  },
  {
   "cell_type": "code",
   "execution_count": 24,
   "metadata": {},
   "outputs": [
    {
     "data": {
      "image/png": "[encoded data removed]",
      "text/plain": [
       "<Figure size 432x288 with 2 Axes>"
      ]
     },
     "metadata": {
      "needs_background": "light"
     },
     "output_type": "display_data"
    },
    {
     "data": {
      "image/png": "[encoded data removed]",
      "text/plain": [
       "<Figure size 432x288 with 2 Axes>"
      ]
     },
     "metadata": {
      "needs_background": "light"
     },
     "output_type": "display_data"
    }
   ],
   "source": [
    "def plot_confusion_matrix(y_true, y_pred, labels,\n",
    "                          normalize=False,\n",
    "                          title=None,\n",
    "                          cmap=plt.cm.Blues):\n",
    "    \"\"\"\n",
    "    This function prints and plots the confusion matrix.\n",
    "    Normalization can be applied by setting `normalize=True`.\n",
    "    \"\"\"\n",
    "    if not title:\n",
    "        if normalize:\n",
    "            title = 'Normalized confusion matrix'\n",
    "        else:\n",
    "            title = 'Confusion matrix, without normalization'\n",
    "\n",
    "    # Compute confusion matrix\n",
    "    cm = confusion_matrix(y_true, y_pred)\n",
    "    if normalize:\n",
    "        cm = cm.astype('float') / cm.sum(axis=1)[:, np.newaxis]\n",
    "\n",
    "    fig, ax = plt.subplots()\n",
    "    im = ax.imshow(cm, interpolation='nearest', cmap=cmap)\n",
    "    ax.figure.colorbar(im, ax=ax)\n",
    "    ax.set(xticks=np.arange(cm.shape[1]),\n",
    "           yticks=np.arange(cm.shape[0]),\n",
    "           xticklabels=labels, yticklabels=labels,\n",
    "           title=title,\n",
    "           ylabel='True label',\n",
    "           xlabel='Predicted label')\n",
    "    ax.set_xlim(left=-0.5, right=1.5)\n",
    "    ax.set_ylim(bottom=-0.5, top=1.5)\n",
    "\n",
    "    plt.setp(ax.get_xticklabels(), rotation=45, ha=\"right\",\n",
    "             rotation_mode=\"anchor\")\n",
    "\n",
    "    # Loop over data dimensions and create text annotations.\n",
    "    fmt = '.2f' if normalize else 'd'\n",
    "    thresh = cm.max() / 2.\n",
    "    for i in range(cm.shape[0]):\n",
    "        for j in range(cm.shape[1]):\n",
    "            ax.text(j, i, format(cm[i, j], fmt),\n",
    "                    ha=\"center\", va=\"center\",\n",
    "                    color=\"white\" if cm[i, j] > thresh else \"black\")\n",
    "    return ax\n",
    "\n",
    "\n",
    "np.set_printoptions(precision=2)\n",
    "labels=['NoPunch','Punch']\n",
    "# Plot non-normalized confusion matrix\n",
    "plot_confusion_matrix(df['label'], df['predix'], labels=labels,\n",
    "                      title='BINARY Confusion matrix')\n",
    "\n",
    "# Plot normalized confusion matrix\n",
    "plot_confusion_matrix(df['label'], df['predix'], labels=labels, normalize=True,\n",
    "                      title='Normalized BINARY confusion matrix')\n",
    "\n",
    "plt.show()"
   ]
  },
  {
   "cell_type": "code",
   "execution_count": 25,
   "metadata": {},
   "outputs": [],
   "source": [
    "# Binary samples\n",
    "def resample():\n",
    "    samples={}\n",
    "    for truth in range(0,2):  # binary here\n",
    "        samples[truth]={}\n",
    "        for pred in range(0,2):  # binary here, too\n",
    "            if bool(df[(df['label']==truth) & (df['predix']==pred)].shape[0]):\n",
    "                samples[truth][pred] = df[(df['label']==truth) & (df['predix']==pred)].sample(1)\n",
    "    return samples"
   ]
  },
  {
   "cell_type": "code",
   "execution_count": 26,
   "metadata": {},
   "outputs": [],
   "source": [
    "def fetch_sample(real,predicted,sampledict):\n",
    "    truth_target = sampledict.get(real,None)\n",
    "    if truth_target:\n",
    "        pred_target = truth_target.get(predicted,None)\n",
    "        return pred_target"
   ]
  },
  {
   "cell_type": "markdown",
   "metadata": {},
   "source": [
    "The clips that have ground truth of no punch and are also predicted as no punch are the vast majority of our clips. Load the below cell several times for some examples:"
   ]
  },
  {
   "cell_type": "code",
   "execution_count": 30,
   "metadata": {},
   "outputs": [
    {
     "name": "stdout",
     "output_type": "stream",
     "text": [
      "NO-PUNCH clip predicted as same [HShackeysack_slice45.mp4 brought to you by Ahsen]\n"
     ]
    },
    {
     "data": {
      "application/vnd.jupyter.widget-view+json": {
       "model_id": "e7cd620eede94eafb145133348ed51a2",
       "version_major": 2,
       "version_minor": 0
      },
      "text/plain": [
       "Video(value=b'\\x00\\x00\\x00 ftypisom\\x00\\x00\\x02\\x00isomiso2avc1mp41\\x00\\x00\\x00\\x08free\\x00\\x07\\x1a(mdat\\x00\\x…"
      ]
     },
     "metadata": {},
     "output_type": "display_data"
    }
   ],
   "source": [
    "show = None\n",
    "c00 = fetch_sample(0,0,resample())\n",
    "truth,inference = 'NO-PUNCH','same'\n",
    "if 'DataFrame' in str(type(c00)):\n",
    "    clip, judge = c00.head(1)['clip_title'].iloc[0],c00.head(1)['labeler'].iloc[0]\n",
    "    print(f\"{truth} clip predicted as {inference} [{clip} brought to you by {judge}]\".format())\n",
    "    show = Video.from_file('/root/vids/' + clip)\n",
    "show"
   ]
  },
  {
   "cell_type": "markdown",
   "metadata": {},
   "source": [
    "In 48 cases, our TSN predicts a punch where there is none labeled. In looking at samples of these, some are shoves and slaps that could be flagged by humans, for example V_765.mp4 and streetfight5_slice500.mp4). Many warrant further attention from security professionals, and in our edge-screening scenario, they would be sent to the cloud for further analysis."
   ]
  },
  {
   "cell_type": "code",
   "execution_count": 55,
   "metadata": {},
   "outputs": [
    {
     "name": "stdout",
     "output_type": "stream",
     "text": [
      "NO-PUNCH clip predicted as PUNCH [V_813_slice0.mp4 brought to you by Jen]\n"
     ]
    },
    {
     "data": {
      "application/vnd.jupyter.widget-view+json": {
       "model_id": "6e2f1aec54564657a61e6d55edcd0845",
       "version_major": 2,
       "version_minor": 0
      },
      "text/plain": [
       "Video(value=b'\\x00\\x00\\x00 ftypisom\\x00\\x00\\x02\\x00isomiso2avc1mp41\\x00\\x00\\x00\\x08free\\x00\\x05\\xc6\\xe2mdat\\x0…"
      ]
     },
     "metadata": {},
     "output_type": "display_data"
    }
   ],
   "source": [
    "show = None\n",
    "c01 = fetch_sample(0,1,resample())\n",
    "truth,inference = 'NO-PUNCH','PUNCH'\n",
    "if 'DataFrame' in str(type(c01)):\n",
    "    clip, judge = c01.head(1)['clip_title'].iloc[0],c01.head(1)['labeler'].iloc[0]\n",
    "    print(f\"{truth} clip predicted as {inference} [{clip} brought to you by {judge}]\".format())\n",
    "    show = Video.from_file('/root/vids/' + clip)\n",
    "show"
   ]
  },
  {
   "cell_type": "markdown",
   "metadata": {},
   "source": [
    "What about the clips that were labeled as containing a punch, yet are not predicted to contain a punch? Play some examples below."
   ]
  },
  {
   "cell_type": "code",
   "execution_count": 69,
   "metadata": {},
   "outputs": [
    {
     "name": "stdout",
     "output_type": "stream",
     "text": [
      "PUNCH clip predicted as NO-PUNCH [French_flashmob_circle_slice345.mp4 brought to you by Lance]\n"
     ]
    },
    {
     "data": {
      "application/vnd.jupyter.widget-view+json": {
       "model_id": "f0508cd31c5243abb7fe3b42784c4a41",
       "version_major": 2,
       "version_minor": 0
      },
      "text/plain": [
       "Video(value=b'\\x00\\x00\\x00 ftypisom\\x00\\x00\\x02\\x00isomiso2avc1mp41\\x00\\x00\\x00\\x08free\\x00\\x1b\\xe2\\xd1mdat\\x0…"
      ]
     },
     "metadata": {},
     "output_type": "display_data"
    }
   ],
   "source": [
    "show = None\n",
    "c10 = fetch_sample(1,0,resample())\n",
    "truth,inference = 'PUNCH','NO-PUNCH'\n",
    "if 'DataFrame' in str(type(c10)):\n",
    "    clip, judge = c10.head(1)['clip_title'].iloc[0],c10.head(1)['labeler'].iloc[0]\n",
    "    print(f\"{truth} clip predicted as {inference} [{clip} brought to you by {judge}]\".format())\n",
    "    show = Video.from_file('/root/vids/' + clip)\n",
    "show"
   ]
  },
  {
   "cell_type": "markdown",
   "metadata": {},
   "source": [
    "Below, watch clips that were properly predicted to contain a punch"
   ]
  },
  {
   "cell_type": "code",
   "execution_count": 62,
   "metadata": {},
   "outputs": [
    {
     "name": "stdout",
     "output_type": "stream",
     "text": [
      "PUNCH clip predicted as same [V_256.mp4 brought to you by Lance]\n"
     ]
    },
    {
     "data": {
      "application/vnd.jupyter.widget-view+json": {
       "model_id": "08914762788248309c5f916dde89faf6",
       "version_major": 2,
       "version_minor": 0
      },
      "text/plain": [
       "Video(value=b'\\x00\\x00\\x00 ftypisom\\x00\\x00\\x02\\x00isomiso2avc1mp41\\x00\\x00\\x00\\x08free\\x00\\x08j\\xa7mdat\\x00\\x…"
      ]
     },
     "metadata": {},
     "output_type": "display_data"
    }
   ],
   "source": [
    "show = None\n",
    "c11 = fetch_sample(1,1,resample())\n",
    "truth,inference = 'PUNCH','same'\n",
    "if 'DataFrame' in str(type(c11)):\n",
    "    clip, judge = c11.head(1)['clip_title'].iloc[0],c11.head(1)['labeler'].iloc[0]\n",
    "    print(f\"{truth} clip predicted as {inference} [{clip} brought to you by {judge}]\".format())\n",
    "    show = Video.from_file('/root/vids/' + clip)\n",
    "show"
   ]
  }
 ],
 "metadata": {
  "kernelspec": {
   "display_name": "Python 3",
   "language": "python",
   "name": "python3"
  },
  "language_info": {
   "codemirror_mode": {
    "name": "ipython",
    "version": 3
   },
   "file_extension": ".py",
   "mimetype": "text/x-python",
   "name": "python",
   "nbconvert_exporter": "python",
   "pygments_lexer": "ipython3",
   "version": "3.7.3"
  }
 },
 "nbformat": 4,
 "nbformat_minor": 2
}
