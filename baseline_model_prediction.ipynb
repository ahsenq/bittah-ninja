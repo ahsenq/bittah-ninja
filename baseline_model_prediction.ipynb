{
 "cells": [
  {
   "cell_type": "code",
   "execution_count": 1,
   "metadata": {},
   "outputs": [],
   "source": [
    "import argparse\n",
    "import os\n",
    "import pickle\n",
    "import sys\n",
    "from collections import Counter\n",
    "from datetime import datetime\n",
    "\n",
    "import cv2\n",
    "import numpy as np\n",
    "import pandas as pd\n",
    "import tensorflow as tf\n",
    "from sklearn.model_selection import train_test_split\n",
    "from tqdm import tqdm\n",
    "\n",
    "from tensorflow import keras\n",
    "# from tensorflow.keras.layers import (Activation, Conv2D, Dense, Dropout, Flatten,\n",
    "#                           MaxPooling2D)\n",
    "# from tensorflow.keras.models import Model, Sequential\n",
    "# from tensorflow.keras.utils import Sequence\n",
    "from CNN_singleImage_baseline import DataGenerator"
   ]
  },
  {
   "cell_type": "code",
   "execution_count": 2,
   "metadata": {},
   "outputs": [
    {
     "name": "stdout",
     "output_type": "stream",
     "text": [
      "2.0.0\n",
      "GPUs Available:  1\n"
     ]
    }
   ],
   "source": [
    "print(tf.__version__)\n",
    "print(\"GPUs Available: \", len(tf.config.experimental.list_physical_devices('GPU')))"
   ]
  },
  {
   "cell_type": "code",
   "execution_count": 3,
   "metadata": {},
   "outputs": [
    {
     "data": {
      "text/plain": [
       "['train.pickle',\n",
       " 'simpleCNN_1000epochs_20191110_153647.h5',\n",
       " 'simpleCNN_1000epochs_20191110_171702.h5',\n",
       " 'test.pickle',\n",
       " 'simpleCNN_history_10epochs_20191109_192747.pickle',\n",
       " 'simpleCNN_10epochs_20191109_192747.h5',\n",
       " 'simpleCNN_history_1000epochs_20191110_150328.pickle',\n",
       " 'simpleCNN_100epochs_20191110_033120.h5',\n",
       " 'simpleCNN_history_1000epochs_20191110_153647.pickle',\n",
       " 'simpleCNN_history_1000epochs_20191110_171702.pickle',\n",
       " 'simpleCNN_history_100epochs_20191110_033120.pickle',\n",
       " 'simpleCNN_1000epochs_20191110_150328.h5',\n",
       " 'predictions.pickle']"
      ]
     },
     "execution_count": 3,
     "metadata": {},
     "output_type": "execute_result"
    }
   ],
   "source": [
    "# load the model\n",
    "modelpath = '/data/models/'\n",
    "os.listdir(modelpath)"
   ]
  },
  {
   "cell_type": "code",
   "execution_count": 4,
   "metadata": {},
   "outputs": [],
   "source": [
    "modelfile = 'simpleCNN_1000epochs_20191110_171702.h5'\n",
    "model = keras.models.load_model(os.path.join(modelpath, modelfile))"
   ]
  },
  {
   "cell_type": "code",
   "execution_count": 5,
   "metadata": {},
   "outputs": [
    {
     "name": "stdout",
     "output_type": "stream",
     "text": [
      "346 346\n"
     ]
    }
   ],
   "source": [
    "with open(os.path.join(modelpath, 'test.pickle'), 'rb') as f:\n",
    "    x_test, y_test = pickle.load(f)\n",
    "print(len(x_test), len(y_test))"
   ]
  },
  {
   "cell_type": "code",
   "execution_count": 6,
   "metadata": {},
   "outputs": [],
   "source": [
    "batch_size = 1\n",
    "test_generator = DataGenerator(x_test, y_test, batch_size)"
   ]
  },
  {
   "cell_type": "code",
   "execution_count": 7,
   "metadata": {},
   "outputs": [],
   "source": [
    "y_pred = model.predict_generator(test_generator)"
   ]
  },
  {
   "cell_type": "code",
   "execution_count": 8,
   "metadata": {},
   "outputs": [
    {
     "data": {
      "text/plain": [
       "(346, 5)"
      ]
     },
     "execution_count": 8,
     "metadata": {},
     "output_type": "execute_result"
    }
   ],
   "source": [
    "y_pred.shape"
   ]
  },
  {
   "cell_type": "code",
   "execution_count": 9,
   "metadata": {},
   "outputs": [
    {
     "data": {
      "text/plain": [
       "array([325,  10,   0,   3,   0])"
      ]
     },
     "execution_count": 9,
     "metadata": {},
     "output_type": "execute_result"
    }
   ],
   "source": [
    "np.sum(y_pred > 0.5, axis=0)"
   ]
  },
  {
   "cell_type": "code",
   "execution_count": 10,
   "metadata": {},
   "outputs": [],
   "source": [
    "import copy\n",
    "y_prob = copy.copy(y_pred)\n",
    "y_pred = (y_pred > 0.5).astype(np.int)\n",
    "with open(os.path.join(modelpath, 'predictions.pickle'), 'wb') as f:\n",
    "    pickle.dump((y_prob, y_pred), f, protocol=-1)"
   ]
  },
  {
   "cell_type": "code",
   "execution_count": 11,
   "metadata": {},
   "outputs": [],
   "source": [
    "labelPath = 'week10_labeled.csv'\n",
    "df = pd.read_csv(labelPath)"
   ]
  },
  {
   "cell_type": "code",
   "execution_count": 12,
   "metadata": {},
   "outputs": [
    {
     "data": {
      "text/plain": [
       "label\n",
       "-1       21\n",
       " 0     1259\n",
       " 1      319\n",
       " 2       14\n",
       " 3       84\n",
       " 4       52\n",
       " 99    3692\n",
       "dtype: int64"
      ]
     },
     "execution_count": 12,
     "metadata": {},
     "output_type": "execute_result"
    }
   ],
   "source": [
    "new_files = []\n",
    "for file in df.clip_title:\n",
    "    newfile = ''.join(file.split('.mp4')) + '.mp4'\n",
    "    new_files.append(newfile)\n",
    "df['clip_title'] = new_files\n",
    "df['label'] = df['class']\n",
    "df.drop(columns=['class'], inplace=True)\n",
    "df.groupby('label').size()"
   ]
  },
  {
   "cell_type": "code",
   "execution_count": 13,
   "metadata": {},
   "outputs": [
    {
     "data": {
      "text/plain": [
       "label\n",
       "0    1259\n",
       "1     319\n",
       "2      14\n",
       "3      84\n",
       "4      52\n",
       "dtype: int64"
      ]
     },
     "execution_count": 13,
     "metadata": {},
     "output_type": "execute_result"
    }
   ],
   "source": [
    "df = df.loc[df.label != -1]\n",
    "df = df.loc[df.label != 99]\n",
    "df.groupby('label').size()"
   ]
  },
  {
   "cell_type": "code",
   "execution_count": 14,
   "metadata": {},
   "outputs": [
    {
     "data": {
      "text/plain": [
       "(1728, 4)"
      ]
     },
     "execution_count": 14,
     "metadata": {},
     "output_type": "execute_result"
    }
   ],
   "source": [
    "df.shape"
   ]
  },
  {
   "cell_type": "code",
   "execution_count": 19,
   "metadata": {},
   "outputs": [],
   "source": [
    "# vidPath = '/data/vids/scaled'\n",
    "filenames = [f.split('.mp4')[0] + '_scaled.mp4' for f in df.clip_title]\n",
    "# filenames = [os.path.join(vidPath, f) for f in filenames]\n",
    "# labels = df.punch.tolist()\n",
    "labels = df.label.tolist()\n"
   ]
  },
  {
   "cell_type": "code",
   "execution_count": 20,
   "metadata": {},
   "outputs": [],
   "source": [
    "df['clip_title'] = filenames"
   ]
  },
  {
   "cell_type": "code",
   "execution_count": 21,
   "metadata": {},
   "outputs": [],
   "source": [
    "df2 = pd.DataFrame()"
   ]
  },
  {
   "cell_type": "code",
   "execution_count": 22,
   "metadata": {},
   "outputs": [],
   "source": [
    "filenames2 = [x.split('/')[-1] for x in x_test]\n",
    "df2['clip_title'] = filenames2"
   ]
  },
  {
   "cell_type": "code",
   "execution_count": 23,
   "metadata": {},
   "outputs": [
    {
     "data": {
      "text/html": [
       "<div>\n",
       "<style scoped>\n",
       "    .dataframe tbody tr th:only-of-type {\n",
       "        vertical-align: middle;\n",
       "    }\n",
       "\n",
       "    .dataframe tbody tr th {\n",
       "        vertical-align: top;\n",
       "    }\n",
       "\n",
       "    .dataframe thead th {\n",
       "        text-align: right;\n",
       "    }\n",
       "</style>\n",
       "<table border=\"1\" class=\"dataframe\">\n",
       "  <thead>\n",
       "    <tr style=\"text-align: right;\">\n",
       "      <th></th>\n",
       "      <th>clip_title</th>\n",
       "      <th>video-UID</th>\n",
       "      <th>labeler</th>\n",
       "      <th>label</th>\n",
       "    </tr>\n",
       "  </thead>\n",
       "  <tbody>\n",
       "    <tr>\n",
       "      <td>0</td>\n",
       "      <td>V_789_slice50_scaled.mp4</td>\n",
       "      <td>12444</td>\n",
       "      <td>Jen</td>\n",
       "      <td>1</td>\n",
       "    </tr>\n",
       "    <tr>\n",
       "      <td>1</td>\n",
       "      <td>NV_648_scaled.mp4</td>\n",
       "      <td>10937</td>\n",
       "      <td>Lance</td>\n",
       "      <td>0</td>\n",
       "    </tr>\n",
       "    <tr>\n",
       "      <td>2</td>\n",
       "      <td>heavy_bag_drills_slice20_scaled.mp4</td>\n",
       "      <td>3290</td>\n",
       "      <td>Jen</td>\n",
       "      <td>0</td>\n",
       "    </tr>\n",
       "    <tr>\n",
       "      <td>3</td>\n",
       "      <td>streetfight2_slice280_scaled.mp4</td>\n",
       "      <td>14726</td>\n",
       "      <td>Alex</td>\n",
       "      <td>0</td>\n",
       "    </tr>\n",
       "    <tr>\n",
       "      <td>4</td>\n",
       "      <td>hook_punch_power_slice65_scaled.mp4</td>\n",
       "      <td>3425</td>\n",
       "      <td>Alex</td>\n",
       "      <td>0</td>\n",
       "    </tr>\n",
       "    <tr>\n",
       "      <td>...</td>\n",
       "      <td>...</td>\n",
       "      <td>...</td>\n",
       "      <td>...</td>\n",
       "      <td>...</td>\n",
       "    </tr>\n",
       "    <tr>\n",
       "      <td>341</td>\n",
       "      <td>how_to_punch_7_basics_slice90_scaled.mp4</td>\n",
       "      <td>3492</td>\n",
       "      <td>Jen</td>\n",
       "      <td>0</td>\n",
       "    </tr>\n",
       "    <tr>\n",
       "      <td>342</td>\n",
       "      <td>how_to_punch_hard_fast_slice195_scaled.mp4</td>\n",
       "      <td>3516</td>\n",
       "      <td>Ahsen</td>\n",
       "      <td>4</td>\n",
       "    </tr>\n",
       "    <tr>\n",
       "      <td>343</td>\n",
       "      <td>Australian_flash_mob_dance_slice95_scaled.mp4</td>\n",
       "      <td>10064</td>\n",
       "      <td>Ahsen</td>\n",
       "      <td>0</td>\n",
       "    </tr>\n",
       "    <tr>\n",
       "      <td>344</td>\n",
       "      <td>short_strikes_slice145_scaled.mp4</td>\n",
       "      <td>14251</td>\n",
       "      <td>Alex</td>\n",
       "      <td>0</td>\n",
       "    </tr>\n",
       "    <tr>\n",
       "      <td>345</td>\n",
       "      <td>NV_865_scaled.mp4</td>\n",
       "      <td>1154</td>\n",
       "      <td>Alex</td>\n",
       "      <td>0</td>\n",
       "    </tr>\n",
       "  </tbody>\n",
       "</table>\n",
       "<p>346 rows × 4 columns</p>\n",
       "</div>"
      ],
      "text/plain": [
       "                                        clip_title  video-UID labeler  label\n",
       "0                         V_789_slice50_scaled.mp4      12444     Jen      1\n",
       "1                                NV_648_scaled.mp4      10937   Lance      0\n",
       "2              heavy_bag_drills_slice20_scaled.mp4       3290     Jen      0\n",
       "3                 streetfight2_slice280_scaled.mp4      14726    Alex      0\n",
       "4              hook_punch_power_slice65_scaled.mp4       3425    Alex      0\n",
       "..                                             ...        ...     ...    ...\n",
       "341       how_to_punch_7_basics_slice90_scaled.mp4       3492     Jen      0\n",
       "342     how_to_punch_hard_fast_slice195_scaled.mp4       3516   Ahsen      4\n",
       "343  Australian_flash_mob_dance_slice95_scaled.mp4      10064   Ahsen      0\n",
       "344              short_strikes_slice145_scaled.mp4      14251    Alex      0\n",
       "345                              NV_865_scaled.mp4       1154    Alex      0\n",
       "\n",
       "[346 rows x 4 columns]"
      ]
     },
     "execution_count": 23,
     "metadata": {},
     "output_type": "execute_result"
    }
   ],
   "source": [
    "df2.merge(df, how='inner', on='clip_title')"
   ]
  }
 ],
 "metadata": {
  "kernelspec": {
   "display_name": "Python 3",
   "language": "python",
   "name": "python3"
  },
  "language_info": {
   "codemirror_mode": {
    "name": "ipython",
    "version": 3
   },
   "file_extension": ".py",
   "mimetype": "text/x-python",
   "name": "python",
   "nbconvert_exporter": "python",
   "pygments_lexer": "ipython3",
   "version": "3.6.8"
  }
 },
 "nbformat": 4,
 "nbformat_minor": 4
}
