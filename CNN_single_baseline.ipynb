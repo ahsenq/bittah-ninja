{
 "cells": [
  {
   "cell_type": "code",
   "execution_count": 7,
   "metadata": {},
   "outputs": [
    {
     "name": "stdout",
     "output_type": "stream",
     "text": [
      "Reading package lists... Done\n",
      "Building dependency tree       \n",
      "Reading state information... Done\n",
      "libsm6 is already the newest version (2:1.2.2-1).\n",
      "libxext6 is already the newest version (2:1.3.3-1).\n",
      "libxrender-dev is already the newest version (1:0.9.10-1).\n",
      "The following additional packages will be installed:\n",
      "  git-man less libcurl3-gnutls libedit2 liberror-perl libssl1.0.0 libxmuu1\n",
      "  openssh-client xauth\n",
      "Suggested packages:\n",
      "  gettext-base git-daemon-run | git-daemon-sysvinit git-doc git-el git-email\n",
      "  git-gui gitk gitweb git-cvs git-mediawiki git-svn keychain libpam-ssh\n",
      "  monkeysphere ssh-askpass\n",
      "The following NEW packages will be installed:\n",
      "  git git-man less libcurl3-gnutls libedit2 liberror-perl libssl1.0.0 libxmuu1\n",
      "  openssh-client xauth\n",
      "0 upgraded, 10 newly installed, 0 to remove and 27 not upgraded.\n",
      "Need to get 6870 kB of archives.\n",
      "After this operation, 42.8 MB of additional disk space will be used.\n",
      "Get:1 http://archive.ubuntu.com/ubuntu bionic/main amd64 less amd64 487-0.1 [112 kB]\n",
      "Get:2 http://archive.ubuntu.com/ubuntu bionic/main amd64 libedit2 amd64 3.1-20170329-1 [76.9 kB]\n",
      "Get:3 http://archive.ubuntu.com/ubuntu bionic-updates/main amd64 libssl1.0.0 amd64 1.0.2n-1ubuntu5.3 [1088 kB]\n",
      "Get:4 http://archive.ubuntu.com/ubuntu bionic/main amd64 libxmuu1 amd64 2:1.1.2-2 [9674 B]\n",
      "Get:5 http://archive.ubuntu.com/ubuntu bionic-updates/main amd64 openssh-client amd64 1:7.6p1-4ubuntu0.3 [614 kB]\n",
      "Get:6 http://archive.ubuntu.com/ubuntu bionic/main amd64 xauth amd64 1:1.0.10-1 [24.6 kB]\n",
      "Get:7 http://archive.ubuntu.com/ubuntu bionic-updates/main amd64 libcurl3-gnutls amd64 7.58.0-2ubuntu3.8 [213 kB]\n",
      "Get:8 http://archive.ubuntu.com/ubuntu bionic/main amd64 liberror-perl all 0.17025-1 [22.8 kB]\n",
      "Get:9 http://archive.ubuntu.com/ubuntu bionic-updates/main amd64 git-man all 1:2.17.1-1ubuntu0.4 [803 kB]\n",
      "Get:10 http://archive.ubuntu.com/ubuntu bionic-updates/main amd64 git amd64 1:2.17.1-1ubuntu0.4 [3907 kB]\n",
      "Fetched 6870 kB in 5s (1501 kB/s)[0m\u001b[33m\n",
      "debconf: delaying package configuration, since apt-utils is not installed\n",
      "\n",
      "\u001b7\u001b[0;23r\u001b8\u001b[1ASelecting previously unselected package less.\n",
      "(Reading database ... 16965 files and directories currently installed.)\n",
      "Preparing to unpack .../0-less_487-0.1_amd64.deb ...\n",
      "\u001b7\u001b[24;0f\u001b[42m\u001b[30mProgress: [  0%]\u001b[49m\u001b[39m [..........................................................] \u001b8\u001b7\u001b[24;0f\u001b[42m\u001b[30mProgress: [  2%]\u001b[49m\u001b[39m [#.........................................................] \u001b8Unpacking less (487-0.1) ...\n",
      "\u001b7\u001b[24;0f\u001b[42m\u001b[30mProgress: [  4%]\u001b[49m\u001b[39m [##........................................................] \u001b8\u001b7\u001b[24;0f\u001b[42m\u001b[30mProgress: [  6%]\u001b[49m\u001b[39m [###.......................................................] \u001b8Selecting previously unselected package libedit2:amd64.\n",
      "Preparing to unpack .../1-libedit2_3.1-20170329-1_amd64.deb ...\n",
      "\u001b7\u001b[24;0f\u001b[42m\u001b[30mProgress: [  8%]\u001b[49m\u001b[39m [####......................................................] \u001b8Unpacking libedit2:amd64 (3.1-20170329-1) ...\n",
      "\u001b7\u001b[24;0f\u001b[42m\u001b[30mProgress: [ 10%]\u001b[49m\u001b[39m [#####.....................................................] \u001b8\u001b7\u001b[24;0f\u001b[42m\u001b[30mProgress: [ 12%]\u001b[49m\u001b[39m [######....................................................] \u001b8Selecting previously unselected package libssl1.0.0:amd64.\n",
      "Preparing to unpack .../2-libssl1.0.0_1.0.2n-1ubuntu5.3_amd64.deb ...\n",
      "\u001b7\u001b[24;0f\u001b[42m\u001b[30mProgress: [ 14%]\u001b[49m\u001b[39m [#######...................................................] \u001b8Unpacking libssl1.0.0:amd64 (1.0.2n-1ubuntu5.3) ...\n",
      "\u001b7\u001b[24;0f\u001b[42m\u001b[30mProgress: [ 16%]\u001b[49m\u001b[39m [#########.................................................] \u001b8\u001b7\u001b[24;0f\u001b[42m\u001b[30mProgress: [ 18%]\u001b[49m\u001b[39m [##########................................................] \u001b8Selecting previously unselected package libxmuu1:amd64.\n",
      "Preparing to unpack .../3-libxmuu1_2%3a1.1.2-2_amd64.deb ...\n",
      "\u001b7\u001b[24;0f\u001b[42m\u001b[30mProgress: [ 20%]\u001b[49m\u001b[39m [###########...............................................] \u001b8Unpacking libxmuu1:amd64 (2:1.1.2-2) ...\n",
      "\u001b7\u001b[24;0f\u001b[42m\u001b[30mProgress: [ 22%]\u001b[49m\u001b[39m [############..............................................] \u001b8\u001b7\u001b[24;0f\u001b[42m\u001b[30mProgress: [ 24%]\u001b[49m\u001b[39m [#############.............................................] \u001b8Selecting previously unselected package openssh-client.\n",
      "Preparing to unpack .../4-openssh-client_1%3a7.6p1-4ubuntu0.3_amd64.deb ...\n",
      "\u001b7\u001b[24;0f\u001b[42m\u001b[30mProgress: [ 25%]\u001b[49m\u001b[39m [##############............................................] \u001b8Unpacking openssh-client (1:7.6p1-4ubuntu0.3) ...\n",
      "\u001b7\u001b[24;0f\u001b[42m\u001b[30mProgress: [ 27%]\u001b[49m\u001b[39m [###############...........................................] \u001b8\u001b7\u001b[24;0f\u001b[42m\u001b[30mProgress: [ 29%]\u001b[49m\u001b[39m [#################.........................................] \u001b8Selecting previously unselected package xauth.\n",
      "Preparing to unpack .../5-xauth_1%3a1.0.10-1_amd64.deb ...\n",
      "\u001b7\u001b[24;0f\u001b[42m\u001b[30mProgress: [ 31%]\u001b[49m\u001b[39m [##################........................................] \u001b8Unpacking xauth (1:1.0.10-1) ...\n",
      "\u001b7\u001b[24;0f\u001b[42m\u001b[30mProgress: [ 33%]\u001b[49m\u001b[39m [###################.......................................] \u001b8\u001b7\u001b[24;0f\u001b[42m\u001b[30mProgress: [ 35%]\u001b[49m\u001b[39m [####################......................................] \u001b8Selecting previously unselected package libcurl3-gnutls:amd64.\n",
      "Preparing to unpack .../6-libcurl3-gnutls_7.58.0-2ubuntu3.8_amd64.deb ...\n",
      "\u001b7\u001b[24;0f\u001b[42m\u001b[30mProgress: [ 37%]\u001b[49m\u001b[39m [#####################.....................................] \u001b8Unpacking libcurl3-gnutls:amd64 (7.58.0-2ubuntu3.8) ...\n",
      "\u001b7\u001b[24;0f\u001b[42m\u001b[30mProgress: [ 39%]\u001b[49m\u001b[39m [######################....................................] \u001b8\u001b7\u001b[24;0f\u001b[42m\u001b[30mProgress: [ 41%]\u001b[49m\u001b[39m [#######################...................................] \u001b8Selecting previously unselected package liberror-perl.\n",
      "Preparing to unpack .../7-liberror-perl_0.17025-1_all.deb ...\n",
      "\u001b7\u001b[24;0f\u001b[42m\u001b[30mProgress: [ 43%]\u001b[49m\u001b[39m [#########################.................................] \u001b8Unpacking liberror-perl (0.17025-1) ...\n",
      "\u001b7\u001b[24;0f\u001b[42m\u001b[30mProgress: [ 45%]\u001b[49m\u001b[39m [##########################................................] \u001b8\u001b7\u001b[24;0f\u001b[42m\u001b[30mProgress: [ 47%]\u001b[49m\u001b[39m [###########################...............................] \u001b8Selecting previously unselected package git-man.\n",
      "Preparing to unpack .../8-git-man_1%3a2.17.1-1ubuntu0.4_all.deb ...\n",
      "\u001b7\u001b[24;0f\u001b[42m\u001b[30mProgress: [ 49%]\u001b[49m\u001b[39m [############################..............................] \u001b8Unpacking git-man (1:2.17.1-1ubuntu0.4) ...\n",
      "\u001b7\u001b[24;0f\u001b[42m\u001b[30mProgress: [ 51%]\u001b[49m\u001b[39m [#############################.............................] \u001b8\u001b7\u001b[24;0f\u001b[42m\u001b[30mProgress: [ 53%]\u001b[49m\u001b[39m [##############################............................] \u001b8Selecting previously unselected package git.\n",
      "Preparing to unpack .../9-git_1%3a2.17.1-1ubuntu0.4_amd64.deb ...\n",
      "\u001b7\u001b[24;0f\u001b[42m\u001b[30mProgress: [ 55%]\u001b[49m\u001b[39m [###############################...........................] \u001b8Unpacking git (1:2.17.1-1ubuntu0.4) ...\n",
      "\u001b7\u001b[24;0f\u001b[42m\u001b[30mProgress: [ 57%]\u001b[49m\u001b[39m [################################..........................] \u001b8\u001b7\u001b[24;0f\u001b[42m\u001b[30mProgress: [ 59%]\u001b[49m\u001b[39m [##################################........................] \u001b8Setting up libedit2:amd64 (3.1-20170329-1) ...\n",
      "\u001b7\u001b[24;0f\u001b[42m\u001b[30mProgress: [ 61%]\u001b[49m\u001b[39m [###################################.......................] \u001b8\u001b7\u001b[24;0f\u001b[42m\u001b[30mProgress: [ 63%]\u001b[49m\u001b[39m [####################################......................] \u001b8Setting up git-man (1:2.17.1-1ubuntu0.4) ...\n",
      "\u001b7\u001b[24;0f\u001b[42m\u001b[30mProgress: [ 65%]\u001b[49m\u001b[39m [#####################################.....................] \u001b8\u001b7\u001b[24;0f\u001b[42m\u001b[30mProgress: [ 67%]\u001b[49m\u001b[39m [######################################....................] \u001b8Setting up less (487-0.1) ...\n",
      "\u001b7\u001b[24;0f\u001b[42m\u001b[30mProgress: [ 69%]\u001b[49m\u001b[39m [#######################################...................] \u001b8debconf: unable to initialize frontend: Dialog\n",
      "debconf: (No usable dialog-like program is installed, so the dialog based frontend cannot be used. at /usr/share/perl5/Debconf/FrontEnd/Dialog.pm line 76.)\n",
      "debconf: falling back to frontend: Readline\n",
      "\u001b7\u001b[24;0f\u001b[42m\u001b[30mProgress: [ 71%]\u001b[49m\u001b[39m [########################################..................] \u001b8Setting up libssl1.0.0:amd64 (1.0.2n-1ubuntu5.3) ...\n"
     ]
    },
    {
     "name": "stdout",
     "output_type": "stream",
     "text": [
      "\u001b7\u001b[24;0f\u001b[42m\u001b[30mProgress: [ 73%]\u001b[49m\u001b[39m [##########################################................] \u001b8debconf: unable to initialize frontend: Dialog\n",
      "debconf: (No usable dialog-like program is installed, so the dialog based frontend cannot be used. at /usr/share/perl5/Debconf/FrontEnd/Dialog.pm line 76.)\n",
      "debconf: falling back to frontend: Readline\n",
      "\u001b7\u001b[24;0f\u001b[42m\u001b[30mProgress: [ 75%]\u001b[49m\u001b[39m [###########################################...............] \u001b8Processing triggers for mime-support (3.60ubuntu1) ...\n",
      "Setting up liberror-perl (0.17025-1) ...\n",
      "\u001b7\u001b[24;0f\u001b[42m\u001b[30mProgress: [ 76%]\u001b[49m\u001b[39m [############################################..............] \u001b8\u001b7\u001b[24;0f\u001b[42m\u001b[30mProgress: [ 78%]\u001b[49m\u001b[39m [#############################################.............] \u001b8Setting up libcurl3-gnutls:amd64 (7.58.0-2ubuntu3.8) ...\n",
      "\u001b7\u001b[24;0f\u001b[42m\u001b[30mProgress: [ 80%]\u001b[49m\u001b[39m [##############################################............] \u001b8\u001b7\u001b[24;0f\u001b[42m\u001b[30mProgress: [ 82%]\u001b[49m\u001b[39m [###############################################...........] \u001b8Setting up libxmuu1:amd64 (2:1.1.2-2) ...\n",
      "\u001b7\u001b[24;0f\u001b[42m\u001b[30mProgress: [ 84%]\u001b[49m\u001b[39m [################################################..........] \u001b8\u001b7\u001b[24;0f\u001b[42m\u001b[30mProgress: [ 86%]\u001b[49m\u001b[39m [##################################################........] \u001b8Setting up xauth (1:1.0.10-1) ...\n",
      "\u001b7\u001b[24;0f\u001b[42m\u001b[30mProgress: [ 88%]\u001b[49m\u001b[39m [###################################################.......] \u001b8\u001b7\u001b[24;0f\u001b[42m\u001b[30mProgress: [ 90%]\u001b[49m\u001b[39m [####################################################......] \u001b8Processing triggers for libc-bin (2.27-3ubuntu1) ...\n",
      "Setting up openssh-client (1:7.6p1-4ubuntu0.3) ...\n",
      "\u001b7\u001b[24;0f\u001b[42m\u001b[30mProgress: [ 92%]\u001b[49m\u001b[39m [#####################################################.....] \u001b8\u001b7\u001b[24;0f\u001b[42m\u001b[30mProgress: [ 94%]\u001b[49m\u001b[39m [######################################################....] \u001b8Setting up git (1:2.17.1-1ubuntu0.4) ...\n",
      "\u001b7\u001b[24;0f\u001b[42m\u001b[30mProgress: [ 96%]\u001b[49m\u001b[39m [#######################################################...] \u001b8\u001b7\u001b[24;0f\u001b[42m\u001b[30mProgress: [ 98%]\u001b[49m\u001b[39m [########################################################..] \u001b8\n",
      "\u001b7\u001b[0;24r\u001b8\u001b[1A\u001b[JRequirement already satisfied: pandas in /usr/local/lib/python3.6/dist-packages (0.25.3)\n",
      "Requirement already satisfied: scikit-learn in /usr/local/lib/python3.6/dist-packages (0.21.3)\n",
      "Requirement already satisfied: opencv-python in /usr/local/lib/python3.6/dist-packages (4.1.1.26)\n",
      "Requirement already satisfied: tqdm in /usr/local/lib/python3.6/dist-packages (4.38.0)\n",
      "Requirement already satisfied: pytz>=2017.2 in /usr/local/lib/python3.6/dist-packages (from pandas) (2019.3)\n",
      "Requirement already satisfied: numpy>=1.13.3 in /usr/local/lib/python3.6/dist-packages (from pandas) (1.17.2)\n",
      "Requirement already satisfied: python-dateutil>=2.6.1 in /usr/local/lib/python3.6/dist-packages (from pandas) (2.8.0)\n",
      "Requirement already satisfied: scipy>=0.17.0 in /usr/local/lib/python3.6/dist-packages (from scikit-learn) (1.3.1)\n",
      "Requirement already satisfied: joblib>=0.11 in /usr/local/lib/python3.6/dist-packages (from scikit-learn) (0.14.0)\n",
      "Requirement already satisfied: six>=1.5 in /usr/lib/python3/dist-packages (from python-dateutil>=2.6.1->pandas) (1.11.0)\n",
      "\u001b[33mWARNING: You are using pip version 19.2.3, however version 19.3.1 is available.\n",
      "You should consider upgrading via the 'pip install --upgrade pip' command.\u001b[0m\n"
     ]
    }
   ],
   "source": [
    "!apt install libsm6 libxext6 libxrender-dev git -y\n",
    "!pip3 install pandas scikit-learn opencv-python tqdm"
   ]
  },
  {
   "cell_type": "code",
   "execution_count": 2,
   "metadata": {},
   "outputs": [],
   "source": [
    "import argparse\n",
    "import os\n",
    "import pickle\n",
    "import sys\n",
    "from collections import Counter\n",
    "\n",
    "import cv2\n",
    "import numpy as np\n",
    "import pandas as pd\n",
    "import tensorflow as tf\n",
    "from sklearn.model_selection import train_test_split\n",
    "from tqdm import tqdm\n",
    "\n",
    "from tensorflow import keras\n",
    "from tensorflow.keras.layers import (Activation, Conv2D, Dense, Dropout, Flatten,\n",
    "                          MaxPooling2D)\n",
    "from tensorflow.keras.models import Model, Sequential\n",
    "from tensorflow.keras.utils import Sequence\n"
   ]
  },
  {
   "cell_type": "code",
   "execution_count": 3,
   "metadata": {},
   "outputs": [
    {
     "name": "stderr",
     "output_type": "stream",
     "text": [
      "usage: ipykernel_launcher.py [-h] [--vidpath VIDPATH] [--epochs EPOCHS]\n",
      "                             [--batch_size BATCH_SIZE]\n",
      "ipykernel_launcher.py: error: unrecognized arguments: -f /root/.local/share/jupyter/runtime/kernel-81f8b6ee-1341-4bdf-b6ac-22a2df7b7d05.json\n"
     ]
    }
   ],
   "source": [
    "parser = argparse.ArgumentParser()\n",
    "parser.add_argument('--vidpath', default='vids/scaled')\n",
    "parser.add_argument('--epochs', default=10, type=int)\n",
    "parser.add_argument('--batch_size', default=32, type=int)\n",
    "try:\n",
    "    args = parser.parse_args()\n",
    "except:\n",
    "    args = parser.parse_args([])\n"
   ]
  },
  {
   "cell_type": "code",
   "execution_count": 4,
   "metadata": {},
   "outputs": [
    {
     "name": "stdout",
     "output_type": "stream",
     "text": [
      "/tf/bittah-ninja\r\n"
     ]
    }
   ],
   "source": [
    "!pwd"
   ]
  },
  {
   "cell_type": "code",
   "execution_count": 0,
   "metadata": {},
   "outputs": [],
   "source": [
    "# labelPath = 'bittah-ninja/first_1k_labeled_long_vids_removed.csv'\n",
    "labelPath = 'first_1k_labeled_long_vids_removed.csv'\n",
    "# labelPath = 'full_labels.csv'\n",
    "df = pd.read_csv(labelPath)\n",
    "new_files = []\n",
    "for file in df.clip_title:\n",
    "    newfile = ''.join(file.split('.mp4')) + '.mp4'\n",
    "    new_files.append(newfile)\n",
    "df['clip_title'] = new_files\n",
    "# df['label'] = df['class']\n",
    "# df.drop(columns=['class'], inplace=True)\n",
    "df.groupby('label').size()\n"
   ]
  },
  {
   "cell_type": "code",
   "execution_count": 0,
   "metadata": {},
   "outputs": [],
   "source": [
    "df = df.loc[df.label != -1]\n",
    "df.groupby('label').size()"
   ]
  },
  {
   "cell_type": "code",
   "execution_count": 0,
   "metadata": {},
   "outputs": [],
   "source": [
    "df.shape"
   ]
  },
  {
   "cell_type": "code",
   "execution_count": 0,
   "metadata": {},
   "outputs": [],
   "source": [
    "# df['punch'] = (df.label != 0).astype('int')\n",
    "# df.groupby('punch').size()\n"
   ]
  },
  {
   "cell_type": "code",
   "execution_count": 0,
   "metadata": {},
   "outputs": [],
   "source": [
    "vidPath = args.vidpath\n",
    "filenames = [f.split('.mp4')[0] + '_scaled.mp4' for f in df.clip_title]\n",
    "filenames = [os.path.join(vidPath, f) for f in filenames]\n",
    "# labels = df.punch.tolist()\n",
    "labels = df.label.tolist()\n"
   ]
  },
  {
   "cell_type": "code",
   "execution_count": 0,
   "metadata": {},
   "outputs": [],
   "source": [
    "# def getMaxFrameCount(filenames):\n",
    "#     frameCount = []\n",
    "#     for file in tqdm(filenames):\n",
    "#         cap = cv2.VideoCapture(file)\n",
    "#         frameCount.append(int(cap.get(cv2.CAP_PROP_FRAME_COUNT)))\n",
    "\n",
    "#     return max(frameCount)\n",
    "\n",
    "\n",
    "class DataGenerator(Sequence):\n",
    "\n",
    "    def __init__(self,\n",
    "                 filenames,\n",
    "                 labels,\n",
    "                 batch_size,\n",
    "                 frame_height=224,\n",
    "                 frame_width=224,\n",
    "                 n_channels=1):\n",
    "        self.filenames = filenames\n",
    "        self.labels = labels\n",
    "        self.batch_size = batch_size\n",
    "        self.h = frame_height\n",
    "        self.w = frame_width\n",
    "        self.n_channels = n_channels\n",
    "\n",
    "    def __len__(self):\n",
    "        return np.ceil(len(self.filenames) / self.batch_size).astype(int)\n",
    "\n",
    "    def __data_generation(self, idx_list):\n",
    "        def getSingleFrame(filepath):\n",
    "            cap = cv2.VideoCapture(filepath)\n",
    "            vid = []\n",
    "            while cap.isOpened():\n",
    "                ret, frame = cap.read()\n",
    "                if ret:\n",
    "                    gray = cv2.cvtColor(frame, cv2.COLOR_BGR2GRAY)\n",
    "                    gray = cv2.resize(gray, (self.h, self.w))\n",
    "                    vid.append(gray)\n",
    "                    if cv2.waitKey(1) & 0xFF == ord('q'):\n",
    "                        break\n",
    "                else:\n",
    "                    break\n",
    "            cap.release()\n",
    "            j = int(np.random.choice(len(vid), 1))\n",
    "            frame = vid[j]\n",
    "            return frame\n",
    "\n",
    "        x = np.empty((self.batch_size,\n",
    "                      self.w,\n",
    "                      self.h,\n",
    "                      self.n_channels), dtype=np.float16)\n",
    "        y = np.empty((self.batch_size), dtype=np.float16)\n",
    "        for i, idx in enumerate(idx_list):\n",
    "            file = self.filenames[idx]\n",
    "            frame = getSingleFrame(file)\n",
    "            frame = frame.reshape(self.w,\n",
    "                                  self.h,\n",
    "                                  self.n_channels)\n",
    "            x[i, ] = frame\n",
    "            y[i, ] = self.labels[idx]\n",
    "            y = tf.keras.utils.to_categorical(y,\n",
    "                                              num_classes=len(set(self.labels)),\n",
    "                                              dtype='float16')\n",
    "        # print(x.shape, y.shape)\n",
    "        return x, y\n",
    "        # yield x, y\n",
    "\n",
    "    def __getitem__(self, idx):\n",
    "        batch = range(idx * self.batch_size, (idx + 1) * self.batch_size)\n",
    "        x, y = self.__data_generation(batch)\n",
    "        return x, y\n",
    "        # yield x, y\n",
    "\n"
   ]
  },
  {
   "cell_type": "code",
   "execution_count": 0,
   "metadata": {},
   "outputs": [],
   "source": [
    "batch_size = args.batch_size\n",
    "labels_counts = Counter(labels)\n",
    "# TODO: Not sure if this should be 1 - x or x\n",
    "class_weight = {k:1-(v/len(labels)) for k,v in labels_counts.items()}"
   ]
  },
  {
   "cell_type": "code",
   "execution_count": 0,
   "metadata": {},
   "outputs": [],
   "source": [
    "x_train, x_test, y_train, y_test = train_test_split(\n",
    "    filenames, labels, test_size=0.2)\n",
    "print(len(x_train), len(y_train))\n",
    "print(len(x_test), len(y_test))"
   ]
  },
  {
   "cell_type": "code",
   "execution_count": 0,
   "metadata": {},
   "outputs": [],
   "source": [
    "# max_frame_count = getMaxFrameCount(filenames)\n",
    "train_generator = DataGenerator(x_train,\n",
    "                                y_train,\n",
    "                                batch_size)\n",
    "test_generator = DataGenerator(x_test,\n",
    "                               y_test,\n",
    "                               batch_size)\n",
    "len(train_generator), len(test_generator)"
   ]
  },
  {
   "cell_type": "code",
   "execution_count": 0,
   "metadata": {},
   "outputs": [],
   "source": [
    "# lab, batch = next(train_generator)"
   ]
  },
  {
   "cell_type": "code",
   "execution_count": 0,
   "metadata": {},
   "outputs": [],
   "source": []
  },
  {
   "cell_type": "code",
   "execution_count": 0,
   "metadata": {},
   "outputs": [],
   "source": []
  },
  {
   "cell_type": "code",
   "execution_count": 0,
   "metadata": {},
   "outputs": [],
   "source": [
    "input_shape = (224, 224, 1)\n",
    "epochs = args.epochs\n",
    "# model = Sequential()\n",
    "inputs = keras.layers.Input(shape=input_shape, name='inputs')\n",
    "conv = Conv2D(32, (3, 3), activation='relu', padding='same')(inputs)\n",
    "pool = MaxPooling2D(pool_size=(2, 2))(conv)\n",
    "conv = Conv2D(32, (3, 3), activation='relu', padding='same')(pool)\n",
    "pool = MaxPooling2D(pool_size=(2, 2))(conv)\n",
    "# dropout = Dropout(0.25)(pool)\n",
    "conv = Conv2D(32, (4, 4), activation='relu', padding='same')(pool)\n",
    "pool = MaxPooling2D(pool_size=(2, 2))(conv)\n",
    "conv = Conv2D(32, (4, 4), activation='relu', padding='same')(pool)\n",
    "pool = MaxPooling2D(pool_size=(2, 2))(conv)\n",
    "dropout = Dropout(0.25)(pool)\n",
    "flat = Flatten()(dropout)\n",
    "dense = Dense(16, activation='relu')(flat)\n",
    "dropout = Dropout(0.25)(dense)\n",
    "outputs = Dense(len(set(labels)), activation='softmax', name='outputs')(dropout)\n",
    "model = Model(inputs, outputs)\n",
    "\n",
    "model.compile(loss='categorical_crossentropy', optimizer='adam')\n",
    "model.summary()\n",
    "\n"
   ]
  },
  {
   "cell_type": "code",
   "execution_count": 0,
   "metadata": {},
   "outputs": [],
   "source": [
    "# inputs = keras.layers.Input(shape=input_shape, name='inputs')\n",
    "# conv2D = keras.layers.Conv2D(1, kernel_size=(3,3))\n",
    "# conv3 = Conv3D(4, (3, 3, 3), strides=(1, 1, 1), padding='same',\n",
    "#                data_format='channels_last', activation='relu')(inputs)\n",
    "# pool = keras.layers.MaxPooling3D(pool_size=(2, 2, 2),\n",
    "#                                  strides=(2, 2, 2), padding='same',\n",
    "#                                  data_format='channels_last')(conv3)\n",
    "# drop = Dropout(0.5)(pool)\n",
    "# flat = Flatten()(drop)\n",
    "# # model.add(Dense(128, activation='relu'))\n",
    "# # model.add(Dense(64, activation='relu'))\n",
    "# outputs = Dense(1, activation='sigmoid')(flat)\n",
    "# model = Model(inputs, outputs)\n",
    "\n"
   ]
  },
  {
   "cell_type": "code",
   "execution_count": 0,
   "metadata": {},
   "outputs": [],
   "source": []
  },
  {
   "cell_type": "code",
   "execution_count": 0,
   "metadata": {},
   "outputs": [],
   "source": [
    "hist = model.fit_generator(generator=train_generator,\n",
    "                           steps_per_epoch=(len(x_train) // batch_size),\n",
    "                           epochs=1,\n",
    "                           verbose=1,\n",
    "                           validation_data=test_generator,\n",
    "                           validation_steps=(len(x_test) // batch_size),\n",
    "                           class_weight=class_weight,\n",
    "                           use_multiprocessing=True)\n"
   ]
  },
  {
   "cell_type": "code",
   "execution_count": 0,
   "metadata": {},
   "outputs": [],
   "source": [
    "# Appendix"
   ]
  },
  {
   "cell_type": "code",
   "execution_count": 0,
   "metadata": {},
   "outputs": [],
   "source": [
    "\n",
    "\n",
    "def getSingleFrame(filepath):\n",
    "    cap = cv2.VideoCapture(filepath)\n",
    "    vid = []\n",
    "    while cap.isOpened():\n",
    "        ret, frame = cap.read()\n",
    "        if ret:\n",
    "            gray = cv2.cvtColor(frame, cv2.COLOR_BGR2GRAY)\n",
    "            gray = cv2.resize(gray, (h, w))\n",
    "            vid.append(gray)\n",
    "            if cv2.waitKey(1) & 0xFF == ord('q'):\n",
    "                break\n",
    "        else:\n",
    "            break\n",
    "    cap.release()\n",
    "    frame = np.random.choice(np.array(vid), 1)\n",
    "    return frame\n",
    "\n"
   ]
  },
  {
   "cell_type": "code",
   "execution_count": 0,
   "metadata": {},
   "outputs": [],
   "source": [
    "batch_size = 4\n",
    "w = 224\n",
    "h = 224\n",
    "n_channels = 1\n",
    "idx_list = range(10)\n",
    "x = np.empty((batch_size,\n",
    "              w,\n",
    "              h,\n",
    "              n_channels), dtype=np.float16)\n",
    "y = np.empty((batch_size), dtype=np.float16)\n",
    "for i, idx in enumerate(idx_list):\n",
    "    file = filenames[idx]\n",
    "    cap = cv2.VideoCapture(file)\n",
    "    vid = []\n",
    "    while cap.isOpened():\n",
    "        ret, frame = cap.read()\n",
    "        if ret:\n",
    "            gray = cv2.cvtColor(frame, cv2.COLOR_BGR2GRAY)\n",
    "            gray = cv2.resize(gray, (h, w))\n",
    "            vid.append(gray)\n",
    "            if cv2.waitKey(1) & 0xFF == ord('q'):\n",
    "                break\n",
    "        else:\n",
    "            break\n",
    "    cap.release()\n",
    "    j = int(np.random.choice(len(vid), 1))\n",
    "    frame = vid[j]\n",
    "    # frame = getSingleFrame(file)\n",
    "    frame = frame.reshape(w,\n",
    "                          h,\n",
    "                          n_channels)\n",
    "    x[i, ] = frame\n",
    "    y[i, ] = labels[idx]\n"
   ]
  },
  {
   "cell_type": "code",
   "execution_count": 0,
   "metadata": {},
   "outputs": [],
   "source": [
    "filenames2 = [os.path.join(vidPath, f) for f in os.listdir(vidPath)]\n",
    "[f for f in filenames if f in filenames2]\n"
   ]
  },
  {
   "cell_type": "code",
   "execution_count": 0,
   "metadata": {},
   "outputs": [],
   "source": [
    "!pwd\n"
   ]
  }
 ],
 "metadata": {
  "file_extension": ".py",
  "kernelspec": {
   "display_name": "Python 3",
   "language": "python",
   "name": "python3"
  },
  "language_info": {
   "codemirror_mode": {
    "name": "ipython",
    "version": 3
   },
   "file_extension": ".py",
   "mimetype": "text/x-python",
   "name": "python",
   "nbconvert_exporter": "python",
   "pygments_lexer": "ipython3",
   "version": "3.6.8"
  },
  "mimetype": "text/x-python",
  "name": "python",
  "npconvert_exporter": "python",
  "pygments_lexer": "ipython3",
  "version": 3
 },
 "nbformat": 4,
 "nbformat_minor": 2
}
